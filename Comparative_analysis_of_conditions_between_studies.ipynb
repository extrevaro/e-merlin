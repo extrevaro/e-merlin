{
 "cells": [
  {
   "cell_type": "markdown",
   "id": "1a29e2c1",
   "metadata": {},
   "source": [
    "# Cuantitative comparision of same condition in different studies"
   ]
  },
  {
   "cell_type": "markdown",
   "id": "5b141904",
   "metadata": {},
   "source": [
    "The goal of this notebook is to implement an automated comparision between conditions of different studies that:\n",
    "- Checks for the consistency of predictions\n",
    "- Accounts for study-level variability\n",
    "- Infer core functions and genes/reactions that are condition-specific"
   ]
  },
  {
   "cell_type": "code",
   "execution_count": null,
   "id": "215eb933",
   "metadata": {},
   "outputs": [],
   "source": []
  }
 ],
 "metadata": {
  "kernelspec": {
   "display_name": "Python 3 (ipykernel)",
   "language": "python",
   "name": "python3"
  },
  "language_info": {
   "codemirror_mode": {
    "name": "ipython",
    "version": 3
   },
   "file_extension": ".py",
   "mimetype": "text/x-python",
   "name": "python",
   "nbconvert_exporter": "python",
   "pygments_lexer": "ipython3",
   "version": "3.10.4"
  }
 },
 "nbformat": 4,
 "nbformat_minor": 5
}
