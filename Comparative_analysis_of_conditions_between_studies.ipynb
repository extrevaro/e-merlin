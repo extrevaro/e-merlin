{
 "cells": [
  {
   "cell_type": "markdown",
   "id": "1a29e2c1",
   "metadata": {},
   "source": [
    "# Cuantitative comparision of same condition in different studies"
   ]
  },
  {
   "cell_type": "markdown",
   "id": "5b141904",
   "metadata": {},
   "source": [
    "The goal of this notebook is to implement an automated comparision between conditions of different studies that:\n",
    "- Checks for the consistency of predictions\n",
    "- Accounts for study-level variability\n",
    "- Infer core functions and genes/reactions that are condition-specific"
   ]
  },
  {
   "cell_type": "markdown",
   "id": "67fdb23f",
   "metadata": {},
   "source": [
    "### 1.Load Used studies"
   ]
  },
  {
   "cell_type": "code",
   "execution_count": null,
   "id": "fbcb99cc",
   "metadata": {},
   "outputs": [],
   "source": [
    "carbon_study = {   'm9-EX_cit_e:7.44' : ['SRX4552613',\n",
    "                                         'SRX4552614',\n",
    "                                         'SRX4552615'],\n",
    "                   'm9-EX_fer_e:2.91' : ['SRX4552616',      #Experimentally measured in 0.1 glu\n",
    "                                         'SRX4552617',\n",
    "                                         'SRX4552618'],\n",
    "                   'm9-EX_glc_e:7.44' : ['SRX4552619',      #Experimentally measured in 0.1 glu\n",
    "                                         'SRX4552621'],\n",
    "                   'm9-EX_ser__L_e:14.88' : ['SRX4552622',\n",
    "                                             'SRX4552623',\n",
    "                                             'SRX4552624'] }  \n",
    "\n",
    "\n",
    "\n",
    "aromatics_study = { 'm9-EX_T4hcinnm_e:4.04' : ['SBRG_UNeb__coum__1',            #Experimentally measured in 0.1 glu\n",
    "                                               'SBRG_UNeb__coum__2',\n",
    "                                               'SBRG_UNeb__coum__3'], \n",
    "                    'm9-EX_T4hcinnm_e:2.02-EX_fer_e:1.4505' : ['SBRG_UNeb__coumferul__1', #Derived\n",
    "                                                               'SBRG_UNeb__coumferul__2',\n",
    "                                                               'SBRG_UNeb__coumferul__3'],  \n",
    "                    'm9-EX_fer_e:2.91' : ['SBRG_UNeb__ferulate__1',            #Experimentally measured in 0.1 glu\n",
    "                                          'SBRG_UNeb__ferulate__2',\n",
    "                                          'SBRG_UNeb__ferulate__3'],  \n",
    "                    'm9-EX_glc_e:7.44' : ['SBRG_UNeb__glc__1',                 #Experimentally measured in 0.1 glu\n",
    "                                          'SBRG_UNeb__glc__2',\n",
    "                                          'SBRG_UNeb__glc__3'] }\n",
    "\n",
    "muconate_dict = {  'm9-EX_glc_e:7.44' : ['KT2440_glu_1',                 #Experimentally measured in 0.1 glu\n",
    "                                        'KT2440_glu_2',\n",
    "                                        'KT2440_glu_3'],\n",
    "                   'm9-EX_glcn_e:7.44':['KT2440_glc_1',                 \n",
    "                                        'KT2440_glc_2',\n",
    "                                        'KT2440_glc_3'],\n",
    "                   'm9-EX_fru_e:1.32' :['KT2440_f_1',                   #Multiplying the ratio of glucose and fructose\n",
    "                                        'KT2440_f_2',                   #fluxes found in 0.3 glu by the glu flux in 0.1\n",
    "                                        'KT2440_f_3'],                  #glu\n",
    "                   'm9-EX_glc_e:3.72-EX_glcn_e:3.72' : ['KT2440_gg_1',\n",
    "                                                        'KT2440_gg_2',\n",
    "                                                        'KT2440_gg_3'],\n",
    "                   'm9-EX_glc_e:3.72-EX_fru_e:0.66':['KT2440_fg_1',\n",
    "                                                        'KT2440_fg_2',\n",
    "                                                        'KT2440_fg_3'],\n",
    "                   'm9-EX_glc_e:2.48-EX_glcn_e:2.48-EX_fru_e:0.44' : ['KT2440_gfg_1',\n",
    "                                                                      'KT2440_gfg_2',\n",
    "                                                                      'KT2440_gfg_3'] }\n",
    "\n",
    "study_dict = { 'm9-EX_glc_e:7.44' : ['SRX7195897',        #Experimentally measured in 0.1 glu\n",
    "                                     'SRX7195898',\n",
    "                                     'SRX7195899'],\n",
    "               'm9-EX_T4hcinnm_e:4.04' : ['SRX7195900',\n",
    "                                          'SRX7195901',\n",
    "                                          'SRX7195902']}  #Experimentally measured in 0.1 glu\n"
   ]
  }
 ],
 "metadata": {
  "kernelspec": {
   "display_name": "Python 3 (ipykernel)",
   "language": "python",
   "name": "python3"
  },
  "language_info": {
   "codemirror_mode": {
    "name": "ipython",
    "version": 3
   },
   "file_extension": ".py",
   "mimetype": "text/x-python",
   "name": "python",
   "nbconvert_exporter": "python",
   "pygments_lexer": "ipython3",
   "version": "3.10.4"
  }
 },
 "nbformat": 4,
 "nbformat_minor": 5
}
