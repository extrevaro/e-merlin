{
 "cells": [
  {
   "cell_type": "markdown",
   "id": "9d667fc7",
   "metadata": {},
   "source": [
    "# Extracting enriched function modules from a given study"
   ]
  },
  {
   "cell_type": "markdown",
   "id": "40ec17c2",
   "metadata": {},
   "source": [
    "We have checked that for this particular condition our analysis seems to be really consistent and not affected by the cutoff value of the GIMME method. But for extracting new insights and patterns from a whole study we need to apply this method across all experimental conditions tested."
   ]
  },
  {
   "cell_type": "code",
   "execution_count": 1,
   "id": "b7f44b27",
   "metadata": {},
   "outputs": [],
   "source": [
    "import os\n",
    "import cobra\n",
    "from cobra.flux_analysis import flux_variability_analysis\n",
    "import reframed\n",
    "from reframed import load_cbmodel, from_cobrapy\n",
    "from reframed.cobra.transcriptomics import gene_to_reaction_expression\n",
    "import gurobipy\n",
    "import pandas as pd\n",
    "import seaborn as sns\n",
    "from tools.designFunctions import *\n",
    "from numpy import percentile\n",
    "import plotly.express as px\n",
    "#For constructing the ica object:\n",
    "from pymodulon.core import IcaData\n",
    "from pymodulon import example_data\n",
    "from pymodulon.io import save_to_json, load_json_model"
   ]
  },
  {
   "cell_type": "markdown",
   "id": "45963e8e",
   "metadata": {},
   "source": [
    "### 1.Load expression data and the GEM"
   ]
  },
  {
   "cell_type": "code",
   "execution_count": 2,
   "id": "09741863",
   "metadata": {},
   "outputs": [
    {
     "name": "stdout",
     "output_type": "stream",
     "text": [
      "Set parameter Username\n",
      "Academic license - for non-commercial use only - expires 2023-11-19\n",
      "Read LP format model from file /tmp/tmp7li9wcjh.lp\n",
      "Reading time = 0.01 seconds\n",
      ": 1877 rows, 5424 columns, 21150 nonzeros\n"
     ]
    }
   ],
   "source": [
    "species = 'escherichia_coli'\n",
    "study_name = 'Omics_Study'\n",
    "metadata_filepath = '/'.join(['data',species,'sample_table.csv'])\n",
    "expression_filepath = '/'.join(['data',species,'log_tpm.csv'])\n",
    "metadata = pd.read_csv(metadata_filepath)\n",
    "expression_data = pd.read_csv(expression_filepath).set_index('Geneid')\n",
    "    \n",
    "#Study_dict has a pattern of:\n",
    "#            { <media_name>-{<carbon_source.key>:<carbon_source.value>}*nº of sources : <replicate ids list> }\n",
    "study_dict = { 'm9-EX_glc__D_e:10.0-EX_glu__L_e:8.33': ['ecoli_00050',\n",
    "                                                        'ecoli_00051']\n",
    "             }\n",
    "#Load the model\n",
    "model_name = 'iML1515.xml'\n",
    "model_filepath = '/'.join(['models', model_name])\n",
    "cobra_model = cobra.io.read_sbml_model(model_filepath)\n",
    "cobra_model = reformat_bounds(cobra_model)"
   ]
  },
  {
   "cell_type": "code",
   "execution_count": 3,
   "id": "7aea9249",
   "metadata": {},
   "outputs": [],
   "source": [
    "#Create directories for saving the results\n",
    "results_dir = '/'.join(['results', species])\n",
    "study_results_dir = '/'.join([results_dir, study_name])\n",
    "figure_results_dir = '/'.join([results_dir, study_name, 'Figures'])\n",
    " \n",
    "if not os.path.exists(results_dir):\n",
    "    os.mkdir(results_dir)\n",
    "    os.mkdir(study_results_dir)\n",
    "    os.mkdir(figure_results_dir)"
   ]
  },
  {
   "cell_type": "markdown",
   "id": "6c949a22",
   "metadata": {},
   "source": [
    "### 2.Construct the ICA object"
   ]
  },
  {
   "cell_type": "markdown",
   "id": "6b25c6f0",
   "metadata": {},
   "source": [
    "#### 2.1 Load expression data and the GEM Load iModulon table to translate columns anD rows in M and A tables respectively:"
   ]
  },
  {
   "cell_type": "code",
   "execution_count": 4,
   "id": "fe9d896c",
   "metadata": {},
   "outputs": [
    {
     "data": {
      "text/html": [
       "<div>\n",
       "<style scoped>\n",
       "    .dataframe tbody tr th:only-of-type {\n",
       "        vertical-align: middle;\n",
       "    }\n",
       "\n",
       "    .dataframe tbody tr th {\n",
       "        vertical-align: top;\n",
       "    }\n",
       "\n",
       "    .dataframe thead th {\n",
       "        text-align: right;\n",
       "    }\n",
       "</style>\n",
       "<table border=\"1\" class=\"dataframe\">\n",
       "  <thead>\n",
       "    <tr style=\"text-align: right;\">\n",
       "      <th></th>\n",
       "      <th>k</th>\n",
       "      <th>regulator_readable</th>\n",
       "      <th>function</th>\n",
       "      <th>category</th>\n",
       "      <th>n_genes</th>\n",
       "      <th>exp_var</th>\n",
       "      <th>precision</th>\n",
       "      <th>recall</th>\n",
       "      <th>category_num</th>\n",
       "    </tr>\n",
       "    <tr>\n",
       "      <th>name</th>\n",
       "      <th></th>\n",
       "      <th></th>\n",
       "      <th></th>\n",
       "      <th></th>\n",
       "      <th></th>\n",
       "      <th></th>\n",
       "      <th></th>\n",
       "      <th></th>\n",
       "      <th></th>\n",
       "    </tr>\n",
       "  </thead>\n",
       "  <tbody>\n",
       "    <tr>\n",
       "      <th>e14 Removal</th>\n",
       "      <td>0</td>\n",
       "      <td>NaN</td>\n",
       "      <td>NaN</td>\n",
       "      <td>Prophage</td>\n",
       "      <td>13</td>\n",
       "      <td>0.003487</td>\n",
       "      <td>NaN</td>\n",
       "      <td>NaN</td>\n",
       "      <td>21</td>\n",
       "    </tr>\n",
       "    <tr>\n",
       "      <th>SG_yzfA</th>\n",
       "      <td>1</td>\n",
       "      <td>NaN</td>\n",
       "      <td>NaN</td>\n",
       "      <td>Unknown</td>\n",
       "      <td>3</td>\n",
       "      <td>0.000530</td>\n",
       "      <td>NaN</td>\n",
       "      <td>NaN</td>\n",
       "      <td>24</td>\n",
       "    </tr>\n",
       "    <tr>\n",
       "      <th>SG_ytiD</th>\n",
       "      <td>2</td>\n",
       "      <td>NaN</td>\n",
       "      <td>NaN</td>\n",
       "      <td>Unknown</td>\n",
       "      <td>1</td>\n",
       "      <td>0.000471</td>\n",
       "      <td>NaN</td>\n",
       "      <td>NaN</td>\n",
       "      <td>24</td>\n",
       "    </tr>\n",
       "    <tr>\n",
       "      <th>Membrane-1</th>\n",
       "      <td>3</td>\n",
       "      <td>NaN</td>\n",
       "      <td>NaN</td>\n",
       "      <td>Membrane Homeostasis</td>\n",
       "      <td>81</td>\n",
       "      <td>0.009719</td>\n",
       "      <td>NaN</td>\n",
       "      <td>NaN</td>\n",
       "      <td>11</td>\n",
       "    </tr>\n",
       "    <tr>\n",
       "      <th>CysB-1</th>\n",
       "      <td>4</td>\n",
       "      <td>CysB</td>\n",
       "      <td>NaN</td>\n",
       "      <td>Amino Acid Metabolism</td>\n",
       "      <td>31</td>\n",
       "      <td>0.009645</td>\n",
       "      <td>0.225806</td>\n",
       "      <td>0.411765</td>\n",
       "      <td>2</td>\n",
       "    </tr>\n",
       "    <tr>\n",
       "      <th>...</th>\n",
       "      <td>...</td>\n",
       "      <td>...</td>\n",
       "      <td>...</td>\n",
       "      <td>...</td>\n",
       "      <td>...</td>\n",
       "      <td>...</td>\n",
       "      <td>...</td>\n",
       "      <td>...</td>\n",
       "      <td>...</td>\n",
       "    </tr>\n",
       "    <tr>\n",
       "      <th>SG_ybfQ</th>\n",
       "      <td>213</td>\n",
       "      <td>NaN</td>\n",
       "      <td>NaN</td>\n",
       "      <td>Unknown</td>\n",
       "      <td>4</td>\n",
       "      <td>0.000509</td>\n",
       "      <td>NaN</td>\n",
       "      <td>NaN</td>\n",
       "      <td>24</td>\n",
       "    </tr>\n",
       "    <tr>\n",
       "      <th>SG_ynaM</th>\n",
       "      <td>214</td>\n",
       "      <td>NaN</td>\n",
       "      <td>NaN</td>\n",
       "      <td>Unknown</td>\n",
       "      <td>2</td>\n",
       "      <td>0.002158</td>\n",
       "      <td>NaN</td>\n",
       "      <td>NaN</td>\n",
       "      <td>24</td>\n",
       "    </tr>\n",
       "    <tr>\n",
       "      <th>GlpR-2</th>\n",
       "      <td>215</td>\n",
       "      <td>GlpR</td>\n",
       "      <td>NaN</td>\n",
       "      <td>Carbon Metabolism</td>\n",
       "      <td>6</td>\n",
       "      <td>0.000723</td>\n",
       "      <td>0.833333</td>\n",
       "      <td>0.555556</td>\n",
       "      <td>0</td>\n",
       "    </tr>\n",
       "    <tr>\n",
       "      <th>PdeL</th>\n",
       "      <td>216</td>\n",
       "      <td>NaN</td>\n",
       "      <td>NaN</td>\n",
       "      <td>Unknown</td>\n",
       "      <td>6</td>\n",
       "      <td>0.000768</td>\n",
       "      <td>NaN</td>\n",
       "      <td>NaN</td>\n",
       "      <td>24</td>\n",
       "    </tr>\n",
       "    <tr>\n",
       "      <th>SG_sgrT</th>\n",
       "      <td>217</td>\n",
       "      <td>NaN</td>\n",
       "      <td>NaN</td>\n",
       "      <td>Unknown</td>\n",
       "      <td>2</td>\n",
       "      <td>0.000652</td>\n",
       "      <td>NaN</td>\n",
       "      <td>NaN</td>\n",
       "      <td>24</td>\n",
       "    </tr>\n",
       "  </tbody>\n",
       "</table>\n",
       "<p>218 rows × 9 columns</p>\n",
       "</div>"
      ],
      "text/plain": [
       "               k regulator_readable  function               category  n_genes  \\\n",
       "name                                                                            \n",
       "e14 Removal    0                NaN       NaN               Prophage       13   \n",
       "SG_yzfA        1                NaN       NaN                Unknown        3   \n",
       "SG_ytiD        2                NaN       NaN                Unknown        1   \n",
       "Membrane-1     3                NaN       NaN   Membrane Homeostasis       81   \n",
       "CysB-1         4               CysB       NaN  Amino Acid Metabolism       31   \n",
       "...          ...                ...       ...                    ...      ...   \n",
       "SG_ybfQ      213                NaN       NaN                Unknown        4   \n",
       "SG_ynaM      214                NaN       NaN                Unknown        2   \n",
       "GlpR-2       215               GlpR       NaN      Carbon Metabolism        6   \n",
       "PdeL         216                NaN       NaN                Unknown        6   \n",
       "SG_sgrT      217                NaN       NaN                Unknown        2   \n",
       "\n",
       "              exp_var  precision    recall  category_num  \n",
       "name                                                      \n",
       "e14 Removal  0.003487        NaN       NaN            21  \n",
       "SG_yzfA      0.000530        NaN       NaN            24  \n",
       "SG_ytiD      0.000471        NaN       NaN            24  \n",
       "Membrane-1   0.009719        NaN       NaN            11  \n",
       "CysB-1       0.009645   0.225806  0.411765             2  \n",
       "...               ...        ...       ...           ...  \n",
       "SG_ybfQ      0.000509        NaN       NaN            24  \n",
       "SG_ynaM      0.002158        NaN       NaN            24  \n",
       "GlpR-2       0.000723   0.833333  0.555556             0  \n",
       "PdeL         0.000768        NaN       NaN            24  \n",
       "SG_sgrT      0.000652        NaN       NaN            24  \n",
       "\n",
       "[218 rows x 9 columns]"
      ]
     },
     "execution_count": 4,
     "metadata": {},
     "output_type": "execute_result"
    }
   ],
   "source": [
    "im_table_filepath = '/'.join(['data',species,'iM_table.csv'])\n",
    "im_table = pd.read_csv(im_table_filepath)\n",
    "im_dict = {str(row.k) : row.name for row in im_table[['k','name']].itertuples() }\n",
    "im_table.set_index('name', inplace=True)\n",
    "im_table"
   ]
  },
  {
   "cell_type": "markdown",
   "id": "e9ec5c76",
   "metadata": {},
   "source": [
    "#### 2.2 Construct the basic ICA object"
   ]
  },
  {
   "cell_type": "code",
   "execution_count": 5,
   "id": "fc1d6a6c",
   "metadata": {},
   "outputs": [
    {
     "data": {
      "text/html": [
       "<div>\n",
       "<style scoped>\n",
       "    .dataframe tbody tr th:only-of-type {\n",
       "        vertical-align: middle;\n",
       "    }\n",
       "\n",
       "    .dataframe tbody tr th {\n",
       "        vertical-align: top;\n",
       "    }\n",
       "\n",
       "    .dataframe thead th {\n",
       "        text-align: right;\n",
       "    }\n",
       "</style>\n",
       "<table border=\"1\" class=\"dataframe\">\n",
       "  <thead>\n",
       "    <tr style=\"text-align: right;\">\n",
       "      <th></th>\n",
       "      <th>e14 Removal</th>\n",
       "      <th>SG_yzfA</th>\n",
       "      <th>SG_ytiD</th>\n",
       "      <th>Membrane-1</th>\n",
       "      <th>CysB-1</th>\n",
       "      <th>CueR/CusR/HprR</th>\n",
       "      <th>DLP12</th>\n",
       "      <th>SG_yqhI</th>\n",
       "      <th>SG_icdC</th>\n",
       "      <th>NQ-ALE3</th>\n",
       "      <th>...</th>\n",
       "      <th>SG_cspH</th>\n",
       "      <th>SG_ymcE</th>\n",
       "      <th>OmpR</th>\n",
       "      <th>NarL</th>\n",
       "      <th>NtrC+RpoS</th>\n",
       "      <th>SG_ybfQ</th>\n",
       "      <th>SG_ynaM</th>\n",
       "      <th>GlpR-2</th>\n",
       "      <th>PdeL</th>\n",
       "      <th>SG_sgrT</th>\n",
       "    </tr>\n",
       "    <tr>\n",
       "      <th>gen</th>\n",
       "      <th></th>\n",
       "      <th></th>\n",
       "      <th></th>\n",
       "      <th></th>\n",
       "      <th></th>\n",
       "      <th></th>\n",
       "      <th></th>\n",
       "      <th></th>\n",
       "      <th></th>\n",
       "      <th></th>\n",
       "      <th></th>\n",
       "      <th></th>\n",
       "      <th></th>\n",
       "      <th></th>\n",
       "      <th></th>\n",
       "      <th></th>\n",
       "      <th></th>\n",
       "      <th></th>\n",
       "      <th></th>\n",
       "      <th></th>\n",
       "      <th></th>\n",
       "    </tr>\n",
       "  </thead>\n",
       "  <tbody>\n",
       "    <tr>\n",
       "      <th>b0002</th>\n",
       "      <td>-0.000358</td>\n",
       "      <td>-0.008590</td>\n",
       "      <td>0.003601</td>\n",
       "      <td>-0.012687</td>\n",
       "      <td>0.005562</td>\n",
       "      <td>-0.008805</td>\n",
       "      <td>0.001628</td>\n",
       "      <td>-0.002981</td>\n",
       "      <td>-0.005618</td>\n",
       "      <td>0.002741</td>\n",
       "      <td>...</td>\n",
       "      <td>0.007893</td>\n",
       "      <td>0.007961</td>\n",
       "      <td>0.006694</td>\n",
       "      <td>-0.007216</td>\n",
       "      <td>-0.012779</td>\n",
       "      <td>0.009632</td>\n",
       "      <td>0.000493</td>\n",
       "      <td>0.000036</td>\n",
       "      <td>-0.021155</td>\n",
       "      <td>-0.011153</td>\n",
       "    </tr>\n",
       "    <tr>\n",
       "      <th>b0003</th>\n",
       "      <td>-0.010837</td>\n",
       "      <td>0.001999</td>\n",
       "      <td>0.011521</td>\n",
       "      <td>0.002356</td>\n",
       "      <td>0.005713</td>\n",
       "      <td>-0.004448</td>\n",
       "      <td>-0.006117</td>\n",
       "      <td>0.014313</td>\n",
       "      <td>0.006507</td>\n",
       "      <td>-0.001974</td>\n",
       "      <td>...</td>\n",
       "      <td>-0.011125</td>\n",
       "      <td>-0.002493</td>\n",
       "      <td>0.020232</td>\n",
       "      <td>0.015658</td>\n",
       "      <td>-0.004292</td>\n",
       "      <td>0.004611</td>\n",
       "      <td>0.017251</td>\n",
       "      <td>-0.008580</td>\n",
       "      <td>0.008200</td>\n",
       "      <td>-0.001142</td>\n",
       "    </tr>\n",
       "    <tr>\n",
       "      <th>b0004</th>\n",
       "      <td>-0.011196</td>\n",
       "      <td>0.010332</td>\n",
       "      <td>0.010215</td>\n",
       "      <td>0.008323</td>\n",
       "      <td>0.002182</td>\n",
       "      <td>-0.004335</td>\n",
       "      <td>-0.001893</td>\n",
       "      <td>0.002386</td>\n",
       "      <td>0.008030</td>\n",
       "      <td>0.002420</td>\n",
       "      <td>...</td>\n",
       "      <td>-0.006413</td>\n",
       "      <td>-0.000588</td>\n",
       "      <td>0.015639</td>\n",
       "      <td>0.012891</td>\n",
       "      <td>-0.000049</td>\n",
       "      <td>0.008568</td>\n",
       "      <td>0.012664</td>\n",
       "      <td>-0.007649</td>\n",
       "      <td>0.014636</td>\n",
       "      <td>-0.008665</td>\n",
       "    </tr>\n",
       "    <tr>\n",
       "      <th>b0005</th>\n",
       "      <td>0.001831</td>\n",
       "      <td>0.008297</td>\n",
       "      <td>-0.006886</td>\n",
       "      <td>0.008113</td>\n",
       "      <td>-0.000454</td>\n",
       "      <td>0.004255</td>\n",
       "      <td>0.031781</td>\n",
       "      <td>-0.000679</td>\n",
       "      <td>0.005952</td>\n",
       "      <td>0.011142</td>\n",
       "      <td>...</td>\n",
       "      <td>-0.011150</td>\n",
       "      <td>0.009998</td>\n",
       "      <td>-0.003796</td>\n",
       "      <td>0.023029</td>\n",
       "      <td>-0.008983</td>\n",
       "      <td>-0.002186</td>\n",
       "      <td>-0.008396</td>\n",
       "      <td>-0.003082</td>\n",
       "      <td>0.001796</td>\n",
       "      <td>-0.007888</td>\n",
       "    </tr>\n",
       "    <tr>\n",
       "      <th>b0006</th>\n",
       "      <td>0.009458</td>\n",
       "      <td>-0.002019</td>\n",
       "      <td>0.015016</td>\n",
       "      <td>-0.005517</td>\n",
       "      <td>-0.004051</td>\n",
       "      <td>-0.000016</td>\n",
       "      <td>0.002706</td>\n",
       "      <td>0.005039</td>\n",
       "      <td>0.007791</td>\n",
       "      <td>-0.008338</td>\n",
       "      <td>...</td>\n",
       "      <td>-0.002731</td>\n",
       "      <td>0.002148</td>\n",
       "      <td>0.010465</td>\n",
       "      <td>0.007808</td>\n",
       "      <td>0.002363</td>\n",
       "      <td>0.007910</td>\n",
       "      <td>-0.000523</td>\n",
       "      <td>0.002802</td>\n",
       "      <td>0.011354</td>\n",
       "      <td>-0.002649</td>\n",
       "    </tr>\n",
       "    <tr>\n",
       "      <th>...</th>\n",
       "      <td>...</td>\n",
       "      <td>...</td>\n",
       "      <td>...</td>\n",
       "      <td>...</td>\n",
       "      <td>...</td>\n",
       "      <td>...</td>\n",
       "      <td>...</td>\n",
       "      <td>...</td>\n",
       "      <td>...</td>\n",
       "      <td>...</td>\n",
       "      <td>...</td>\n",
       "      <td>...</td>\n",
       "      <td>...</td>\n",
       "      <td>...</td>\n",
       "      <td>...</td>\n",
       "      <td>...</td>\n",
       "      <td>...</td>\n",
       "      <td>...</td>\n",
       "      <td>...</td>\n",
       "      <td>...</td>\n",
       "      <td>...</td>\n",
       "    </tr>\n",
       "    <tr>\n",
       "      <th>b4399</th>\n",
       "      <td>-0.005435</td>\n",
       "      <td>-0.000862</td>\n",
       "      <td>-0.001009</td>\n",
       "      <td>0.002962</td>\n",
       "      <td>-0.002097</td>\n",
       "      <td>-0.003631</td>\n",
       "      <td>-0.000578</td>\n",
       "      <td>0.000235</td>\n",
       "      <td>-0.002511</td>\n",
       "      <td>0.005352</td>\n",
       "      <td>...</td>\n",
       "      <td>-0.014640</td>\n",
       "      <td>0.005406</td>\n",
       "      <td>-0.005309</td>\n",
       "      <td>-0.007466</td>\n",
       "      <td>-0.002523</td>\n",
       "      <td>0.007945</td>\n",
       "      <td>-0.000425</td>\n",
       "      <td>0.003699</td>\n",
       "      <td>0.014430</td>\n",
       "      <td>-0.001713</td>\n",
       "    </tr>\n",
       "    <tr>\n",
       "      <th>b4400</th>\n",
       "      <td>-0.003509</td>\n",
       "      <td>0.007552</td>\n",
       "      <td>0.014341</td>\n",
       "      <td>-0.006045</td>\n",
       "      <td>-0.000268</td>\n",
       "      <td>0.000341</td>\n",
       "      <td>0.010566</td>\n",
       "      <td>0.012339</td>\n",
       "      <td>0.003326</td>\n",
       "      <td>0.023681</td>\n",
       "      <td>...</td>\n",
       "      <td>0.007242</td>\n",
       "      <td>0.026212</td>\n",
       "      <td>-0.010677</td>\n",
       "      <td>0.011861</td>\n",
       "      <td>-0.010043</td>\n",
       "      <td>-0.011006</td>\n",
       "      <td>-0.009490</td>\n",
       "      <td>-0.011233</td>\n",
       "      <td>0.020347</td>\n",
       "      <td>0.005650</td>\n",
       "    </tr>\n",
       "    <tr>\n",
       "      <th>b4401</th>\n",
       "      <td>-0.003444</td>\n",
       "      <td>0.007116</td>\n",
       "      <td>0.001074</td>\n",
       "      <td>0.004715</td>\n",
       "      <td>-0.012893</td>\n",
       "      <td>0.000782</td>\n",
       "      <td>-0.012861</td>\n",
       "      <td>-0.021927</td>\n",
       "      <td>-0.010887</td>\n",
       "      <td>0.001683</td>\n",
       "      <td>...</td>\n",
       "      <td>0.002610</td>\n",
       "      <td>-0.003137</td>\n",
       "      <td>0.000657</td>\n",
       "      <td>0.005381</td>\n",
       "      <td>0.028456</td>\n",
       "      <td>0.000641</td>\n",
       "      <td>-0.005313</td>\n",
       "      <td>0.012298</td>\n",
       "      <td>-0.006008</td>\n",
       "      <td>0.011715</td>\n",
       "    </tr>\n",
       "    <tr>\n",
       "      <th>b4402</th>\n",
       "      <td>-0.016195</td>\n",
       "      <td>0.061764</td>\n",
       "      <td>-0.014592</td>\n",
       "      <td>-0.003999</td>\n",
       "      <td>-0.000413</td>\n",
       "      <td>0.004475</td>\n",
       "      <td>-0.012897</td>\n",
       "      <td>0.036598</td>\n",
       "      <td>0.003351</td>\n",
       "      <td>0.016852</td>\n",
       "      <td>...</td>\n",
       "      <td>0.008835</td>\n",
       "      <td>0.007436</td>\n",
       "      <td>0.004202</td>\n",
       "      <td>-0.001710</td>\n",
       "      <td>0.015668</td>\n",
       "      <td>-0.031288</td>\n",
       "      <td>-0.003017</td>\n",
       "      <td>0.013990</td>\n",
       "      <td>0.004978</td>\n",
       "      <td>0.012152</td>\n",
       "    </tr>\n",
       "    <tr>\n",
       "      <th>b4403</th>\n",
       "      <td>-0.011528</td>\n",
       "      <td>-0.005571</td>\n",
       "      <td>0.005006</td>\n",
       "      <td>0.000253</td>\n",
       "      <td>-0.004747</td>\n",
       "      <td>-0.000671</td>\n",
       "      <td>-0.014258</td>\n",
       "      <td>-0.006051</td>\n",
       "      <td>-0.003435</td>\n",
       "      <td>-0.002522</td>\n",
       "      <td>...</td>\n",
       "      <td>-0.004506</td>\n",
       "      <td>0.001554</td>\n",
       "      <td>-0.004069</td>\n",
       "      <td>0.016058</td>\n",
       "      <td>0.011239</td>\n",
       "      <td>0.011375</td>\n",
       "      <td>-0.012363</td>\n",
       "      <td>0.006549</td>\n",
       "      <td>0.000667</td>\n",
       "      <td>0.013491</td>\n",
       "    </tr>\n",
       "  </tbody>\n",
       "</table>\n",
       "<p>4211 rows × 218 columns</p>\n",
       "</div>"
      ],
      "text/plain": [
       "       e14 Removal   SG_yzfA   SG_ytiD  Membrane-1    CysB-1  CueR/CusR/HprR  \\\n",
       "gen                                                                            \n",
       "b0002    -0.000358 -0.008590  0.003601   -0.012687  0.005562       -0.008805   \n",
       "b0003    -0.010837  0.001999  0.011521    0.002356  0.005713       -0.004448   \n",
       "b0004    -0.011196  0.010332  0.010215    0.008323  0.002182       -0.004335   \n",
       "b0005     0.001831  0.008297 -0.006886    0.008113 -0.000454        0.004255   \n",
       "b0006     0.009458 -0.002019  0.015016   -0.005517 -0.004051       -0.000016   \n",
       "...            ...       ...       ...         ...       ...             ...   \n",
       "b4399    -0.005435 -0.000862 -0.001009    0.002962 -0.002097       -0.003631   \n",
       "b4400    -0.003509  0.007552  0.014341   -0.006045 -0.000268        0.000341   \n",
       "b4401    -0.003444  0.007116  0.001074    0.004715 -0.012893        0.000782   \n",
       "b4402    -0.016195  0.061764 -0.014592   -0.003999 -0.000413        0.004475   \n",
       "b4403    -0.011528 -0.005571  0.005006    0.000253 -0.004747       -0.000671   \n",
       "\n",
       "          DLP12   SG_yqhI   SG_icdC   NQ-ALE3  ...   SG_cspH   SG_ymcE  \\\n",
       "gen                                            ...                       \n",
       "b0002  0.001628 -0.002981 -0.005618  0.002741  ...  0.007893  0.007961   \n",
       "b0003 -0.006117  0.014313  0.006507 -0.001974  ... -0.011125 -0.002493   \n",
       "b0004 -0.001893  0.002386  0.008030  0.002420  ... -0.006413 -0.000588   \n",
       "b0005  0.031781 -0.000679  0.005952  0.011142  ... -0.011150  0.009998   \n",
       "b0006  0.002706  0.005039  0.007791 -0.008338  ... -0.002731  0.002148   \n",
       "...         ...       ...       ...       ...  ...       ...       ...   \n",
       "b4399 -0.000578  0.000235 -0.002511  0.005352  ... -0.014640  0.005406   \n",
       "b4400  0.010566  0.012339  0.003326  0.023681  ...  0.007242  0.026212   \n",
       "b4401 -0.012861 -0.021927 -0.010887  0.001683  ...  0.002610 -0.003137   \n",
       "b4402 -0.012897  0.036598  0.003351  0.016852  ...  0.008835  0.007436   \n",
       "b4403 -0.014258 -0.006051 -0.003435 -0.002522  ... -0.004506  0.001554   \n",
       "\n",
       "           OmpR      NarL  NtrC+RpoS   SG_ybfQ   SG_ynaM    GlpR-2      PdeL  \\\n",
       "gen                                                                            \n",
       "b0002  0.006694 -0.007216  -0.012779  0.009632  0.000493  0.000036 -0.021155   \n",
       "b0003  0.020232  0.015658  -0.004292  0.004611  0.017251 -0.008580  0.008200   \n",
       "b0004  0.015639  0.012891  -0.000049  0.008568  0.012664 -0.007649  0.014636   \n",
       "b0005 -0.003796  0.023029  -0.008983 -0.002186 -0.008396 -0.003082  0.001796   \n",
       "b0006  0.010465  0.007808   0.002363  0.007910 -0.000523  0.002802  0.011354   \n",
       "...         ...       ...        ...       ...       ...       ...       ...   \n",
       "b4399 -0.005309 -0.007466  -0.002523  0.007945 -0.000425  0.003699  0.014430   \n",
       "b4400 -0.010677  0.011861  -0.010043 -0.011006 -0.009490 -0.011233  0.020347   \n",
       "b4401  0.000657  0.005381   0.028456  0.000641 -0.005313  0.012298 -0.006008   \n",
       "b4402  0.004202 -0.001710   0.015668 -0.031288 -0.003017  0.013990  0.004978   \n",
       "b4403 -0.004069  0.016058   0.011239  0.011375 -0.012363  0.006549  0.000667   \n",
       "\n",
       "        SG_sgrT  \n",
       "gen              \n",
       "b0002 -0.011153  \n",
       "b0003 -0.001142  \n",
       "b0004 -0.008665  \n",
       "b0005 -0.007888  \n",
       "b0006 -0.002649  \n",
       "...         ...  \n",
       "b4399 -0.001713  \n",
       "b4400  0.005650  \n",
       "b4401  0.011715  \n",
       "b4402  0.012152  \n",
       "b4403  0.013491  \n",
       "\n",
       "[4211 rows x 218 columns]"
      ]
     },
     "execution_count": 5,
     "metadata": {},
     "output_type": "execute_result"
    }
   ],
   "source": [
    "M_table_filepath = '/'.join(['data',species,'M.csv'])\n",
    "M = pd.read_csv(M_table_filepath)\n",
    "im_dict['Unnamed: 0'] = 'gen'\n",
    "M.rename(columns =im_dict, inplace = True)\n",
    "M.set_index('gen', inplace=True)\n",
    "M"
   ]
  },
  {
   "cell_type": "code",
   "execution_count": 6,
   "id": "651553f8",
   "metadata": {},
   "outputs": [
    {
     "data": {
      "text/html": [
       "<div>\n",
       "<style scoped>\n",
       "    .dataframe tbody tr th:only-of-type {\n",
       "        vertical-align: middle;\n",
       "    }\n",
       "\n",
       "    .dataframe tbody tr th {\n",
       "        vertical-align: top;\n",
       "    }\n",
       "\n",
       "    .dataframe thead th {\n",
       "        text-align: right;\n",
       "    }\n",
       "</style>\n",
       "<table border=\"1\" class=\"dataframe\">\n",
       "  <thead>\n",
       "    <tr style=\"text-align: right;\">\n",
       "      <th></th>\n",
       "      <th>ecoli_00001</th>\n",
       "      <th>ecoli_00002</th>\n",
       "      <th>ecoli_00003</th>\n",
       "      <th>ecoli_00004</th>\n",
       "      <th>ecoli_00005</th>\n",
       "      <th>ecoli_00006</th>\n",
       "      <th>ecoli_00007</th>\n",
       "      <th>ecoli_00008</th>\n",
       "      <th>ecoli_00009</th>\n",
       "      <th>ecoli_00010</th>\n",
       "      <th>...</th>\n",
       "      <th>ecoli_00836</th>\n",
       "      <th>ecoli_00837</th>\n",
       "      <th>ecoli_00838</th>\n",
       "      <th>ecoli_00839</th>\n",
       "      <th>ecoli_00840</th>\n",
       "      <th>ecoli_00841</th>\n",
       "      <th>ecoli_00842</th>\n",
       "      <th>ecoli_00843</th>\n",
       "      <th>ecoli_00844</th>\n",
       "      <th>ecoli_00845</th>\n",
       "    </tr>\n",
       "  </thead>\n",
       "  <tbody>\n",
       "    <tr>\n",
       "      <th>e14 Removal</th>\n",
       "      <td>-0.128304</td>\n",
       "      <td>0.128304</td>\n",
       "      <td>-1.531027</td>\n",
       "      <td>-1.963977</td>\n",
       "      <td>-0.303246</td>\n",
       "      <td>-0.062866</td>\n",
       "      <td>-1.375827</td>\n",
       "      <td>-1.600358</td>\n",
       "      <td>-0.164066</td>\n",
       "      <td>-0.281141</td>\n",
       "      <td>...</td>\n",
       "      <td>1.603103</td>\n",
       "      <td>2.218117</td>\n",
       "      <td>2.299468</td>\n",
       "      <td>2.110294</td>\n",
       "      <td>2.100683</td>\n",
       "      <td>2.582940</td>\n",
       "      <td>2.064856</td>\n",
       "      <td>2.209638</td>\n",
       "      <td>1.913363</td>\n",
       "      <td>1.891312</td>\n",
       "    </tr>\n",
       "    <tr>\n",
       "      <th>SG_yzfA</th>\n",
       "      <td>-0.152539</td>\n",
       "      <td>0.152539</td>\n",
       "      <td>-2.741850</td>\n",
       "      <td>-1.200373</td>\n",
       "      <td>-1.446482</td>\n",
       "      <td>-1.101239</td>\n",
       "      <td>-1.340625</td>\n",
       "      <td>-0.672756</td>\n",
       "      <td>-0.524996</td>\n",
       "      <td>-0.650100</td>\n",
       "      <td>...</td>\n",
       "      <td>-0.904385</td>\n",
       "      <td>-1.173453</td>\n",
       "      <td>-1.248829</td>\n",
       "      <td>-1.370640</td>\n",
       "      <td>-0.901145</td>\n",
       "      <td>-0.604680</td>\n",
       "      <td>-1.560660</td>\n",
       "      <td>-1.439933</td>\n",
       "      <td>-1.571323</td>\n",
       "      <td>-0.645570</td>\n",
       "    </tr>\n",
       "    <tr>\n",
       "      <th>SG_ytiD</th>\n",
       "      <td>0.249185</td>\n",
       "      <td>-0.249185</td>\n",
       "      <td>3.262396</td>\n",
       "      <td>3.948667</td>\n",
       "      <td>0.843348</td>\n",
       "      <td>0.983687</td>\n",
       "      <td>2.730156</td>\n",
       "      <td>2.949588</td>\n",
       "      <td>2.111970</td>\n",
       "      <td>2.283055</td>\n",
       "      <td>...</td>\n",
       "      <td>-0.191715</td>\n",
       "      <td>1.451728</td>\n",
       "      <td>1.210193</td>\n",
       "      <td>1.315993</td>\n",
       "      <td>0.945596</td>\n",
       "      <td>0.988214</td>\n",
       "      <td>0.677923</td>\n",
       "      <td>0.638416</td>\n",
       "      <td>-0.321869</td>\n",
       "      <td>-0.996076</td>\n",
       "    </tr>\n",
       "    <tr>\n",
       "      <th>Membrane-1</th>\n",
       "      <td>-0.104403</td>\n",
       "      <td>0.104403</td>\n",
       "      <td>-4.916100</td>\n",
       "      <td>-5.861405</td>\n",
       "      <td>1.058649</td>\n",
       "      <td>1.005977</td>\n",
       "      <td>-3.312421</td>\n",
       "      <td>-3.625048</td>\n",
       "      <td>1.257151</td>\n",
       "      <td>1.107445</td>\n",
       "      <td>...</td>\n",
       "      <td>1.834209</td>\n",
       "      <td>1.838009</td>\n",
       "      <td>3.781963</td>\n",
       "      <td>3.501219</td>\n",
       "      <td>3.430569</td>\n",
       "      <td>3.591516</td>\n",
       "      <td>2.605577</td>\n",
       "      <td>2.886943</td>\n",
       "      <td>2.672993</td>\n",
       "      <td>2.162092</td>\n",
       "    </tr>\n",
       "    <tr>\n",
       "      <th>CysB-1</th>\n",
       "      <td>-0.176603</td>\n",
       "      <td>0.176603</td>\n",
       "      <td>3.582368</td>\n",
       "      <td>4.747595</td>\n",
       "      <td>2.041670</td>\n",
       "      <td>1.917720</td>\n",
       "      <td>2.480352</td>\n",
       "      <td>3.153594</td>\n",
       "      <td>2.702293</td>\n",
       "      <td>2.850132</td>\n",
       "      <td>...</td>\n",
       "      <td>1.169348</td>\n",
       "      <td>0.965257</td>\n",
       "      <td>0.153500</td>\n",
       "      <td>0.925511</td>\n",
       "      <td>1.315424</td>\n",
       "      <td>1.119001</td>\n",
       "      <td>1.928577</td>\n",
       "      <td>1.671033</td>\n",
       "      <td>1.921350</td>\n",
       "      <td>2.005877</td>\n",
       "    </tr>\n",
       "    <tr>\n",
       "      <th>...</th>\n",
       "      <td>...</td>\n",
       "      <td>...</td>\n",
       "      <td>...</td>\n",
       "      <td>...</td>\n",
       "      <td>...</td>\n",
       "      <td>...</td>\n",
       "      <td>...</td>\n",
       "      <td>...</td>\n",
       "      <td>...</td>\n",
       "      <td>...</td>\n",
       "      <td>...</td>\n",
       "      <td>...</td>\n",
       "      <td>...</td>\n",
       "      <td>...</td>\n",
       "      <td>...</td>\n",
       "      <td>...</td>\n",
       "      <td>...</td>\n",
       "      <td>...</td>\n",
       "      <td>...</td>\n",
       "      <td>...</td>\n",
       "      <td>...</td>\n",
       "    </tr>\n",
       "    <tr>\n",
       "      <th>SG_ybfQ</th>\n",
       "      <td>0.252765</td>\n",
       "      <td>-0.252765</td>\n",
       "      <td>-3.197852</td>\n",
       "      <td>-2.348775</td>\n",
       "      <td>-0.730892</td>\n",
       "      <td>0.209796</td>\n",
       "      <td>-2.265536</td>\n",
       "      <td>-1.327736</td>\n",
       "      <td>-2.047324</td>\n",
       "      <td>-1.620692</td>\n",
       "      <td>...</td>\n",
       "      <td>1.366825</td>\n",
       "      <td>1.086655</td>\n",
       "      <td>1.157643</td>\n",
       "      <td>1.151417</td>\n",
       "      <td>1.255827</td>\n",
       "      <td>1.365737</td>\n",
       "      <td>-0.032266</td>\n",
       "      <td>0.540555</td>\n",
       "      <td>0.564042</td>\n",
       "      <td>-0.508422</td>\n",
       "    </tr>\n",
       "    <tr>\n",
       "      <th>SG_ynaM</th>\n",
       "      <td>-0.806208</td>\n",
       "      <td>0.806208</td>\n",
       "      <td>-0.236285</td>\n",
       "      <td>2.470518</td>\n",
       "      <td>0.704412</td>\n",
       "      <td>-0.083709</td>\n",
       "      <td>1.204765</td>\n",
       "      <td>3.597766</td>\n",
       "      <td>0.690591</td>\n",
       "      <td>0.239457</td>\n",
       "      <td>...</td>\n",
       "      <td>-1.526969</td>\n",
       "      <td>-0.986787</td>\n",
       "      <td>-1.227507</td>\n",
       "      <td>-0.962135</td>\n",
       "      <td>-1.672937</td>\n",
       "      <td>-0.478441</td>\n",
       "      <td>-0.606239</td>\n",
       "      <td>-0.584500</td>\n",
       "      <td>-1.894849</td>\n",
       "      <td>-1.291428</td>\n",
       "    </tr>\n",
       "    <tr>\n",
       "      <th>GlpR-2</th>\n",
       "      <td>-0.374599</td>\n",
       "      <td>0.374599</td>\n",
       "      <td>0.113874</td>\n",
       "      <td>0.020002</td>\n",
       "      <td>-0.130984</td>\n",
       "      <td>-0.361774</td>\n",
       "      <td>0.007051</td>\n",
       "      <td>0.211294</td>\n",
       "      <td>-0.772821</td>\n",
       "      <td>-0.533565</td>\n",
       "      <td>...</td>\n",
       "      <td>0.148360</td>\n",
       "      <td>0.389226</td>\n",
       "      <td>0.229326</td>\n",
       "      <td>0.535328</td>\n",
       "      <td>0.259583</td>\n",
       "      <td>0.249629</td>\n",
       "      <td>0.183686</td>\n",
       "      <td>0.040469</td>\n",
       "      <td>0.177319</td>\n",
       "      <td>0.372662</td>\n",
       "    </tr>\n",
       "    <tr>\n",
       "      <th>PdeL</th>\n",
       "      <td>0.095403</td>\n",
       "      <td>-0.095403</td>\n",
       "      <td>-0.208565</td>\n",
       "      <td>-0.049936</td>\n",
       "      <td>0.123347</td>\n",
       "      <td>0.015959</td>\n",
       "      <td>-0.323685</td>\n",
       "      <td>-0.192190</td>\n",
       "      <td>0.406844</td>\n",
       "      <td>1.019091</td>\n",
       "      <td>...</td>\n",
       "      <td>0.245031</td>\n",
       "      <td>0.236841</td>\n",
       "      <td>0.854063</td>\n",
       "      <td>1.107624</td>\n",
       "      <td>1.768854</td>\n",
       "      <td>2.035715</td>\n",
       "      <td>0.893494</td>\n",
       "      <td>1.093992</td>\n",
       "      <td>1.232302</td>\n",
       "      <td>1.613547</td>\n",
       "    </tr>\n",
       "    <tr>\n",
       "      <th>SG_sgrT</th>\n",
       "      <td>-0.140032</td>\n",
       "      <td>0.140032</td>\n",
       "      <td>1.386072</td>\n",
       "      <td>1.416696</td>\n",
       "      <td>1.812881</td>\n",
       "      <td>2.082324</td>\n",
       "      <td>2.014359</td>\n",
       "      <td>1.983151</td>\n",
       "      <td>1.852860</td>\n",
       "      <td>1.920822</td>\n",
       "      <td>...</td>\n",
       "      <td>1.630191</td>\n",
       "      <td>2.039039</td>\n",
       "      <td>3.232556</td>\n",
       "      <td>2.215267</td>\n",
       "      <td>1.818154</td>\n",
       "      <td>1.814675</td>\n",
       "      <td>0.616254</td>\n",
       "      <td>0.872211</td>\n",
       "      <td>2.382912</td>\n",
       "      <td>1.381295</td>\n",
       "    </tr>\n",
       "  </tbody>\n",
       "</table>\n",
       "<p>218 rows × 815 columns</p>\n",
       "</div>"
      ],
      "text/plain": [
       "             ecoli_00001  ecoli_00002  ecoli_00003  ecoli_00004  ecoli_00005  \\\n",
       "e14 Removal    -0.128304     0.128304    -1.531027    -1.963977    -0.303246   \n",
       "SG_yzfA        -0.152539     0.152539    -2.741850    -1.200373    -1.446482   \n",
       "SG_ytiD         0.249185    -0.249185     3.262396     3.948667     0.843348   \n",
       "Membrane-1     -0.104403     0.104403    -4.916100    -5.861405     1.058649   \n",
       "CysB-1         -0.176603     0.176603     3.582368     4.747595     2.041670   \n",
       "...                  ...          ...          ...          ...          ...   \n",
       "SG_ybfQ         0.252765    -0.252765    -3.197852    -2.348775    -0.730892   \n",
       "SG_ynaM        -0.806208     0.806208    -0.236285     2.470518     0.704412   \n",
       "GlpR-2         -0.374599     0.374599     0.113874     0.020002    -0.130984   \n",
       "PdeL            0.095403    -0.095403    -0.208565    -0.049936     0.123347   \n",
       "SG_sgrT        -0.140032     0.140032     1.386072     1.416696     1.812881   \n",
       "\n",
       "             ecoli_00006  ecoli_00007  ecoli_00008  ecoli_00009  ecoli_00010  \\\n",
       "e14 Removal    -0.062866    -1.375827    -1.600358    -0.164066    -0.281141   \n",
       "SG_yzfA        -1.101239    -1.340625    -0.672756    -0.524996    -0.650100   \n",
       "SG_ytiD         0.983687     2.730156     2.949588     2.111970     2.283055   \n",
       "Membrane-1      1.005977    -3.312421    -3.625048     1.257151     1.107445   \n",
       "CysB-1          1.917720     2.480352     3.153594     2.702293     2.850132   \n",
       "...                  ...          ...          ...          ...          ...   \n",
       "SG_ybfQ         0.209796    -2.265536    -1.327736    -2.047324    -1.620692   \n",
       "SG_ynaM        -0.083709     1.204765     3.597766     0.690591     0.239457   \n",
       "GlpR-2         -0.361774     0.007051     0.211294    -0.772821    -0.533565   \n",
       "PdeL            0.015959    -0.323685    -0.192190     0.406844     1.019091   \n",
       "SG_sgrT         2.082324     2.014359     1.983151     1.852860     1.920822   \n",
       "\n",
       "             ...  ecoli_00836  ecoli_00837  ecoli_00838  ecoli_00839  \\\n",
       "e14 Removal  ...     1.603103     2.218117     2.299468     2.110294   \n",
       "SG_yzfA      ...    -0.904385    -1.173453    -1.248829    -1.370640   \n",
       "SG_ytiD      ...    -0.191715     1.451728     1.210193     1.315993   \n",
       "Membrane-1   ...     1.834209     1.838009     3.781963     3.501219   \n",
       "CysB-1       ...     1.169348     0.965257     0.153500     0.925511   \n",
       "...          ...          ...          ...          ...          ...   \n",
       "SG_ybfQ      ...     1.366825     1.086655     1.157643     1.151417   \n",
       "SG_ynaM      ...    -1.526969    -0.986787    -1.227507    -0.962135   \n",
       "GlpR-2       ...     0.148360     0.389226     0.229326     0.535328   \n",
       "PdeL         ...     0.245031     0.236841     0.854063     1.107624   \n",
       "SG_sgrT      ...     1.630191     2.039039     3.232556     2.215267   \n",
       "\n",
       "             ecoli_00840  ecoli_00841  ecoli_00842  ecoli_00843  ecoli_00844  \\\n",
       "e14 Removal     2.100683     2.582940     2.064856     2.209638     1.913363   \n",
       "SG_yzfA        -0.901145    -0.604680    -1.560660    -1.439933    -1.571323   \n",
       "SG_ytiD         0.945596     0.988214     0.677923     0.638416    -0.321869   \n",
       "Membrane-1      3.430569     3.591516     2.605577     2.886943     2.672993   \n",
       "CysB-1          1.315424     1.119001     1.928577     1.671033     1.921350   \n",
       "...                  ...          ...          ...          ...          ...   \n",
       "SG_ybfQ         1.255827     1.365737    -0.032266     0.540555     0.564042   \n",
       "SG_ynaM        -1.672937    -0.478441    -0.606239    -0.584500    -1.894849   \n",
       "GlpR-2          0.259583     0.249629     0.183686     0.040469     0.177319   \n",
       "PdeL            1.768854     2.035715     0.893494     1.093992     1.232302   \n",
       "SG_sgrT         1.818154     1.814675     0.616254     0.872211     2.382912   \n",
       "\n",
       "             ecoli_00845  \n",
       "e14 Removal     1.891312  \n",
       "SG_yzfA        -0.645570  \n",
       "SG_ytiD        -0.996076  \n",
       "Membrane-1      2.162092  \n",
       "CysB-1          2.005877  \n",
       "...                  ...  \n",
       "SG_ybfQ        -0.508422  \n",
       "SG_ynaM        -1.291428  \n",
       "GlpR-2          0.372662  \n",
       "PdeL            1.613547  \n",
       "SG_sgrT         1.381295  \n",
       "\n",
       "[218 rows x 815 columns]"
      ]
     },
     "execution_count": 6,
     "metadata": {},
     "output_type": "execute_result"
    }
   ],
   "source": [
    "A_table_filepath = '/'.join(['data',species,'A.csv'])\n",
    "A = pd.read_csv(A_table_filepath)\n",
    "A.rename(columns = {'Unnamed: 0':'iModulon'}, inplace = True)\n",
    "A.iModulon = [im_dict[str(k)] for k in A.iModulon.values.tolist()]\n",
    "A.set_index('iModulon', inplace=True)\n",
    "ica_data = IcaData(M,A)\n",
    "A"
   ]
  },
  {
   "cell_type": "markdown",
   "id": "438e5a3a",
   "metadata": {},
   "source": [
    "#### 2.3 Add the expression matrix, the Annotation and iModulon table to the ICA object to get to all regulatory info (COG, regulators ...)"
   ]
  },
  {
   "cell_type": "code",
   "execution_count": 7,
   "id": "20fbe198",
   "metadata": {},
   "outputs": [
    {
     "name": "stderr",
     "output_type": "stream",
     "text": [
      "WARNING:root:Some gene are missing from the gene table: ['b0617', 'b2648', 'b4633', 'b4684']\n"
     ]
    },
    {
     "data": {
      "text/html": [
       "<div>\n",
       "<style scoped>\n",
       "    .dataframe tbody tr th:only-of-type {\n",
       "        vertical-align: middle;\n",
       "    }\n",
       "\n",
       "    .dataframe tbody tr th {\n",
       "        vertical-align: top;\n",
       "    }\n",
       "\n",
       "    .dataframe thead th {\n",
       "        text-align: right;\n",
       "    }\n",
       "</style>\n",
       "<table border=\"1\" class=\"dataframe\">\n",
       "  <thead>\n",
       "    <tr style=\"text-align: right;\">\n",
       "      <th></th>\n",
       "      <th>gene_name</th>\n",
       "      <th>synonyms</th>\n",
       "      <th>gene_product</th>\n",
       "      <th>cog</th>\n",
       "      <th>regulator</th>\n",
       "      <th>uniprot</th>\n",
       "      <th>start</th>\n",
       "      <th>end</th>\n",
       "      <th>strand</th>\n",
       "      <th>essential</th>\n",
       "      <th>...</th>\n",
       "      <th>y_ome</th>\n",
       "      <th>k_eff</th>\n",
       "      <th>schmidt_prot_med</th>\n",
       "      <th>heckmann_prot_med</th>\n",
       "      <th>proteomics</th>\n",
       "      <th>p1k</th>\n",
       "      <th>p1k_ctrl_log_tpm</th>\n",
       "      <th>p1k_median_log_tpm</th>\n",
       "      <th>p1k_mad_log_tpm</th>\n",
       "      <th>in_iM</th>\n",
       "    </tr>\n",
       "  </thead>\n",
       "  <tbody>\n",
       "    <tr>\n",
       "      <th>b0002</th>\n",
       "      <td>thrA</td>\n",
       "      <td>thrA;thrA1;thrA2</td>\n",
       "      <td>fused aspartate kinase/homoserine dehydrogenase 1</td>\n",
       "      <td>Amino acid transport and metabolism</td>\n",
       "      <td>RpoD,Ile-tRNA,Thr-tRNA,DksA,Fnr,ArcA,ppGpp</td>\n",
       "      <td>P00561</td>\n",
       "      <td>337</td>\n",
       "      <td>2799</td>\n",
       "      <td>+</td>\n",
       "      <td>False</td>\n",
       "      <td>...</td>\n",
       "      <td>False</td>\n",
       "      <td>True</td>\n",
       "      <td>4101.5</td>\n",
       "      <td>4434.0</td>\n",
       "      <td>True</td>\n",
       "      <td>True</td>\n",
       "      <td>10.314562</td>\n",
       "      <td>9.605329</td>\n",
       "      <td>1.042143</td>\n",
       "      <td>True</td>\n",
       "    </tr>\n",
       "    <tr>\n",
       "      <th>b0003</th>\n",
       "      <td>thrB</td>\n",
       "      <td>thrB</td>\n",
       "      <td>homoserine kinase</td>\n",
       "      <td>Nucleotide transport and metabolism</td>\n",
       "      <td>RpoD,Ile-tRNA,Thr-tRNA,DksA,ppGpp</td>\n",
       "      <td>P00547</td>\n",
       "      <td>2801</td>\n",
       "      <td>3733</td>\n",
       "      <td>+</td>\n",
       "      <td>False</td>\n",
       "      <td>...</td>\n",
       "      <td>False</td>\n",
       "      <td>True</td>\n",
       "      <td>442.0</td>\n",
       "      <td>1177.0</td>\n",
       "      <td>True</td>\n",
       "      <td>True</td>\n",
       "      <td>9.982251</td>\n",
       "      <td>9.232803</td>\n",
       "      <td>1.035654</td>\n",
       "      <td>True</td>\n",
       "    </tr>\n",
       "    <tr>\n",
       "      <th>b0004</th>\n",
       "      <td>thrC</td>\n",
       "      <td>thrC</td>\n",
       "      <td>threonine synthase</td>\n",
       "      <td>Amino acid transport and metabolism</td>\n",
       "      <td>RpoD,ppGpp,Ile-tRNA,Thr-tRNA,DksA</td>\n",
       "      <td>P00934</td>\n",
       "      <td>3734</td>\n",
       "      <td>5020</td>\n",
       "      <td>+</td>\n",
       "      <td>False</td>\n",
       "      <td>...</td>\n",
       "      <td>False</td>\n",
       "      <td>True</td>\n",
       "      <td>8818.5</td>\n",
       "      <td>3516.0</td>\n",
       "      <td>True</td>\n",
       "      <td>True</td>\n",
       "      <td>9.973666</td>\n",
       "      <td>9.274271</td>\n",
       "      <td>0.906287</td>\n",
       "      <td>True</td>\n",
       "    </tr>\n",
       "    <tr>\n",
       "      <th>b0005</th>\n",
       "      <td>yaaX</td>\n",
       "      <td>yaaX</td>\n",
       "      <td>DUF2502 domain-containing protein YaaX</td>\n",
       "      <td>Function unknown</td>\n",
       "      <td>Lrp</td>\n",
       "      <td>P75616</td>\n",
       "      <td>5234</td>\n",
       "      <td>5530</td>\n",
       "      <td>+</td>\n",
       "      <td>False</td>\n",
       "      <td>...</td>\n",
       "      <td>True</td>\n",
       "      <td>False</td>\n",
       "      <td>NaN</td>\n",
       "      <td>NaN</td>\n",
       "      <td>False</td>\n",
       "      <td>True</td>\n",
       "      <td>7.132482</td>\n",
       "      <td>6.283661</td>\n",
       "      <td>1.093146</td>\n",
       "      <td>True</td>\n",
       "    </tr>\n",
       "    <tr>\n",
       "      <th>b0006</th>\n",
       "      <td>yaaA</td>\n",
       "      <td>yaaA</td>\n",
       "      <td>peroxide stress resistance protein YaaA</td>\n",
       "      <td>Function unknown</td>\n",
       "      <td>NaN</td>\n",
       "      <td>P0A8I3</td>\n",
       "      <td>5683</td>\n",
       "      <td>6459</td>\n",
       "      <td>-</td>\n",
       "      <td>False</td>\n",
       "      <td>...</td>\n",
       "      <td>True</td>\n",
       "      <td>True</td>\n",
       "      <td>539.5</td>\n",
       "      <td>333.0</td>\n",
       "      <td>True</td>\n",
       "      <td>True</td>\n",
       "      <td>6.494941</td>\n",
       "      <td>6.346626</td>\n",
       "      <td>0.454519</td>\n",
       "      <td>True</td>\n",
       "    </tr>\n",
       "    <tr>\n",
       "      <th>...</th>\n",
       "      <td>...</td>\n",
       "      <td>...</td>\n",
       "      <td>...</td>\n",
       "      <td>...</td>\n",
       "      <td>...</td>\n",
       "      <td>...</td>\n",
       "      <td>...</td>\n",
       "      <td>...</td>\n",
       "      <td>...</td>\n",
       "      <td>...</td>\n",
       "      <td>...</td>\n",
       "      <td>...</td>\n",
       "      <td>...</td>\n",
       "      <td>...</td>\n",
       "      <td>...</td>\n",
       "      <td>...</td>\n",
       "      <td>...</td>\n",
       "      <td>...</td>\n",
       "      <td>...</td>\n",
       "      <td>...</td>\n",
       "      <td>...</td>\n",
       "    </tr>\n",
       "    <tr>\n",
       "      <th>b4747</th>\n",
       "      <td>yneP</td>\n",
       "      <td>NaN</td>\n",
       "      <td>protein YneP</td>\n",
       "      <td>No COG annotation</td>\n",
       "      <td>NaN</td>\n",
       "      <td>UPI000E46657A</td>\n",
       "      <td>1579545</td>\n",
       "      <td>1579667</td>\n",
       "      <td>+</td>\n",
       "      <td>False</td>\n",
       "      <td>...</td>\n",
       "      <td>False</td>\n",
       "      <td>False</td>\n",
       "      <td>NaN</td>\n",
       "      <td>NaN</td>\n",
       "      <td>False</td>\n",
       "      <td>True</td>\n",
       "      <td>0.619141</td>\n",
       "      <td>1.132974</td>\n",
       "      <td>1.574864</td>\n",
       "      <td>True</td>\n",
       "    </tr>\n",
       "    <tr>\n",
       "      <th>b4748</th>\n",
       "      <td>ynfT</td>\n",
       "      <td>NaN</td>\n",
       "      <td>Qin prophage%3B protein YnfT</td>\n",
       "      <td>No COG annotation</td>\n",
       "      <td>NaN</td>\n",
       "      <td>UPI000A4EFCBB</td>\n",
       "      <td>1632890</td>\n",
       "      <td>1633003</td>\n",
       "      <td>+</td>\n",
       "      <td>False</td>\n",
       "      <td>...</td>\n",
       "      <td>False</td>\n",
       "      <td>False</td>\n",
       "      <td>NaN</td>\n",
       "      <td>NaN</td>\n",
       "      <td>False</td>\n",
       "      <td>True</td>\n",
       "      <td>0.000000</td>\n",
       "      <td>2.460854</td>\n",
       "      <td>2.636141</td>\n",
       "      <td>True</td>\n",
       "    </tr>\n",
       "    <tr>\n",
       "      <th>b4751</th>\n",
       "      <td>yoaL</td>\n",
       "      <td>NaN</td>\n",
       "      <td>protein YoaL</td>\n",
       "      <td>No COG annotation</td>\n",
       "      <td>NaN</td>\n",
       "      <td>UPI000187BD99</td>\n",
       "      <td>1901573</td>\n",
       "      <td>1901782</td>\n",
       "      <td>-</td>\n",
       "      <td>False</td>\n",
       "      <td>...</td>\n",
       "      <td>False</td>\n",
       "      <td>False</td>\n",
       "      <td>NaN</td>\n",
       "      <td>NaN</td>\n",
       "      <td>False</td>\n",
       "      <td>True</td>\n",
       "      <td>5.599442</td>\n",
       "      <td>5.048395</td>\n",
       "      <td>0.801117</td>\n",
       "      <td>True</td>\n",
       "    </tr>\n",
       "    <tr>\n",
       "      <th>b4755</th>\n",
       "      <td>yqhI</td>\n",
       "      <td>NaN</td>\n",
       "      <td>protein YqhI</td>\n",
       "      <td>Secondary metabolites biosynthesis, transport,...</td>\n",
       "      <td>NaN</td>\n",
       "      <td>UPI0001DBD4CA</td>\n",
       "      <td>3147597</td>\n",
       "      <td>3147740</td>\n",
       "      <td>-</td>\n",
       "      <td>False</td>\n",
       "      <td>...</td>\n",
       "      <td>False</td>\n",
       "      <td>False</td>\n",
       "      <td>NaN</td>\n",
       "      <td>NaN</td>\n",
       "      <td>False</td>\n",
       "      <td>True</td>\n",
       "      <td>2.399592</td>\n",
       "      <td>1.185744</td>\n",
       "      <td>1.757983</td>\n",
       "      <td>True</td>\n",
       "    </tr>\n",
       "    <tr>\n",
       "      <th>b4756</th>\n",
       "      <td>yqiD</td>\n",
       "      <td>NaN</td>\n",
       "      <td>protein YqiD</td>\n",
       "      <td>Function unknown</td>\n",
       "      <td>NaN</td>\n",
       "      <td>UPI00001B512F</td>\n",
       "      <td>3183381</td>\n",
       "      <td>3183551</td>\n",
       "      <td>-</td>\n",
       "      <td>False</td>\n",
       "      <td>...</td>\n",
       "      <td>False</td>\n",
       "      <td>False</td>\n",
       "      <td>NaN</td>\n",
       "      <td>NaN</td>\n",
       "      <td>False</td>\n",
       "      <td>True</td>\n",
       "      <td>4.188936</td>\n",
       "      <td>5.068548</td>\n",
       "      <td>1.572300</td>\n",
       "      <td>True</td>\n",
       "    </tr>\n",
       "  </tbody>\n",
       "</table>\n",
       "<p>4257 rows × 26 columns</p>\n",
       "</div>"
      ],
      "text/plain": [
       "      gene_name          synonyms  \\\n",
       "b0002      thrA  thrA;thrA1;thrA2   \n",
       "b0003      thrB              thrB   \n",
       "b0004      thrC              thrC   \n",
       "b0005      yaaX              yaaX   \n",
       "b0006      yaaA              yaaA   \n",
       "...         ...               ...   \n",
       "b4747      yneP               NaN   \n",
       "b4748      ynfT               NaN   \n",
       "b4751      yoaL               NaN   \n",
       "b4755      yqhI               NaN   \n",
       "b4756      yqiD               NaN   \n",
       "\n",
       "                                            gene_product  \\\n",
       "b0002  fused aspartate kinase/homoserine dehydrogenase 1   \n",
       "b0003                                  homoserine kinase   \n",
       "b0004                                 threonine synthase   \n",
       "b0005             DUF2502 domain-containing protein YaaX   \n",
       "b0006            peroxide stress resistance protein YaaA   \n",
       "...                                                  ...   \n",
       "b4747                                       protein YneP   \n",
       "b4748                       Qin prophage%3B protein YnfT   \n",
       "b4751                                       protein YoaL   \n",
       "b4755                                       protein YqhI   \n",
       "b4756                                       protein YqiD   \n",
       "\n",
       "                                                     cog  \\\n",
       "b0002                Amino acid transport and metabolism   \n",
       "b0003                Nucleotide transport and metabolism   \n",
       "b0004                Amino acid transport and metabolism   \n",
       "b0005                                   Function unknown   \n",
       "b0006                                   Function unknown   \n",
       "...                                                  ...   \n",
       "b4747                                  No COG annotation   \n",
       "b4748                                  No COG annotation   \n",
       "b4751                                  No COG annotation   \n",
       "b4755  Secondary metabolites biosynthesis, transport,...   \n",
       "b4756                                   Function unknown   \n",
       "\n",
       "                                        regulator        uniprot    start  \\\n",
       "b0002  RpoD,Ile-tRNA,Thr-tRNA,DksA,Fnr,ArcA,ppGpp         P00561      337   \n",
       "b0003           RpoD,Ile-tRNA,Thr-tRNA,DksA,ppGpp         P00547     2801   \n",
       "b0004           RpoD,ppGpp,Ile-tRNA,Thr-tRNA,DksA         P00934     3734   \n",
       "b0005                                         Lrp         P75616     5234   \n",
       "b0006                                         NaN         P0A8I3     5683   \n",
       "...                                           ...            ...      ...   \n",
       "b4747                                         NaN  UPI000E46657A  1579545   \n",
       "b4748                                         NaN  UPI000A4EFCBB  1632890   \n",
       "b4751                                         NaN  UPI000187BD99  1901573   \n",
       "b4755                                         NaN  UPI0001DBD4CA  3147597   \n",
       "b4756                                         NaN  UPI00001B512F  3183381   \n",
       "\n",
       "           end strand  essential  ...  y_ome  k_eff  schmidt_prot_med  \\\n",
       "b0002     2799      +      False  ...  False   True            4101.5   \n",
       "b0003     3733      +      False  ...  False   True             442.0   \n",
       "b0004     5020      +      False  ...  False   True            8818.5   \n",
       "b0005     5530      +      False  ...   True  False               NaN   \n",
       "b0006     6459      -      False  ...   True   True             539.5   \n",
       "...        ...    ...        ...  ...    ...    ...               ...   \n",
       "b4747  1579667      +      False  ...  False  False               NaN   \n",
       "b4748  1633003      +      False  ...  False  False               NaN   \n",
       "b4751  1901782      -      False  ...  False  False               NaN   \n",
       "b4755  3147740      -      False  ...  False  False               NaN   \n",
       "b4756  3183551      -      False  ...  False  False               NaN   \n",
       "\n",
       "       heckmann_prot_med  proteomics   p1k  p1k_ctrl_log_tpm  \\\n",
       "b0002             4434.0        True  True         10.314562   \n",
       "b0003             1177.0        True  True          9.982251   \n",
       "b0004             3516.0        True  True          9.973666   \n",
       "b0005                NaN       False  True          7.132482   \n",
       "b0006              333.0        True  True          6.494941   \n",
       "...                  ...         ...   ...               ...   \n",
       "b4747                NaN       False  True          0.619141   \n",
       "b4748                NaN       False  True          0.000000   \n",
       "b4751                NaN       False  True          5.599442   \n",
       "b4755                NaN       False  True          2.399592   \n",
       "b4756                NaN       False  True          4.188936   \n",
       "\n",
       "       p1k_median_log_tpm  p1k_mad_log_tpm  in_iM  \n",
       "b0002            9.605329         1.042143   True  \n",
       "b0003            9.232803         1.035654   True  \n",
       "b0004            9.274271         0.906287   True  \n",
       "b0005            6.283661         1.093146   True  \n",
       "b0006            6.346626         0.454519   True  \n",
       "...                   ...              ...    ...  \n",
       "b4747            1.132974         1.574864   True  \n",
       "b4748            2.460854         2.636141   True  \n",
       "b4751            5.048395         0.801117   True  \n",
       "b4755            1.185744         1.757983   True  \n",
       "b4756            5.068548         1.572300   True  \n",
       "\n",
       "[4257 rows x 26 columns]"
      ]
     },
     "metadata": {},
     "output_type": "display_data"
    }
   ],
   "source": [
    "ica_data.X = expression_data\n",
    "annotation_table_filepath = '/'.join(['data',species,'gene_info.csv'])\n",
    "annot_table = pd.read_csv(annotation_table_filepath)\n",
    "annot_table.rename(columns = {'Unnamed: 0':'gene_id'}, inplace = True)\n",
    "annot_table.set_index('gene_id', inplace=True)\n",
    "ica_data.gene_table = annot_table\n",
    "display(annot_table)\n",
    "ica_data.imodulon = im_table"
   ]
  },
  {
   "cell_type": "markdown",
   "id": "0516ebd7",
   "metadata": {},
   "source": [
    "#### 2.4 Add the TRN to the ICA object to enable automated calculation of regulon enrichments"
   ]
  },
  {
   "cell_type": "code",
   "execution_count": 8,
   "id": "6df3c8f7",
   "metadata": {},
   "outputs": [
    {
     "name": "stderr",
     "output_type": "stream",
     "text": [
      "WARNING:root:The following genes are in the TRN but not in your M matrix: {'b3330', 'b0044', 'b1472', 'b1348', 'b2849', 'b4524', 'b0645', 'b1569', 'b0364', 'b2856', 'b3138', 'b1470', 'b2462', 'b4586', 'b3443', 'b3392', 'b1365', 'b2339', 'b1575', 'b0769', 'b3027', 'b1572', 'b0303', 'b3889'}\n"
     ]
    },
    {
     "data": {
      "text/html": [
       "<div>\n",
       "<style scoped>\n",
       "    .dataframe tbody tr th:only-of-type {\n",
       "        vertical-align: middle;\n",
       "    }\n",
       "\n",
       "    .dataframe tbody tr th {\n",
       "        vertical-align: top;\n",
       "    }\n",
       "\n",
       "    .dataframe thead th {\n",
       "        text-align: right;\n",
       "    }\n",
       "</style>\n",
       "<table border=\"1\" class=\"dataframe\">\n",
       "  <thead>\n",
       "    <tr style=\"text-align: right;\">\n",
       "      <th></th>\n",
       "      <th>regulator</th>\n",
       "      <th>gene_name</th>\n",
       "      <th>gene_id</th>\n",
       "      <th>effect</th>\n",
       "      <th>evidence</th>\n",
       "      <th>source</th>\n",
       "    </tr>\n",
       "  </thead>\n",
       "  <tbody>\n",
       "    <tr>\n",
       "      <th>0</th>\n",
       "      <td>AccB</td>\n",
       "      <td>accB</td>\n",
       "      <td>b3255</td>\n",
       "      <td>-</td>\n",
       "      <td>0.0</td>\n",
       "      <td>RegulonDB_TF</td>\n",
       "    </tr>\n",
       "    <tr>\n",
       "      <th>1</th>\n",
       "      <td>RpoD</td>\n",
       "      <td>pheP</td>\n",
       "      <td>b0576</td>\n",
       "      <td>+</td>\n",
       "      <td>0.0</td>\n",
       "      <td>RegulonDB_sigma</td>\n",
       "    </tr>\n",
       "    <tr>\n",
       "      <th>2</th>\n",
       "      <td>RpoD</td>\n",
       "      <td>pheA</td>\n",
       "      <td>b2599</td>\n",
       "      <td>+</td>\n",
       "      <td>0.0</td>\n",
       "      <td>RegulonDB_sigma</td>\n",
       "    </tr>\n",
       "    <tr>\n",
       "      <th>3</th>\n",
       "      <td>RpoD</td>\n",
       "      <td>pgpB</td>\n",
       "      <td>b1278</td>\n",
       "      <td>+</td>\n",
       "      <td>0.0</td>\n",
       "      <td>RegulonDB_sigma</td>\n",
       "    </tr>\n",
       "    <tr>\n",
       "      <th>4</th>\n",
       "      <td>RpoD</td>\n",
       "      <td>pgpA</td>\n",
       "      <td>b0418</td>\n",
       "      <td>+</td>\n",
       "      <td>0.0</td>\n",
       "      <td>RegulonDB_sigma</td>\n",
       "    </tr>\n",
       "    <tr>\n",
       "      <th>...</th>\n",
       "      <td>...</td>\n",
       "      <td>...</td>\n",
       "      <td>...</td>\n",
       "      <td>...</td>\n",
       "      <td>...</td>\n",
       "      <td>...</td>\n",
       "    </tr>\n",
       "    <tr>\n",
       "      <th>10139</th>\n",
       "      <td>XynR</td>\n",
       "      <td>yagA</td>\n",
       "      <td>b0267</td>\n",
       "      <td>NaN</td>\n",
       "      <td>NaN</td>\n",
       "      <td>Ecocyc</td>\n",
       "    </tr>\n",
       "    <tr>\n",
       "      <th>10140</th>\n",
       "      <td>XynR</td>\n",
       "      <td>yagE</td>\n",
       "      <td>b0268</td>\n",
       "      <td>NaN</td>\n",
       "      <td>NaN</td>\n",
       "      <td>Ecocyc</td>\n",
       "    </tr>\n",
       "    <tr>\n",
       "      <th>10141</th>\n",
       "      <td>XynR</td>\n",
       "      <td>yagB</td>\n",
       "      <td>b0266</td>\n",
       "      <td>NaN</td>\n",
       "      <td>NaN</td>\n",
       "      <td>Ecocyc</td>\n",
       "    </tr>\n",
       "    <tr>\n",
       "      <th>10142</th>\n",
       "      <td>XynR</td>\n",
       "      <td>yagF</td>\n",
       "      <td>b0269</td>\n",
       "      <td>NaN</td>\n",
       "      <td>NaN</td>\n",
       "      <td>Ecocyc</td>\n",
       "    </tr>\n",
       "    <tr>\n",
       "      <th>10143</th>\n",
       "      <td>Zur</td>\n",
       "      <td>pliG</td>\n",
       "      <td>b1178</td>\n",
       "      <td>NaN</td>\n",
       "      <td>NaN</td>\n",
       "      <td>Ecocyc</td>\n",
       "    </tr>\n",
       "  </tbody>\n",
       "</table>\n",
       "<p>10144 rows × 6 columns</p>\n",
       "</div>"
      ],
      "text/plain": [
       "      regulator gene_name gene_id effect  evidence           source\n",
       "0          AccB      accB   b3255      -       0.0     RegulonDB_TF\n",
       "1          RpoD      pheP   b0576      +       0.0  RegulonDB_sigma\n",
       "2          RpoD      pheA   b2599      +       0.0  RegulonDB_sigma\n",
       "3          RpoD      pgpB   b1278      +       0.0  RegulonDB_sigma\n",
       "4          RpoD      pgpA   b0418      +       0.0  RegulonDB_sigma\n",
       "...         ...       ...     ...    ...       ...              ...\n",
       "10139      XynR      yagA   b0267    NaN       NaN           Ecocyc\n",
       "10140      XynR      yagE   b0268    NaN       NaN           Ecocyc\n",
       "10141      XynR      yagB   b0266    NaN       NaN           Ecocyc\n",
       "10142      XynR      yagF   b0269    NaN       NaN           Ecocyc\n",
       "10143       Zur      pliG   b1178    NaN       NaN           Ecocyc\n",
       "\n",
       "[10144 rows x 6 columns]"
      ]
     },
     "execution_count": 8,
     "metadata": {},
     "output_type": "execute_result"
    }
   ],
   "source": [
    "trn_filepath = '/'.join(['data',species,'trn.csv'])\n",
    "trn = pd.read_csv(trn_filepath)\n",
    "trn.drop(columns=['Unnamed: 0'], inplace=True)\n",
    "ica_data.trn = trn\n",
    "trn"
   ]
  },
  {
   "cell_type": "markdown",
   "id": "45f31796",
   "metadata": {},
   "source": [
    "### 3.Generate the functional data for each functional class"
   ]
  },
  {
   "cell_type": "code",
   "execution_count": 9,
   "id": "4911f245",
   "metadata": {},
   "outputs": [
    {
     "data": {
      "text/html": [
       "<div>\n",
       "<style scoped>\n",
       "    .dataframe tbody tr th:only-of-type {\n",
       "        vertical-align: middle;\n",
       "    }\n",
       "\n",
       "    .dataframe tbody tr th {\n",
       "        vertical-align: top;\n",
       "    }\n",
       "\n",
       "    .dataframe thead th {\n",
       "        text-align: right;\n",
       "    }\n",
       "</style>\n",
       "<table border=\"1\" class=\"dataframe\">\n",
       "  <thead>\n",
       "    <tr style=\"text-align: right;\">\n",
       "      <th></th>\n",
       "      <th>iModulon</th>\n",
       "      <th>Gene</th>\n",
       "    </tr>\n",
       "  </thead>\n",
       "  <tbody>\n",
       "    <tr>\n",
       "      <th>0</th>\n",
       "      <td>e14 Removal</td>\n",
       "      <td>b1137</td>\n",
       "    </tr>\n",
       "    <tr>\n",
       "      <th>1</th>\n",
       "      <td>e14 Removal</td>\n",
       "      <td>b1138</td>\n",
       "    </tr>\n",
       "    <tr>\n",
       "      <th>2</th>\n",
       "      <td>e14 Removal</td>\n",
       "      <td>b1139</td>\n",
       "    </tr>\n",
       "    <tr>\n",
       "      <th>3</th>\n",
       "      <td>e14 Removal</td>\n",
       "      <td>b1140</td>\n",
       "    </tr>\n",
       "    <tr>\n",
       "      <th>4</th>\n",
       "      <td>e14 Removal</td>\n",
       "      <td>b1141</td>\n",
       "    </tr>\n",
       "    <tr>\n",
       "      <th>...</th>\n",
       "      <td>...</td>\n",
       "      <td>...</td>\n",
       "    </tr>\n",
       "    <tr>\n",
       "      <th>3338</th>\n",
       "      <td>PdeL</td>\n",
       "      <td>b0832</td>\n",
       "    </tr>\n",
       "    <tr>\n",
       "      <th>3339</th>\n",
       "      <td>PdeL</td>\n",
       "      <td>b0833</td>\n",
       "    </tr>\n",
       "    <tr>\n",
       "      <th>3340</th>\n",
       "      <td>PdeL</td>\n",
       "      <td>b0834</td>\n",
       "    </tr>\n",
       "    <tr>\n",
       "      <th>3341</th>\n",
       "      <td>SG_sgrT</td>\n",
       "      <td>b4662</td>\n",
       "    </tr>\n",
       "    <tr>\n",
       "      <th>3342</th>\n",
       "      <td>SG_sgrT</td>\n",
       "      <td>b3666</td>\n",
       "    </tr>\n",
       "  </tbody>\n",
       "</table>\n",
       "<p>3343 rows × 2 columns</p>\n",
       "</div>"
      ],
      "text/plain": [
       "         iModulon   Gene\n",
       "0     e14 Removal  b1137\n",
       "1     e14 Removal  b1138\n",
       "2     e14 Removal  b1139\n",
       "3     e14 Removal  b1140\n",
       "4     e14 Removal  b1141\n",
       "...           ...    ...\n",
       "3338         PdeL  b0832\n",
       "3339         PdeL  b0833\n",
       "3340         PdeL  b0834\n",
       "3341      SG_sgrT  b4662\n",
       "3342      SG_sgrT  b3666\n",
       "\n",
       "[3343 rows x 2 columns]"
      ]
     },
     "execution_count": 9,
     "metadata": {},
     "output_type": "execute_result"
    }
   ],
   "source": [
    "gene_presence_list_filepath = '/'.join(['data',species,'gene_presence_list.csv'])\n",
    "gene_presence_list = pd.read_csv(gene_presence_list_filepath)\n",
    "gene_presence_list.drop(columns=['Unnamed: 0'], inplace=True)\n",
    "im_dict.pop('Unnamed: 0')\n",
    "gene_presence_list['iModulon'].replace({int(k):v for k,v in im_dict.items()}, inplace=True)\n",
    "gene_presence_list"
   ]
  },
  {
   "cell_type": "code",
   "execution_count": 10,
   "id": "5290be93",
   "metadata": {},
   "outputs": [
    {
     "name": "stderr",
     "output_type": "stream",
     "text": [
      "WARNING:cobra.io.mat:This model seems to have metCharge instead of metCharges field. Will use metCharge for what metCharges represents.\n",
      "WARNING:cobra.io.mat:No defined compartments in model iML1515. Compartments will be deduced heuristically using regular expressions.\n",
      "WARNING:cobra.io.mat:Using regular expression found the following compartments:c, e, p\n"
     ]
    },
    {
     "data": {
      "text/html": [
       "<div>\n",
       "<style scoped>\n",
       "    .dataframe tbody tr th:only-of-type {\n",
       "        vertical-align: middle;\n",
       "    }\n",
       "\n",
       "    .dataframe tbody tr th {\n",
       "        vertical-align: top;\n",
       "    }\n",
       "\n",
       "    .dataframe thead th {\n",
       "        text-align: right;\n",
       "    }\n",
       "</style>\n",
       "<table border=\"1\" class=\"dataframe\">\n",
       "  <thead>\n",
       "    <tr style=\"text-align: right;\">\n",
       "      <th></th>\n",
       "      <th>Subsystem</th>\n",
       "      <th>Gene</th>\n",
       "    </tr>\n",
       "  </thead>\n",
       "  <tbody>\n",
       "    <tr>\n",
       "      <th>0</th>\n",
       "      <td>Nucleotide Salvage Pathway</td>\n",
       "      <td>b2582</td>\n",
       "    </tr>\n",
       "    <tr>\n",
       "      <th>1</th>\n",
       "      <td>Nucleotide Salvage Pathway</td>\n",
       "      <td>b2066</td>\n",
       "    </tr>\n",
       "    <tr>\n",
       "      <th>2</th>\n",
       "      <td>Nucleotide Salvage Pathway</td>\n",
       "      <td>b3248</td>\n",
       "    </tr>\n",
       "    <tr>\n",
       "      <th>3</th>\n",
       "      <td>Nucleotide Salvage Pathway</td>\n",
       "      <td>b3806</td>\n",
       "    </tr>\n",
       "    <tr>\n",
       "      <th>4</th>\n",
       "      <td>Nucleotide Salvage Pathway</td>\n",
       "      <td>b1539</td>\n",
       "    </tr>\n",
       "    <tr>\n",
       "      <th>...</th>\n",
       "      <td>...</td>\n",
       "      <td>...</td>\n",
       "    </tr>\n",
       "    <tr>\n",
       "      <th>1680</th>\n",
       "      <td>Murein Biosynthesis</td>\n",
       "      <td>b0089</td>\n",
       "    </tr>\n",
       "    <tr>\n",
       "      <th>1681</th>\n",
       "      <td>Murein Biosynthesis</td>\n",
       "      <td>b2519</td>\n",
       "    </tr>\n",
       "    <tr>\n",
       "      <th>1682</th>\n",
       "      <td>Murein Biosynthesis</td>\n",
       "      <td>b1678</td>\n",
       "    </tr>\n",
       "    <tr>\n",
       "      <th>1683</th>\n",
       "      <td>Metabolite Repair</td>\n",
       "      <td>b1779</td>\n",
       "    </tr>\n",
       "    <tr>\n",
       "      <th>1684</th>\n",
       "      <td>Metabolite Repair</td>\n",
       "      <td>b4167</td>\n",
       "    </tr>\n",
       "  </tbody>\n",
       "</table>\n",
       "<p>1685 rows × 2 columns</p>\n",
       "</div>"
      ],
      "text/plain": [
       "                       Subsystem   Gene\n",
       "0     Nucleotide Salvage Pathway  b2582\n",
       "1     Nucleotide Salvage Pathway  b2066\n",
       "2     Nucleotide Salvage Pathway  b3248\n",
       "3     Nucleotide Salvage Pathway  b3806\n",
       "4     Nucleotide Salvage Pathway  b1539\n",
       "...                          ...    ...\n",
       "1680         Murein Biosynthesis  b0089\n",
       "1681         Murein Biosynthesis  b2519\n",
       "1682         Murein Biosynthesis  b1678\n",
       "1683           Metabolite Repair  b1779\n",
       "1684           Metabolite Repair  b4167\n",
       "\n",
       "[1685 rows x 2 columns]"
      ]
     },
     "execution_count": 10,
     "metadata": {},
     "output_type": "execute_result"
    }
   ],
   "source": [
    "#for the putida and ecoli models we used .mat as the .xml version does not have subsystems\n",
    "matlab_model = cobra.io.load_matlab_model(model_filepath.replace('.xml','.mat'))\n",
    "all_genes = ica_data.gene_names\n",
    "subsystem_dict ={}\n",
    "for r in matlab_model.reactions:\n",
    "    if r.subsystem not in subsystem_dict.keys():\n",
    "        subsystem_dict[r.subsystem] = set()\n",
    "         \n",
    "    subsystem_dict[r.subsystem] |= set([g.id for g in r.genes if g.id in all_genes])\n",
    "\n",
    "subsystem_presence_data = {'Subsystem' : [s for s_s in [[subsystem]*len(subsystem_dict[subsystem]) \n",
    "                                                        for subsystem in subsystem_dict.keys()] \n",
    "                                          for s in s_s],\n",
    "                          'Gene' : [g for g_s in [subsystem_dict[subsystem] \n",
    "                                                  for subsystem in subsystem_dict.keys()]\n",
    "                                    for g in g_s]}\n",
    "\n",
    "subsystem_df = pd.DataFrame.from_dict(subsystem_presence_data)\n",
    "subsystem_df"
   ]
  },
  {
   "cell_type": "markdown",
   "id": "9a540413",
   "metadata": {},
   "source": [
    "### 4.Perform the enrichment analysis for each functional class"
   ]
  },
  {
   "cell_type": "code",
   "execution_count": 11,
   "id": "7ea46991",
   "metadata": {},
   "outputs": [],
   "source": [
    "#imodulon key goes with the functional class column of interest\n",
    "imodulon_functional_class = 'category'\n",
    "functional_data = {'_'.join(['iModulons', imodulon_functional_class]) : gene_presence_list,\n",
    "                   'Subsystem': subsystem_df }\n",
    "#We get the functionality for each iModulon, as it represents the same abstaction level that subsystem\n",
    "#Dict to map imodulons with their functions\n",
    "imodulon_function = { im : [ f for f in im_table.loc[[im]][imodulon_functional_class].values ] for im in ica_data.imodulon_names }\n",
    "#Dict to map reactions with their genes\n",
    "rxn_gene_dict = {rxn.id : [g.id for g in cobra_model.reactions.get_by_id(rxn.id).genes]\n",
    "                           for rxn in cobra_model.reactions}"
   ]
  },
  {
   "cell_type": "code",
   "execution_count": 13,
   "id": "3b6fbde4",
   "metadata": {
    "scrolled": true
   },
   "outputs": [
    {
     "name": "stdout",
     "output_type": "stream",
     "text": [
      "Read LP format model from file /tmp/tmpj7ukwurl.lp\n",
      "Reading time = 0.01 seconds\n",
      ": 1877 rows, 5424 columns, 21150 nonzeros\n",
      "Performing reaction sensitivity test for escherichia_coli in m9 media with EX_glc__D_e, EX_glu__L_e as carbon source(s)\n",
      "Applying method for cutoff value of 1\n",
      "0.013260850020000001\n",
      "0.002456511\n",
      "1259 reactions are being expressed according RNAseq but not active according GIMME\n",
      "239 reactions are being expressed according RNAseq and GIMME\n",
      "195 reactions are not being expressed according RNAseq but active according GIMME\n",
      "1019 reactions are not being expressed according RNAseq and GIMME\n"
     ]
    }
   ],
   "source": [
    "sensitivity_result_dict={'Gene': {},\n",
    "                         'Function':{}}\n",
    "\n",
    "composition_result_dict={}\n",
    "\n",
    "cutoff_range = range(1, 20)\n",
    "\n",
    "for condition in study_dict:\n",
    "    interest_samples = study_dict[condition]\n",
    "    gene_exp_replicates = expression_data[interest_samples].to_dict()\n",
    "    #Preprocess the model with metadata obtained for each condition\n",
    "    media_name = condition.split('-')[0]\n",
    "    media = Media(species, media_name)\n",
    "    carbon_source = {s.split(':')[0] : float(s.split(':')[1]) for s in condition.split('-')[1:]}\n",
    "    exchange_source = ', '.join(list(carbon_source.keys()))\n",
    "    media_model = set_medium(cobra_model, media.get_predefined_media_definition(), carbon_source)\n",
    "    #Save model to a temporal file\n",
    "    rf_media_model = from_cobrapy(media_model)\n",
    "    target_biomass = rf_media_model.biomass_reaction\n",
    "    #Perform sensitivity test\n",
    "    print('Performing reaction sensitivity test for %s in %s media with %s as carbon source(s)' % (species, media_name, exchange_source))\n",
    "    reaction_sets = reaction_sensitivity_to_cutoff( cutoff_range, gene_exp_replicates, rf_media_model, carbon_source )\n",
    "    for reaction_type in reaction_sets:\n",
    "        print('Performing gene sensitivity test for %s' % reaction_type)\n",
    "        sensitivity_result_dict['Gene'][condition+'_'+reaction_type] = gene_sensitivity_to_cutoff(reaction_sets[reaction_type], rf_media_model)\n",
    "        print('Performing function sensitivity test for %s' % reaction_type)\n",
    "        sensitivity_result_dict['Function'][condition+'_'+reaction_type] = function_sensitivity_to_cutoff(reaction_sets[reaction_type], \n",
    "                                                                                             rf_media_model, ica_data, functional_data)\n",
    "\n",
    "    #Functional composition percentage for reactions always present\n",
    "    reactions_for_composition_analysis = { r_t : set([r for r_s in reaction_sets[r_t] for r in r_s])\n",
    "                                           for r_t in reaction_sets}\n",
    "    \n",
    "    genes_for_composition_analysis = { r_t : set([g \n",
    "                                                  for g_s in [rxn_gene_dict[r] \n",
    "                                                              for r in reactions_for_composition_analysis[r_t]]\n",
    "                                                  for g in g_s])\n",
    "                                     for r_t in reaction_sets}\n",
    "\n",
    "    composition_result_dict[condition] = get_functional_class_composition(functional_data, imodulon_function, genes_for_composition_analysis)\n",
    "    print(composition_result_dict[condition])\n"
   ]
  },
  {
   "cell_type": "markdown",
   "id": "e1018576",
   "metadata": {},
   "source": [
    "### 5.Extract functional modules for each class"
   ]
  },
  {
   "cell_type": "markdown",
   "id": "45c109c0",
   "metadata": {},
   "source": [
    "#### 5.1 Save presence data and plot it in a barplot across conditions for each functional class"
   ]
  },
  {
   "cell_type": "code",
   "execution_count": 28,
   "id": "eec8d09f",
   "metadata": {
    "scrolled": true
   },
   "outputs": [
    {
     "name": "stderr",
     "output_type": "stream",
     "text": [
      "/home/alvaro/miniconda3/envs/e_merlin/lib/python3.10/site-packages/openpyxl/workbook/child.py:99: UserWarning:\n",
      "\n",
      "Title is more than 31 characters. Some applications may not be able to read the file\n",
      "\n"
     ]
    },
    {
     "data": {
      "text/html": [
       "<div>\n",
       "<style scoped>\n",
       "    .dataframe tbody tr th:only-of-type {\n",
       "        vertical-align: middle;\n",
       "    }\n",
       "\n",
       "    .dataframe tbody tr th {\n",
       "        vertical-align: top;\n",
       "    }\n",
       "\n",
       "    .dataframe thead th {\n",
       "        text-align: right;\n",
       "    }\n",
       "</style>\n",
       "<table border=\"1\" class=\"dataframe\">\n",
       "  <thead>\n",
       "    <tr style=\"text-align: right;\">\n",
       "      <th></th>\n",
       "      <th>Function</th>\n",
       "      <th>Presence</th>\n",
       "    </tr>\n",
       "  </thead>\n",
       "  <tbody>\n",
       "    <tr>\n",
       "      <th>0</th>\n",
       "      <td>NaN</td>\n",
       "      <td>0.0</td>\n",
       "    </tr>\n",
       "  </tbody>\n",
       "</table>\n",
       "</div>"
      ],
      "text/plain": [
       "   Function  Presence\n",
       "0       NaN       0.0"
      ]
     },
     "metadata": {},
     "output_type": "display_data"
    },
    {
     "data": {
      "application/vnd.plotly.v1+json": {
       "config": {
        "plotlyServerURL": "https://plot.ly"
       },
       "data": [
        {
         "alignmentgroup": "True",
         "hovertemplate": "Function=%{x}<br>Presence=%{y}<extra></extra>",
         "legendgroup": "",
         "marker": {
          "color": "#636efa",
          "pattern": {
           "shape": ""
          }
         },
         "name": "",
         "offsetgroup": "",
         "orientation": "v",
         "showlegend": false,
         "textposition": "auto",
         "type": "bar",
         "x": [
          null
         ],
         "xaxis": "x",
         "y": [
          0
         ],
         "yaxis": "y"
        }
       ],
       "layout": {
        "barmode": "relative",
        "height": 600,
        "legend": {
         "tracegroupgap": 0
        },
        "margin": {
         "t": 60
        },
        "template": {
         "data": {
          "bar": [
           {
            "error_x": {
             "color": "#2a3f5f"
            },
            "error_y": {
             "color": "#2a3f5f"
            },
            "marker": {
             "line": {
              "color": "#E5ECF6",
              "width": 0.5
             },
             "pattern": {
              "fillmode": "overlay",
              "size": 10,
              "solidity": 0.2
             }
            },
            "type": "bar"
           }
          ],
          "barpolar": [
           {
            "marker": {
             "line": {
              "color": "#E5ECF6",
              "width": 0.5
             },
             "pattern": {
              "fillmode": "overlay",
              "size": 10,
              "solidity": 0.2
             }
            },
            "type": "barpolar"
           }
          ],
          "carpet": [
           {
            "aaxis": {
             "endlinecolor": "#2a3f5f",
             "gridcolor": "white",
             "linecolor": "white",
             "minorgridcolor": "white",
             "startlinecolor": "#2a3f5f"
            },
            "baxis": {
             "endlinecolor": "#2a3f5f",
             "gridcolor": "white",
             "linecolor": "white",
             "minorgridcolor": "white",
             "startlinecolor": "#2a3f5f"
            },
            "type": "carpet"
           }
          ],
          "choropleth": [
           {
            "colorbar": {
             "outlinewidth": 0,
             "ticks": ""
            },
            "type": "choropleth"
           }
          ],
          "contour": [
           {
            "colorbar": {
             "outlinewidth": 0,
             "ticks": ""
            },
            "colorscale": [
             [
              0,
              "#0d0887"
             ],
             [
              0.1111111111111111,
              "#46039f"
             ],
             [
              0.2222222222222222,
              "#7201a8"
             ],
             [
              0.3333333333333333,
              "#9c179e"
             ],
             [
              0.4444444444444444,
              "#bd3786"
             ],
             [
              0.5555555555555556,
              "#d8576b"
             ],
             [
              0.6666666666666666,
              "#ed7953"
             ],
             [
              0.7777777777777778,
              "#fb9f3a"
             ],
             [
              0.8888888888888888,
              "#fdca26"
             ],
             [
              1,
              "#f0f921"
             ]
            ],
            "type": "contour"
           }
          ],
          "contourcarpet": [
           {
            "colorbar": {
             "outlinewidth": 0,
             "ticks": ""
            },
            "type": "contourcarpet"
           }
          ],
          "heatmap": [
           {
            "colorbar": {
             "outlinewidth": 0,
             "ticks": ""
            },
            "colorscale": [
             [
              0,
              "#0d0887"
             ],
             [
              0.1111111111111111,
              "#46039f"
             ],
             [
              0.2222222222222222,
              "#7201a8"
             ],
             [
              0.3333333333333333,
              "#9c179e"
             ],
             [
              0.4444444444444444,
              "#bd3786"
             ],
             [
              0.5555555555555556,
              "#d8576b"
             ],
             [
              0.6666666666666666,
              "#ed7953"
             ],
             [
              0.7777777777777778,
              "#fb9f3a"
             ],
             [
              0.8888888888888888,
              "#fdca26"
             ],
             [
              1,
              "#f0f921"
             ]
            ],
            "type": "heatmap"
           }
          ],
          "heatmapgl": [
           {
            "colorbar": {
             "outlinewidth": 0,
             "ticks": ""
            },
            "colorscale": [
             [
              0,
              "#0d0887"
             ],
             [
              0.1111111111111111,
              "#46039f"
             ],
             [
              0.2222222222222222,
              "#7201a8"
             ],
             [
              0.3333333333333333,
              "#9c179e"
             ],
             [
              0.4444444444444444,
              "#bd3786"
             ],
             [
              0.5555555555555556,
              "#d8576b"
             ],
             [
              0.6666666666666666,
              "#ed7953"
             ],
             [
              0.7777777777777778,
              "#fb9f3a"
             ],
             [
              0.8888888888888888,
              "#fdca26"
             ],
             [
              1,
              "#f0f921"
             ]
            ],
            "type": "heatmapgl"
           }
          ],
          "histogram": [
           {
            "marker": {
             "pattern": {
              "fillmode": "overlay",
              "size": 10,
              "solidity": 0.2
             }
            },
            "type": "histogram"
           }
          ],
          "histogram2d": [
           {
            "colorbar": {
             "outlinewidth": 0,
             "ticks": ""
            },
            "colorscale": [
             [
              0,
              "#0d0887"
             ],
             [
              0.1111111111111111,
              "#46039f"
             ],
             [
              0.2222222222222222,
              "#7201a8"
             ],
             [
              0.3333333333333333,
              "#9c179e"
             ],
             [
              0.4444444444444444,
              "#bd3786"
             ],
             [
              0.5555555555555556,
              "#d8576b"
             ],
             [
              0.6666666666666666,
              "#ed7953"
             ],
             [
              0.7777777777777778,
              "#fb9f3a"
             ],
             [
              0.8888888888888888,
              "#fdca26"
             ],
             [
              1,
              "#f0f921"
             ]
            ],
            "type": "histogram2d"
           }
          ],
          "histogram2dcontour": [
           {
            "colorbar": {
             "outlinewidth": 0,
             "ticks": ""
            },
            "colorscale": [
             [
              0,
              "#0d0887"
             ],
             [
              0.1111111111111111,
              "#46039f"
             ],
             [
              0.2222222222222222,
              "#7201a8"
             ],
             [
              0.3333333333333333,
              "#9c179e"
             ],
             [
              0.4444444444444444,
              "#bd3786"
             ],
             [
              0.5555555555555556,
              "#d8576b"
             ],
             [
              0.6666666666666666,
              "#ed7953"
             ],
             [
              0.7777777777777778,
              "#fb9f3a"
             ],
             [
              0.8888888888888888,
              "#fdca26"
             ],
             [
              1,
              "#f0f921"
             ]
            ],
            "type": "histogram2dcontour"
           }
          ],
          "mesh3d": [
           {
            "colorbar": {
             "outlinewidth": 0,
             "ticks": ""
            },
            "type": "mesh3d"
           }
          ],
          "parcoords": [
           {
            "line": {
             "colorbar": {
              "outlinewidth": 0,
              "ticks": ""
             }
            },
            "type": "parcoords"
           }
          ],
          "pie": [
           {
            "automargin": true,
            "type": "pie"
           }
          ],
          "scatter": [
           {
            "fillpattern": {
             "fillmode": "overlay",
             "size": 10,
             "solidity": 0.2
            },
            "type": "scatter"
           }
          ],
          "scatter3d": [
           {
            "line": {
             "colorbar": {
              "outlinewidth": 0,
              "ticks": ""
             }
            },
            "marker": {
             "colorbar": {
              "outlinewidth": 0,
              "ticks": ""
             }
            },
            "type": "scatter3d"
           }
          ],
          "scattercarpet": [
           {
            "marker": {
             "colorbar": {
              "outlinewidth": 0,
              "ticks": ""
             }
            },
            "type": "scattercarpet"
           }
          ],
          "scattergeo": [
           {
            "marker": {
             "colorbar": {
              "outlinewidth": 0,
              "ticks": ""
             }
            },
            "type": "scattergeo"
           }
          ],
          "scattergl": [
           {
            "marker": {
             "colorbar": {
              "outlinewidth": 0,
              "ticks": ""
             }
            },
            "type": "scattergl"
           }
          ],
          "scattermapbox": [
           {
            "marker": {
             "colorbar": {
              "outlinewidth": 0,
              "ticks": ""
             }
            },
            "type": "scattermapbox"
           }
          ],
          "scatterpolar": [
           {
            "marker": {
             "colorbar": {
              "outlinewidth": 0,
              "ticks": ""
             }
            },
            "type": "scatterpolar"
           }
          ],
          "scatterpolargl": [
           {
            "marker": {
             "colorbar": {
              "outlinewidth": 0,
              "ticks": ""
             }
            },
            "type": "scatterpolargl"
           }
          ],
          "scatterternary": [
           {
            "marker": {
             "colorbar": {
              "outlinewidth": 0,
              "ticks": ""
             }
            },
            "type": "scatterternary"
           }
          ],
          "surface": [
           {
            "colorbar": {
             "outlinewidth": 0,
             "ticks": ""
            },
            "colorscale": [
             [
              0,
              "#0d0887"
             ],
             [
              0.1111111111111111,
              "#46039f"
             ],
             [
              0.2222222222222222,
              "#7201a8"
             ],
             [
              0.3333333333333333,
              "#9c179e"
             ],
             [
              0.4444444444444444,
              "#bd3786"
             ],
             [
              0.5555555555555556,
              "#d8576b"
             ],
             [
              0.6666666666666666,
              "#ed7953"
             ],
             [
              0.7777777777777778,
              "#fb9f3a"
             ],
             [
              0.8888888888888888,
              "#fdca26"
             ],
             [
              1,
              "#f0f921"
             ]
            ],
            "type": "surface"
           }
          ],
          "table": [
           {
            "cells": {
             "fill": {
              "color": "#EBF0F8"
             },
             "line": {
              "color": "white"
             }
            },
            "header": {
             "fill": {
              "color": "#C8D4E3"
             },
             "line": {
              "color": "white"
             }
            },
            "type": "table"
           }
          ]
         },
         "layout": {
          "annotationdefaults": {
           "arrowcolor": "#2a3f5f",
           "arrowhead": 0,
           "arrowwidth": 1
          },
          "autotypenumbers": "strict",
          "coloraxis": {
           "colorbar": {
            "outlinewidth": 0,
            "ticks": ""
           }
          },
          "colorscale": {
           "diverging": [
            [
             0,
             "#8e0152"
            ],
            [
             0.1,
             "#c51b7d"
            ],
            [
             0.2,
             "#de77ae"
            ],
            [
             0.3,
             "#f1b6da"
            ],
            [
             0.4,
             "#fde0ef"
            ],
            [
             0.5,
             "#f7f7f7"
            ],
            [
             0.6,
             "#e6f5d0"
            ],
            [
             0.7,
             "#b8e186"
            ],
            [
             0.8,
             "#7fbc41"
            ],
            [
             0.9,
             "#4d9221"
            ],
            [
             1,
             "#276419"
            ]
           ],
           "sequential": [
            [
             0,
             "#0d0887"
            ],
            [
             0.1111111111111111,
             "#46039f"
            ],
            [
             0.2222222222222222,
             "#7201a8"
            ],
            [
             0.3333333333333333,
             "#9c179e"
            ],
            [
             0.4444444444444444,
             "#bd3786"
            ],
            [
             0.5555555555555556,
             "#d8576b"
            ],
            [
             0.6666666666666666,
             "#ed7953"
            ],
            [
             0.7777777777777778,
             "#fb9f3a"
            ],
            [
             0.8888888888888888,
             "#fdca26"
            ],
            [
             1,
             "#f0f921"
            ]
           ],
           "sequentialminus": [
            [
             0,
             "#0d0887"
            ],
            [
             0.1111111111111111,
             "#46039f"
            ],
            [
             0.2222222222222222,
             "#7201a8"
            ],
            [
             0.3333333333333333,
             "#9c179e"
            ],
            [
             0.4444444444444444,
             "#bd3786"
            ],
            [
             0.5555555555555556,
             "#d8576b"
            ],
            [
             0.6666666666666666,
             "#ed7953"
            ],
            [
             0.7777777777777778,
             "#fb9f3a"
            ],
            [
             0.8888888888888888,
             "#fdca26"
            ],
            [
             1,
             "#f0f921"
            ]
           ]
          },
          "colorway": [
           "#636efa",
           "#EF553B",
           "#00cc96",
           "#ab63fa",
           "#FFA15A",
           "#19d3f3",
           "#FF6692",
           "#B6E880",
           "#FF97FF",
           "#FECB52"
          ],
          "font": {
           "color": "#2a3f5f"
          },
          "geo": {
           "bgcolor": "white",
           "lakecolor": "white",
           "landcolor": "#E5ECF6",
           "showlakes": true,
           "showland": true,
           "subunitcolor": "white"
          },
          "hoverlabel": {
           "align": "left"
          },
          "hovermode": "closest",
          "mapbox": {
           "style": "light"
          },
          "paper_bgcolor": "white",
          "plot_bgcolor": "#E5ECF6",
          "polar": {
           "angularaxis": {
            "gridcolor": "white",
            "linecolor": "white",
            "ticks": ""
           },
           "bgcolor": "#E5ECF6",
           "radialaxis": {
            "gridcolor": "white",
            "linecolor": "white",
            "ticks": ""
           }
          },
          "scene": {
           "xaxis": {
            "backgroundcolor": "#E5ECF6",
            "gridcolor": "white",
            "gridwidth": 2,
            "linecolor": "white",
            "showbackground": true,
            "ticks": "",
            "zerolinecolor": "white"
           },
           "yaxis": {
            "backgroundcolor": "#E5ECF6",
            "gridcolor": "white",
            "gridwidth": 2,
            "linecolor": "white",
            "showbackground": true,
            "ticks": "",
            "zerolinecolor": "white"
           },
           "zaxis": {
            "backgroundcolor": "#E5ECF6",
            "gridcolor": "white",
            "gridwidth": 2,
            "linecolor": "white",
            "showbackground": true,
            "ticks": "",
            "zerolinecolor": "white"
           }
          },
          "shapedefaults": {
           "line": {
            "color": "#2a3f5f"
           }
          },
          "ternary": {
           "aaxis": {
            "gridcolor": "white",
            "linecolor": "white",
            "ticks": ""
           },
           "baxis": {
            "gridcolor": "white",
            "linecolor": "white",
            "ticks": ""
           },
           "bgcolor": "#E5ECF6",
           "caxis": {
            "gridcolor": "white",
            "linecolor": "white",
            "ticks": ""
           }
          },
          "title": {
           "x": 0.05
          },
          "xaxis": {
           "automargin": true,
           "gridcolor": "white",
           "linecolor": "white",
           "ticks": "",
           "title": {
            "standoff": 15
           },
           "zerolinecolor": "white",
           "zerolinewidth": 2
          },
          "yaxis": {
           "automargin": true,
           "gridcolor": "white",
           "linecolor": "white",
           "ticks": "",
           "title": {
            "standoff": 15
           },
           "zerolinecolor": "white",
           "zerolinewidth": 2
          }
         }
        },
        "title": {
         "text": "<b>Function presence using different cutoff values for m9-EX_glc__D_e:10.0-EX_glu__L_e:8.33_NBR<b>",
         "x": 0.5
        },
        "xaxis": {
         "anchor": "y",
         "domain": [
          0,
          1
         ],
         "tickangle": 45,
         "title": {
          "text": "Function"
         }
        },
        "yaxis": {
         "anchor": "x",
         "domain": [
          0,
          1
         ],
         "title": {
          "text": "Presence"
         }
        }
       }
      }
     },
     "metadata": {},
     "output_type": "display_data"
    },
    {
     "name": "stderr",
     "output_type": "stream",
     "text": [
      "/home/alvaro/miniconda3/envs/e_merlin/lib/python3.10/site-packages/openpyxl/workbook/child.py:99: UserWarning:\n",
      "\n",
      "Title is more than 31 characters. Some applications may not be able to read the file\n",
      "\n"
     ]
    },
    {
     "data": {
      "text/html": [
       "<div>\n",
       "<style scoped>\n",
       "    .dataframe tbody tr th:only-of-type {\n",
       "        vertical-align: middle;\n",
       "    }\n",
       "\n",
       "    .dataframe tbody tr th {\n",
       "        vertical-align: top;\n",
       "    }\n",
       "\n",
       "    .dataframe thead th {\n",
       "        text-align: right;\n",
       "    }\n",
       "</style>\n",
       "<table border=\"1\" class=\"dataframe\">\n",
       "  <thead>\n",
       "    <tr style=\"text-align: right;\">\n",
       "      <th></th>\n",
       "      <th>Function</th>\n",
       "      <th>Presence</th>\n",
       "    </tr>\n",
       "  </thead>\n",
       "  <tbody>\n",
       "    <tr>\n",
       "      <th>0</th>\n",
       "      <td>Nucleotide Salvage Pathway</td>\n",
       "      <td>1.000000</td>\n",
       "    </tr>\n",
       "    <tr>\n",
       "      <th>1</th>\n",
       "      <td>Tyrosine, Tryptophan, and Phenylalanine Metabo...</td>\n",
       "      <td>0.000000</td>\n",
       "    </tr>\n",
       "    <tr>\n",
       "      <th>2</th>\n",
       "      <td>Purine and Pyrimidine Biosynthesis</td>\n",
       "      <td>0.000000</td>\n",
       "    </tr>\n",
       "    <tr>\n",
       "      <th>3</th>\n",
       "      <td>Arginine and Proline Metabolism</td>\n",
       "      <td>1.000000</td>\n",
       "    </tr>\n",
       "    <tr>\n",
       "      <th>4</th>\n",
       "      <td>Citric Acid Cycle</td>\n",
       "      <td>0.000000</td>\n",
       "    </tr>\n",
       "    <tr>\n",
       "      <th>5</th>\n",
       "      <td>Cofactor and Prosthetic Group Biosynthesis</td>\n",
       "      <td>1.000000</td>\n",
       "    </tr>\n",
       "    <tr>\n",
       "      <th>6</th>\n",
       "      <td>Pyruvate Metabolism</td>\n",
       "      <td>0.052632</td>\n",
       "    </tr>\n",
       "    <tr>\n",
       "      <th>7</th>\n",
       "      <td>Cysteine Metabolism</td>\n",
       "      <td>1.000000</td>\n",
       "    </tr>\n",
       "    <tr>\n",
       "      <th>8</th>\n",
       "      <td>Alternate Carbon Metabolism</td>\n",
       "      <td>1.000000</td>\n",
       "    </tr>\n",
       "    <tr>\n",
       "      <th>9</th>\n",
       "      <td>Anaplerotic Reactions</td>\n",
       "      <td>0.000000</td>\n",
       "    </tr>\n",
       "    <tr>\n",
       "      <th>10</th>\n",
       "      <td>Alanine and Aspartate Metabolism</td>\n",
       "      <td>0.000000</td>\n",
       "    </tr>\n",
       "    <tr>\n",
       "      <th>11</th>\n",
       "      <td>Glycolysis/Gluconeogenesis</td>\n",
       "      <td>0.842105</td>\n",
       "    </tr>\n",
       "    <tr>\n",
       "      <th>12</th>\n",
       "      <td>Valine, Leucine, and Isoleucine Metabolism</td>\n",
       "      <td>0.000000</td>\n",
       "    </tr>\n",
       "    <tr>\n",
       "      <th>13</th>\n",
       "      <td>Pentose Phosphate Pathway</td>\n",
       "      <td>0.000000</td>\n",
       "    </tr>\n",
       "    <tr>\n",
       "      <th>14</th>\n",
       "      <td>Oxidative Phosphorylation</td>\n",
       "      <td>1.000000</td>\n",
       "    </tr>\n",
       "    <tr>\n",
       "      <th>15</th>\n",
       "      <td>Lipopolysaccharide Biosynthesis / Recycling</td>\n",
       "      <td>1.000000</td>\n",
       "    </tr>\n",
       "    <tr>\n",
       "      <th>16</th>\n",
       "      <td>Membrane Lipid Metabolism</td>\n",
       "      <td>0.526316</td>\n",
       "    </tr>\n",
       "    <tr>\n",
       "      <th>17</th>\n",
       "      <td>Unassigned</td>\n",
       "      <td>1.000000</td>\n",
       "    </tr>\n",
       "    <tr>\n",
       "      <th>18</th>\n",
       "      <td>Methylglyoxal Metabolism</td>\n",
       "      <td>1.000000</td>\n",
       "    </tr>\n",
       "    <tr>\n",
       "      <th>19</th>\n",
       "      <td>tRNA Charging</td>\n",
       "      <td>0.000000</td>\n",
       "    </tr>\n",
       "    <tr>\n",
       "      <th>20</th>\n",
       "      <td>Threonine and Lysine Metabolism</td>\n",
       "      <td>1.000000</td>\n",
       "    </tr>\n",
       "    <tr>\n",
       "      <th>21</th>\n",
       "      <td>Folate Metabolism</td>\n",
       "      <td>0.000000</td>\n",
       "    </tr>\n",
       "    <tr>\n",
       "      <th>22</th>\n",
       "      <td>Glycine and Serine Metabolism</td>\n",
       "      <td>1.000000</td>\n",
       "    </tr>\n",
       "    <tr>\n",
       "      <th>23</th>\n",
       "      <td>Glyoxylate Metabolism</td>\n",
       "      <td>0.000000</td>\n",
       "    </tr>\n",
       "    <tr>\n",
       "      <th>24</th>\n",
       "      <td>Cell Envelope Biosynthesis</td>\n",
       "      <td>1.000000</td>\n",
       "    </tr>\n",
       "    <tr>\n",
       "      <th>25</th>\n",
       "      <td>Methionine Metabolism</td>\n",
       "      <td>0.631579</td>\n",
       "    </tr>\n",
       "    <tr>\n",
       "      <th>26</th>\n",
       "      <td>Nitrogen Metabolism</td>\n",
       "      <td>1.000000</td>\n",
       "    </tr>\n",
       "    <tr>\n",
       "      <th>27</th>\n",
       "      <td>Histidine Metabolism</td>\n",
       "      <td>0.000000</td>\n",
       "    </tr>\n",
       "    <tr>\n",
       "      <th>28</th>\n",
       "      <td>Inorganic Ion Transport and Metabolism</td>\n",
       "      <td>0.000000</td>\n",
       "    </tr>\n",
       "    <tr>\n",
       "      <th>29</th>\n",
       "      <td>Glutamate Metabolism</td>\n",
       "      <td>0.000000</td>\n",
       "    </tr>\n",
       "    <tr>\n",
       "      <th>30</th>\n",
       "      <td>Glycerophospholipid Metabolism</td>\n",
       "      <td>1.000000</td>\n",
       "    </tr>\n",
       "    <tr>\n",
       "      <th>31</th>\n",
       "      <td>Transport, Outer Membrane Porin</td>\n",
       "      <td>1.000000</td>\n",
       "    </tr>\n",
       "    <tr>\n",
       "      <th>32</th>\n",
       "      <td>Transport, Inner Membrane</td>\n",
       "      <td>1.000000</td>\n",
       "    </tr>\n",
       "    <tr>\n",
       "      <th>33</th>\n",
       "      <td>Transport, Outer Membrane</td>\n",
       "      <td>0.000000</td>\n",
       "    </tr>\n",
       "    <tr>\n",
       "      <th>34</th>\n",
       "      <td>Murein Recycling</td>\n",
       "      <td>1.000000</td>\n",
       "    </tr>\n",
       "    <tr>\n",
       "      <th>35</th>\n",
       "      <td>Biomass and maintenance functions</td>\n",
       "      <td>0.000000</td>\n",
       "    </tr>\n",
       "    <tr>\n",
       "      <th>36</th>\n",
       "      <td>Murein Biosynthesis</td>\n",
       "      <td>1.000000</td>\n",
       "    </tr>\n",
       "    <tr>\n",
       "      <th>37</th>\n",
       "      <td>Metabolite Repair</td>\n",
       "      <td>0.000000</td>\n",
       "    </tr>\n",
       "  </tbody>\n",
       "</table>\n",
       "</div>"
      ],
      "text/plain": [
       "                                             Function  Presence\n",
       "0                          Nucleotide Salvage Pathway  1.000000\n",
       "1   Tyrosine, Tryptophan, and Phenylalanine Metabo...  0.000000\n",
       "2                  Purine and Pyrimidine Biosynthesis  0.000000\n",
       "3                     Arginine and Proline Metabolism  1.000000\n",
       "4                                   Citric Acid Cycle  0.000000\n",
       "5          Cofactor and Prosthetic Group Biosynthesis  1.000000\n",
       "6                                 Pyruvate Metabolism  0.052632\n",
       "7                                 Cysteine Metabolism  1.000000\n",
       "8                         Alternate Carbon Metabolism  1.000000\n",
       "9                               Anaplerotic Reactions  0.000000\n",
       "10                   Alanine and Aspartate Metabolism  0.000000\n",
       "11                         Glycolysis/Gluconeogenesis  0.842105\n",
       "12         Valine, Leucine, and Isoleucine Metabolism  0.000000\n",
       "13                          Pentose Phosphate Pathway  0.000000\n",
       "14                          Oxidative Phosphorylation  1.000000\n",
       "15        Lipopolysaccharide Biosynthesis / Recycling  1.000000\n",
       "16                          Membrane Lipid Metabolism  0.526316\n",
       "17                                         Unassigned  1.000000\n",
       "18                           Methylglyoxal Metabolism  1.000000\n",
       "19                                      tRNA Charging  0.000000\n",
       "20                    Threonine and Lysine Metabolism  1.000000\n",
       "21                                  Folate Metabolism  0.000000\n",
       "22                      Glycine and Serine Metabolism  1.000000\n",
       "23                              Glyoxylate Metabolism  0.000000\n",
       "24                         Cell Envelope Biosynthesis  1.000000\n",
       "25                              Methionine Metabolism  0.631579\n",
       "26                                Nitrogen Metabolism  1.000000\n",
       "27                               Histidine Metabolism  0.000000\n",
       "28             Inorganic Ion Transport and Metabolism  0.000000\n",
       "29                               Glutamate Metabolism  0.000000\n",
       "30                     Glycerophospholipid Metabolism  1.000000\n",
       "31                    Transport, Outer Membrane Porin  1.000000\n",
       "32                          Transport, Inner Membrane  1.000000\n",
       "33                          Transport, Outer Membrane  0.000000\n",
       "34                                   Murein Recycling  1.000000\n",
       "35                  Biomass and maintenance functions  0.000000\n",
       "36                                Murein Biosynthesis  1.000000\n",
       "37                                  Metabolite Repair  0.000000"
      ]
     },
     "metadata": {},
     "output_type": "display_data"
    },
    {
     "data": {
      "application/vnd.plotly.v1+json": {
       "config": {
        "plotlyServerURL": "https://plot.ly"
       },
       "data": [
        {
         "alignmentgroup": "True",
         "hovertemplate": "Function=%{x}<br>Presence=%{y}<extra></extra>",
         "legendgroup": "",
         "marker": {
          "color": "#636efa",
          "pattern": {
           "shape": ""
          }
         },
         "name": "",
         "offsetgroup": "",
         "orientation": "v",
         "showlegend": false,
         "textposition": "auto",
         "type": "bar",
         "x": [
          "Nucleotide Salvage Pathway",
          "Tyrosine, Tryptophan, and Phenylalanine Metabolism",
          "Purine and Pyrimidine Biosynthesis",
          "Arginine and Proline Metabolism",
          "Citric Acid Cycle",
          "Cofactor and Prosthetic Group Biosynthesis",
          "Pyruvate Metabolism",
          "Cysteine Metabolism",
          "Alternate Carbon Metabolism",
          "Anaplerotic Reactions",
          "Alanine and Aspartate Metabolism",
          "Glycolysis/Gluconeogenesis",
          "Valine, Leucine, and Isoleucine Metabolism",
          "Pentose Phosphate Pathway",
          "Oxidative Phosphorylation",
          "Lipopolysaccharide Biosynthesis / Recycling",
          "Membrane Lipid Metabolism",
          "Unassigned",
          "Methylglyoxal Metabolism",
          "tRNA Charging",
          "Threonine and Lysine Metabolism",
          "Folate Metabolism",
          "Glycine and Serine Metabolism",
          "Glyoxylate Metabolism",
          "Cell Envelope Biosynthesis",
          "Methionine Metabolism",
          "Nitrogen Metabolism",
          "Histidine Metabolism",
          "Inorganic Ion Transport and Metabolism",
          "Glutamate Metabolism",
          "Glycerophospholipid Metabolism",
          "Transport, Outer Membrane Porin",
          "Transport, Inner Membrane",
          "Transport, Outer Membrane",
          "Murein Recycling",
          "Biomass and maintenance functions",
          "Murein Biosynthesis",
          "Metabolite Repair"
         ],
         "xaxis": "x",
         "y": [
          1,
          0,
          0,
          1,
          0,
          1,
          0.05263157894736842,
          1,
          1,
          0,
          0,
          0.8421052631578947,
          0,
          0,
          1,
          1,
          0.5263157894736842,
          1,
          1,
          0,
          1,
          0,
          1,
          0,
          1,
          0.631578947368421,
          1,
          0,
          0,
          0,
          1,
          1,
          1,
          0,
          1,
          0,
          1,
          0
         ],
         "yaxis": "y"
        }
       ],
       "layout": {
        "barmode": "relative",
        "height": 600,
        "legend": {
         "tracegroupgap": 0
        },
        "margin": {
         "t": 60
        },
        "template": {
         "data": {
          "bar": [
           {
            "error_x": {
             "color": "#2a3f5f"
            },
            "error_y": {
             "color": "#2a3f5f"
            },
            "marker": {
             "line": {
              "color": "#E5ECF6",
              "width": 0.5
             },
             "pattern": {
              "fillmode": "overlay",
              "size": 10,
              "solidity": 0.2
             }
            },
            "type": "bar"
           }
          ],
          "barpolar": [
           {
            "marker": {
             "line": {
              "color": "#E5ECF6",
              "width": 0.5
             },
             "pattern": {
              "fillmode": "overlay",
              "size": 10,
              "solidity": 0.2
             }
            },
            "type": "barpolar"
           }
          ],
          "carpet": [
           {
            "aaxis": {
             "endlinecolor": "#2a3f5f",
             "gridcolor": "white",
             "linecolor": "white",
             "minorgridcolor": "white",
             "startlinecolor": "#2a3f5f"
            },
            "baxis": {
             "endlinecolor": "#2a3f5f",
             "gridcolor": "white",
             "linecolor": "white",
             "minorgridcolor": "white",
             "startlinecolor": "#2a3f5f"
            },
            "type": "carpet"
           }
          ],
          "choropleth": [
           {
            "colorbar": {
             "outlinewidth": 0,
             "ticks": ""
            },
            "type": "choropleth"
           }
          ],
          "contour": [
           {
            "colorbar": {
             "outlinewidth": 0,
             "ticks": ""
            },
            "colorscale": [
             [
              0,
              "#0d0887"
             ],
             [
              0.1111111111111111,
              "#46039f"
             ],
             [
              0.2222222222222222,
              "#7201a8"
             ],
             [
              0.3333333333333333,
              "#9c179e"
             ],
             [
              0.4444444444444444,
              "#bd3786"
             ],
             [
              0.5555555555555556,
              "#d8576b"
             ],
             [
              0.6666666666666666,
              "#ed7953"
             ],
             [
              0.7777777777777778,
              "#fb9f3a"
             ],
             [
              0.8888888888888888,
              "#fdca26"
             ],
             [
              1,
              "#f0f921"
             ]
            ],
            "type": "contour"
           }
          ],
          "contourcarpet": [
           {
            "colorbar": {
             "outlinewidth": 0,
             "ticks": ""
            },
            "type": "contourcarpet"
           }
          ],
          "heatmap": [
           {
            "colorbar": {
             "outlinewidth": 0,
             "ticks": ""
            },
            "colorscale": [
             [
              0,
              "#0d0887"
             ],
             [
              0.1111111111111111,
              "#46039f"
             ],
             [
              0.2222222222222222,
              "#7201a8"
             ],
             [
              0.3333333333333333,
              "#9c179e"
             ],
             [
              0.4444444444444444,
              "#bd3786"
             ],
             [
              0.5555555555555556,
              "#d8576b"
             ],
             [
              0.6666666666666666,
              "#ed7953"
             ],
             [
              0.7777777777777778,
              "#fb9f3a"
             ],
             [
              0.8888888888888888,
              "#fdca26"
             ],
             [
              1,
              "#f0f921"
             ]
            ],
            "type": "heatmap"
           }
          ],
          "heatmapgl": [
           {
            "colorbar": {
             "outlinewidth": 0,
             "ticks": ""
            },
            "colorscale": [
             [
              0,
              "#0d0887"
             ],
             [
              0.1111111111111111,
              "#46039f"
             ],
             [
              0.2222222222222222,
              "#7201a8"
             ],
             [
              0.3333333333333333,
              "#9c179e"
             ],
             [
              0.4444444444444444,
              "#bd3786"
             ],
             [
              0.5555555555555556,
              "#d8576b"
             ],
             [
              0.6666666666666666,
              "#ed7953"
             ],
             [
              0.7777777777777778,
              "#fb9f3a"
             ],
             [
              0.8888888888888888,
              "#fdca26"
             ],
             [
              1,
              "#f0f921"
             ]
            ],
            "type": "heatmapgl"
           }
          ],
          "histogram": [
           {
            "marker": {
             "pattern": {
              "fillmode": "overlay",
              "size": 10,
              "solidity": 0.2
             }
            },
            "type": "histogram"
           }
          ],
          "histogram2d": [
           {
            "colorbar": {
             "outlinewidth": 0,
             "ticks": ""
            },
            "colorscale": [
             [
              0,
              "#0d0887"
             ],
             [
              0.1111111111111111,
              "#46039f"
             ],
             [
              0.2222222222222222,
              "#7201a8"
             ],
             [
              0.3333333333333333,
              "#9c179e"
             ],
             [
              0.4444444444444444,
              "#bd3786"
             ],
             [
              0.5555555555555556,
              "#d8576b"
             ],
             [
              0.6666666666666666,
              "#ed7953"
             ],
             [
              0.7777777777777778,
              "#fb9f3a"
             ],
             [
              0.8888888888888888,
              "#fdca26"
             ],
             [
              1,
              "#f0f921"
             ]
            ],
            "type": "histogram2d"
           }
          ],
          "histogram2dcontour": [
           {
            "colorbar": {
             "outlinewidth": 0,
             "ticks": ""
            },
            "colorscale": [
             [
              0,
              "#0d0887"
             ],
             [
              0.1111111111111111,
              "#46039f"
             ],
             [
              0.2222222222222222,
              "#7201a8"
             ],
             [
              0.3333333333333333,
              "#9c179e"
             ],
             [
              0.4444444444444444,
              "#bd3786"
             ],
             [
              0.5555555555555556,
              "#d8576b"
             ],
             [
              0.6666666666666666,
              "#ed7953"
             ],
             [
              0.7777777777777778,
              "#fb9f3a"
             ],
             [
              0.8888888888888888,
              "#fdca26"
             ],
             [
              1,
              "#f0f921"
             ]
            ],
            "type": "histogram2dcontour"
           }
          ],
          "mesh3d": [
           {
            "colorbar": {
             "outlinewidth": 0,
             "ticks": ""
            },
            "type": "mesh3d"
           }
          ],
          "parcoords": [
           {
            "line": {
             "colorbar": {
              "outlinewidth": 0,
              "ticks": ""
             }
            },
            "type": "parcoords"
           }
          ],
          "pie": [
           {
            "automargin": true,
            "type": "pie"
           }
          ],
          "scatter": [
           {
            "fillpattern": {
             "fillmode": "overlay",
             "size": 10,
             "solidity": 0.2
            },
            "type": "scatter"
           }
          ],
          "scatter3d": [
           {
            "line": {
             "colorbar": {
              "outlinewidth": 0,
              "ticks": ""
             }
            },
            "marker": {
             "colorbar": {
              "outlinewidth": 0,
              "ticks": ""
             }
            },
            "type": "scatter3d"
           }
          ],
          "scattercarpet": [
           {
            "marker": {
             "colorbar": {
              "outlinewidth": 0,
              "ticks": ""
             }
            },
            "type": "scattercarpet"
           }
          ],
          "scattergeo": [
           {
            "marker": {
             "colorbar": {
              "outlinewidth": 0,
              "ticks": ""
             }
            },
            "type": "scattergeo"
           }
          ],
          "scattergl": [
           {
            "marker": {
             "colorbar": {
              "outlinewidth": 0,
              "ticks": ""
             }
            },
            "type": "scattergl"
           }
          ],
          "scattermapbox": [
           {
            "marker": {
             "colorbar": {
              "outlinewidth": 0,
              "ticks": ""
             }
            },
            "type": "scattermapbox"
           }
          ],
          "scatterpolar": [
           {
            "marker": {
             "colorbar": {
              "outlinewidth": 0,
              "ticks": ""
             }
            },
            "type": "scatterpolar"
           }
          ],
          "scatterpolargl": [
           {
            "marker": {
             "colorbar": {
              "outlinewidth": 0,
              "ticks": ""
             }
            },
            "type": "scatterpolargl"
           }
          ],
          "scatterternary": [
           {
            "marker": {
             "colorbar": {
              "outlinewidth": 0,
              "ticks": ""
             }
            },
            "type": "scatterternary"
           }
          ],
          "surface": [
           {
            "colorbar": {
             "outlinewidth": 0,
             "ticks": ""
            },
            "colorscale": [
             [
              0,
              "#0d0887"
             ],
             [
              0.1111111111111111,
              "#46039f"
             ],
             [
              0.2222222222222222,
              "#7201a8"
             ],
             [
              0.3333333333333333,
              "#9c179e"
             ],
             [
              0.4444444444444444,
              "#bd3786"
             ],
             [
              0.5555555555555556,
              "#d8576b"
             ],
             [
              0.6666666666666666,
              "#ed7953"
             ],
             [
              0.7777777777777778,
              "#fb9f3a"
             ],
             [
              0.8888888888888888,
              "#fdca26"
             ],
             [
              1,
              "#f0f921"
             ]
            ],
            "type": "surface"
           }
          ],
          "table": [
           {
            "cells": {
             "fill": {
              "color": "#EBF0F8"
             },
             "line": {
              "color": "white"
             }
            },
            "header": {
             "fill": {
              "color": "#C8D4E3"
             },
             "line": {
              "color": "white"
             }
            },
            "type": "table"
           }
          ]
         },
         "layout": {
          "annotationdefaults": {
           "arrowcolor": "#2a3f5f",
           "arrowhead": 0,
           "arrowwidth": 1
          },
          "autotypenumbers": "strict",
          "coloraxis": {
           "colorbar": {
            "outlinewidth": 0,
            "ticks": ""
           }
          },
          "colorscale": {
           "diverging": [
            [
             0,
             "#8e0152"
            ],
            [
             0.1,
             "#c51b7d"
            ],
            [
             0.2,
             "#de77ae"
            ],
            [
             0.3,
             "#f1b6da"
            ],
            [
             0.4,
             "#fde0ef"
            ],
            [
             0.5,
             "#f7f7f7"
            ],
            [
             0.6,
             "#e6f5d0"
            ],
            [
             0.7,
             "#b8e186"
            ],
            [
             0.8,
             "#7fbc41"
            ],
            [
             0.9,
             "#4d9221"
            ],
            [
             1,
             "#276419"
            ]
           ],
           "sequential": [
            [
             0,
             "#0d0887"
            ],
            [
             0.1111111111111111,
             "#46039f"
            ],
            [
             0.2222222222222222,
             "#7201a8"
            ],
            [
             0.3333333333333333,
             "#9c179e"
            ],
            [
             0.4444444444444444,
             "#bd3786"
            ],
            [
             0.5555555555555556,
             "#d8576b"
            ],
            [
             0.6666666666666666,
             "#ed7953"
            ],
            [
             0.7777777777777778,
             "#fb9f3a"
            ],
            [
             0.8888888888888888,
             "#fdca26"
            ],
            [
             1,
             "#f0f921"
            ]
           ],
           "sequentialminus": [
            [
             0,
             "#0d0887"
            ],
            [
             0.1111111111111111,
             "#46039f"
            ],
            [
             0.2222222222222222,
             "#7201a8"
            ],
            [
             0.3333333333333333,
             "#9c179e"
            ],
            [
             0.4444444444444444,
             "#bd3786"
            ],
            [
             0.5555555555555556,
             "#d8576b"
            ],
            [
             0.6666666666666666,
             "#ed7953"
            ],
            [
             0.7777777777777778,
             "#fb9f3a"
            ],
            [
             0.8888888888888888,
             "#fdca26"
            ],
            [
             1,
             "#f0f921"
            ]
           ]
          },
          "colorway": [
           "#636efa",
           "#EF553B",
           "#00cc96",
           "#ab63fa",
           "#FFA15A",
           "#19d3f3",
           "#FF6692",
           "#B6E880",
           "#FF97FF",
           "#FECB52"
          ],
          "font": {
           "color": "#2a3f5f"
          },
          "geo": {
           "bgcolor": "white",
           "lakecolor": "white",
           "landcolor": "#E5ECF6",
           "showlakes": true,
           "showland": true,
           "subunitcolor": "white"
          },
          "hoverlabel": {
           "align": "left"
          },
          "hovermode": "closest",
          "mapbox": {
           "style": "light"
          },
          "paper_bgcolor": "white",
          "plot_bgcolor": "#E5ECF6",
          "polar": {
           "angularaxis": {
            "gridcolor": "white",
            "linecolor": "white",
            "ticks": ""
           },
           "bgcolor": "#E5ECF6",
           "radialaxis": {
            "gridcolor": "white",
            "linecolor": "white",
            "ticks": ""
           }
          },
          "scene": {
           "xaxis": {
            "backgroundcolor": "#E5ECF6",
            "gridcolor": "white",
            "gridwidth": 2,
            "linecolor": "white",
            "showbackground": true,
            "ticks": "",
            "zerolinecolor": "white"
           },
           "yaxis": {
            "backgroundcolor": "#E5ECF6",
            "gridcolor": "white",
            "gridwidth": 2,
            "linecolor": "white",
            "showbackground": true,
            "ticks": "",
            "zerolinecolor": "white"
           },
           "zaxis": {
            "backgroundcolor": "#E5ECF6",
            "gridcolor": "white",
            "gridwidth": 2,
            "linecolor": "white",
            "showbackground": true,
            "ticks": "",
            "zerolinecolor": "white"
           }
          },
          "shapedefaults": {
           "line": {
            "color": "#2a3f5f"
           }
          },
          "ternary": {
           "aaxis": {
            "gridcolor": "white",
            "linecolor": "white",
            "ticks": ""
           },
           "baxis": {
            "gridcolor": "white",
            "linecolor": "white",
            "ticks": ""
           },
           "bgcolor": "#E5ECF6",
           "caxis": {
            "gridcolor": "white",
            "linecolor": "white",
            "ticks": ""
           }
          },
          "title": {
           "x": 0.05
          },
          "xaxis": {
           "automargin": true,
           "gridcolor": "white",
           "linecolor": "white",
           "ticks": "",
           "title": {
            "standoff": 15
           },
           "zerolinecolor": "white",
           "zerolinewidth": 2
          },
          "yaxis": {
           "automargin": true,
           "gridcolor": "white",
           "linecolor": "white",
           "ticks": "",
           "title": {
            "standoff": 15
           },
           "zerolinecolor": "white",
           "zerolinewidth": 2
          }
         }
        },
        "title": {
         "text": "<b>Function presence using different cutoff values for m9-EX_glc__D_e:10.0-EX_glu__L_e:8.33_NBR<b>",
         "x": 0.5
        },
        "xaxis": {
         "anchor": "y",
         "domain": [
          0,
          1
         ],
         "tickangle": 45,
         "title": {
          "text": "Function"
         }
        },
        "yaxis": {
         "anchor": "x",
         "domain": [
          0,
          1
         ],
         "title": {
          "text": "Presence"
         }
        }
       }
      }
     },
     "metadata": {},
     "output_type": "display_data"
    },
    {
     "name": "stderr",
     "output_type": "stream",
     "text": [
      "/home/alvaro/miniconda3/envs/e_merlin/lib/python3.10/site-packages/openpyxl/workbook/child.py:99: UserWarning:\n",
      "\n",
      "Title is more than 31 characters. Some applications may not be able to read the file\n",
      "\n"
     ]
    },
    {
     "data": {
      "text/html": [
       "<div>\n",
       "<style scoped>\n",
       "    .dataframe tbody tr th:only-of-type {\n",
       "        vertical-align: middle;\n",
       "    }\n",
       "\n",
       "    .dataframe tbody tr th {\n",
       "        vertical-align: top;\n",
       "    }\n",
       "\n",
       "    .dataframe thead th {\n",
       "        text-align: right;\n",
       "    }\n",
       "</style>\n",
       "<table border=\"1\" class=\"dataframe\">\n",
       "  <thead>\n",
       "    <tr style=\"text-align: right;\">\n",
       "      <th></th>\n",
       "      <th>Function</th>\n",
       "      <th>Presence</th>\n",
       "    </tr>\n",
       "  </thead>\n",
       "  <tbody>\n",
       "    <tr>\n",
       "      <th>0</th>\n",
       "      <td>NaN</td>\n",
       "      <td>0.0</td>\n",
       "    </tr>\n",
       "  </tbody>\n",
       "</table>\n",
       "</div>"
      ],
      "text/plain": [
       "   Function  Presence\n",
       "0       NaN       0.0"
      ]
     },
     "metadata": {},
     "output_type": "display_data"
    },
    {
     "data": {
      "application/vnd.plotly.v1+json": {
       "config": {
        "plotlyServerURL": "https://plot.ly"
       },
       "data": [
        {
         "alignmentgroup": "True",
         "hovertemplate": "Function=%{x}<br>Presence=%{y}<extra></extra>",
         "legendgroup": "",
         "marker": {
          "color": "#636efa",
          "pattern": {
           "shape": ""
          }
         },
         "name": "",
         "offsetgroup": "",
         "orientation": "v",
         "showlegend": false,
         "textposition": "auto",
         "type": "bar",
         "x": [
          null
         ],
         "xaxis": "x",
         "y": [
          0
         ],
         "yaxis": "y"
        }
       ],
       "layout": {
        "barmode": "relative",
        "height": 600,
        "legend": {
         "tracegroupgap": 0
        },
        "margin": {
         "t": 60
        },
        "template": {
         "data": {
          "bar": [
           {
            "error_x": {
             "color": "#2a3f5f"
            },
            "error_y": {
             "color": "#2a3f5f"
            },
            "marker": {
             "line": {
              "color": "#E5ECF6",
              "width": 0.5
             },
             "pattern": {
              "fillmode": "overlay",
              "size": 10,
              "solidity": 0.2
             }
            },
            "type": "bar"
           }
          ],
          "barpolar": [
           {
            "marker": {
             "line": {
              "color": "#E5ECF6",
              "width": 0.5
             },
             "pattern": {
              "fillmode": "overlay",
              "size": 10,
              "solidity": 0.2
             }
            },
            "type": "barpolar"
           }
          ],
          "carpet": [
           {
            "aaxis": {
             "endlinecolor": "#2a3f5f",
             "gridcolor": "white",
             "linecolor": "white",
             "minorgridcolor": "white",
             "startlinecolor": "#2a3f5f"
            },
            "baxis": {
             "endlinecolor": "#2a3f5f",
             "gridcolor": "white",
             "linecolor": "white",
             "minorgridcolor": "white",
             "startlinecolor": "#2a3f5f"
            },
            "type": "carpet"
           }
          ],
          "choropleth": [
           {
            "colorbar": {
             "outlinewidth": 0,
             "ticks": ""
            },
            "type": "choropleth"
           }
          ],
          "contour": [
           {
            "colorbar": {
             "outlinewidth": 0,
             "ticks": ""
            },
            "colorscale": [
             [
              0,
              "#0d0887"
             ],
             [
              0.1111111111111111,
              "#46039f"
             ],
             [
              0.2222222222222222,
              "#7201a8"
             ],
             [
              0.3333333333333333,
              "#9c179e"
             ],
             [
              0.4444444444444444,
              "#bd3786"
             ],
             [
              0.5555555555555556,
              "#d8576b"
             ],
             [
              0.6666666666666666,
              "#ed7953"
             ],
             [
              0.7777777777777778,
              "#fb9f3a"
             ],
             [
              0.8888888888888888,
              "#fdca26"
             ],
             [
              1,
              "#f0f921"
             ]
            ],
            "type": "contour"
           }
          ],
          "contourcarpet": [
           {
            "colorbar": {
             "outlinewidth": 0,
             "ticks": ""
            },
            "type": "contourcarpet"
           }
          ],
          "heatmap": [
           {
            "colorbar": {
             "outlinewidth": 0,
             "ticks": ""
            },
            "colorscale": [
             [
              0,
              "#0d0887"
             ],
             [
              0.1111111111111111,
              "#46039f"
             ],
             [
              0.2222222222222222,
              "#7201a8"
             ],
             [
              0.3333333333333333,
              "#9c179e"
             ],
             [
              0.4444444444444444,
              "#bd3786"
             ],
             [
              0.5555555555555556,
              "#d8576b"
             ],
             [
              0.6666666666666666,
              "#ed7953"
             ],
             [
              0.7777777777777778,
              "#fb9f3a"
             ],
             [
              0.8888888888888888,
              "#fdca26"
             ],
             [
              1,
              "#f0f921"
             ]
            ],
            "type": "heatmap"
           }
          ],
          "heatmapgl": [
           {
            "colorbar": {
             "outlinewidth": 0,
             "ticks": ""
            },
            "colorscale": [
             [
              0,
              "#0d0887"
             ],
             [
              0.1111111111111111,
              "#46039f"
             ],
             [
              0.2222222222222222,
              "#7201a8"
             ],
             [
              0.3333333333333333,
              "#9c179e"
             ],
             [
              0.4444444444444444,
              "#bd3786"
             ],
             [
              0.5555555555555556,
              "#d8576b"
             ],
             [
              0.6666666666666666,
              "#ed7953"
             ],
             [
              0.7777777777777778,
              "#fb9f3a"
             ],
             [
              0.8888888888888888,
              "#fdca26"
             ],
             [
              1,
              "#f0f921"
             ]
            ],
            "type": "heatmapgl"
           }
          ],
          "histogram": [
           {
            "marker": {
             "pattern": {
              "fillmode": "overlay",
              "size": 10,
              "solidity": 0.2
             }
            },
            "type": "histogram"
           }
          ],
          "histogram2d": [
           {
            "colorbar": {
             "outlinewidth": 0,
             "ticks": ""
            },
            "colorscale": [
             [
              0,
              "#0d0887"
             ],
             [
              0.1111111111111111,
              "#46039f"
             ],
             [
              0.2222222222222222,
              "#7201a8"
             ],
             [
              0.3333333333333333,
              "#9c179e"
             ],
             [
              0.4444444444444444,
              "#bd3786"
             ],
             [
              0.5555555555555556,
              "#d8576b"
             ],
             [
              0.6666666666666666,
              "#ed7953"
             ],
             [
              0.7777777777777778,
              "#fb9f3a"
             ],
             [
              0.8888888888888888,
              "#fdca26"
             ],
             [
              1,
              "#f0f921"
             ]
            ],
            "type": "histogram2d"
           }
          ],
          "histogram2dcontour": [
           {
            "colorbar": {
             "outlinewidth": 0,
             "ticks": ""
            },
            "colorscale": [
             [
              0,
              "#0d0887"
             ],
             [
              0.1111111111111111,
              "#46039f"
             ],
             [
              0.2222222222222222,
              "#7201a8"
             ],
             [
              0.3333333333333333,
              "#9c179e"
             ],
             [
              0.4444444444444444,
              "#bd3786"
             ],
             [
              0.5555555555555556,
              "#d8576b"
             ],
             [
              0.6666666666666666,
              "#ed7953"
             ],
             [
              0.7777777777777778,
              "#fb9f3a"
             ],
             [
              0.8888888888888888,
              "#fdca26"
             ],
             [
              1,
              "#f0f921"
             ]
            ],
            "type": "histogram2dcontour"
           }
          ],
          "mesh3d": [
           {
            "colorbar": {
             "outlinewidth": 0,
             "ticks": ""
            },
            "type": "mesh3d"
           }
          ],
          "parcoords": [
           {
            "line": {
             "colorbar": {
              "outlinewidth": 0,
              "ticks": ""
             }
            },
            "type": "parcoords"
           }
          ],
          "pie": [
           {
            "automargin": true,
            "type": "pie"
           }
          ],
          "scatter": [
           {
            "fillpattern": {
             "fillmode": "overlay",
             "size": 10,
             "solidity": 0.2
            },
            "type": "scatter"
           }
          ],
          "scatter3d": [
           {
            "line": {
             "colorbar": {
              "outlinewidth": 0,
              "ticks": ""
             }
            },
            "marker": {
             "colorbar": {
              "outlinewidth": 0,
              "ticks": ""
             }
            },
            "type": "scatter3d"
           }
          ],
          "scattercarpet": [
           {
            "marker": {
             "colorbar": {
              "outlinewidth": 0,
              "ticks": ""
             }
            },
            "type": "scattercarpet"
           }
          ],
          "scattergeo": [
           {
            "marker": {
             "colorbar": {
              "outlinewidth": 0,
              "ticks": ""
             }
            },
            "type": "scattergeo"
           }
          ],
          "scattergl": [
           {
            "marker": {
             "colorbar": {
              "outlinewidth": 0,
              "ticks": ""
             }
            },
            "type": "scattergl"
           }
          ],
          "scattermapbox": [
           {
            "marker": {
             "colorbar": {
              "outlinewidth": 0,
              "ticks": ""
             }
            },
            "type": "scattermapbox"
           }
          ],
          "scatterpolar": [
           {
            "marker": {
             "colorbar": {
              "outlinewidth": 0,
              "ticks": ""
             }
            },
            "type": "scatterpolar"
           }
          ],
          "scatterpolargl": [
           {
            "marker": {
             "colorbar": {
              "outlinewidth": 0,
              "ticks": ""
             }
            },
            "type": "scatterpolargl"
           }
          ],
          "scatterternary": [
           {
            "marker": {
             "colorbar": {
              "outlinewidth": 0,
              "ticks": ""
             }
            },
            "type": "scatterternary"
           }
          ],
          "surface": [
           {
            "colorbar": {
             "outlinewidth": 0,
             "ticks": ""
            },
            "colorscale": [
             [
              0,
              "#0d0887"
             ],
             [
              0.1111111111111111,
              "#46039f"
             ],
             [
              0.2222222222222222,
              "#7201a8"
             ],
             [
              0.3333333333333333,
              "#9c179e"
             ],
             [
              0.4444444444444444,
              "#bd3786"
             ],
             [
              0.5555555555555556,
              "#d8576b"
             ],
             [
              0.6666666666666666,
              "#ed7953"
             ],
             [
              0.7777777777777778,
              "#fb9f3a"
             ],
             [
              0.8888888888888888,
              "#fdca26"
             ],
             [
              1,
              "#f0f921"
             ]
            ],
            "type": "surface"
           }
          ],
          "table": [
           {
            "cells": {
             "fill": {
              "color": "#EBF0F8"
             },
             "line": {
              "color": "white"
             }
            },
            "header": {
             "fill": {
              "color": "#C8D4E3"
             },
             "line": {
              "color": "white"
             }
            },
            "type": "table"
           }
          ]
         },
         "layout": {
          "annotationdefaults": {
           "arrowcolor": "#2a3f5f",
           "arrowhead": 0,
           "arrowwidth": 1
          },
          "autotypenumbers": "strict",
          "coloraxis": {
           "colorbar": {
            "outlinewidth": 0,
            "ticks": ""
           }
          },
          "colorscale": {
           "diverging": [
            [
             0,
             "#8e0152"
            ],
            [
             0.1,
             "#c51b7d"
            ],
            [
             0.2,
             "#de77ae"
            ],
            [
             0.3,
             "#f1b6da"
            ],
            [
             0.4,
             "#fde0ef"
            ],
            [
             0.5,
             "#f7f7f7"
            ],
            [
             0.6,
             "#e6f5d0"
            ],
            [
             0.7,
             "#b8e186"
            ],
            [
             0.8,
             "#7fbc41"
            ],
            [
             0.9,
             "#4d9221"
            ],
            [
             1,
             "#276419"
            ]
           ],
           "sequential": [
            [
             0,
             "#0d0887"
            ],
            [
             0.1111111111111111,
             "#46039f"
            ],
            [
             0.2222222222222222,
             "#7201a8"
            ],
            [
             0.3333333333333333,
             "#9c179e"
            ],
            [
             0.4444444444444444,
             "#bd3786"
            ],
            [
             0.5555555555555556,
             "#d8576b"
            ],
            [
             0.6666666666666666,
             "#ed7953"
            ],
            [
             0.7777777777777778,
             "#fb9f3a"
            ],
            [
             0.8888888888888888,
             "#fdca26"
            ],
            [
             1,
             "#f0f921"
            ]
           ],
           "sequentialminus": [
            [
             0,
             "#0d0887"
            ],
            [
             0.1111111111111111,
             "#46039f"
            ],
            [
             0.2222222222222222,
             "#7201a8"
            ],
            [
             0.3333333333333333,
             "#9c179e"
            ],
            [
             0.4444444444444444,
             "#bd3786"
            ],
            [
             0.5555555555555556,
             "#d8576b"
            ],
            [
             0.6666666666666666,
             "#ed7953"
            ],
            [
             0.7777777777777778,
             "#fb9f3a"
            ],
            [
             0.8888888888888888,
             "#fdca26"
            ],
            [
             1,
             "#f0f921"
            ]
           ]
          },
          "colorway": [
           "#636efa",
           "#EF553B",
           "#00cc96",
           "#ab63fa",
           "#FFA15A",
           "#19d3f3",
           "#FF6692",
           "#B6E880",
           "#FF97FF",
           "#FECB52"
          ],
          "font": {
           "color": "#2a3f5f"
          },
          "geo": {
           "bgcolor": "white",
           "lakecolor": "white",
           "landcolor": "#E5ECF6",
           "showlakes": true,
           "showland": true,
           "subunitcolor": "white"
          },
          "hoverlabel": {
           "align": "left"
          },
          "hovermode": "closest",
          "mapbox": {
           "style": "light"
          },
          "paper_bgcolor": "white",
          "plot_bgcolor": "#E5ECF6",
          "polar": {
           "angularaxis": {
            "gridcolor": "white",
            "linecolor": "white",
            "ticks": ""
           },
           "bgcolor": "#E5ECF6",
           "radialaxis": {
            "gridcolor": "white",
            "linecolor": "white",
            "ticks": ""
           }
          },
          "scene": {
           "xaxis": {
            "backgroundcolor": "#E5ECF6",
            "gridcolor": "white",
            "gridwidth": 2,
            "linecolor": "white",
            "showbackground": true,
            "ticks": "",
            "zerolinecolor": "white"
           },
           "yaxis": {
            "backgroundcolor": "#E5ECF6",
            "gridcolor": "white",
            "gridwidth": 2,
            "linecolor": "white",
            "showbackground": true,
            "ticks": "",
            "zerolinecolor": "white"
           },
           "zaxis": {
            "backgroundcolor": "#E5ECF6",
            "gridcolor": "white",
            "gridwidth": 2,
            "linecolor": "white",
            "showbackground": true,
            "ticks": "",
            "zerolinecolor": "white"
           }
          },
          "shapedefaults": {
           "line": {
            "color": "#2a3f5f"
           }
          },
          "ternary": {
           "aaxis": {
            "gridcolor": "white",
            "linecolor": "white",
            "ticks": ""
           },
           "baxis": {
            "gridcolor": "white",
            "linecolor": "white",
            "ticks": ""
           },
           "bgcolor": "#E5ECF6",
           "caxis": {
            "gridcolor": "white",
            "linecolor": "white",
            "ticks": ""
           }
          },
          "title": {
           "x": 0.05
          },
          "xaxis": {
           "automargin": true,
           "gridcolor": "white",
           "linecolor": "white",
           "ticks": "",
           "title": {
            "standoff": 15
           },
           "zerolinecolor": "white",
           "zerolinewidth": 2
          },
          "yaxis": {
           "automargin": true,
           "gridcolor": "white",
           "linecolor": "white",
           "ticks": "",
           "title": {
            "standoff": 15
           },
           "zerolinecolor": "white",
           "zerolinewidth": 2
          }
         }
        },
        "title": {
         "text": "<b>Function presence using different cutoff values for m9-EX_glc__D_e:10.0-EX_glu__L_e:8.33_BAR<b>",
         "x": 0.5
        },
        "xaxis": {
         "anchor": "y",
         "domain": [
          0,
          1
         ],
         "tickangle": 45,
         "title": {
          "text": "Function"
         }
        },
        "yaxis": {
         "anchor": "x",
         "domain": [
          0,
          1
         ],
         "title": {
          "text": "Presence"
         }
        }
       }
      }
     },
     "metadata": {},
     "output_type": "display_data"
    },
    {
     "name": "stderr",
     "output_type": "stream",
     "text": [
      "/home/alvaro/miniconda3/envs/e_merlin/lib/python3.10/site-packages/openpyxl/workbook/child.py:99: UserWarning:\n",
      "\n",
      "Title is more than 31 characters. Some applications may not be able to read the file\n",
      "\n"
     ]
    },
    {
     "data": {
      "text/html": [
       "<div>\n",
       "<style scoped>\n",
       "    .dataframe tbody tr th:only-of-type {\n",
       "        vertical-align: middle;\n",
       "    }\n",
       "\n",
       "    .dataframe tbody tr th {\n",
       "        vertical-align: top;\n",
       "    }\n",
       "\n",
       "    .dataframe thead th {\n",
       "        text-align: right;\n",
       "    }\n",
       "</style>\n",
       "<table border=\"1\" class=\"dataframe\">\n",
       "  <thead>\n",
       "    <tr style=\"text-align: right;\">\n",
       "      <th></th>\n",
       "      <th>Function</th>\n",
       "      <th>Presence</th>\n",
       "    </tr>\n",
       "  </thead>\n",
       "  <tbody>\n",
       "    <tr>\n",
       "      <th>0</th>\n",
       "      <td>Nucleotide Salvage Pathway</td>\n",
       "      <td>1.000000</td>\n",
       "    </tr>\n",
       "    <tr>\n",
       "      <th>1</th>\n",
       "      <td>Tyrosine, Tryptophan, and Phenylalanine Metabo...</td>\n",
       "      <td>1.000000</td>\n",
       "    </tr>\n",
       "    <tr>\n",
       "      <th>2</th>\n",
       "      <td>Purine and Pyrimidine Biosynthesis</td>\n",
       "      <td>1.000000</td>\n",
       "    </tr>\n",
       "    <tr>\n",
       "      <th>3</th>\n",
       "      <td>Arginine and Proline Metabolism</td>\n",
       "      <td>1.000000</td>\n",
       "    </tr>\n",
       "    <tr>\n",
       "      <th>4</th>\n",
       "      <td>Citric Acid Cycle</td>\n",
       "      <td>1.000000</td>\n",
       "    </tr>\n",
       "    <tr>\n",
       "      <th>5</th>\n",
       "      <td>Cofactor and Prosthetic Group Biosynthesis</td>\n",
       "      <td>1.000000</td>\n",
       "    </tr>\n",
       "    <tr>\n",
       "      <th>6</th>\n",
       "      <td>Pyruvate Metabolism</td>\n",
       "      <td>1.000000</td>\n",
       "    </tr>\n",
       "    <tr>\n",
       "      <th>7</th>\n",
       "      <td>Cysteine Metabolism</td>\n",
       "      <td>1.000000</td>\n",
       "    </tr>\n",
       "    <tr>\n",
       "      <th>8</th>\n",
       "      <td>Alternate Carbon Metabolism</td>\n",
       "      <td>1.000000</td>\n",
       "    </tr>\n",
       "    <tr>\n",
       "      <th>9</th>\n",
       "      <td>Anaplerotic Reactions</td>\n",
       "      <td>1.000000</td>\n",
       "    </tr>\n",
       "    <tr>\n",
       "      <th>10</th>\n",
       "      <td>Alanine and Aspartate Metabolism</td>\n",
       "      <td>1.000000</td>\n",
       "    </tr>\n",
       "    <tr>\n",
       "      <th>11</th>\n",
       "      <td>Glycolysis/Gluconeogenesis</td>\n",
       "      <td>1.000000</td>\n",
       "    </tr>\n",
       "    <tr>\n",
       "      <th>12</th>\n",
       "      <td>Valine, Leucine, and Isoleucine Metabolism</td>\n",
       "      <td>1.000000</td>\n",
       "    </tr>\n",
       "    <tr>\n",
       "      <th>13</th>\n",
       "      <td>Pentose Phosphate Pathway</td>\n",
       "      <td>1.000000</td>\n",
       "    </tr>\n",
       "    <tr>\n",
       "      <th>14</th>\n",
       "      <td>Oxidative Phosphorylation</td>\n",
       "      <td>1.000000</td>\n",
       "    </tr>\n",
       "    <tr>\n",
       "      <th>15</th>\n",
       "      <td>Lipopolysaccharide Biosynthesis / Recycling</td>\n",
       "      <td>1.000000</td>\n",
       "    </tr>\n",
       "    <tr>\n",
       "      <th>16</th>\n",
       "      <td>Membrane Lipid Metabolism</td>\n",
       "      <td>1.000000</td>\n",
       "    </tr>\n",
       "    <tr>\n",
       "      <th>17</th>\n",
       "      <td>Unassigned</td>\n",
       "      <td>1.000000</td>\n",
       "    </tr>\n",
       "    <tr>\n",
       "      <th>18</th>\n",
       "      <td>Methylglyoxal Metabolism</td>\n",
       "      <td>0.000000</td>\n",
       "    </tr>\n",
       "    <tr>\n",
       "      <th>19</th>\n",
       "      <td>tRNA Charging</td>\n",
       "      <td>0.000000</td>\n",
       "    </tr>\n",
       "    <tr>\n",
       "      <th>20</th>\n",
       "      <td>Threonine and Lysine Metabolism</td>\n",
       "      <td>1.000000</td>\n",
       "    </tr>\n",
       "    <tr>\n",
       "      <th>21</th>\n",
       "      <td>Folate Metabolism</td>\n",
       "      <td>0.421053</td>\n",
       "    </tr>\n",
       "    <tr>\n",
       "      <th>22</th>\n",
       "      <td>Glycine and Serine Metabolism</td>\n",
       "      <td>1.000000</td>\n",
       "    </tr>\n",
       "    <tr>\n",
       "      <th>23</th>\n",
       "      <td>Glyoxylate Metabolism</td>\n",
       "      <td>0.000000</td>\n",
       "    </tr>\n",
       "    <tr>\n",
       "      <th>24</th>\n",
       "      <td>Cell Envelope Biosynthesis</td>\n",
       "      <td>1.000000</td>\n",
       "    </tr>\n",
       "    <tr>\n",
       "      <th>25</th>\n",
       "      <td>Methionine Metabolism</td>\n",
       "      <td>1.000000</td>\n",
       "    </tr>\n",
       "    <tr>\n",
       "      <th>26</th>\n",
       "      <td>Nitrogen Metabolism</td>\n",
       "      <td>0.000000</td>\n",
       "    </tr>\n",
       "    <tr>\n",
       "      <th>27</th>\n",
       "      <td>Histidine Metabolism</td>\n",
       "      <td>1.000000</td>\n",
       "    </tr>\n",
       "    <tr>\n",
       "      <th>28</th>\n",
       "      <td>Inorganic Ion Transport and Metabolism</td>\n",
       "      <td>1.000000</td>\n",
       "    </tr>\n",
       "    <tr>\n",
       "      <th>29</th>\n",
       "      <td>Glutamate Metabolism</td>\n",
       "      <td>1.000000</td>\n",
       "    </tr>\n",
       "    <tr>\n",
       "      <th>30</th>\n",
       "      <td>Glycerophospholipid Metabolism</td>\n",
       "      <td>1.000000</td>\n",
       "    </tr>\n",
       "    <tr>\n",
       "      <th>31</th>\n",
       "      <td>Transport, Outer Membrane Porin</td>\n",
       "      <td>1.000000</td>\n",
       "    </tr>\n",
       "    <tr>\n",
       "      <th>32</th>\n",
       "      <td>Transport, Inner Membrane</td>\n",
       "      <td>1.000000</td>\n",
       "    </tr>\n",
       "    <tr>\n",
       "      <th>33</th>\n",
       "      <td>Transport, Outer Membrane</td>\n",
       "      <td>0.000000</td>\n",
       "    </tr>\n",
       "    <tr>\n",
       "      <th>34</th>\n",
       "      <td>Murein Recycling</td>\n",
       "      <td>0.000000</td>\n",
       "    </tr>\n",
       "    <tr>\n",
       "      <th>35</th>\n",
       "      <td>Biomass and maintenance functions</td>\n",
       "      <td>1.000000</td>\n",
       "    </tr>\n",
       "    <tr>\n",
       "      <th>36</th>\n",
       "      <td>Murein Biosynthesis</td>\n",
       "      <td>1.000000</td>\n",
       "    </tr>\n",
       "    <tr>\n",
       "      <th>37</th>\n",
       "      <td>Metabolite Repair</td>\n",
       "      <td>1.000000</td>\n",
       "    </tr>\n",
       "  </tbody>\n",
       "</table>\n",
       "</div>"
      ],
      "text/plain": [
       "                                             Function  Presence\n",
       "0                          Nucleotide Salvage Pathway  1.000000\n",
       "1   Tyrosine, Tryptophan, and Phenylalanine Metabo...  1.000000\n",
       "2                  Purine and Pyrimidine Biosynthesis  1.000000\n",
       "3                     Arginine and Proline Metabolism  1.000000\n",
       "4                                   Citric Acid Cycle  1.000000\n",
       "5          Cofactor and Prosthetic Group Biosynthesis  1.000000\n",
       "6                                 Pyruvate Metabolism  1.000000\n",
       "7                                 Cysteine Metabolism  1.000000\n",
       "8                         Alternate Carbon Metabolism  1.000000\n",
       "9                               Anaplerotic Reactions  1.000000\n",
       "10                   Alanine and Aspartate Metabolism  1.000000\n",
       "11                         Glycolysis/Gluconeogenesis  1.000000\n",
       "12         Valine, Leucine, and Isoleucine Metabolism  1.000000\n",
       "13                          Pentose Phosphate Pathway  1.000000\n",
       "14                          Oxidative Phosphorylation  1.000000\n",
       "15        Lipopolysaccharide Biosynthesis / Recycling  1.000000\n",
       "16                          Membrane Lipid Metabolism  1.000000\n",
       "17                                         Unassigned  1.000000\n",
       "18                           Methylglyoxal Metabolism  0.000000\n",
       "19                                      tRNA Charging  0.000000\n",
       "20                    Threonine and Lysine Metabolism  1.000000\n",
       "21                                  Folate Metabolism  0.421053\n",
       "22                      Glycine and Serine Metabolism  1.000000\n",
       "23                              Glyoxylate Metabolism  0.000000\n",
       "24                         Cell Envelope Biosynthesis  1.000000\n",
       "25                              Methionine Metabolism  1.000000\n",
       "26                                Nitrogen Metabolism  0.000000\n",
       "27                               Histidine Metabolism  1.000000\n",
       "28             Inorganic Ion Transport and Metabolism  1.000000\n",
       "29                               Glutamate Metabolism  1.000000\n",
       "30                     Glycerophospholipid Metabolism  1.000000\n",
       "31                    Transport, Outer Membrane Porin  1.000000\n",
       "32                          Transport, Inner Membrane  1.000000\n",
       "33                          Transport, Outer Membrane  0.000000\n",
       "34                                   Murein Recycling  0.000000\n",
       "35                  Biomass and maintenance functions  1.000000\n",
       "36                                Murein Biosynthesis  1.000000\n",
       "37                                  Metabolite Repair  1.000000"
      ]
     },
     "metadata": {},
     "output_type": "display_data"
    },
    {
     "data": {
      "application/vnd.plotly.v1+json": {
       "config": {
        "plotlyServerURL": "https://plot.ly"
       },
       "data": [
        {
         "alignmentgroup": "True",
         "hovertemplate": "Function=%{x}<br>Presence=%{y}<extra></extra>",
         "legendgroup": "",
         "marker": {
          "color": "#636efa",
          "pattern": {
           "shape": ""
          }
         },
         "name": "",
         "offsetgroup": "",
         "orientation": "v",
         "showlegend": false,
         "textposition": "auto",
         "type": "bar",
         "x": [
          "Nucleotide Salvage Pathway",
          "Tyrosine, Tryptophan, and Phenylalanine Metabolism",
          "Purine and Pyrimidine Biosynthesis",
          "Arginine and Proline Metabolism",
          "Citric Acid Cycle",
          "Cofactor and Prosthetic Group Biosynthesis",
          "Pyruvate Metabolism",
          "Cysteine Metabolism",
          "Alternate Carbon Metabolism",
          "Anaplerotic Reactions",
          "Alanine and Aspartate Metabolism",
          "Glycolysis/Gluconeogenesis",
          "Valine, Leucine, and Isoleucine Metabolism",
          "Pentose Phosphate Pathway",
          "Oxidative Phosphorylation",
          "Lipopolysaccharide Biosynthesis / Recycling",
          "Membrane Lipid Metabolism",
          "Unassigned",
          "Methylglyoxal Metabolism",
          "tRNA Charging",
          "Threonine and Lysine Metabolism",
          "Folate Metabolism",
          "Glycine and Serine Metabolism",
          "Glyoxylate Metabolism",
          "Cell Envelope Biosynthesis",
          "Methionine Metabolism",
          "Nitrogen Metabolism",
          "Histidine Metabolism",
          "Inorganic Ion Transport and Metabolism",
          "Glutamate Metabolism",
          "Glycerophospholipid Metabolism",
          "Transport, Outer Membrane Porin",
          "Transport, Inner Membrane",
          "Transport, Outer Membrane",
          "Murein Recycling",
          "Biomass and maintenance functions",
          "Murein Biosynthesis",
          "Metabolite Repair"
         ],
         "xaxis": "x",
         "y": [
          1,
          1,
          1,
          1,
          1,
          1,
          1,
          1,
          1,
          1,
          1,
          1,
          1,
          1,
          1,
          1,
          1,
          1,
          0,
          0,
          1,
          0.42105263157894735,
          1,
          0,
          1,
          1,
          0,
          1,
          1,
          1,
          1,
          1,
          1,
          0,
          0,
          1,
          1,
          1
         ],
         "yaxis": "y"
        }
       ],
       "layout": {
        "barmode": "relative",
        "height": 600,
        "legend": {
         "tracegroupgap": 0
        },
        "margin": {
         "t": 60
        },
        "template": {
         "data": {
          "bar": [
           {
            "error_x": {
             "color": "#2a3f5f"
            },
            "error_y": {
             "color": "#2a3f5f"
            },
            "marker": {
             "line": {
              "color": "#E5ECF6",
              "width": 0.5
             },
             "pattern": {
              "fillmode": "overlay",
              "size": 10,
              "solidity": 0.2
             }
            },
            "type": "bar"
           }
          ],
          "barpolar": [
           {
            "marker": {
             "line": {
              "color": "#E5ECF6",
              "width": 0.5
             },
             "pattern": {
              "fillmode": "overlay",
              "size": 10,
              "solidity": 0.2
             }
            },
            "type": "barpolar"
           }
          ],
          "carpet": [
           {
            "aaxis": {
             "endlinecolor": "#2a3f5f",
             "gridcolor": "white",
             "linecolor": "white",
             "minorgridcolor": "white",
             "startlinecolor": "#2a3f5f"
            },
            "baxis": {
             "endlinecolor": "#2a3f5f",
             "gridcolor": "white",
             "linecolor": "white",
             "minorgridcolor": "white",
             "startlinecolor": "#2a3f5f"
            },
            "type": "carpet"
           }
          ],
          "choropleth": [
           {
            "colorbar": {
             "outlinewidth": 0,
             "ticks": ""
            },
            "type": "choropleth"
           }
          ],
          "contour": [
           {
            "colorbar": {
             "outlinewidth": 0,
             "ticks": ""
            },
            "colorscale": [
             [
              0,
              "#0d0887"
             ],
             [
              0.1111111111111111,
              "#46039f"
             ],
             [
              0.2222222222222222,
              "#7201a8"
             ],
             [
              0.3333333333333333,
              "#9c179e"
             ],
             [
              0.4444444444444444,
              "#bd3786"
             ],
             [
              0.5555555555555556,
              "#d8576b"
             ],
             [
              0.6666666666666666,
              "#ed7953"
             ],
             [
              0.7777777777777778,
              "#fb9f3a"
             ],
             [
              0.8888888888888888,
              "#fdca26"
             ],
             [
              1,
              "#f0f921"
             ]
            ],
            "type": "contour"
           }
          ],
          "contourcarpet": [
           {
            "colorbar": {
             "outlinewidth": 0,
             "ticks": ""
            },
            "type": "contourcarpet"
           }
          ],
          "heatmap": [
           {
            "colorbar": {
             "outlinewidth": 0,
             "ticks": ""
            },
            "colorscale": [
             [
              0,
              "#0d0887"
             ],
             [
              0.1111111111111111,
              "#46039f"
             ],
             [
              0.2222222222222222,
              "#7201a8"
             ],
             [
              0.3333333333333333,
              "#9c179e"
             ],
             [
              0.4444444444444444,
              "#bd3786"
             ],
             [
              0.5555555555555556,
              "#d8576b"
             ],
             [
              0.6666666666666666,
              "#ed7953"
             ],
             [
              0.7777777777777778,
              "#fb9f3a"
             ],
             [
              0.8888888888888888,
              "#fdca26"
             ],
             [
              1,
              "#f0f921"
             ]
            ],
            "type": "heatmap"
           }
          ],
          "heatmapgl": [
           {
            "colorbar": {
             "outlinewidth": 0,
             "ticks": ""
            },
            "colorscale": [
             [
              0,
              "#0d0887"
             ],
             [
              0.1111111111111111,
              "#46039f"
             ],
             [
              0.2222222222222222,
              "#7201a8"
             ],
             [
              0.3333333333333333,
              "#9c179e"
             ],
             [
              0.4444444444444444,
              "#bd3786"
             ],
             [
              0.5555555555555556,
              "#d8576b"
             ],
             [
              0.6666666666666666,
              "#ed7953"
             ],
             [
              0.7777777777777778,
              "#fb9f3a"
             ],
             [
              0.8888888888888888,
              "#fdca26"
             ],
             [
              1,
              "#f0f921"
             ]
            ],
            "type": "heatmapgl"
           }
          ],
          "histogram": [
           {
            "marker": {
             "pattern": {
              "fillmode": "overlay",
              "size": 10,
              "solidity": 0.2
             }
            },
            "type": "histogram"
           }
          ],
          "histogram2d": [
           {
            "colorbar": {
             "outlinewidth": 0,
             "ticks": ""
            },
            "colorscale": [
             [
              0,
              "#0d0887"
             ],
             [
              0.1111111111111111,
              "#46039f"
             ],
             [
              0.2222222222222222,
              "#7201a8"
             ],
             [
              0.3333333333333333,
              "#9c179e"
             ],
             [
              0.4444444444444444,
              "#bd3786"
             ],
             [
              0.5555555555555556,
              "#d8576b"
             ],
             [
              0.6666666666666666,
              "#ed7953"
             ],
             [
              0.7777777777777778,
              "#fb9f3a"
             ],
             [
              0.8888888888888888,
              "#fdca26"
             ],
             [
              1,
              "#f0f921"
             ]
            ],
            "type": "histogram2d"
           }
          ],
          "histogram2dcontour": [
           {
            "colorbar": {
             "outlinewidth": 0,
             "ticks": ""
            },
            "colorscale": [
             [
              0,
              "#0d0887"
             ],
             [
              0.1111111111111111,
              "#46039f"
             ],
             [
              0.2222222222222222,
              "#7201a8"
             ],
             [
              0.3333333333333333,
              "#9c179e"
             ],
             [
              0.4444444444444444,
              "#bd3786"
             ],
             [
              0.5555555555555556,
              "#d8576b"
             ],
             [
              0.6666666666666666,
              "#ed7953"
             ],
             [
              0.7777777777777778,
              "#fb9f3a"
             ],
             [
              0.8888888888888888,
              "#fdca26"
             ],
             [
              1,
              "#f0f921"
             ]
            ],
            "type": "histogram2dcontour"
           }
          ],
          "mesh3d": [
           {
            "colorbar": {
             "outlinewidth": 0,
             "ticks": ""
            },
            "type": "mesh3d"
           }
          ],
          "parcoords": [
           {
            "line": {
             "colorbar": {
              "outlinewidth": 0,
              "ticks": ""
             }
            },
            "type": "parcoords"
           }
          ],
          "pie": [
           {
            "automargin": true,
            "type": "pie"
           }
          ],
          "scatter": [
           {
            "fillpattern": {
             "fillmode": "overlay",
             "size": 10,
             "solidity": 0.2
            },
            "type": "scatter"
           }
          ],
          "scatter3d": [
           {
            "line": {
             "colorbar": {
              "outlinewidth": 0,
              "ticks": ""
             }
            },
            "marker": {
             "colorbar": {
              "outlinewidth": 0,
              "ticks": ""
             }
            },
            "type": "scatter3d"
           }
          ],
          "scattercarpet": [
           {
            "marker": {
             "colorbar": {
              "outlinewidth": 0,
              "ticks": ""
             }
            },
            "type": "scattercarpet"
           }
          ],
          "scattergeo": [
           {
            "marker": {
             "colorbar": {
              "outlinewidth": 0,
              "ticks": ""
             }
            },
            "type": "scattergeo"
           }
          ],
          "scattergl": [
           {
            "marker": {
             "colorbar": {
              "outlinewidth": 0,
              "ticks": ""
             }
            },
            "type": "scattergl"
           }
          ],
          "scattermapbox": [
           {
            "marker": {
             "colorbar": {
              "outlinewidth": 0,
              "ticks": ""
             }
            },
            "type": "scattermapbox"
           }
          ],
          "scatterpolar": [
           {
            "marker": {
             "colorbar": {
              "outlinewidth": 0,
              "ticks": ""
             }
            },
            "type": "scatterpolar"
           }
          ],
          "scatterpolargl": [
           {
            "marker": {
             "colorbar": {
              "outlinewidth": 0,
              "ticks": ""
             }
            },
            "type": "scatterpolargl"
           }
          ],
          "scatterternary": [
           {
            "marker": {
             "colorbar": {
              "outlinewidth": 0,
              "ticks": ""
             }
            },
            "type": "scatterternary"
           }
          ],
          "surface": [
           {
            "colorbar": {
             "outlinewidth": 0,
             "ticks": ""
            },
            "colorscale": [
             [
              0,
              "#0d0887"
             ],
             [
              0.1111111111111111,
              "#46039f"
             ],
             [
              0.2222222222222222,
              "#7201a8"
             ],
             [
              0.3333333333333333,
              "#9c179e"
             ],
             [
              0.4444444444444444,
              "#bd3786"
             ],
             [
              0.5555555555555556,
              "#d8576b"
             ],
             [
              0.6666666666666666,
              "#ed7953"
             ],
             [
              0.7777777777777778,
              "#fb9f3a"
             ],
             [
              0.8888888888888888,
              "#fdca26"
             ],
             [
              1,
              "#f0f921"
             ]
            ],
            "type": "surface"
           }
          ],
          "table": [
           {
            "cells": {
             "fill": {
              "color": "#EBF0F8"
             },
             "line": {
              "color": "white"
             }
            },
            "header": {
             "fill": {
              "color": "#C8D4E3"
             },
             "line": {
              "color": "white"
             }
            },
            "type": "table"
           }
          ]
         },
         "layout": {
          "annotationdefaults": {
           "arrowcolor": "#2a3f5f",
           "arrowhead": 0,
           "arrowwidth": 1
          },
          "autotypenumbers": "strict",
          "coloraxis": {
           "colorbar": {
            "outlinewidth": 0,
            "ticks": ""
           }
          },
          "colorscale": {
           "diverging": [
            [
             0,
             "#8e0152"
            ],
            [
             0.1,
             "#c51b7d"
            ],
            [
             0.2,
             "#de77ae"
            ],
            [
             0.3,
             "#f1b6da"
            ],
            [
             0.4,
             "#fde0ef"
            ],
            [
             0.5,
             "#f7f7f7"
            ],
            [
             0.6,
             "#e6f5d0"
            ],
            [
             0.7,
             "#b8e186"
            ],
            [
             0.8,
             "#7fbc41"
            ],
            [
             0.9,
             "#4d9221"
            ],
            [
             1,
             "#276419"
            ]
           ],
           "sequential": [
            [
             0,
             "#0d0887"
            ],
            [
             0.1111111111111111,
             "#46039f"
            ],
            [
             0.2222222222222222,
             "#7201a8"
            ],
            [
             0.3333333333333333,
             "#9c179e"
            ],
            [
             0.4444444444444444,
             "#bd3786"
            ],
            [
             0.5555555555555556,
             "#d8576b"
            ],
            [
             0.6666666666666666,
             "#ed7953"
            ],
            [
             0.7777777777777778,
             "#fb9f3a"
            ],
            [
             0.8888888888888888,
             "#fdca26"
            ],
            [
             1,
             "#f0f921"
            ]
           ],
           "sequentialminus": [
            [
             0,
             "#0d0887"
            ],
            [
             0.1111111111111111,
             "#46039f"
            ],
            [
             0.2222222222222222,
             "#7201a8"
            ],
            [
             0.3333333333333333,
             "#9c179e"
            ],
            [
             0.4444444444444444,
             "#bd3786"
            ],
            [
             0.5555555555555556,
             "#d8576b"
            ],
            [
             0.6666666666666666,
             "#ed7953"
            ],
            [
             0.7777777777777778,
             "#fb9f3a"
            ],
            [
             0.8888888888888888,
             "#fdca26"
            ],
            [
             1,
             "#f0f921"
            ]
           ]
          },
          "colorway": [
           "#636efa",
           "#EF553B",
           "#00cc96",
           "#ab63fa",
           "#FFA15A",
           "#19d3f3",
           "#FF6692",
           "#B6E880",
           "#FF97FF",
           "#FECB52"
          ],
          "font": {
           "color": "#2a3f5f"
          },
          "geo": {
           "bgcolor": "white",
           "lakecolor": "white",
           "landcolor": "#E5ECF6",
           "showlakes": true,
           "showland": true,
           "subunitcolor": "white"
          },
          "hoverlabel": {
           "align": "left"
          },
          "hovermode": "closest",
          "mapbox": {
           "style": "light"
          },
          "paper_bgcolor": "white",
          "plot_bgcolor": "#E5ECF6",
          "polar": {
           "angularaxis": {
            "gridcolor": "white",
            "linecolor": "white",
            "ticks": ""
           },
           "bgcolor": "#E5ECF6",
           "radialaxis": {
            "gridcolor": "white",
            "linecolor": "white",
            "ticks": ""
           }
          },
          "scene": {
           "xaxis": {
            "backgroundcolor": "#E5ECF6",
            "gridcolor": "white",
            "gridwidth": 2,
            "linecolor": "white",
            "showbackground": true,
            "ticks": "",
            "zerolinecolor": "white"
           },
           "yaxis": {
            "backgroundcolor": "#E5ECF6",
            "gridcolor": "white",
            "gridwidth": 2,
            "linecolor": "white",
            "showbackground": true,
            "ticks": "",
            "zerolinecolor": "white"
           },
           "zaxis": {
            "backgroundcolor": "#E5ECF6",
            "gridcolor": "white",
            "gridwidth": 2,
            "linecolor": "white",
            "showbackground": true,
            "ticks": "",
            "zerolinecolor": "white"
           }
          },
          "shapedefaults": {
           "line": {
            "color": "#2a3f5f"
           }
          },
          "ternary": {
           "aaxis": {
            "gridcolor": "white",
            "linecolor": "white",
            "ticks": ""
           },
           "baxis": {
            "gridcolor": "white",
            "linecolor": "white",
            "ticks": ""
           },
           "bgcolor": "#E5ECF6",
           "caxis": {
            "gridcolor": "white",
            "linecolor": "white",
            "ticks": ""
           }
          },
          "title": {
           "x": 0.05
          },
          "xaxis": {
           "automargin": true,
           "gridcolor": "white",
           "linecolor": "white",
           "ticks": "",
           "title": {
            "standoff": 15
           },
           "zerolinecolor": "white",
           "zerolinewidth": 2
          },
          "yaxis": {
           "automargin": true,
           "gridcolor": "white",
           "linecolor": "white",
           "ticks": "",
           "title": {
            "standoff": 15
           },
           "zerolinecolor": "white",
           "zerolinewidth": 2
          }
         }
        },
        "title": {
         "text": "<b>Function presence using different cutoff values for m9-EX_glc__D_e:10.0-EX_glu__L_e:8.33_BAR<b>",
         "x": 0.5
        },
        "xaxis": {
         "anchor": "y",
         "domain": [
          0,
          1
         ],
         "tickangle": 45,
         "title": {
          "text": "Function"
         }
        },
        "yaxis": {
         "anchor": "x",
         "domain": [
          0,
          1
         ],
         "title": {
          "text": "Presence"
         }
        }
       }
      }
     },
     "metadata": {},
     "output_type": "display_data"
    },
    {
     "name": "stderr",
     "output_type": "stream",
     "text": [
      "/home/alvaro/miniconda3/envs/e_merlin/lib/python3.10/site-packages/openpyxl/workbook/child.py:99: UserWarning:\n",
      "\n",
      "Title is more than 31 characters. Some applications may not be able to read the file\n",
      "\n"
     ]
    },
    {
     "data": {
      "text/html": [
       "<div>\n",
       "<style scoped>\n",
       "    .dataframe tbody tr th:only-of-type {\n",
       "        vertical-align: middle;\n",
       "    }\n",
       "\n",
       "    .dataframe tbody tr th {\n",
       "        vertical-align: top;\n",
       "    }\n",
       "\n",
       "    .dataframe thead th {\n",
       "        text-align: right;\n",
       "    }\n",
       "</style>\n",
       "<table border=\"1\" class=\"dataframe\">\n",
       "  <thead>\n",
       "    <tr style=\"text-align: right;\">\n",
       "      <th></th>\n",
       "      <th>Function</th>\n",
       "      <th>Presence</th>\n",
       "    </tr>\n",
       "  </thead>\n",
       "  <tbody>\n",
       "    <tr>\n",
       "      <th>0</th>\n",
       "      <td>NaN</td>\n",
       "      <td>0.0</td>\n",
       "    </tr>\n",
       "  </tbody>\n",
       "</table>\n",
       "</div>"
      ],
      "text/plain": [
       "   Function  Presence\n",
       "0       NaN       0.0"
      ]
     },
     "metadata": {},
     "output_type": "display_data"
    },
    {
     "data": {
      "application/vnd.plotly.v1+json": {
       "config": {
        "plotlyServerURL": "https://plot.ly"
       },
       "data": [
        {
         "alignmentgroup": "True",
         "hovertemplate": "Function=%{x}<br>Presence=%{y}<extra></extra>",
         "legendgroup": "",
         "marker": {
          "color": "#636efa",
          "pattern": {
           "shape": ""
          }
         },
         "name": "",
         "offsetgroup": "",
         "orientation": "v",
         "showlegend": false,
         "textposition": "auto",
         "type": "bar",
         "x": [
          null
         ],
         "xaxis": "x",
         "y": [
          0
         ],
         "yaxis": "y"
        }
       ],
       "layout": {
        "barmode": "relative",
        "height": 600,
        "legend": {
         "tracegroupgap": 0
        },
        "margin": {
         "t": 60
        },
        "template": {
         "data": {
          "bar": [
           {
            "error_x": {
             "color": "#2a3f5f"
            },
            "error_y": {
             "color": "#2a3f5f"
            },
            "marker": {
             "line": {
              "color": "#E5ECF6",
              "width": 0.5
             },
             "pattern": {
              "fillmode": "overlay",
              "size": 10,
              "solidity": 0.2
             }
            },
            "type": "bar"
           }
          ],
          "barpolar": [
           {
            "marker": {
             "line": {
              "color": "#E5ECF6",
              "width": 0.5
             },
             "pattern": {
              "fillmode": "overlay",
              "size": 10,
              "solidity": 0.2
             }
            },
            "type": "barpolar"
           }
          ],
          "carpet": [
           {
            "aaxis": {
             "endlinecolor": "#2a3f5f",
             "gridcolor": "white",
             "linecolor": "white",
             "minorgridcolor": "white",
             "startlinecolor": "#2a3f5f"
            },
            "baxis": {
             "endlinecolor": "#2a3f5f",
             "gridcolor": "white",
             "linecolor": "white",
             "minorgridcolor": "white",
             "startlinecolor": "#2a3f5f"
            },
            "type": "carpet"
           }
          ],
          "choropleth": [
           {
            "colorbar": {
             "outlinewidth": 0,
             "ticks": ""
            },
            "type": "choropleth"
           }
          ],
          "contour": [
           {
            "colorbar": {
             "outlinewidth": 0,
             "ticks": ""
            },
            "colorscale": [
             [
              0,
              "#0d0887"
             ],
             [
              0.1111111111111111,
              "#46039f"
             ],
             [
              0.2222222222222222,
              "#7201a8"
             ],
             [
              0.3333333333333333,
              "#9c179e"
             ],
             [
              0.4444444444444444,
              "#bd3786"
             ],
             [
              0.5555555555555556,
              "#d8576b"
             ],
             [
              0.6666666666666666,
              "#ed7953"
             ],
             [
              0.7777777777777778,
              "#fb9f3a"
             ],
             [
              0.8888888888888888,
              "#fdca26"
             ],
             [
              1,
              "#f0f921"
             ]
            ],
            "type": "contour"
           }
          ],
          "contourcarpet": [
           {
            "colorbar": {
             "outlinewidth": 0,
             "ticks": ""
            },
            "type": "contourcarpet"
           }
          ],
          "heatmap": [
           {
            "colorbar": {
             "outlinewidth": 0,
             "ticks": ""
            },
            "colorscale": [
             [
              0,
              "#0d0887"
             ],
             [
              0.1111111111111111,
              "#46039f"
             ],
             [
              0.2222222222222222,
              "#7201a8"
             ],
             [
              0.3333333333333333,
              "#9c179e"
             ],
             [
              0.4444444444444444,
              "#bd3786"
             ],
             [
              0.5555555555555556,
              "#d8576b"
             ],
             [
              0.6666666666666666,
              "#ed7953"
             ],
             [
              0.7777777777777778,
              "#fb9f3a"
             ],
             [
              0.8888888888888888,
              "#fdca26"
             ],
             [
              1,
              "#f0f921"
             ]
            ],
            "type": "heatmap"
           }
          ],
          "heatmapgl": [
           {
            "colorbar": {
             "outlinewidth": 0,
             "ticks": ""
            },
            "colorscale": [
             [
              0,
              "#0d0887"
             ],
             [
              0.1111111111111111,
              "#46039f"
             ],
             [
              0.2222222222222222,
              "#7201a8"
             ],
             [
              0.3333333333333333,
              "#9c179e"
             ],
             [
              0.4444444444444444,
              "#bd3786"
             ],
             [
              0.5555555555555556,
              "#d8576b"
             ],
             [
              0.6666666666666666,
              "#ed7953"
             ],
             [
              0.7777777777777778,
              "#fb9f3a"
             ],
             [
              0.8888888888888888,
              "#fdca26"
             ],
             [
              1,
              "#f0f921"
             ]
            ],
            "type": "heatmapgl"
           }
          ],
          "histogram": [
           {
            "marker": {
             "pattern": {
              "fillmode": "overlay",
              "size": 10,
              "solidity": 0.2
             }
            },
            "type": "histogram"
           }
          ],
          "histogram2d": [
           {
            "colorbar": {
             "outlinewidth": 0,
             "ticks": ""
            },
            "colorscale": [
             [
              0,
              "#0d0887"
             ],
             [
              0.1111111111111111,
              "#46039f"
             ],
             [
              0.2222222222222222,
              "#7201a8"
             ],
             [
              0.3333333333333333,
              "#9c179e"
             ],
             [
              0.4444444444444444,
              "#bd3786"
             ],
             [
              0.5555555555555556,
              "#d8576b"
             ],
             [
              0.6666666666666666,
              "#ed7953"
             ],
             [
              0.7777777777777778,
              "#fb9f3a"
             ],
             [
              0.8888888888888888,
              "#fdca26"
             ],
             [
              1,
              "#f0f921"
             ]
            ],
            "type": "histogram2d"
           }
          ],
          "histogram2dcontour": [
           {
            "colorbar": {
             "outlinewidth": 0,
             "ticks": ""
            },
            "colorscale": [
             [
              0,
              "#0d0887"
             ],
             [
              0.1111111111111111,
              "#46039f"
             ],
             [
              0.2222222222222222,
              "#7201a8"
             ],
             [
              0.3333333333333333,
              "#9c179e"
             ],
             [
              0.4444444444444444,
              "#bd3786"
             ],
             [
              0.5555555555555556,
              "#d8576b"
             ],
             [
              0.6666666666666666,
              "#ed7953"
             ],
             [
              0.7777777777777778,
              "#fb9f3a"
             ],
             [
              0.8888888888888888,
              "#fdca26"
             ],
             [
              1,
              "#f0f921"
             ]
            ],
            "type": "histogram2dcontour"
           }
          ],
          "mesh3d": [
           {
            "colorbar": {
             "outlinewidth": 0,
             "ticks": ""
            },
            "type": "mesh3d"
           }
          ],
          "parcoords": [
           {
            "line": {
             "colorbar": {
              "outlinewidth": 0,
              "ticks": ""
             }
            },
            "type": "parcoords"
           }
          ],
          "pie": [
           {
            "automargin": true,
            "type": "pie"
           }
          ],
          "scatter": [
           {
            "fillpattern": {
             "fillmode": "overlay",
             "size": 10,
             "solidity": 0.2
            },
            "type": "scatter"
           }
          ],
          "scatter3d": [
           {
            "line": {
             "colorbar": {
              "outlinewidth": 0,
              "ticks": ""
             }
            },
            "marker": {
             "colorbar": {
              "outlinewidth": 0,
              "ticks": ""
             }
            },
            "type": "scatter3d"
           }
          ],
          "scattercarpet": [
           {
            "marker": {
             "colorbar": {
              "outlinewidth": 0,
              "ticks": ""
             }
            },
            "type": "scattercarpet"
           }
          ],
          "scattergeo": [
           {
            "marker": {
             "colorbar": {
              "outlinewidth": 0,
              "ticks": ""
             }
            },
            "type": "scattergeo"
           }
          ],
          "scattergl": [
           {
            "marker": {
             "colorbar": {
              "outlinewidth": 0,
              "ticks": ""
             }
            },
            "type": "scattergl"
           }
          ],
          "scattermapbox": [
           {
            "marker": {
             "colorbar": {
              "outlinewidth": 0,
              "ticks": ""
             }
            },
            "type": "scattermapbox"
           }
          ],
          "scatterpolar": [
           {
            "marker": {
             "colorbar": {
              "outlinewidth": 0,
              "ticks": ""
             }
            },
            "type": "scatterpolar"
           }
          ],
          "scatterpolargl": [
           {
            "marker": {
             "colorbar": {
              "outlinewidth": 0,
              "ticks": ""
             }
            },
            "type": "scatterpolargl"
           }
          ],
          "scatterternary": [
           {
            "marker": {
             "colorbar": {
              "outlinewidth": 0,
              "ticks": ""
             }
            },
            "type": "scatterternary"
           }
          ],
          "surface": [
           {
            "colorbar": {
             "outlinewidth": 0,
             "ticks": ""
            },
            "colorscale": [
             [
              0,
              "#0d0887"
             ],
             [
              0.1111111111111111,
              "#46039f"
             ],
             [
              0.2222222222222222,
              "#7201a8"
             ],
             [
              0.3333333333333333,
              "#9c179e"
             ],
             [
              0.4444444444444444,
              "#bd3786"
             ],
             [
              0.5555555555555556,
              "#d8576b"
             ],
             [
              0.6666666666666666,
              "#ed7953"
             ],
             [
              0.7777777777777778,
              "#fb9f3a"
             ],
             [
              0.8888888888888888,
              "#fdca26"
             ],
             [
              1,
              "#f0f921"
             ]
            ],
            "type": "surface"
           }
          ],
          "table": [
           {
            "cells": {
             "fill": {
              "color": "#EBF0F8"
             },
             "line": {
              "color": "white"
             }
            },
            "header": {
             "fill": {
              "color": "#C8D4E3"
             },
             "line": {
              "color": "white"
             }
            },
            "type": "table"
           }
          ]
         },
         "layout": {
          "annotationdefaults": {
           "arrowcolor": "#2a3f5f",
           "arrowhead": 0,
           "arrowwidth": 1
          },
          "autotypenumbers": "strict",
          "coloraxis": {
           "colorbar": {
            "outlinewidth": 0,
            "ticks": ""
           }
          },
          "colorscale": {
           "diverging": [
            [
             0,
             "#8e0152"
            ],
            [
             0.1,
             "#c51b7d"
            ],
            [
             0.2,
             "#de77ae"
            ],
            [
             0.3,
             "#f1b6da"
            ],
            [
             0.4,
             "#fde0ef"
            ],
            [
             0.5,
             "#f7f7f7"
            ],
            [
             0.6,
             "#e6f5d0"
            ],
            [
             0.7,
             "#b8e186"
            ],
            [
             0.8,
             "#7fbc41"
            ],
            [
             0.9,
             "#4d9221"
            ],
            [
             1,
             "#276419"
            ]
           ],
           "sequential": [
            [
             0,
             "#0d0887"
            ],
            [
             0.1111111111111111,
             "#46039f"
            ],
            [
             0.2222222222222222,
             "#7201a8"
            ],
            [
             0.3333333333333333,
             "#9c179e"
            ],
            [
             0.4444444444444444,
             "#bd3786"
            ],
            [
             0.5555555555555556,
             "#d8576b"
            ],
            [
             0.6666666666666666,
             "#ed7953"
            ],
            [
             0.7777777777777778,
             "#fb9f3a"
            ],
            [
             0.8888888888888888,
             "#fdca26"
            ],
            [
             1,
             "#f0f921"
            ]
           ],
           "sequentialminus": [
            [
             0,
             "#0d0887"
            ],
            [
             0.1111111111111111,
             "#46039f"
            ],
            [
             0.2222222222222222,
             "#7201a8"
            ],
            [
             0.3333333333333333,
             "#9c179e"
            ],
            [
             0.4444444444444444,
             "#bd3786"
            ],
            [
             0.5555555555555556,
             "#d8576b"
            ],
            [
             0.6666666666666666,
             "#ed7953"
            ],
            [
             0.7777777777777778,
             "#fb9f3a"
            ],
            [
             0.8888888888888888,
             "#fdca26"
            ],
            [
             1,
             "#f0f921"
            ]
           ]
          },
          "colorway": [
           "#636efa",
           "#EF553B",
           "#00cc96",
           "#ab63fa",
           "#FFA15A",
           "#19d3f3",
           "#FF6692",
           "#B6E880",
           "#FF97FF",
           "#FECB52"
          ],
          "font": {
           "color": "#2a3f5f"
          },
          "geo": {
           "bgcolor": "white",
           "lakecolor": "white",
           "landcolor": "#E5ECF6",
           "showlakes": true,
           "showland": true,
           "subunitcolor": "white"
          },
          "hoverlabel": {
           "align": "left"
          },
          "hovermode": "closest",
          "mapbox": {
           "style": "light"
          },
          "paper_bgcolor": "white",
          "plot_bgcolor": "#E5ECF6",
          "polar": {
           "angularaxis": {
            "gridcolor": "white",
            "linecolor": "white",
            "ticks": ""
           },
           "bgcolor": "#E5ECF6",
           "radialaxis": {
            "gridcolor": "white",
            "linecolor": "white",
            "ticks": ""
           }
          },
          "scene": {
           "xaxis": {
            "backgroundcolor": "#E5ECF6",
            "gridcolor": "white",
            "gridwidth": 2,
            "linecolor": "white",
            "showbackground": true,
            "ticks": "",
            "zerolinecolor": "white"
           },
           "yaxis": {
            "backgroundcolor": "#E5ECF6",
            "gridcolor": "white",
            "gridwidth": 2,
            "linecolor": "white",
            "showbackground": true,
            "ticks": "",
            "zerolinecolor": "white"
           },
           "zaxis": {
            "backgroundcolor": "#E5ECF6",
            "gridcolor": "white",
            "gridwidth": 2,
            "linecolor": "white",
            "showbackground": true,
            "ticks": "",
            "zerolinecolor": "white"
           }
          },
          "shapedefaults": {
           "line": {
            "color": "#2a3f5f"
           }
          },
          "ternary": {
           "aaxis": {
            "gridcolor": "white",
            "linecolor": "white",
            "ticks": ""
           },
           "baxis": {
            "gridcolor": "white",
            "linecolor": "white",
            "ticks": ""
           },
           "bgcolor": "#E5ECF6",
           "caxis": {
            "gridcolor": "white",
            "linecolor": "white",
            "ticks": ""
           }
          },
          "title": {
           "x": 0.05
          },
          "xaxis": {
           "automargin": true,
           "gridcolor": "white",
           "linecolor": "white",
           "ticks": "",
           "title": {
            "standoff": 15
           },
           "zerolinecolor": "white",
           "zerolinewidth": 2
          },
          "yaxis": {
           "automargin": true,
           "gridcolor": "white",
           "linecolor": "white",
           "ticks": "",
           "title": {
            "standoff": 15
           },
           "zerolinecolor": "white",
           "zerolinewidth": 2
          }
         }
        },
        "title": {
         "text": "<b>Function presence using different cutoff values for m9-EX_glc__D_e:10.0-EX_gly_e:3.33_NBR<b>",
         "x": 0.5
        },
        "xaxis": {
         "anchor": "y",
         "domain": [
          0,
          1
         ],
         "tickangle": 45,
         "title": {
          "text": "Function"
         }
        },
        "yaxis": {
         "anchor": "x",
         "domain": [
          0,
          1
         ],
         "title": {
          "text": "Presence"
         }
        }
       }
      }
     },
     "metadata": {},
     "output_type": "display_data"
    },
    {
     "name": "stderr",
     "output_type": "stream",
     "text": [
      "/home/alvaro/miniconda3/envs/e_merlin/lib/python3.10/site-packages/openpyxl/workbook/child.py:99: UserWarning:\n",
      "\n",
      "Title is more than 31 characters. Some applications may not be able to read the file\n",
      "\n"
     ]
    },
    {
     "data": {
      "text/html": [
       "<div>\n",
       "<style scoped>\n",
       "    .dataframe tbody tr th:only-of-type {\n",
       "        vertical-align: middle;\n",
       "    }\n",
       "\n",
       "    .dataframe tbody tr th {\n",
       "        vertical-align: top;\n",
       "    }\n",
       "\n",
       "    .dataframe thead th {\n",
       "        text-align: right;\n",
       "    }\n",
       "</style>\n",
       "<table border=\"1\" class=\"dataframe\">\n",
       "  <thead>\n",
       "    <tr style=\"text-align: right;\">\n",
       "      <th></th>\n",
       "      <th>Function</th>\n",
       "      <th>Presence</th>\n",
       "    </tr>\n",
       "  </thead>\n",
       "  <tbody>\n",
       "    <tr>\n",
       "      <th>0</th>\n",
       "      <td>Nucleotide Salvage Pathway</td>\n",
       "      <td>1.000000</td>\n",
       "    </tr>\n",
       "    <tr>\n",
       "      <th>1</th>\n",
       "      <td>Tyrosine, Tryptophan, and Phenylalanine Metabo...</td>\n",
       "      <td>0.000000</td>\n",
       "    </tr>\n",
       "    <tr>\n",
       "      <th>2</th>\n",
       "      <td>Purine and Pyrimidine Biosynthesis</td>\n",
       "      <td>0.000000</td>\n",
       "    </tr>\n",
       "    <tr>\n",
       "      <th>3</th>\n",
       "      <td>Arginine and Proline Metabolism</td>\n",
       "      <td>1.000000</td>\n",
       "    </tr>\n",
       "    <tr>\n",
       "      <th>4</th>\n",
       "      <td>Citric Acid Cycle</td>\n",
       "      <td>0.000000</td>\n",
       "    </tr>\n",
       "    <tr>\n",
       "      <th>5</th>\n",
       "      <td>Cofactor and Prosthetic Group Biosynthesis</td>\n",
       "      <td>1.000000</td>\n",
       "    </tr>\n",
       "    <tr>\n",
       "      <th>6</th>\n",
       "      <td>Pyruvate Metabolism</td>\n",
       "      <td>1.000000</td>\n",
       "    </tr>\n",
       "    <tr>\n",
       "      <th>7</th>\n",
       "      <td>Cysteine Metabolism</td>\n",
       "      <td>1.000000</td>\n",
       "    </tr>\n",
       "    <tr>\n",
       "      <th>8</th>\n",
       "      <td>Alternate Carbon Metabolism</td>\n",
       "      <td>1.000000</td>\n",
       "    </tr>\n",
       "    <tr>\n",
       "      <th>9</th>\n",
       "      <td>Anaplerotic Reactions</td>\n",
       "      <td>0.000000</td>\n",
       "    </tr>\n",
       "    <tr>\n",
       "      <th>10</th>\n",
       "      <td>Alanine and Aspartate Metabolism</td>\n",
       "      <td>0.000000</td>\n",
       "    </tr>\n",
       "    <tr>\n",
       "      <th>11</th>\n",
       "      <td>Glycolysis/Gluconeogenesis</td>\n",
       "      <td>0.000000</td>\n",
       "    </tr>\n",
       "    <tr>\n",
       "      <th>12</th>\n",
       "      <td>Valine, Leucine, and Isoleucine Metabolism</td>\n",
       "      <td>0.000000</td>\n",
       "    </tr>\n",
       "    <tr>\n",
       "      <th>13</th>\n",
       "      <td>Pentose Phosphate Pathway</td>\n",
       "      <td>0.052632</td>\n",
       "    </tr>\n",
       "    <tr>\n",
       "      <th>14</th>\n",
       "      <td>Oxidative Phosphorylation</td>\n",
       "      <td>1.000000</td>\n",
       "    </tr>\n",
       "    <tr>\n",
       "      <th>15</th>\n",
       "      <td>Lipopolysaccharide Biosynthesis / Recycling</td>\n",
       "      <td>1.000000</td>\n",
       "    </tr>\n",
       "    <tr>\n",
       "      <th>16</th>\n",
       "      <td>Membrane Lipid Metabolism</td>\n",
       "      <td>1.000000</td>\n",
       "    </tr>\n",
       "    <tr>\n",
       "      <th>17</th>\n",
       "      <td>Unassigned</td>\n",
       "      <td>1.000000</td>\n",
       "    </tr>\n",
       "    <tr>\n",
       "      <th>18</th>\n",
       "      <td>Methylglyoxal Metabolism</td>\n",
       "      <td>0.000000</td>\n",
       "    </tr>\n",
       "    <tr>\n",
       "      <th>19</th>\n",
       "      <td>tRNA Charging</td>\n",
       "      <td>0.000000</td>\n",
       "    </tr>\n",
       "    <tr>\n",
       "      <th>20</th>\n",
       "      <td>Threonine and Lysine Metabolism</td>\n",
       "      <td>0.473684</td>\n",
       "    </tr>\n",
       "    <tr>\n",
       "      <th>21</th>\n",
       "      <td>Folate Metabolism</td>\n",
       "      <td>0.000000</td>\n",
       "    </tr>\n",
       "    <tr>\n",
       "      <th>22</th>\n",
       "      <td>Glycine and Serine Metabolism</td>\n",
       "      <td>1.000000</td>\n",
       "    </tr>\n",
       "    <tr>\n",
       "      <th>23</th>\n",
       "      <td>Glyoxylate Metabolism</td>\n",
       "      <td>0.000000</td>\n",
       "    </tr>\n",
       "    <tr>\n",
       "      <th>24</th>\n",
       "      <td>Cell Envelope Biosynthesis</td>\n",
       "      <td>1.000000</td>\n",
       "    </tr>\n",
       "    <tr>\n",
       "      <th>25</th>\n",
       "      <td>Methionine Metabolism</td>\n",
       "      <td>0.105263</td>\n",
       "    </tr>\n",
       "    <tr>\n",
       "      <th>26</th>\n",
       "      <td>Nitrogen Metabolism</td>\n",
       "      <td>1.000000</td>\n",
       "    </tr>\n",
       "    <tr>\n",
       "      <th>27</th>\n",
       "      <td>Histidine Metabolism</td>\n",
       "      <td>0.000000</td>\n",
       "    </tr>\n",
       "    <tr>\n",
       "      <th>28</th>\n",
       "      <td>Inorganic Ion Transport and Metabolism</td>\n",
       "      <td>0.105263</td>\n",
       "    </tr>\n",
       "    <tr>\n",
       "      <th>29</th>\n",
       "      <td>Glutamate Metabolism</td>\n",
       "      <td>0.000000</td>\n",
       "    </tr>\n",
       "    <tr>\n",
       "      <th>30</th>\n",
       "      <td>Glycerophospholipid Metabolism</td>\n",
       "      <td>1.000000</td>\n",
       "    </tr>\n",
       "    <tr>\n",
       "      <th>31</th>\n",
       "      <td>Transport, Outer Membrane Porin</td>\n",
       "      <td>1.000000</td>\n",
       "    </tr>\n",
       "    <tr>\n",
       "      <th>32</th>\n",
       "      <td>Transport, Inner Membrane</td>\n",
       "      <td>1.000000</td>\n",
       "    </tr>\n",
       "    <tr>\n",
       "      <th>33</th>\n",
       "      <td>Transport, Outer Membrane</td>\n",
       "      <td>0.000000</td>\n",
       "    </tr>\n",
       "    <tr>\n",
       "      <th>34</th>\n",
       "      <td>Murein Recycling</td>\n",
       "      <td>1.000000</td>\n",
       "    </tr>\n",
       "    <tr>\n",
       "      <th>35</th>\n",
       "      <td>Biomass and maintenance functions</td>\n",
       "      <td>0.000000</td>\n",
       "    </tr>\n",
       "    <tr>\n",
       "      <th>36</th>\n",
       "      <td>Murein Biosynthesis</td>\n",
       "      <td>1.000000</td>\n",
       "    </tr>\n",
       "    <tr>\n",
       "      <th>37</th>\n",
       "      <td>Metabolite Repair</td>\n",
       "      <td>0.000000</td>\n",
       "    </tr>\n",
       "  </tbody>\n",
       "</table>\n",
       "</div>"
      ],
      "text/plain": [
       "                                             Function  Presence\n",
       "0                          Nucleotide Salvage Pathway  1.000000\n",
       "1   Tyrosine, Tryptophan, and Phenylalanine Metabo...  0.000000\n",
       "2                  Purine and Pyrimidine Biosynthesis  0.000000\n",
       "3                     Arginine and Proline Metabolism  1.000000\n",
       "4                                   Citric Acid Cycle  0.000000\n",
       "5          Cofactor and Prosthetic Group Biosynthesis  1.000000\n",
       "6                                 Pyruvate Metabolism  1.000000\n",
       "7                                 Cysteine Metabolism  1.000000\n",
       "8                         Alternate Carbon Metabolism  1.000000\n",
       "9                               Anaplerotic Reactions  0.000000\n",
       "10                   Alanine and Aspartate Metabolism  0.000000\n",
       "11                         Glycolysis/Gluconeogenesis  0.000000\n",
       "12         Valine, Leucine, and Isoleucine Metabolism  0.000000\n",
       "13                          Pentose Phosphate Pathway  0.052632\n",
       "14                          Oxidative Phosphorylation  1.000000\n",
       "15        Lipopolysaccharide Biosynthesis / Recycling  1.000000\n",
       "16                          Membrane Lipid Metabolism  1.000000\n",
       "17                                         Unassigned  1.000000\n",
       "18                           Methylglyoxal Metabolism  0.000000\n",
       "19                                      tRNA Charging  0.000000\n",
       "20                    Threonine and Lysine Metabolism  0.473684\n",
       "21                                  Folate Metabolism  0.000000\n",
       "22                      Glycine and Serine Metabolism  1.000000\n",
       "23                              Glyoxylate Metabolism  0.000000\n",
       "24                         Cell Envelope Biosynthesis  1.000000\n",
       "25                              Methionine Metabolism  0.105263\n",
       "26                                Nitrogen Metabolism  1.000000\n",
       "27                               Histidine Metabolism  0.000000\n",
       "28             Inorganic Ion Transport and Metabolism  0.105263\n",
       "29                               Glutamate Metabolism  0.000000\n",
       "30                     Glycerophospholipid Metabolism  1.000000\n",
       "31                    Transport, Outer Membrane Porin  1.000000\n",
       "32                          Transport, Inner Membrane  1.000000\n",
       "33                          Transport, Outer Membrane  0.000000\n",
       "34                                   Murein Recycling  1.000000\n",
       "35                  Biomass and maintenance functions  0.000000\n",
       "36                                Murein Biosynthesis  1.000000\n",
       "37                                  Metabolite Repair  0.000000"
      ]
     },
     "metadata": {},
     "output_type": "display_data"
    },
    {
     "data": {
      "application/vnd.plotly.v1+json": {
       "config": {
        "plotlyServerURL": "https://plot.ly"
       },
       "data": [
        {
         "alignmentgroup": "True",
         "hovertemplate": "Function=%{x}<br>Presence=%{y}<extra></extra>",
         "legendgroup": "",
         "marker": {
          "color": "#636efa",
          "pattern": {
           "shape": ""
          }
         },
         "name": "",
         "offsetgroup": "",
         "orientation": "v",
         "showlegend": false,
         "textposition": "auto",
         "type": "bar",
         "x": [
          "Nucleotide Salvage Pathway",
          "Tyrosine, Tryptophan, and Phenylalanine Metabolism",
          "Purine and Pyrimidine Biosynthesis",
          "Arginine and Proline Metabolism",
          "Citric Acid Cycle",
          "Cofactor and Prosthetic Group Biosynthesis",
          "Pyruvate Metabolism",
          "Cysteine Metabolism",
          "Alternate Carbon Metabolism",
          "Anaplerotic Reactions",
          "Alanine and Aspartate Metabolism",
          "Glycolysis/Gluconeogenesis",
          "Valine, Leucine, and Isoleucine Metabolism",
          "Pentose Phosphate Pathway",
          "Oxidative Phosphorylation",
          "Lipopolysaccharide Biosynthesis / Recycling",
          "Membrane Lipid Metabolism",
          "Unassigned",
          "Methylglyoxal Metabolism",
          "tRNA Charging",
          "Threonine and Lysine Metabolism",
          "Folate Metabolism",
          "Glycine and Serine Metabolism",
          "Glyoxylate Metabolism",
          "Cell Envelope Biosynthesis",
          "Methionine Metabolism",
          "Nitrogen Metabolism",
          "Histidine Metabolism",
          "Inorganic Ion Transport and Metabolism",
          "Glutamate Metabolism",
          "Glycerophospholipid Metabolism",
          "Transport, Outer Membrane Porin",
          "Transport, Inner Membrane",
          "Transport, Outer Membrane",
          "Murein Recycling",
          "Biomass and maintenance functions",
          "Murein Biosynthesis",
          "Metabolite Repair"
         ],
         "xaxis": "x",
         "y": [
          1,
          0,
          0,
          1,
          0,
          1,
          1,
          1,
          1,
          0,
          0,
          0,
          0,
          0.05263157894736842,
          1,
          1,
          1,
          1,
          0,
          0,
          0.47368421052631576,
          0,
          1,
          0,
          1,
          0.10526315789473684,
          1,
          0,
          0.10526315789473684,
          0,
          1,
          1,
          1,
          0,
          1,
          0,
          1,
          0
         ],
         "yaxis": "y"
        }
       ],
       "layout": {
        "barmode": "relative",
        "height": 600,
        "legend": {
         "tracegroupgap": 0
        },
        "margin": {
         "t": 60
        },
        "template": {
         "data": {
          "bar": [
           {
            "error_x": {
             "color": "#2a3f5f"
            },
            "error_y": {
             "color": "#2a3f5f"
            },
            "marker": {
             "line": {
              "color": "#E5ECF6",
              "width": 0.5
             },
             "pattern": {
              "fillmode": "overlay",
              "size": 10,
              "solidity": 0.2
             }
            },
            "type": "bar"
           }
          ],
          "barpolar": [
           {
            "marker": {
             "line": {
              "color": "#E5ECF6",
              "width": 0.5
             },
             "pattern": {
              "fillmode": "overlay",
              "size": 10,
              "solidity": 0.2
             }
            },
            "type": "barpolar"
           }
          ],
          "carpet": [
           {
            "aaxis": {
             "endlinecolor": "#2a3f5f",
             "gridcolor": "white",
             "linecolor": "white",
             "minorgridcolor": "white",
             "startlinecolor": "#2a3f5f"
            },
            "baxis": {
             "endlinecolor": "#2a3f5f",
             "gridcolor": "white",
             "linecolor": "white",
             "minorgridcolor": "white",
             "startlinecolor": "#2a3f5f"
            },
            "type": "carpet"
           }
          ],
          "choropleth": [
           {
            "colorbar": {
             "outlinewidth": 0,
             "ticks": ""
            },
            "type": "choropleth"
           }
          ],
          "contour": [
           {
            "colorbar": {
             "outlinewidth": 0,
             "ticks": ""
            },
            "colorscale": [
             [
              0,
              "#0d0887"
             ],
             [
              0.1111111111111111,
              "#46039f"
             ],
             [
              0.2222222222222222,
              "#7201a8"
             ],
             [
              0.3333333333333333,
              "#9c179e"
             ],
             [
              0.4444444444444444,
              "#bd3786"
             ],
             [
              0.5555555555555556,
              "#d8576b"
             ],
             [
              0.6666666666666666,
              "#ed7953"
             ],
             [
              0.7777777777777778,
              "#fb9f3a"
             ],
             [
              0.8888888888888888,
              "#fdca26"
             ],
             [
              1,
              "#f0f921"
             ]
            ],
            "type": "contour"
           }
          ],
          "contourcarpet": [
           {
            "colorbar": {
             "outlinewidth": 0,
             "ticks": ""
            },
            "type": "contourcarpet"
           }
          ],
          "heatmap": [
           {
            "colorbar": {
             "outlinewidth": 0,
             "ticks": ""
            },
            "colorscale": [
             [
              0,
              "#0d0887"
             ],
             [
              0.1111111111111111,
              "#46039f"
             ],
             [
              0.2222222222222222,
              "#7201a8"
             ],
             [
              0.3333333333333333,
              "#9c179e"
             ],
             [
              0.4444444444444444,
              "#bd3786"
             ],
             [
              0.5555555555555556,
              "#d8576b"
             ],
             [
              0.6666666666666666,
              "#ed7953"
             ],
             [
              0.7777777777777778,
              "#fb9f3a"
             ],
             [
              0.8888888888888888,
              "#fdca26"
             ],
             [
              1,
              "#f0f921"
             ]
            ],
            "type": "heatmap"
           }
          ],
          "heatmapgl": [
           {
            "colorbar": {
             "outlinewidth": 0,
             "ticks": ""
            },
            "colorscale": [
             [
              0,
              "#0d0887"
             ],
             [
              0.1111111111111111,
              "#46039f"
             ],
             [
              0.2222222222222222,
              "#7201a8"
             ],
             [
              0.3333333333333333,
              "#9c179e"
             ],
             [
              0.4444444444444444,
              "#bd3786"
             ],
             [
              0.5555555555555556,
              "#d8576b"
             ],
             [
              0.6666666666666666,
              "#ed7953"
             ],
             [
              0.7777777777777778,
              "#fb9f3a"
             ],
             [
              0.8888888888888888,
              "#fdca26"
             ],
             [
              1,
              "#f0f921"
             ]
            ],
            "type": "heatmapgl"
           }
          ],
          "histogram": [
           {
            "marker": {
             "pattern": {
              "fillmode": "overlay",
              "size": 10,
              "solidity": 0.2
             }
            },
            "type": "histogram"
           }
          ],
          "histogram2d": [
           {
            "colorbar": {
             "outlinewidth": 0,
             "ticks": ""
            },
            "colorscale": [
             [
              0,
              "#0d0887"
             ],
             [
              0.1111111111111111,
              "#46039f"
             ],
             [
              0.2222222222222222,
              "#7201a8"
             ],
             [
              0.3333333333333333,
              "#9c179e"
             ],
             [
              0.4444444444444444,
              "#bd3786"
             ],
             [
              0.5555555555555556,
              "#d8576b"
             ],
             [
              0.6666666666666666,
              "#ed7953"
             ],
             [
              0.7777777777777778,
              "#fb9f3a"
             ],
             [
              0.8888888888888888,
              "#fdca26"
             ],
             [
              1,
              "#f0f921"
             ]
            ],
            "type": "histogram2d"
           }
          ],
          "histogram2dcontour": [
           {
            "colorbar": {
             "outlinewidth": 0,
             "ticks": ""
            },
            "colorscale": [
             [
              0,
              "#0d0887"
             ],
             [
              0.1111111111111111,
              "#46039f"
             ],
             [
              0.2222222222222222,
              "#7201a8"
             ],
             [
              0.3333333333333333,
              "#9c179e"
             ],
             [
              0.4444444444444444,
              "#bd3786"
             ],
             [
              0.5555555555555556,
              "#d8576b"
             ],
             [
              0.6666666666666666,
              "#ed7953"
             ],
             [
              0.7777777777777778,
              "#fb9f3a"
             ],
             [
              0.8888888888888888,
              "#fdca26"
             ],
             [
              1,
              "#f0f921"
             ]
            ],
            "type": "histogram2dcontour"
           }
          ],
          "mesh3d": [
           {
            "colorbar": {
             "outlinewidth": 0,
             "ticks": ""
            },
            "type": "mesh3d"
           }
          ],
          "parcoords": [
           {
            "line": {
             "colorbar": {
              "outlinewidth": 0,
              "ticks": ""
             }
            },
            "type": "parcoords"
           }
          ],
          "pie": [
           {
            "automargin": true,
            "type": "pie"
           }
          ],
          "scatter": [
           {
            "fillpattern": {
             "fillmode": "overlay",
             "size": 10,
             "solidity": 0.2
            },
            "type": "scatter"
           }
          ],
          "scatter3d": [
           {
            "line": {
             "colorbar": {
              "outlinewidth": 0,
              "ticks": ""
             }
            },
            "marker": {
             "colorbar": {
              "outlinewidth": 0,
              "ticks": ""
             }
            },
            "type": "scatter3d"
           }
          ],
          "scattercarpet": [
           {
            "marker": {
             "colorbar": {
              "outlinewidth": 0,
              "ticks": ""
             }
            },
            "type": "scattercarpet"
           }
          ],
          "scattergeo": [
           {
            "marker": {
             "colorbar": {
              "outlinewidth": 0,
              "ticks": ""
             }
            },
            "type": "scattergeo"
           }
          ],
          "scattergl": [
           {
            "marker": {
             "colorbar": {
              "outlinewidth": 0,
              "ticks": ""
             }
            },
            "type": "scattergl"
           }
          ],
          "scattermapbox": [
           {
            "marker": {
             "colorbar": {
              "outlinewidth": 0,
              "ticks": ""
             }
            },
            "type": "scattermapbox"
           }
          ],
          "scatterpolar": [
           {
            "marker": {
             "colorbar": {
              "outlinewidth": 0,
              "ticks": ""
             }
            },
            "type": "scatterpolar"
           }
          ],
          "scatterpolargl": [
           {
            "marker": {
             "colorbar": {
              "outlinewidth": 0,
              "ticks": ""
             }
            },
            "type": "scatterpolargl"
           }
          ],
          "scatterternary": [
           {
            "marker": {
             "colorbar": {
              "outlinewidth": 0,
              "ticks": ""
             }
            },
            "type": "scatterternary"
           }
          ],
          "surface": [
           {
            "colorbar": {
             "outlinewidth": 0,
             "ticks": ""
            },
            "colorscale": [
             [
              0,
              "#0d0887"
             ],
             [
              0.1111111111111111,
              "#46039f"
             ],
             [
              0.2222222222222222,
              "#7201a8"
             ],
             [
              0.3333333333333333,
              "#9c179e"
             ],
             [
              0.4444444444444444,
              "#bd3786"
             ],
             [
              0.5555555555555556,
              "#d8576b"
             ],
             [
              0.6666666666666666,
              "#ed7953"
             ],
             [
              0.7777777777777778,
              "#fb9f3a"
             ],
             [
              0.8888888888888888,
              "#fdca26"
             ],
             [
              1,
              "#f0f921"
             ]
            ],
            "type": "surface"
           }
          ],
          "table": [
           {
            "cells": {
             "fill": {
              "color": "#EBF0F8"
             },
             "line": {
              "color": "white"
             }
            },
            "header": {
             "fill": {
              "color": "#C8D4E3"
             },
             "line": {
              "color": "white"
             }
            },
            "type": "table"
           }
          ]
         },
         "layout": {
          "annotationdefaults": {
           "arrowcolor": "#2a3f5f",
           "arrowhead": 0,
           "arrowwidth": 1
          },
          "autotypenumbers": "strict",
          "coloraxis": {
           "colorbar": {
            "outlinewidth": 0,
            "ticks": ""
           }
          },
          "colorscale": {
           "diverging": [
            [
             0,
             "#8e0152"
            ],
            [
             0.1,
             "#c51b7d"
            ],
            [
             0.2,
             "#de77ae"
            ],
            [
             0.3,
             "#f1b6da"
            ],
            [
             0.4,
             "#fde0ef"
            ],
            [
             0.5,
             "#f7f7f7"
            ],
            [
             0.6,
             "#e6f5d0"
            ],
            [
             0.7,
             "#b8e186"
            ],
            [
             0.8,
             "#7fbc41"
            ],
            [
             0.9,
             "#4d9221"
            ],
            [
             1,
             "#276419"
            ]
           ],
           "sequential": [
            [
             0,
             "#0d0887"
            ],
            [
             0.1111111111111111,
             "#46039f"
            ],
            [
             0.2222222222222222,
             "#7201a8"
            ],
            [
             0.3333333333333333,
             "#9c179e"
            ],
            [
             0.4444444444444444,
             "#bd3786"
            ],
            [
             0.5555555555555556,
             "#d8576b"
            ],
            [
             0.6666666666666666,
             "#ed7953"
            ],
            [
             0.7777777777777778,
             "#fb9f3a"
            ],
            [
             0.8888888888888888,
             "#fdca26"
            ],
            [
             1,
             "#f0f921"
            ]
           ],
           "sequentialminus": [
            [
             0,
             "#0d0887"
            ],
            [
             0.1111111111111111,
             "#46039f"
            ],
            [
             0.2222222222222222,
             "#7201a8"
            ],
            [
             0.3333333333333333,
             "#9c179e"
            ],
            [
             0.4444444444444444,
             "#bd3786"
            ],
            [
             0.5555555555555556,
             "#d8576b"
            ],
            [
             0.6666666666666666,
             "#ed7953"
            ],
            [
             0.7777777777777778,
             "#fb9f3a"
            ],
            [
             0.8888888888888888,
             "#fdca26"
            ],
            [
             1,
             "#f0f921"
            ]
           ]
          },
          "colorway": [
           "#636efa",
           "#EF553B",
           "#00cc96",
           "#ab63fa",
           "#FFA15A",
           "#19d3f3",
           "#FF6692",
           "#B6E880",
           "#FF97FF",
           "#FECB52"
          ],
          "font": {
           "color": "#2a3f5f"
          },
          "geo": {
           "bgcolor": "white",
           "lakecolor": "white",
           "landcolor": "#E5ECF6",
           "showlakes": true,
           "showland": true,
           "subunitcolor": "white"
          },
          "hoverlabel": {
           "align": "left"
          },
          "hovermode": "closest",
          "mapbox": {
           "style": "light"
          },
          "paper_bgcolor": "white",
          "plot_bgcolor": "#E5ECF6",
          "polar": {
           "angularaxis": {
            "gridcolor": "white",
            "linecolor": "white",
            "ticks": ""
           },
           "bgcolor": "#E5ECF6",
           "radialaxis": {
            "gridcolor": "white",
            "linecolor": "white",
            "ticks": ""
           }
          },
          "scene": {
           "xaxis": {
            "backgroundcolor": "#E5ECF6",
            "gridcolor": "white",
            "gridwidth": 2,
            "linecolor": "white",
            "showbackground": true,
            "ticks": "",
            "zerolinecolor": "white"
           },
           "yaxis": {
            "backgroundcolor": "#E5ECF6",
            "gridcolor": "white",
            "gridwidth": 2,
            "linecolor": "white",
            "showbackground": true,
            "ticks": "",
            "zerolinecolor": "white"
           },
           "zaxis": {
            "backgroundcolor": "#E5ECF6",
            "gridcolor": "white",
            "gridwidth": 2,
            "linecolor": "white",
            "showbackground": true,
            "ticks": "",
            "zerolinecolor": "white"
           }
          },
          "shapedefaults": {
           "line": {
            "color": "#2a3f5f"
           }
          },
          "ternary": {
           "aaxis": {
            "gridcolor": "white",
            "linecolor": "white",
            "ticks": ""
           },
           "baxis": {
            "gridcolor": "white",
            "linecolor": "white",
            "ticks": ""
           },
           "bgcolor": "#E5ECF6",
           "caxis": {
            "gridcolor": "white",
            "linecolor": "white",
            "ticks": ""
           }
          },
          "title": {
           "x": 0.05
          },
          "xaxis": {
           "automargin": true,
           "gridcolor": "white",
           "linecolor": "white",
           "ticks": "",
           "title": {
            "standoff": 15
           },
           "zerolinecolor": "white",
           "zerolinewidth": 2
          },
          "yaxis": {
           "automargin": true,
           "gridcolor": "white",
           "linecolor": "white",
           "ticks": "",
           "title": {
            "standoff": 15
           },
           "zerolinecolor": "white",
           "zerolinewidth": 2
          }
         }
        },
        "title": {
         "text": "<b>Function presence using different cutoff values for m9-EX_glc__D_e:10.0-EX_gly_e:3.33_NBR<b>",
         "x": 0.5
        },
        "xaxis": {
         "anchor": "y",
         "domain": [
          0,
          1
         ],
         "tickangle": 45,
         "title": {
          "text": "Function"
         }
        },
        "yaxis": {
         "anchor": "x",
         "domain": [
          0,
          1
         ],
         "title": {
          "text": "Presence"
         }
        }
       }
      }
     },
     "metadata": {},
     "output_type": "display_data"
    },
    {
     "name": "stderr",
     "output_type": "stream",
     "text": [
      "/home/alvaro/miniconda3/envs/e_merlin/lib/python3.10/site-packages/openpyxl/workbook/child.py:99: UserWarning:\n",
      "\n",
      "Title is more than 31 characters. Some applications may not be able to read the file\n",
      "\n"
     ]
    },
    {
     "data": {
      "text/html": [
       "<div>\n",
       "<style scoped>\n",
       "    .dataframe tbody tr th:only-of-type {\n",
       "        vertical-align: middle;\n",
       "    }\n",
       "\n",
       "    .dataframe tbody tr th {\n",
       "        vertical-align: top;\n",
       "    }\n",
       "\n",
       "    .dataframe thead th {\n",
       "        text-align: right;\n",
       "    }\n",
       "</style>\n",
       "<table border=\"1\" class=\"dataframe\">\n",
       "  <thead>\n",
       "    <tr style=\"text-align: right;\">\n",
       "      <th></th>\n",
       "      <th>Function</th>\n",
       "      <th>Presence</th>\n",
       "    </tr>\n",
       "  </thead>\n",
       "  <tbody>\n",
       "    <tr>\n",
       "      <th>0</th>\n",
       "      <td>NaN</td>\n",
       "      <td>0.0</td>\n",
       "    </tr>\n",
       "  </tbody>\n",
       "</table>\n",
       "</div>"
      ],
      "text/plain": [
       "   Function  Presence\n",
       "0       NaN       0.0"
      ]
     },
     "metadata": {},
     "output_type": "display_data"
    },
    {
     "data": {
      "application/vnd.plotly.v1+json": {
       "config": {
        "plotlyServerURL": "https://plot.ly"
       },
       "data": [
        {
         "alignmentgroup": "True",
         "hovertemplate": "Function=%{x}<br>Presence=%{y}<extra></extra>",
         "legendgroup": "",
         "marker": {
          "color": "#636efa",
          "pattern": {
           "shape": ""
          }
         },
         "name": "",
         "offsetgroup": "",
         "orientation": "v",
         "showlegend": false,
         "textposition": "auto",
         "type": "bar",
         "x": [
          null
         ],
         "xaxis": "x",
         "y": [
          0
         ],
         "yaxis": "y"
        }
       ],
       "layout": {
        "barmode": "relative",
        "height": 600,
        "legend": {
         "tracegroupgap": 0
        },
        "margin": {
         "t": 60
        },
        "template": {
         "data": {
          "bar": [
           {
            "error_x": {
             "color": "#2a3f5f"
            },
            "error_y": {
             "color": "#2a3f5f"
            },
            "marker": {
             "line": {
              "color": "#E5ECF6",
              "width": 0.5
             },
             "pattern": {
              "fillmode": "overlay",
              "size": 10,
              "solidity": 0.2
             }
            },
            "type": "bar"
           }
          ],
          "barpolar": [
           {
            "marker": {
             "line": {
              "color": "#E5ECF6",
              "width": 0.5
             },
             "pattern": {
              "fillmode": "overlay",
              "size": 10,
              "solidity": 0.2
             }
            },
            "type": "barpolar"
           }
          ],
          "carpet": [
           {
            "aaxis": {
             "endlinecolor": "#2a3f5f",
             "gridcolor": "white",
             "linecolor": "white",
             "minorgridcolor": "white",
             "startlinecolor": "#2a3f5f"
            },
            "baxis": {
             "endlinecolor": "#2a3f5f",
             "gridcolor": "white",
             "linecolor": "white",
             "minorgridcolor": "white",
             "startlinecolor": "#2a3f5f"
            },
            "type": "carpet"
           }
          ],
          "choropleth": [
           {
            "colorbar": {
             "outlinewidth": 0,
             "ticks": ""
            },
            "type": "choropleth"
           }
          ],
          "contour": [
           {
            "colorbar": {
             "outlinewidth": 0,
             "ticks": ""
            },
            "colorscale": [
             [
              0,
              "#0d0887"
             ],
             [
              0.1111111111111111,
              "#46039f"
             ],
             [
              0.2222222222222222,
              "#7201a8"
             ],
             [
              0.3333333333333333,
              "#9c179e"
             ],
             [
              0.4444444444444444,
              "#bd3786"
             ],
             [
              0.5555555555555556,
              "#d8576b"
             ],
             [
              0.6666666666666666,
              "#ed7953"
             ],
             [
              0.7777777777777778,
              "#fb9f3a"
             ],
             [
              0.8888888888888888,
              "#fdca26"
             ],
             [
              1,
              "#f0f921"
             ]
            ],
            "type": "contour"
           }
          ],
          "contourcarpet": [
           {
            "colorbar": {
             "outlinewidth": 0,
             "ticks": ""
            },
            "type": "contourcarpet"
           }
          ],
          "heatmap": [
           {
            "colorbar": {
             "outlinewidth": 0,
             "ticks": ""
            },
            "colorscale": [
             [
              0,
              "#0d0887"
             ],
             [
              0.1111111111111111,
              "#46039f"
             ],
             [
              0.2222222222222222,
              "#7201a8"
             ],
             [
              0.3333333333333333,
              "#9c179e"
             ],
             [
              0.4444444444444444,
              "#bd3786"
             ],
             [
              0.5555555555555556,
              "#d8576b"
             ],
             [
              0.6666666666666666,
              "#ed7953"
             ],
             [
              0.7777777777777778,
              "#fb9f3a"
             ],
             [
              0.8888888888888888,
              "#fdca26"
             ],
             [
              1,
              "#f0f921"
             ]
            ],
            "type": "heatmap"
           }
          ],
          "heatmapgl": [
           {
            "colorbar": {
             "outlinewidth": 0,
             "ticks": ""
            },
            "colorscale": [
             [
              0,
              "#0d0887"
             ],
             [
              0.1111111111111111,
              "#46039f"
             ],
             [
              0.2222222222222222,
              "#7201a8"
             ],
             [
              0.3333333333333333,
              "#9c179e"
             ],
             [
              0.4444444444444444,
              "#bd3786"
             ],
             [
              0.5555555555555556,
              "#d8576b"
             ],
             [
              0.6666666666666666,
              "#ed7953"
             ],
             [
              0.7777777777777778,
              "#fb9f3a"
             ],
             [
              0.8888888888888888,
              "#fdca26"
             ],
             [
              1,
              "#f0f921"
             ]
            ],
            "type": "heatmapgl"
           }
          ],
          "histogram": [
           {
            "marker": {
             "pattern": {
              "fillmode": "overlay",
              "size": 10,
              "solidity": 0.2
             }
            },
            "type": "histogram"
           }
          ],
          "histogram2d": [
           {
            "colorbar": {
             "outlinewidth": 0,
             "ticks": ""
            },
            "colorscale": [
             [
              0,
              "#0d0887"
             ],
             [
              0.1111111111111111,
              "#46039f"
             ],
             [
              0.2222222222222222,
              "#7201a8"
             ],
             [
              0.3333333333333333,
              "#9c179e"
             ],
             [
              0.4444444444444444,
              "#bd3786"
             ],
             [
              0.5555555555555556,
              "#d8576b"
             ],
             [
              0.6666666666666666,
              "#ed7953"
             ],
             [
              0.7777777777777778,
              "#fb9f3a"
             ],
             [
              0.8888888888888888,
              "#fdca26"
             ],
             [
              1,
              "#f0f921"
             ]
            ],
            "type": "histogram2d"
           }
          ],
          "histogram2dcontour": [
           {
            "colorbar": {
             "outlinewidth": 0,
             "ticks": ""
            },
            "colorscale": [
             [
              0,
              "#0d0887"
             ],
             [
              0.1111111111111111,
              "#46039f"
             ],
             [
              0.2222222222222222,
              "#7201a8"
             ],
             [
              0.3333333333333333,
              "#9c179e"
             ],
             [
              0.4444444444444444,
              "#bd3786"
             ],
             [
              0.5555555555555556,
              "#d8576b"
             ],
             [
              0.6666666666666666,
              "#ed7953"
             ],
             [
              0.7777777777777778,
              "#fb9f3a"
             ],
             [
              0.8888888888888888,
              "#fdca26"
             ],
             [
              1,
              "#f0f921"
             ]
            ],
            "type": "histogram2dcontour"
           }
          ],
          "mesh3d": [
           {
            "colorbar": {
             "outlinewidth": 0,
             "ticks": ""
            },
            "type": "mesh3d"
           }
          ],
          "parcoords": [
           {
            "line": {
             "colorbar": {
              "outlinewidth": 0,
              "ticks": ""
             }
            },
            "type": "parcoords"
           }
          ],
          "pie": [
           {
            "automargin": true,
            "type": "pie"
           }
          ],
          "scatter": [
           {
            "fillpattern": {
             "fillmode": "overlay",
             "size": 10,
             "solidity": 0.2
            },
            "type": "scatter"
           }
          ],
          "scatter3d": [
           {
            "line": {
             "colorbar": {
              "outlinewidth": 0,
              "ticks": ""
             }
            },
            "marker": {
             "colorbar": {
              "outlinewidth": 0,
              "ticks": ""
             }
            },
            "type": "scatter3d"
           }
          ],
          "scattercarpet": [
           {
            "marker": {
             "colorbar": {
              "outlinewidth": 0,
              "ticks": ""
             }
            },
            "type": "scattercarpet"
           }
          ],
          "scattergeo": [
           {
            "marker": {
             "colorbar": {
              "outlinewidth": 0,
              "ticks": ""
             }
            },
            "type": "scattergeo"
           }
          ],
          "scattergl": [
           {
            "marker": {
             "colorbar": {
              "outlinewidth": 0,
              "ticks": ""
             }
            },
            "type": "scattergl"
           }
          ],
          "scattermapbox": [
           {
            "marker": {
             "colorbar": {
              "outlinewidth": 0,
              "ticks": ""
             }
            },
            "type": "scattermapbox"
           }
          ],
          "scatterpolar": [
           {
            "marker": {
             "colorbar": {
              "outlinewidth": 0,
              "ticks": ""
             }
            },
            "type": "scatterpolar"
           }
          ],
          "scatterpolargl": [
           {
            "marker": {
             "colorbar": {
              "outlinewidth": 0,
              "ticks": ""
             }
            },
            "type": "scatterpolargl"
           }
          ],
          "scatterternary": [
           {
            "marker": {
             "colorbar": {
              "outlinewidth": 0,
              "ticks": ""
             }
            },
            "type": "scatterternary"
           }
          ],
          "surface": [
           {
            "colorbar": {
             "outlinewidth": 0,
             "ticks": ""
            },
            "colorscale": [
             [
              0,
              "#0d0887"
             ],
             [
              0.1111111111111111,
              "#46039f"
             ],
             [
              0.2222222222222222,
              "#7201a8"
             ],
             [
              0.3333333333333333,
              "#9c179e"
             ],
             [
              0.4444444444444444,
              "#bd3786"
             ],
             [
              0.5555555555555556,
              "#d8576b"
             ],
             [
              0.6666666666666666,
              "#ed7953"
             ],
             [
              0.7777777777777778,
              "#fb9f3a"
             ],
             [
              0.8888888888888888,
              "#fdca26"
             ],
             [
              1,
              "#f0f921"
             ]
            ],
            "type": "surface"
           }
          ],
          "table": [
           {
            "cells": {
             "fill": {
              "color": "#EBF0F8"
             },
             "line": {
              "color": "white"
             }
            },
            "header": {
             "fill": {
              "color": "#C8D4E3"
             },
             "line": {
              "color": "white"
             }
            },
            "type": "table"
           }
          ]
         },
         "layout": {
          "annotationdefaults": {
           "arrowcolor": "#2a3f5f",
           "arrowhead": 0,
           "arrowwidth": 1
          },
          "autotypenumbers": "strict",
          "coloraxis": {
           "colorbar": {
            "outlinewidth": 0,
            "ticks": ""
           }
          },
          "colorscale": {
           "diverging": [
            [
             0,
             "#8e0152"
            ],
            [
             0.1,
             "#c51b7d"
            ],
            [
             0.2,
             "#de77ae"
            ],
            [
             0.3,
             "#f1b6da"
            ],
            [
             0.4,
             "#fde0ef"
            ],
            [
             0.5,
             "#f7f7f7"
            ],
            [
             0.6,
             "#e6f5d0"
            ],
            [
             0.7,
             "#b8e186"
            ],
            [
             0.8,
             "#7fbc41"
            ],
            [
             0.9,
             "#4d9221"
            ],
            [
             1,
             "#276419"
            ]
           ],
           "sequential": [
            [
             0,
             "#0d0887"
            ],
            [
             0.1111111111111111,
             "#46039f"
            ],
            [
             0.2222222222222222,
             "#7201a8"
            ],
            [
             0.3333333333333333,
             "#9c179e"
            ],
            [
             0.4444444444444444,
             "#bd3786"
            ],
            [
             0.5555555555555556,
             "#d8576b"
            ],
            [
             0.6666666666666666,
             "#ed7953"
            ],
            [
             0.7777777777777778,
             "#fb9f3a"
            ],
            [
             0.8888888888888888,
             "#fdca26"
            ],
            [
             1,
             "#f0f921"
            ]
           ],
           "sequentialminus": [
            [
             0,
             "#0d0887"
            ],
            [
             0.1111111111111111,
             "#46039f"
            ],
            [
             0.2222222222222222,
             "#7201a8"
            ],
            [
             0.3333333333333333,
             "#9c179e"
            ],
            [
             0.4444444444444444,
             "#bd3786"
            ],
            [
             0.5555555555555556,
             "#d8576b"
            ],
            [
             0.6666666666666666,
             "#ed7953"
            ],
            [
             0.7777777777777778,
             "#fb9f3a"
            ],
            [
             0.8888888888888888,
             "#fdca26"
            ],
            [
             1,
             "#f0f921"
            ]
           ]
          },
          "colorway": [
           "#636efa",
           "#EF553B",
           "#00cc96",
           "#ab63fa",
           "#FFA15A",
           "#19d3f3",
           "#FF6692",
           "#B6E880",
           "#FF97FF",
           "#FECB52"
          ],
          "font": {
           "color": "#2a3f5f"
          },
          "geo": {
           "bgcolor": "white",
           "lakecolor": "white",
           "landcolor": "#E5ECF6",
           "showlakes": true,
           "showland": true,
           "subunitcolor": "white"
          },
          "hoverlabel": {
           "align": "left"
          },
          "hovermode": "closest",
          "mapbox": {
           "style": "light"
          },
          "paper_bgcolor": "white",
          "plot_bgcolor": "#E5ECF6",
          "polar": {
           "angularaxis": {
            "gridcolor": "white",
            "linecolor": "white",
            "ticks": ""
           },
           "bgcolor": "#E5ECF6",
           "radialaxis": {
            "gridcolor": "white",
            "linecolor": "white",
            "ticks": ""
           }
          },
          "scene": {
           "xaxis": {
            "backgroundcolor": "#E5ECF6",
            "gridcolor": "white",
            "gridwidth": 2,
            "linecolor": "white",
            "showbackground": true,
            "ticks": "",
            "zerolinecolor": "white"
           },
           "yaxis": {
            "backgroundcolor": "#E5ECF6",
            "gridcolor": "white",
            "gridwidth": 2,
            "linecolor": "white",
            "showbackground": true,
            "ticks": "",
            "zerolinecolor": "white"
           },
           "zaxis": {
            "backgroundcolor": "#E5ECF6",
            "gridcolor": "white",
            "gridwidth": 2,
            "linecolor": "white",
            "showbackground": true,
            "ticks": "",
            "zerolinecolor": "white"
           }
          },
          "shapedefaults": {
           "line": {
            "color": "#2a3f5f"
           }
          },
          "ternary": {
           "aaxis": {
            "gridcolor": "white",
            "linecolor": "white",
            "ticks": ""
           },
           "baxis": {
            "gridcolor": "white",
            "linecolor": "white",
            "ticks": ""
           },
           "bgcolor": "#E5ECF6",
           "caxis": {
            "gridcolor": "white",
            "linecolor": "white",
            "ticks": ""
           }
          },
          "title": {
           "x": 0.05
          },
          "xaxis": {
           "automargin": true,
           "gridcolor": "white",
           "linecolor": "white",
           "ticks": "",
           "title": {
            "standoff": 15
           },
           "zerolinecolor": "white",
           "zerolinewidth": 2
          },
          "yaxis": {
           "automargin": true,
           "gridcolor": "white",
           "linecolor": "white",
           "ticks": "",
           "title": {
            "standoff": 15
           },
           "zerolinecolor": "white",
           "zerolinewidth": 2
          }
         }
        },
        "title": {
         "text": "<b>Function presence using different cutoff values for m9-EX_glc__D_e:10.0-EX_gly_e:3.33_BAR<b>",
         "x": 0.5
        },
        "xaxis": {
         "anchor": "y",
         "domain": [
          0,
          1
         ],
         "tickangle": 45,
         "title": {
          "text": "Function"
         }
        },
        "yaxis": {
         "anchor": "x",
         "domain": [
          0,
          1
         ],
         "title": {
          "text": "Presence"
         }
        }
       }
      }
     },
     "metadata": {},
     "output_type": "display_data"
    },
    {
     "name": "stderr",
     "output_type": "stream",
     "text": [
      "/home/alvaro/miniconda3/envs/e_merlin/lib/python3.10/site-packages/openpyxl/workbook/child.py:99: UserWarning:\n",
      "\n",
      "Title is more than 31 characters. Some applications may not be able to read the file\n",
      "\n"
     ]
    },
    {
     "data": {
      "text/html": [
       "<div>\n",
       "<style scoped>\n",
       "    .dataframe tbody tr th:only-of-type {\n",
       "        vertical-align: middle;\n",
       "    }\n",
       "\n",
       "    .dataframe tbody tr th {\n",
       "        vertical-align: top;\n",
       "    }\n",
       "\n",
       "    .dataframe thead th {\n",
       "        text-align: right;\n",
       "    }\n",
       "</style>\n",
       "<table border=\"1\" class=\"dataframe\">\n",
       "  <thead>\n",
       "    <tr style=\"text-align: right;\">\n",
       "      <th></th>\n",
       "      <th>Function</th>\n",
       "      <th>Presence</th>\n",
       "    </tr>\n",
       "  </thead>\n",
       "  <tbody>\n",
       "    <tr>\n",
       "      <th>0</th>\n",
       "      <td>Nucleotide Salvage Pathway</td>\n",
       "      <td>1.000000</td>\n",
       "    </tr>\n",
       "    <tr>\n",
       "      <th>1</th>\n",
       "      <td>Tyrosine, Tryptophan, and Phenylalanine Metabo...</td>\n",
       "      <td>1.000000</td>\n",
       "    </tr>\n",
       "    <tr>\n",
       "      <th>2</th>\n",
       "      <td>Purine and Pyrimidine Biosynthesis</td>\n",
       "      <td>1.000000</td>\n",
       "    </tr>\n",
       "    <tr>\n",
       "      <th>3</th>\n",
       "      <td>Arginine and Proline Metabolism</td>\n",
       "      <td>1.000000</td>\n",
       "    </tr>\n",
       "    <tr>\n",
       "      <th>4</th>\n",
       "      <td>Citric Acid Cycle</td>\n",
       "      <td>1.000000</td>\n",
       "    </tr>\n",
       "    <tr>\n",
       "      <th>5</th>\n",
       "      <td>Cofactor and Prosthetic Group Biosynthesis</td>\n",
       "      <td>1.000000</td>\n",
       "    </tr>\n",
       "    <tr>\n",
       "      <th>6</th>\n",
       "      <td>Pyruvate Metabolism</td>\n",
       "      <td>1.000000</td>\n",
       "    </tr>\n",
       "    <tr>\n",
       "      <th>7</th>\n",
       "      <td>Cysteine Metabolism</td>\n",
       "      <td>1.000000</td>\n",
       "    </tr>\n",
       "    <tr>\n",
       "      <th>8</th>\n",
       "      <td>Alternate Carbon Metabolism</td>\n",
       "      <td>1.000000</td>\n",
       "    </tr>\n",
       "    <tr>\n",
       "      <th>9</th>\n",
       "      <td>Anaplerotic Reactions</td>\n",
       "      <td>1.000000</td>\n",
       "    </tr>\n",
       "    <tr>\n",
       "      <th>10</th>\n",
       "      <td>Alanine and Aspartate Metabolism</td>\n",
       "      <td>1.000000</td>\n",
       "    </tr>\n",
       "    <tr>\n",
       "      <th>11</th>\n",
       "      <td>Glycolysis/Gluconeogenesis</td>\n",
       "      <td>1.000000</td>\n",
       "    </tr>\n",
       "    <tr>\n",
       "      <th>12</th>\n",
       "      <td>Valine, Leucine, and Isoleucine Metabolism</td>\n",
       "      <td>1.000000</td>\n",
       "    </tr>\n",
       "    <tr>\n",
       "      <th>13</th>\n",
       "      <td>Pentose Phosphate Pathway</td>\n",
       "      <td>1.000000</td>\n",
       "    </tr>\n",
       "    <tr>\n",
       "      <th>14</th>\n",
       "      <td>Oxidative Phosphorylation</td>\n",
       "      <td>1.000000</td>\n",
       "    </tr>\n",
       "    <tr>\n",
       "      <th>15</th>\n",
       "      <td>Lipopolysaccharide Biosynthesis / Recycling</td>\n",
       "      <td>1.000000</td>\n",
       "    </tr>\n",
       "    <tr>\n",
       "      <th>16</th>\n",
       "      <td>Membrane Lipid Metabolism</td>\n",
       "      <td>1.000000</td>\n",
       "    </tr>\n",
       "    <tr>\n",
       "      <th>17</th>\n",
       "      <td>Unassigned</td>\n",
       "      <td>0.105263</td>\n",
       "    </tr>\n",
       "    <tr>\n",
       "      <th>18</th>\n",
       "      <td>Methylglyoxal Metabolism</td>\n",
       "      <td>0.000000</td>\n",
       "    </tr>\n",
       "    <tr>\n",
       "      <th>19</th>\n",
       "      <td>tRNA Charging</td>\n",
       "      <td>0.000000</td>\n",
       "    </tr>\n",
       "    <tr>\n",
       "      <th>20</th>\n",
       "      <td>Threonine and Lysine Metabolism</td>\n",
       "      <td>1.000000</td>\n",
       "    </tr>\n",
       "    <tr>\n",
       "      <th>21</th>\n",
       "      <td>Folate Metabolism</td>\n",
       "      <td>1.000000</td>\n",
       "    </tr>\n",
       "    <tr>\n",
       "      <th>22</th>\n",
       "      <td>Glycine and Serine Metabolism</td>\n",
       "      <td>1.000000</td>\n",
       "    </tr>\n",
       "    <tr>\n",
       "      <th>23</th>\n",
       "      <td>Glyoxylate Metabolism</td>\n",
       "      <td>1.000000</td>\n",
       "    </tr>\n",
       "    <tr>\n",
       "      <th>24</th>\n",
       "      <td>Cell Envelope Biosynthesis</td>\n",
       "      <td>1.000000</td>\n",
       "    </tr>\n",
       "    <tr>\n",
       "      <th>25</th>\n",
       "      <td>Methionine Metabolism</td>\n",
       "      <td>1.000000</td>\n",
       "    </tr>\n",
       "    <tr>\n",
       "      <th>26</th>\n",
       "      <td>Nitrogen Metabolism</td>\n",
       "      <td>0.000000</td>\n",
       "    </tr>\n",
       "    <tr>\n",
       "      <th>27</th>\n",
       "      <td>Histidine Metabolism</td>\n",
       "      <td>1.000000</td>\n",
       "    </tr>\n",
       "    <tr>\n",
       "      <th>28</th>\n",
       "      <td>Inorganic Ion Transport and Metabolism</td>\n",
       "      <td>1.000000</td>\n",
       "    </tr>\n",
       "    <tr>\n",
       "      <th>29</th>\n",
       "      <td>Glutamate Metabolism</td>\n",
       "      <td>1.000000</td>\n",
       "    </tr>\n",
       "    <tr>\n",
       "      <th>30</th>\n",
       "      <td>Glycerophospholipid Metabolism</td>\n",
       "      <td>1.000000</td>\n",
       "    </tr>\n",
       "    <tr>\n",
       "      <th>31</th>\n",
       "      <td>Transport, Outer Membrane Porin</td>\n",
       "      <td>1.000000</td>\n",
       "    </tr>\n",
       "    <tr>\n",
       "      <th>32</th>\n",
       "      <td>Transport, Inner Membrane</td>\n",
       "      <td>1.000000</td>\n",
       "    </tr>\n",
       "    <tr>\n",
       "      <th>33</th>\n",
       "      <td>Transport, Outer Membrane</td>\n",
       "      <td>0.000000</td>\n",
       "    </tr>\n",
       "    <tr>\n",
       "      <th>34</th>\n",
       "      <td>Murein Recycling</td>\n",
       "      <td>0.000000</td>\n",
       "    </tr>\n",
       "    <tr>\n",
       "      <th>35</th>\n",
       "      <td>Biomass and maintenance functions</td>\n",
       "      <td>1.000000</td>\n",
       "    </tr>\n",
       "    <tr>\n",
       "      <th>36</th>\n",
       "      <td>Murein Biosynthesis</td>\n",
       "      <td>1.000000</td>\n",
       "    </tr>\n",
       "    <tr>\n",
       "      <th>37</th>\n",
       "      <td>Metabolite Repair</td>\n",
       "      <td>1.000000</td>\n",
       "    </tr>\n",
       "  </tbody>\n",
       "</table>\n",
       "</div>"
      ],
      "text/plain": [
       "                                             Function  Presence\n",
       "0                          Nucleotide Salvage Pathway  1.000000\n",
       "1   Tyrosine, Tryptophan, and Phenylalanine Metabo...  1.000000\n",
       "2                  Purine and Pyrimidine Biosynthesis  1.000000\n",
       "3                     Arginine and Proline Metabolism  1.000000\n",
       "4                                   Citric Acid Cycle  1.000000\n",
       "5          Cofactor and Prosthetic Group Biosynthesis  1.000000\n",
       "6                                 Pyruvate Metabolism  1.000000\n",
       "7                                 Cysteine Metabolism  1.000000\n",
       "8                         Alternate Carbon Metabolism  1.000000\n",
       "9                               Anaplerotic Reactions  1.000000\n",
       "10                   Alanine and Aspartate Metabolism  1.000000\n",
       "11                         Glycolysis/Gluconeogenesis  1.000000\n",
       "12         Valine, Leucine, and Isoleucine Metabolism  1.000000\n",
       "13                          Pentose Phosphate Pathway  1.000000\n",
       "14                          Oxidative Phosphorylation  1.000000\n",
       "15        Lipopolysaccharide Biosynthesis / Recycling  1.000000\n",
       "16                          Membrane Lipid Metabolism  1.000000\n",
       "17                                         Unassigned  0.105263\n",
       "18                           Methylglyoxal Metabolism  0.000000\n",
       "19                                      tRNA Charging  0.000000\n",
       "20                    Threonine and Lysine Metabolism  1.000000\n",
       "21                                  Folate Metabolism  1.000000\n",
       "22                      Glycine and Serine Metabolism  1.000000\n",
       "23                              Glyoxylate Metabolism  1.000000\n",
       "24                         Cell Envelope Biosynthesis  1.000000\n",
       "25                              Methionine Metabolism  1.000000\n",
       "26                                Nitrogen Metabolism  0.000000\n",
       "27                               Histidine Metabolism  1.000000\n",
       "28             Inorganic Ion Transport and Metabolism  1.000000\n",
       "29                               Glutamate Metabolism  1.000000\n",
       "30                     Glycerophospholipid Metabolism  1.000000\n",
       "31                    Transport, Outer Membrane Porin  1.000000\n",
       "32                          Transport, Inner Membrane  1.000000\n",
       "33                          Transport, Outer Membrane  0.000000\n",
       "34                                   Murein Recycling  0.000000\n",
       "35                  Biomass and maintenance functions  1.000000\n",
       "36                                Murein Biosynthesis  1.000000\n",
       "37                                  Metabolite Repair  1.000000"
      ]
     },
     "metadata": {},
     "output_type": "display_data"
    },
    {
     "data": {
      "application/vnd.plotly.v1+json": {
       "config": {
        "plotlyServerURL": "https://plot.ly"
       },
       "data": [
        {
         "alignmentgroup": "True",
         "hovertemplate": "Function=%{x}<br>Presence=%{y}<extra></extra>",
         "legendgroup": "",
         "marker": {
          "color": "#636efa",
          "pattern": {
           "shape": ""
          }
         },
         "name": "",
         "offsetgroup": "",
         "orientation": "v",
         "showlegend": false,
         "textposition": "auto",
         "type": "bar",
         "x": [
          "Nucleotide Salvage Pathway",
          "Tyrosine, Tryptophan, and Phenylalanine Metabolism",
          "Purine and Pyrimidine Biosynthesis",
          "Arginine and Proline Metabolism",
          "Citric Acid Cycle",
          "Cofactor and Prosthetic Group Biosynthesis",
          "Pyruvate Metabolism",
          "Cysteine Metabolism",
          "Alternate Carbon Metabolism",
          "Anaplerotic Reactions",
          "Alanine and Aspartate Metabolism",
          "Glycolysis/Gluconeogenesis",
          "Valine, Leucine, and Isoleucine Metabolism",
          "Pentose Phosphate Pathway",
          "Oxidative Phosphorylation",
          "Lipopolysaccharide Biosynthesis / Recycling",
          "Membrane Lipid Metabolism",
          "Unassigned",
          "Methylglyoxal Metabolism",
          "tRNA Charging",
          "Threonine and Lysine Metabolism",
          "Folate Metabolism",
          "Glycine and Serine Metabolism",
          "Glyoxylate Metabolism",
          "Cell Envelope Biosynthesis",
          "Methionine Metabolism",
          "Nitrogen Metabolism",
          "Histidine Metabolism",
          "Inorganic Ion Transport and Metabolism",
          "Glutamate Metabolism",
          "Glycerophospholipid Metabolism",
          "Transport, Outer Membrane Porin",
          "Transport, Inner Membrane",
          "Transport, Outer Membrane",
          "Murein Recycling",
          "Biomass and maintenance functions",
          "Murein Biosynthesis",
          "Metabolite Repair"
         ],
         "xaxis": "x",
         "y": [
          1,
          1,
          1,
          1,
          1,
          1,
          1,
          1,
          1,
          1,
          1,
          1,
          1,
          1,
          1,
          1,
          1,
          0.10526315789473684,
          0,
          0,
          1,
          1,
          1,
          1,
          1,
          1,
          0,
          1,
          1,
          1,
          1,
          1,
          1,
          0,
          0,
          1,
          1,
          1
         ],
         "yaxis": "y"
        }
       ],
       "layout": {
        "barmode": "relative",
        "height": 600,
        "legend": {
         "tracegroupgap": 0
        },
        "margin": {
         "t": 60
        },
        "template": {
         "data": {
          "bar": [
           {
            "error_x": {
             "color": "#2a3f5f"
            },
            "error_y": {
             "color": "#2a3f5f"
            },
            "marker": {
             "line": {
              "color": "#E5ECF6",
              "width": 0.5
             },
             "pattern": {
              "fillmode": "overlay",
              "size": 10,
              "solidity": 0.2
             }
            },
            "type": "bar"
           }
          ],
          "barpolar": [
           {
            "marker": {
             "line": {
              "color": "#E5ECF6",
              "width": 0.5
             },
             "pattern": {
              "fillmode": "overlay",
              "size": 10,
              "solidity": 0.2
             }
            },
            "type": "barpolar"
           }
          ],
          "carpet": [
           {
            "aaxis": {
             "endlinecolor": "#2a3f5f",
             "gridcolor": "white",
             "linecolor": "white",
             "minorgridcolor": "white",
             "startlinecolor": "#2a3f5f"
            },
            "baxis": {
             "endlinecolor": "#2a3f5f",
             "gridcolor": "white",
             "linecolor": "white",
             "minorgridcolor": "white",
             "startlinecolor": "#2a3f5f"
            },
            "type": "carpet"
           }
          ],
          "choropleth": [
           {
            "colorbar": {
             "outlinewidth": 0,
             "ticks": ""
            },
            "type": "choropleth"
           }
          ],
          "contour": [
           {
            "colorbar": {
             "outlinewidth": 0,
             "ticks": ""
            },
            "colorscale": [
             [
              0,
              "#0d0887"
             ],
             [
              0.1111111111111111,
              "#46039f"
             ],
             [
              0.2222222222222222,
              "#7201a8"
             ],
             [
              0.3333333333333333,
              "#9c179e"
             ],
             [
              0.4444444444444444,
              "#bd3786"
             ],
             [
              0.5555555555555556,
              "#d8576b"
             ],
             [
              0.6666666666666666,
              "#ed7953"
             ],
             [
              0.7777777777777778,
              "#fb9f3a"
             ],
             [
              0.8888888888888888,
              "#fdca26"
             ],
             [
              1,
              "#f0f921"
             ]
            ],
            "type": "contour"
           }
          ],
          "contourcarpet": [
           {
            "colorbar": {
             "outlinewidth": 0,
             "ticks": ""
            },
            "type": "contourcarpet"
           }
          ],
          "heatmap": [
           {
            "colorbar": {
             "outlinewidth": 0,
             "ticks": ""
            },
            "colorscale": [
             [
              0,
              "#0d0887"
             ],
             [
              0.1111111111111111,
              "#46039f"
             ],
             [
              0.2222222222222222,
              "#7201a8"
             ],
             [
              0.3333333333333333,
              "#9c179e"
             ],
             [
              0.4444444444444444,
              "#bd3786"
             ],
             [
              0.5555555555555556,
              "#d8576b"
             ],
             [
              0.6666666666666666,
              "#ed7953"
             ],
             [
              0.7777777777777778,
              "#fb9f3a"
             ],
             [
              0.8888888888888888,
              "#fdca26"
             ],
             [
              1,
              "#f0f921"
             ]
            ],
            "type": "heatmap"
           }
          ],
          "heatmapgl": [
           {
            "colorbar": {
             "outlinewidth": 0,
             "ticks": ""
            },
            "colorscale": [
             [
              0,
              "#0d0887"
             ],
             [
              0.1111111111111111,
              "#46039f"
             ],
             [
              0.2222222222222222,
              "#7201a8"
             ],
             [
              0.3333333333333333,
              "#9c179e"
             ],
             [
              0.4444444444444444,
              "#bd3786"
             ],
             [
              0.5555555555555556,
              "#d8576b"
             ],
             [
              0.6666666666666666,
              "#ed7953"
             ],
             [
              0.7777777777777778,
              "#fb9f3a"
             ],
             [
              0.8888888888888888,
              "#fdca26"
             ],
             [
              1,
              "#f0f921"
             ]
            ],
            "type": "heatmapgl"
           }
          ],
          "histogram": [
           {
            "marker": {
             "pattern": {
              "fillmode": "overlay",
              "size": 10,
              "solidity": 0.2
             }
            },
            "type": "histogram"
           }
          ],
          "histogram2d": [
           {
            "colorbar": {
             "outlinewidth": 0,
             "ticks": ""
            },
            "colorscale": [
             [
              0,
              "#0d0887"
             ],
             [
              0.1111111111111111,
              "#46039f"
             ],
             [
              0.2222222222222222,
              "#7201a8"
             ],
             [
              0.3333333333333333,
              "#9c179e"
             ],
             [
              0.4444444444444444,
              "#bd3786"
             ],
             [
              0.5555555555555556,
              "#d8576b"
             ],
             [
              0.6666666666666666,
              "#ed7953"
             ],
             [
              0.7777777777777778,
              "#fb9f3a"
             ],
             [
              0.8888888888888888,
              "#fdca26"
             ],
             [
              1,
              "#f0f921"
             ]
            ],
            "type": "histogram2d"
           }
          ],
          "histogram2dcontour": [
           {
            "colorbar": {
             "outlinewidth": 0,
             "ticks": ""
            },
            "colorscale": [
             [
              0,
              "#0d0887"
             ],
             [
              0.1111111111111111,
              "#46039f"
             ],
             [
              0.2222222222222222,
              "#7201a8"
             ],
             [
              0.3333333333333333,
              "#9c179e"
             ],
             [
              0.4444444444444444,
              "#bd3786"
             ],
             [
              0.5555555555555556,
              "#d8576b"
             ],
             [
              0.6666666666666666,
              "#ed7953"
             ],
             [
              0.7777777777777778,
              "#fb9f3a"
             ],
             [
              0.8888888888888888,
              "#fdca26"
             ],
             [
              1,
              "#f0f921"
             ]
            ],
            "type": "histogram2dcontour"
           }
          ],
          "mesh3d": [
           {
            "colorbar": {
             "outlinewidth": 0,
             "ticks": ""
            },
            "type": "mesh3d"
           }
          ],
          "parcoords": [
           {
            "line": {
             "colorbar": {
              "outlinewidth": 0,
              "ticks": ""
             }
            },
            "type": "parcoords"
           }
          ],
          "pie": [
           {
            "automargin": true,
            "type": "pie"
           }
          ],
          "scatter": [
           {
            "fillpattern": {
             "fillmode": "overlay",
             "size": 10,
             "solidity": 0.2
            },
            "type": "scatter"
           }
          ],
          "scatter3d": [
           {
            "line": {
             "colorbar": {
              "outlinewidth": 0,
              "ticks": ""
             }
            },
            "marker": {
             "colorbar": {
              "outlinewidth": 0,
              "ticks": ""
             }
            },
            "type": "scatter3d"
           }
          ],
          "scattercarpet": [
           {
            "marker": {
             "colorbar": {
              "outlinewidth": 0,
              "ticks": ""
             }
            },
            "type": "scattercarpet"
           }
          ],
          "scattergeo": [
           {
            "marker": {
             "colorbar": {
              "outlinewidth": 0,
              "ticks": ""
             }
            },
            "type": "scattergeo"
           }
          ],
          "scattergl": [
           {
            "marker": {
             "colorbar": {
              "outlinewidth": 0,
              "ticks": ""
             }
            },
            "type": "scattergl"
           }
          ],
          "scattermapbox": [
           {
            "marker": {
             "colorbar": {
              "outlinewidth": 0,
              "ticks": ""
             }
            },
            "type": "scattermapbox"
           }
          ],
          "scatterpolar": [
           {
            "marker": {
             "colorbar": {
              "outlinewidth": 0,
              "ticks": ""
             }
            },
            "type": "scatterpolar"
           }
          ],
          "scatterpolargl": [
           {
            "marker": {
             "colorbar": {
              "outlinewidth": 0,
              "ticks": ""
             }
            },
            "type": "scatterpolargl"
           }
          ],
          "scatterternary": [
           {
            "marker": {
             "colorbar": {
              "outlinewidth": 0,
              "ticks": ""
             }
            },
            "type": "scatterternary"
           }
          ],
          "surface": [
           {
            "colorbar": {
             "outlinewidth": 0,
             "ticks": ""
            },
            "colorscale": [
             [
              0,
              "#0d0887"
             ],
             [
              0.1111111111111111,
              "#46039f"
             ],
             [
              0.2222222222222222,
              "#7201a8"
             ],
             [
              0.3333333333333333,
              "#9c179e"
             ],
             [
              0.4444444444444444,
              "#bd3786"
             ],
             [
              0.5555555555555556,
              "#d8576b"
             ],
             [
              0.6666666666666666,
              "#ed7953"
             ],
             [
              0.7777777777777778,
              "#fb9f3a"
             ],
             [
              0.8888888888888888,
              "#fdca26"
             ],
             [
              1,
              "#f0f921"
             ]
            ],
            "type": "surface"
           }
          ],
          "table": [
           {
            "cells": {
             "fill": {
              "color": "#EBF0F8"
             },
             "line": {
              "color": "white"
             }
            },
            "header": {
             "fill": {
              "color": "#C8D4E3"
             },
             "line": {
              "color": "white"
             }
            },
            "type": "table"
           }
          ]
         },
         "layout": {
          "annotationdefaults": {
           "arrowcolor": "#2a3f5f",
           "arrowhead": 0,
           "arrowwidth": 1
          },
          "autotypenumbers": "strict",
          "coloraxis": {
           "colorbar": {
            "outlinewidth": 0,
            "ticks": ""
           }
          },
          "colorscale": {
           "diverging": [
            [
             0,
             "#8e0152"
            ],
            [
             0.1,
             "#c51b7d"
            ],
            [
             0.2,
             "#de77ae"
            ],
            [
             0.3,
             "#f1b6da"
            ],
            [
             0.4,
             "#fde0ef"
            ],
            [
             0.5,
             "#f7f7f7"
            ],
            [
             0.6,
             "#e6f5d0"
            ],
            [
             0.7,
             "#b8e186"
            ],
            [
             0.8,
             "#7fbc41"
            ],
            [
             0.9,
             "#4d9221"
            ],
            [
             1,
             "#276419"
            ]
           ],
           "sequential": [
            [
             0,
             "#0d0887"
            ],
            [
             0.1111111111111111,
             "#46039f"
            ],
            [
             0.2222222222222222,
             "#7201a8"
            ],
            [
             0.3333333333333333,
             "#9c179e"
            ],
            [
             0.4444444444444444,
             "#bd3786"
            ],
            [
             0.5555555555555556,
             "#d8576b"
            ],
            [
             0.6666666666666666,
             "#ed7953"
            ],
            [
             0.7777777777777778,
             "#fb9f3a"
            ],
            [
             0.8888888888888888,
             "#fdca26"
            ],
            [
             1,
             "#f0f921"
            ]
           ],
           "sequentialminus": [
            [
             0,
             "#0d0887"
            ],
            [
             0.1111111111111111,
             "#46039f"
            ],
            [
             0.2222222222222222,
             "#7201a8"
            ],
            [
             0.3333333333333333,
             "#9c179e"
            ],
            [
             0.4444444444444444,
             "#bd3786"
            ],
            [
             0.5555555555555556,
             "#d8576b"
            ],
            [
             0.6666666666666666,
             "#ed7953"
            ],
            [
             0.7777777777777778,
             "#fb9f3a"
            ],
            [
             0.8888888888888888,
             "#fdca26"
            ],
            [
             1,
             "#f0f921"
            ]
           ]
          },
          "colorway": [
           "#636efa",
           "#EF553B",
           "#00cc96",
           "#ab63fa",
           "#FFA15A",
           "#19d3f3",
           "#FF6692",
           "#B6E880",
           "#FF97FF",
           "#FECB52"
          ],
          "font": {
           "color": "#2a3f5f"
          },
          "geo": {
           "bgcolor": "white",
           "lakecolor": "white",
           "landcolor": "#E5ECF6",
           "showlakes": true,
           "showland": true,
           "subunitcolor": "white"
          },
          "hoverlabel": {
           "align": "left"
          },
          "hovermode": "closest",
          "mapbox": {
           "style": "light"
          },
          "paper_bgcolor": "white",
          "plot_bgcolor": "#E5ECF6",
          "polar": {
           "angularaxis": {
            "gridcolor": "white",
            "linecolor": "white",
            "ticks": ""
           },
           "bgcolor": "#E5ECF6",
           "radialaxis": {
            "gridcolor": "white",
            "linecolor": "white",
            "ticks": ""
           }
          },
          "scene": {
           "xaxis": {
            "backgroundcolor": "#E5ECF6",
            "gridcolor": "white",
            "gridwidth": 2,
            "linecolor": "white",
            "showbackground": true,
            "ticks": "",
            "zerolinecolor": "white"
           },
           "yaxis": {
            "backgroundcolor": "#E5ECF6",
            "gridcolor": "white",
            "gridwidth": 2,
            "linecolor": "white",
            "showbackground": true,
            "ticks": "",
            "zerolinecolor": "white"
           },
           "zaxis": {
            "backgroundcolor": "#E5ECF6",
            "gridcolor": "white",
            "gridwidth": 2,
            "linecolor": "white",
            "showbackground": true,
            "ticks": "",
            "zerolinecolor": "white"
           }
          },
          "shapedefaults": {
           "line": {
            "color": "#2a3f5f"
           }
          },
          "ternary": {
           "aaxis": {
            "gridcolor": "white",
            "linecolor": "white",
            "ticks": ""
           },
           "baxis": {
            "gridcolor": "white",
            "linecolor": "white",
            "ticks": ""
           },
           "bgcolor": "#E5ECF6",
           "caxis": {
            "gridcolor": "white",
            "linecolor": "white",
            "ticks": ""
           }
          },
          "title": {
           "x": 0.05
          },
          "xaxis": {
           "automargin": true,
           "gridcolor": "white",
           "linecolor": "white",
           "ticks": "",
           "title": {
            "standoff": 15
           },
           "zerolinecolor": "white",
           "zerolinewidth": 2
          },
          "yaxis": {
           "automargin": true,
           "gridcolor": "white",
           "linecolor": "white",
           "ticks": "",
           "title": {
            "standoff": 15
           },
           "zerolinecolor": "white",
           "zerolinewidth": 2
          }
         }
        },
        "title": {
         "text": "<b>Function presence using different cutoff values for m9-EX_glc__D_e:10.0-EX_gly_e:3.33_BAR<b>",
         "x": 0.5
        },
        "xaxis": {
         "anchor": "y",
         "domain": [
          0,
          1
         ],
         "tickangle": 45,
         "title": {
          "text": "Function"
         }
        },
        "yaxis": {
         "anchor": "x",
         "domain": [
          0,
          1
         ],
         "title": {
          "text": "Presence"
         }
        }
       }
      }
     },
     "metadata": {},
     "output_type": "display_data"
    },
    {
     "name": "stderr",
     "output_type": "stream",
     "text": [
      "/home/alvaro/miniconda3/envs/e_merlin/lib/python3.10/site-packages/openpyxl/workbook/child.py:99: UserWarning:\n",
      "\n",
      "Title is more than 31 characters. Some applications may not be able to read the file\n",
      "\n"
     ]
    },
    {
     "data": {
      "text/html": [
       "<div>\n",
       "<style scoped>\n",
       "    .dataframe tbody tr th:only-of-type {\n",
       "        vertical-align: middle;\n",
       "    }\n",
       "\n",
       "    .dataframe tbody tr th {\n",
       "        vertical-align: top;\n",
       "    }\n",
       "\n",
       "    .dataframe thead th {\n",
       "        text-align: right;\n",
       "    }\n",
       "</style>\n",
       "<table border=\"1\" class=\"dataframe\">\n",
       "  <thead>\n",
       "    <tr style=\"text-align: right;\">\n",
       "      <th></th>\n",
       "      <th>Function</th>\n",
       "      <th>Presence</th>\n",
       "    </tr>\n",
       "  </thead>\n",
       "  <tbody>\n",
       "    <tr>\n",
       "      <th>0</th>\n",
       "      <td>NaN</td>\n",
       "      <td>0.0</td>\n",
       "    </tr>\n",
       "  </tbody>\n",
       "</table>\n",
       "</div>"
      ],
      "text/plain": [
       "   Function  Presence\n",
       "0       NaN       0.0"
      ]
     },
     "metadata": {},
     "output_type": "display_data"
    },
    {
     "data": {
      "application/vnd.plotly.v1+json": {
       "config": {
        "plotlyServerURL": "https://plot.ly"
       },
       "data": [
        {
         "alignmentgroup": "True",
         "hovertemplate": "Function=%{x}<br>Presence=%{y}<extra></extra>",
         "legendgroup": "",
         "marker": {
          "color": "#636efa",
          "pattern": {
           "shape": ""
          }
         },
         "name": "",
         "offsetgroup": "",
         "orientation": "v",
         "showlegend": false,
         "textposition": "auto",
         "type": "bar",
         "x": [
          null
         ],
         "xaxis": "x",
         "y": [
          0
         ],
         "yaxis": "y"
        }
       ],
       "layout": {
        "barmode": "relative",
        "height": 600,
        "legend": {
         "tracegroupgap": 0
        },
        "margin": {
         "t": 60
        },
        "template": {
         "data": {
          "bar": [
           {
            "error_x": {
             "color": "#2a3f5f"
            },
            "error_y": {
             "color": "#2a3f5f"
            },
            "marker": {
             "line": {
              "color": "#E5ECF6",
              "width": 0.5
             },
             "pattern": {
              "fillmode": "overlay",
              "size": 10,
              "solidity": 0.2
             }
            },
            "type": "bar"
           }
          ],
          "barpolar": [
           {
            "marker": {
             "line": {
              "color": "#E5ECF6",
              "width": 0.5
             },
             "pattern": {
              "fillmode": "overlay",
              "size": 10,
              "solidity": 0.2
             }
            },
            "type": "barpolar"
           }
          ],
          "carpet": [
           {
            "aaxis": {
             "endlinecolor": "#2a3f5f",
             "gridcolor": "white",
             "linecolor": "white",
             "minorgridcolor": "white",
             "startlinecolor": "#2a3f5f"
            },
            "baxis": {
             "endlinecolor": "#2a3f5f",
             "gridcolor": "white",
             "linecolor": "white",
             "minorgridcolor": "white",
             "startlinecolor": "#2a3f5f"
            },
            "type": "carpet"
           }
          ],
          "choropleth": [
           {
            "colorbar": {
             "outlinewidth": 0,
             "ticks": ""
            },
            "type": "choropleth"
           }
          ],
          "contour": [
           {
            "colorbar": {
             "outlinewidth": 0,
             "ticks": ""
            },
            "colorscale": [
             [
              0,
              "#0d0887"
             ],
             [
              0.1111111111111111,
              "#46039f"
             ],
             [
              0.2222222222222222,
              "#7201a8"
             ],
             [
              0.3333333333333333,
              "#9c179e"
             ],
             [
              0.4444444444444444,
              "#bd3786"
             ],
             [
              0.5555555555555556,
              "#d8576b"
             ],
             [
              0.6666666666666666,
              "#ed7953"
             ],
             [
              0.7777777777777778,
              "#fb9f3a"
             ],
             [
              0.8888888888888888,
              "#fdca26"
             ],
             [
              1,
              "#f0f921"
             ]
            ],
            "type": "contour"
           }
          ],
          "contourcarpet": [
           {
            "colorbar": {
             "outlinewidth": 0,
             "ticks": ""
            },
            "type": "contourcarpet"
           }
          ],
          "heatmap": [
           {
            "colorbar": {
             "outlinewidth": 0,
             "ticks": ""
            },
            "colorscale": [
             [
              0,
              "#0d0887"
             ],
             [
              0.1111111111111111,
              "#46039f"
             ],
             [
              0.2222222222222222,
              "#7201a8"
             ],
             [
              0.3333333333333333,
              "#9c179e"
             ],
             [
              0.4444444444444444,
              "#bd3786"
             ],
             [
              0.5555555555555556,
              "#d8576b"
             ],
             [
              0.6666666666666666,
              "#ed7953"
             ],
             [
              0.7777777777777778,
              "#fb9f3a"
             ],
             [
              0.8888888888888888,
              "#fdca26"
             ],
             [
              1,
              "#f0f921"
             ]
            ],
            "type": "heatmap"
           }
          ],
          "heatmapgl": [
           {
            "colorbar": {
             "outlinewidth": 0,
             "ticks": ""
            },
            "colorscale": [
             [
              0,
              "#0d0887"
             ],
             [
              0.1111111111111111,
              "#46039f"
             ],
             [
              0.2222222222222222,
              "#7201a8"
             ],
             [
              0.3333333333333333,
              "#9c179e"
             ],
             [
              0.4444444444444444,
              "#bd3786"
             ],
             [
              0.5555555555555556,
              "#d8576b"
             ],
             [
              0.6666666666666666,
              "#ed7953"
             ],
             [
              0.7777777777777778,
              "#fb9f3a"
             ],
             [
              0.8888888888888888,
              "#fdca26"
             ],
             [
              1,
              "#f0f921"
             ]
            ],
            "type": "heatmapgl"
           }
          ],
          "histogram": [
           {
            "marker": {
             "pattern": {
              "fillmode": "overlay",
              "size": 10,
              "solidity": 0.2
             }
            },
            "type": "histogram"
           }
          ],
          "histogram2d": [
           {
            "colorbar": {
             "outlinewidth": 0,
             "ticks": ""
            },
            "colorscale": [
             [
              0,
              "#0d0887"
             ],
             [
              0.1111111111111111,
              "#46039f"
             ],
             [
              0.2222222222222222,
              "#7201a8"
             ],
             [
              0.3333333333333333,
              "#9c179e"
             ],
             [
              0.4444444444444444,
              "#bd3786"
             ],
             [
              0.5555555555555556,
              "#d8576b"
             ],
             [
              0.6666666666666666,
              "#ed7953"
             ],
             [
              0.7777777777777778,
              "#fb9f3a"
             ],
             [
              0.8888888888888888,
              "#fdca26"
             ],
             [
              1,
              "#f0f921"
             ]
            ],
            "type": "histogram2d"
           }
          ],
          "histogram2dcontour": [
           {
            "colorbar": {
             "outlinewidth": 0,
             "ticks": ""
            },
            "colorscale": [
             [
              0,
              "#0d0887"
             ],
             [
              0.1111111111111111,
              "#46039f"
             ],
             [
              0.2222222222222222,
              "#7201a8"
             ],
             [
              0.3333333333333333,
              "#9c179e"
             ],
             [
              0.4444444444444444,
              "#bd3786"
             ],
             [
              0.5555555555555556,
              "#d8576b"
             ],
             [
              0.6666666666666666,
              "#ed7953"
             ],
             [
              0.7777777777777778,
              "#fb9f3a"
             ],
             [
              0.8888888888888888,
              "#fdca26"
             ],
             [
              1,
              "#f0f921"
             ]
            ],
            "type": "histogram2dcontour"
           }
          ],
          "mesh3d": [
           {
            "colorbar": {
             "outlinewidth": 0,
             "ticks": ""
            },
            "type": "mesh3d"
           }
          ],
          "parcoords": [
           {
            "line": {
             "colorbar": {
              "outlinewidth": 0,
              "ticks": ""
             }
            },
            "type": "parcoords"
           }
          ],
          "pie": [
           {
            "automargin": true,
            "type": "pie"
           }
          ],
          "scatter": [
           {
            "fillpattern": {
             "fillmode": "overlay",
             "size": 10,
             "solidity": 0.2
            },
            "type": "scatter"
           }
          ],
          "scatter3d": [
           {
            "line": {
             "colorbar": {
              "outlinewidth": 0,
              "ticks": ""
             }
            },
            "marker": {
             "colorbar": {
              "outlinewidth": 0,
              "ticks": ""
             }
            },
            "type": "scatter3d"
           }
          ],
          "scattercarpet": [
           {
            "marker": {
             "colorbar": {
              "outlinewidth": 0,
              "ticks": ""
             }
            },
            "type": "scattercarpet"
           }
          ],
          "scattergeo": [
           {
            "marker": {
             "colorbar": {
              "outlinewidth": 0,
              "ticks": ""
             }
            },
            "type": "scattergeo"
           }
          ],
          "scattergl": [
           {
            "marker": {
             "colorbar": {
              "outlinewidth": 0,
              "ticks": ""
             }
            },
            "type": "scattergl"
           }
          ],
          "scattermapbox": [
           {
            "marker": {
             "colorbar": {
              "outlinewidth": 0,
              "ticks": ""
             }
            },
            "type": "scattermapbox"
           }
          ],
          "scatterpolar": [
           {
            "marker": {
             "colorbar": {
              "outlinewidth": 0,
              "ticks": ""
             }
            },
            "type": "scatterpolar"
           }
          ],
          "scatterpolargl": [
           {
            "marker": {
             "colorbar": {
              "outlinewidth": 0,
              "ticks": ""
             }
            },
            "type": "scatterpolargl"
           }
          ],
          "scatterternary": [
           {
            "marker": {
             "colorbar": {
              "outlinewidth": 0,
              "ticks": ""
             }
            },
            "type": "scatterternary"
           }
          ],
          "surface": [
           {
            "colorbar": {
             "outlinewidth": 0,
             "ticks": ""
            },
            "colorscale": [
             [
              0,
              "#0d0887"
             ],
             [
              0.1111111111111111,
              "#46039f"
             ],
             [
              0.2222222222222222,
              "#7201a8"
             ],
             [
              0.3333333333333333,
              "#9c179e"
             ],
             [
              0.4444444444444444,
              "#bd3786"
             ],
             [
              0.5555555555555556,
              "#d8576b"
             ],
             [
              0.6666666666666666,
              "#ed7953"
             ],
             [
              0.7777777777777778,
              "#fb9f3a"
             ],
             [
              0.8888888888888888,
              "#fdca26"
             ],
             [
              1,
              "#f0f921"
             ]
            ],
            "type": "surface"
           }
          ],
          "table": [
           {
            "cells": {
             "fill": {
              "color": "#EBF0F8"
             },
             "line": {
              "color": "white"
             }
            },
            "header": {
             "fill": {
              "color": "#C8D4E3"
             },
             "line": {
              "color": "white"
             }
            },
            "type": "table"
           }
          ]
         },
         "layout": {
          "annotationdefaults": {
           "arrowcolor": "#2a3f5f",
           "arrowhead": 0,
           "arrowwidth": 1
          },
          "autotypenumbers": "strict",
          "coloraxis": {
           "colorbar": {
            "outlinewidth": 0,
            "ticks": ""
           }
          },
          "colorscale": {
           "diverging": [
            [
             0,
             "#8e0152"
            ],
            [
             0.1,
             "#c51b7d"
            ],
            [
             0.2,
             "#de77ae"
            ],
            [
             0.3,
             "#f1b6da"
            ],
            [
             0.4,
             "#fde0ef"
            ],
            [
             0.5,
             "#f7f7f7"
            ],
            [
             0.6,
             "#e6f5d0"
            ],
            [
             0.7,
             "#b8e186"
            ],
            [
             0.8,
             "#7fbc41"
            ],
            [
             0.9,
             "#4d9221"
            ],
            [
             1,
             "#276419"
            ]
           ],
           "sequential": [
            [
             0,
             "#0d0887"
            ],
            [
             0.1111111111111111,
             "#46039f"
            ],
            [
             0.2222222222222222,
             "#7201a8"
            ],
            [
             0.3333333333333333,
             "#9c179e"
            ],
            [
             0.4444444444444444,
             "#bd3786"
            ],
            [
             0.5555555555555556,
             "#d8576b"
            ],
            [
             0.6666666666666666,
             "#ed7953"
            ],
            [
             0.7777777777777778,
             "#fb9f3a"
            ],
            [
             0.8888888888888888,
             "#fdca26"
            ],
            [
             1,
             "#f0f921"
            ]
           ],
           "sequentialminus": [
            [
             0,
             "#0d0887"
            ],
            [
             0.1111111111111111,
             "#46039f"
            ],
            [
             0.2222222222222222,
             "#7201a8"
            ],
            [
             0.3333333333333333,
             "#9c179e"
            ],
            [
             0.4444444444444444,
             "#bd3786"
            ],
            [
             0.5555555555555556,
             "#d8576b"
            ],
            [
             0.6666666666666666,
             "#ed7953"
            ],
            [
             0.7777777777777778,
             "#fb9f3a"
            ],
            [
             0.8888888888888888,
             "#fdca26"
            ],
            [
             1,
             "#f0f921"
            ]
           ]
          },
          "colorway": [
           "#636efa",
           "#EF553B",
           "#00cc96",
           "#ab63fa",
           "#FFA15A",
           "#19d3f3",
           "#FF6692",
           "#B6E880",
           "#FF97FF",
           "#FECB52"
          ],
          "font": {
           "color": "#2a3f5f"
          },
          "geo": {
           "bgcolor": "white",
           "lakecolor": "white",
           "landcolor": "#E5ECF6",
           "showlakes": true,
           "showland": true,
           "subunitcolor": "white"
          },
          "hoverlabel": {
           "align": "left"
          },
          "hovermode": "closest",
          "mapbox": {
           "style": "light"
          },
          "paper_bgcolor": "white",
          "plot_bgcolor": "#E5ECF6",
          "polar": {
           "angularaxis": {
            "gridcolor": "white",
            "linecolor": "white",
            "ticks": ""
           },
           "bgcolor": "#E5ECF6",
           "radialaxis": {
            "gridcolor": "white",
            "linecolor": "white",
            "ticks": ""
           }
          },
          "scene": {
           "xaxis": {
            "backgroundcolor": "#E5ECF6",
            "gridcolor": "white",
            "gridwidth": 2,
            "linecolor": "white",
            "showbackground": true,
            "ticks": "",
            "zerolinecolor": "white"
           },
           "yaxis": {
            "backgroundcolor": "#E5ECF6",
            "gridcolor": "white",
            "gridwidth": 2,
            "linecolor": "white",
            "showbackground": true,
            "ticks": "",
            "zerolinecolor": "white"
           },
           "zaxis": {
            "backgroundcolor": "#E5ECF6",
            "gridcolor": "white",
            "gridwidth": 2,
            "linecolor": "white",
            "showbackground": true,
            "ticks": "",
            "zerolinecolor": "white"
           }
          },
          "shapedefaults": {
           "line": {
            "color": "#2a3f5f"
           }
          },
          "ternary": {
           "aaxis": {
            "gridcolor": "white",
            "linecolor": "white",
            "ticks": ""
           },
           "baxis": {
            "gridcolor": "white",
            "linecolor": "white",
            "ticks": ""
           },
           "bgcolor": "#E5ECF6",
           "caxis": {
            "gridcolor": "white",
            "linecolor": "white",
            "ticks": ""
           }
          },
          "title": {
           "x": 0.05
          },
          "xaxis": {
           "automargin": true,
           "gridcolor": "white",
           "linecolor": "white",
           "ticks": "",
           "title": {
            "standoff": 15
           },
           "zerolinecolor": "white",
           "zerolinewidth": 2
          },
          "yaxis": {
           "automargin": true,
           "gridcolor": "white",
           "linecolor": "white",
           "ticks": "",
           "title": {
            "standoff": 15
           },
           "zerolinecolor": "white",
           "zerolinewidth": 2
          }
         }
        },
        "title": {
         "text": "<b>Function presence using different cutoff values for m9-EX_glc__D_e:10.0-EX_thr__L_e:6.67_NBR<b>",
         "x": 0.5
        },
        "xaxis": {
         "anchor": "y",
         "domain": [
          0,
          1
         ],
         "tickangle": 45,
         "title": {
          "text": "Function"
         }
        },
        "yaxis": {
         "anchor": "x",
         "domain": [
          0,
          1
         ],
         "title": {
          "text": "Presence"
         }
        }
       }
      }
     },
     "metadata": {},
     "output_type": "display_data"
    },
    {
     "name": "stderr",
     "output_type": "stream",
     "text": [
      "/home/alvaro/miniconda3/envs/e_merlin/lib/python3.10/site-packages/openpyxl/workbook/child.py:99: UserWarning:\n",
      "\n",
      "Title is more than 31 characters. Some applications may not be able to read the file\n",
      "\n"
     ]
    },
    {
     "data": {
      "text/html": [
       "<div>\n",
       "<style scoped>\n",
       "    .dataframe tbody tr th:only-of-type {\n",
       "        vertical-align: middle;\n",
       "    }\n",
       "\n",
       "    .dataframe tbody tr th {\n",
       "        vertical-align: top;\n",
       "    }\n",
       "\n",
       "    .dataframe thead th {\n",
       "        text-align: right;\n",
       "    }\n",
       "</style>\n",
       "<table border=\"1\" class=\"dataframe\">\n",
       "  <thead>\n",
       "    <tr style=\"text-align: right;\">\n",
       "      <th></th>\n",
       "      <th>Function</th>\n",
       "      <th>Presence</th>\n",
       "    </tr>\n",
       "  </thead>\n",
       "  <tbody>\n",
       "    <tr>\n",
       "      <th>0</th>\n",
       "      <td>Nucleotide Salvage Pathway</td>\n",
       "      <td>1.000000</td>\n",
       "    </tr>\n",
       "    <tr>\n",
       "      <th>1</th>\n",
       "      <td>Tyrosine, Tryptophan, and Phenylalanine Metabo...</td>\n",
       "      <td>0.000000</td>\n",
       "    </tr>\n",
       "    <tr>\n",
       "      <th>2</th>\n",
       "      <td>Purine and Pyrimidine Biosynthesis</td>\n",
       "      <td>0.000000</td>\n",
       "    </tr>\n",
       "    <tr>\n",
       "      <th>3</th>\n",
       "      <td>Arginine and Proline Metabolism</td>\n",
       "      <td>1.000000</td>\n",
       "    </tr>\n",
       "    <tr>\n",
       "      <th>4</th>\n",
       "      <td>Citric Acid Cycle</td>\n",
       "      <td>0.000000</td>\n",
       "    </tr>\n",
       "    <tr>\n",
       "      <th>5</th>\n",
       "      <td>Cofactor and Prosthetic Group Biosynthesis</td>\n",
       "      <td>1.000000</td>\n",
       "    </tr>\n",
       "    <tr>\n",
       "      <th>6</th>\n",
       "      <td>Pyruvate Metabolism</td>\n",
       "      <td>1.000000</td>\n",
       "    </tr>\n",
       "    <tr>\n",
       "      <th>7</th>\n",
       "      <td>Cysteine Metabolism</td>\n",
       "      <td>1.000000</td>\n",
       "    </tr>\n",
       "    <tr>\n",
       "      <th>8</th>\n",
       "      <td>Alternate Carbon Metabolism</td>\n",
       "      <td>1.000000</td>\n",
       "    </tr>\n",
       "    <tr>\n",
       "      <th>9</th>\n",
       "      <td>Anaplerotic Reactions</td>\n",
       "      <td>0.000000</td>\n",
       "    </tr>\n",
       "    <tr>\n",
       "      <th>10</th>\n",
       "      <td>Alanine and Aspartate Metabolism</td>\n",
       "      <td>0.000000</td>\n",
       "    </tr>\n",
       "    <tr>\n",
       "      <th>11</th>\n",
       "      <td>Glycolysis/Gluconeogenesis</td>\n",
       "      <td>1.000000</td>\n",
       "    </tr>\n",
       "    <tr>\n",
       "      <th>12</th>\n",
       "      <td>Valine, Leucine, and Isoleucine Metabolism</td>\n",
       "      <td>0.000000</td>\n",
       "    </tr>\n",
       "    <tr>\n",
       "      <th>13</th>\n",
       "      <td>Pentose Phosphate Pathway</td>\n",
       "      <td>0.000000</td>\n",
       "    </tr>\n",
       "    <tr>\n",
       "      <th>14</th>\n",
       "      <td>Oxidative Phosphorylation</td>\n",
       "      <td>1.000000</td>\n",
       "    </tr>\n",
       "    <tr>\n",
       "      <th>15</th>\n",
       "      <td>Lipopolysaccharide Biosynthesis / Recycling</td>\n",
       "      <td>1.000000</td>\n",
       "    </tr>\n",
       "    <tr>\n",
       "      <th>16</th>\n",
       "      <td>Membrane Lipid Metabolism</td>\n",
       "      <td>0.000000</td>\n",
       "    </tr>\n",
       "    <tr>\n",
       "      <th>17</th>\n",
       "      <td>Unassigned</td>\n",
       "      <td>0.526316</td>\n",
       "    </tr>\n",
       "    <tr>\n",
       "      <th>18</th>\n",
       "      <td>Methylglyoxal Metabolism</td>\n",
       "      <td>1.000000</td>\n",
       "    </tr>\n",
       "    <tr>\n",
       "      <th>19</th>\n",
       "      <td>tRNA Charging</td>\n",
       "      <td>0.000000</td>\n",
       "    </tr>\n",
       "    <tr>\n",
       "      <th>20</th>\n",
       "      <td>Threonine and Lysine Metabolism</td>\n",
       "      <td>0.105263</td>\n",
       "    </tr>\n",
       "    <tr>\n",
       "      <th>21</th>\n",
       "      <td>Folate Metabolism</td>\n",
       "      <td>0.000000</td>\n",
       "    </tr>\n",
       "    <tr>\n",
       "      <th>22</th>\n",
       "      <td>Glycine and Serine Metabolism</td>\n",
       "      <td>1.000000</td>\n",
       "    </tr>\n",
       "    <tr>\n",
       "      <th>23</th>\n",
       "      <td>Glyoxylate Metabolism</td>\n",
       "      <td>1.000000</td>\n",
       "    </tr>\n",
       "    <tr>\n",
       "      <th>24</th>\n",
       "      <td>Cell Envelope Biosynthesis</td>\n",
       "      <td>1.000000</td>\n",
       "    </tr>\n",
       "    <tr>\n",
       "      <th>25</th>\n",
       "      <td>Methionine Metabolism</td>\n",
       "      <td>0.000000</td>\n",
       "    </tr>\n",
       "    <tr>\n",
       "      <th>26</th>\n",
       "      <td>Nitrogen Metabolism</td>\n",
       "      <td>1.000000</td>\n",
       "    </tr>\n",
       "    <tr>\n",
       "      <th>27</th>\n",
       "      <td>Histidine Metabolism</td>\n",
       "      <td>0.000000</td>\n",
       "    </tr>\n",
       "    <tr>\n",
       "      <th>28</th>\n",
       "      <td>Inorganic Ion Transport and Metabolism</td>\n",
       "      <td>1.000000</td>\n",
       "    </tr>\n",
       "    <tr>\n",
       "      <th>29</th>\n",
       "      <td>Glutamate Metabolism</td>\n",
       "      <td>0.000000</td>\n",
       "    </tr>\n",
       "    <tr>\n",
       "      <th>30</th>\n",
       "      <td>Glycerophospholipid Metabolism</td>\n",
       "      <td>1.000000</td>\n",
       "    </tr>\n",
       "    <tr>\n",
       "      <th>31</th>\n",
       "      <td>Transport, Outer Membrane Porin</td>\n",
       "      <td>1.000000</td>\n",
       "    </tr>\n",
       "    <tr>\n",
       "      <th>32</th>\n",
       "      <td>Transport, Inner Membrane</td>\n",
       "      <td>1.000000</td>\n",
       "    </tr>\n",
       "    <tr>\n",
       "      <th>33</th>\n",
       "      <td>Transport, Outer Membrane</td>\n",
       "      <td>0.000000</td>\n",
       "    </tr>\n",
       "    <tr>\n",
       "      <th>34</th>\n",
       "      <td>Murein Recycling</td>\n",
       "      <td>1.000000</td>\n",
       "    </tr>\n",
       "    <tr>\n",
       "      <th>35</th>\n",
       "      <td>Biomass and maintenance functions</td>\n",
       "      <td>0.000000</td>\n",
       "    </tr>\n",
       "    <tr>\n",
       "      <th>36</th>\n",
       "      <td>Murein Biosynthesis</td>\n",
       "      <td>1.000000</td>\n",
       "    </tr>\n",
       "    <tr>\n",
       "      <th>37</th>\n",
       "      <td>Metabolite Repair</td>\n",
       "      <td>0.000000</td>\n",
       "    </tr>\n",
       "  </tbody>\n",
       "</table>\n",
       "</div>"
      ],
      "text/plain": [
       "                                             Function  Presence\n",
       "0                          Nucleotide Salvage Pathway  1.000000\n",
       "1   Tyrosine, Tryptophan, and Phenylalanine Metabo...  0.000000\n",
       "2                  Purine and Pyrimidine Biosynthesis  0.000000\n",
       "3                     Arginine and Proline Metabolism  1.000000\n",
       "4                                   Citric Acid Cycle  0.000000\n",
       "5          Cofactor and Prosthetic Group Biosynthesis  1.000000\n",
       "6                                 Pyruvate Metabolism  1.000000\n",
       "7                                 Cysteine Metabolism  1.000000\n",
       "8                         Alternate Carbon Metabolism  1.000000\n",
       "9                               Anaplerotic Reactions  0.000000\n",
       "10                   Alanine and Aspartate Metabolism  0.000000\n",
       "11                         Glycolysis/Gluconeogenesis  1.000000\n",
       "12         Valine, Leucine, and Isoleucine Metabolism  0.000000\n",
       "13                          Pentose Phosphate Pathway  0.000000\n",
       "14                          Oxidative Phosphorylation  1.000000\n",
       "15        Lipopolysaccharide Biosynthesis / Recycling  1.000000\n",
       "16                          Membrane Lipid Metabolism  0.000000\n",
       "17                                         Unassigned  0.526316\n",
       "18                           Methylglyoxal Metabolism  1.000000\n",
       "19                                      tRNA Charging  0.000000\n",
       "20                    Threonine and Lysine Metabolism  0.105263\n",
       "21                                  Folate Metabolism  0.000000\n",
       "22                      Glycine and Serine Metabolism  1.000000\n",
       "23                              Glyoxylate Metabolism  1.000000\n",
       "24                         Cell Envelope Biosynthesis  1.000000\n",
       "25                              Methionine Metabolism  0.000000\n",
       "26                                Nitrogen Metabolism  1.000000\n",
       "27                               Histidine Metabolism  0.000000\n",
       "28             Inorganic Ion Transport and Metabolism  1.000000\n",
       "29                               Glutamate Metabolism  0.000000\n",
       "30                     Glycerophospholipid Metabolism  1.000000\n",
       "31                    Transport, Outer Membrane Porin  1.000000\n",
       "32                          Transport, Inner Membrane  1.000000\n",
       "33                          Transport, Outer Membrane  0.000000\n",
       "34                                   Murein Recycling  1.000000\n",
       "35                  Biomass and maintenance functions  0.000000\n",
       "36                                Murein Biosynthesis  1.000000\n",
       "37                                  Metabolite Repair  0.000000"
      ]
     },
     "metadata": {},
     "output_type": "display_data"
    },
    {
     "data": {
      "application/vnd.plotly.v1+json": {
       "config": {
        "plotlyServerURL": "https://plot.ly"
       },
       "data": [
        {
         "alignmentgroup": "True",
         "hovertemplate": "Function=%{x}<br>Presence=%{y}<extra></extra>",
         "legendgroup": "",
         "marker": {
          "color": "#636efa",
          "pattern": {
           "shape": ""
          }
         },
         "name": "",
         "offsetgroup": "",
         "orientation": "v",
         "showlegend": false,
         "textposition": "auto",
         "type": "bar",
         "x": [
          "Nucleotide Salvage Pathway",
          "Tyrosine, Tryptophan, and Phenylalanine Metabolism",
          "Purine and Pyrimidine Biosynthesis",
          "Arginine and Proline Metabolism",
          "Citric Acid Cycle",
          "Cofactor and Prosthetic Group Biosynthesis",
          "Pyruvate Metabolism",
          "Cysteine Metabolism",
          "Alternate Carbon Metabolism",
          "Anaplerotic Reactions",
          "Alanine and Aspartate Metabolism",
          "Glycolysis/Gluconeogenesis",
          "Valine, Leucine, and Isoleucine Metabolism",
          "Pentose Phosphate Pathway",
          "Oxidative Phosphorylation",
          "Lipopolysaccharide Biosynthesis / Recycling",
          "Membrane Lipid Metabolism",
          "Unassigned",
          "Methylglyoxal Metabolism",
          "tRNA Charging",
          "Threonine and Lysine Metabolism",
          "Folate Metabolism",
          "Glycine and Serine Metabolism",
          "Glyoxylate Metabolism",
          "Cell Envelope Biosynthesis",
          "Methionine Metabolism",
          "Nitrogen Metabolism",
          "Histidine Metabolism",
          "Inorganic Ion Transport and Metabolism",
          "Glutamate Metabolism",
          "Glycerophospholipid Metabolism",
          "Transport, Outer Membrane Porin",
          "Transport, Inner Membrane",
          "Transport, Outer Membrane",
          "Murein Recycling",
          "Biomass and maintenance functions",
          "Murein Biosynthesis",
          "Metabolite Repair"
         ],
         "xaxis": "x",
         "y": [
          1,
          0,
          0,
          1,
          0,
          1,
          1,
          1,
          1,
          0,
          0,
          1,
          0,
          0,
          1,
          1,
          0,
          0.5263157894736842,
          1,
          0,
          0.10526315789473684,
          0,
          1,
          1,
          1,
          0,
          1,
          0,
          1,
          0,
          1,
          1,
          1,
          0,
          1,
          0,
          1,
          0
         ],
         "yaxis": "y"
        }
       ],
       "layout": {
        "barmode": "relative",
        "height": 600,
        "legend": {
         "tracegroupgap": 0
        },
        "margin": {
         "t": 60
        },
        "template": {
         "data": {
          "bar": [
           {
            "error_x": {
             "color": "#2a3f5f"
            },
            "error_y": {
             "color": "#2a3f5f"
            },
            "marker": {
             "line": {
              "color": "#E5ECF6",
              "width": 0.5
             },
             "pattern": {
              "fillmode": "overlay",
              "size": 10,
              "solidity": 0.2
             }
            },
            "type": "bar"
           }
          ],
          "barpolar": [
           {
            "marker": {
             "line": {
              "color": "#E5ECF6",
              "width": 0.5
             },
             "pattern": {
              "fillmode": "overlay",
              "size": 10,
              "solidity": 0.2
             }
            },
            "type": "barpolar"
           }
          ],
          "carpet": [
           {
            "aaxis": {
             "endlinecolor": "#2a3f5f",
             "gridcolor": "white",
             "linecolor": "white",
             "minorgridcolor": "white",
             "startlinecolor": "#2a3f5f"
            },
            "baxis": {
             "endlinecolor": "#2a3f5f",
             "gridcolor": "white",
             "linecolor": "white",
             "minorgridcolor": "white",
             "startlinecolor": "#2a3f5f"
            },
            "type": "carpet"
           }
          ],
          "choropleth": [
           {
            "colorbar": {
             "outlinewidth": 0,
             "ticks": ""
            },
            "type": "choropleth"
           }
          ],
          "contour": [
           {
            "colorbar": {
             "outlinewidth": 0,
             "ticks": ""
            },
            "colorscale": [
             [
              0,
              "#0d0887"
             ],
             [
              0.1111111111111111,
              "#46039f"
             ],
             [
              0.2222222222222222,
              "#7201a8"
             ],
             [
              0.3333333333333333,
              "#9c179e"
             ],
             [
              0.4444444444444444,
              "#bd3786"
             ],
             [
              0.5555555555555556,
              "#d8576b"
             ],
             [
              0.6666666666666666,
              "#ed7953"
             ],
             [
              0.7777777777777778,
              "#fb9f3a"
             ],
             [
              0.8888888888888888,
              "#fdca26"
             ],
             [
              1,
              "#f0f921"
             ]
            ],
            "type": "contour"
           }
          ],
          "contourcarpet": [
           {
            "colorbar": {
             "outlinewidth": 0,
             "ticks": ""
            },
            "type": "contourcarpet"
           }
          ],
          "heatmap": [
           {
            "colorbar": {
             "outlinewidth": 0,
             "ticks": ""
            },
            "colorscale": [
             [
              0,
              "#0d0887"
             ],
             [
              0.1111111111111111,
              "#46039f"
             ],
             [
              0.2222222222222222,
              "#7201a8"
             ],
             [
              0.3333333333333333,
              "#9c179e"
             ],
             [
              0.4444444444444444,
              "#bd3786"
             ],
             [
              0.5555555555555556,
              "#d8576b"
             ],
             [
              0.6666666666666666,
              "#ed7953"
             ],
             [
              0.7777777777777778,
              "#fb9f3a"
             ],
             [
              0.8888888888888888,
              "#fdca26"
             ],
             [
              1,
              "#f0f921"
             ]
            ],
            "type": "heatmap"
           }
          ],
          "heatmapgl": [
           {
            "colorbar": {
             "outlinewidth": 0,
             "ticks": ""
            },
            "colorscale": [
             [
              0,
              "#0d0887"
             ],
             [
              0.1111111111111111,
              "#46039f"
             ],
             [
              0.2222222222222222,
              "#7201a8"
             ],
             [
              0.3333333333333333,
              "#9c179e"
             ],
             [
              0.4444444444444444,
              "#bd3786"
             ],
             [
              0.5555555555555556,
              "#d8576b"
             ],
             [
              0.6666666666666666,
              "#ed7953"
             ],
             [
              0.7777777777777778,
              "#fb9f3a"
             ],
             [
              0.8888888888888888,
              "#fdca26"
             ],
             [
              1,
              "#f0f921"
             ]
            ],
            "type": "heatmapgl"
           }
          ],
          "histogram": [
           {
            "marker": {
             "pattern": {
              "fillmode": "overlay",
              "size": 10,
              "solidity": 0.2
             }
            },
            "type": "histogram"
           }
          ],
          "histogram2d": [
           {
            "colorbar": {
             "outlinewidth": 0,
             "ticks": ""
            },
            "colorscale": [
             [
              0,
              "#0d0887"
             ],
             [
              0.1111111111111111,
              "#46039f"
             ],
             [
              0.2222222222222222,
              "#7201a8"
             ],
             [
              0.3333333333333333,
              "#9c179e"
             ],
             [
              0.4444444444444444,
              "#bd3786"
             ],
             [
              0.5555555555555556,
              "#d8576b"
             ],
             [
              0.6666666666666666,
              "#ed7953"
             ],
             [
              0.7777777777777778,
              "#fb9f3a"
             ],
             [
              0.8888888888888888,
              "#fdca26"
             ],
             [
              1,
              "#f0f921"
             ]
            ],
            "type": "histogram2d"
           }
          ],
          "histogram2dcontour": [
           {
            "colorbar": {
             "outlinewidth": 0,
             "ticks": ""
            },
            "colorscale": [
             [
              0,
              "#0d0887"
             ],
             [
              0.1111111111111111,
              "#46039f"
             ],
             [
              0.2222222222222222,
              "#7201a8"
             ],
             [
              0.3333333333333333,
              "#9c179e"
             ],
             [
              0.4444444444444444,
              "#bd3786"
             ],
             [
              0.5555555555555556,
              "#d8576b"
             ],
             [
              0.6666666666666666,
              "#ed7953"
             ],
             [
              0.7777777777777778,
              "#fb9f3a"
             ],
             [
              0.8888888888888888,
              "#fdca26"
             ],
             [
              1,
              "#f0f921"
             ]
            ],
            "type": "histogram2dcontour"
           }
          ],
          "mesh3d": [
           {
            "colorbar": {
             "outlinewidth": 0,
             "ticks": ""
            },
            "type": "mesh3d"
           }
          ],
          "parcoords": [
           {
            "line": {
             "colorbar": {
              "outlinewidth": 0,
              "ticks": ""
             }
            },
            "type": "parcoords"
           }
          ],
          "pie": [
           {
            "automargin": true,
            "type": "pie"
           }
          ],
          "scatter": [
           {
            "fillpattern": {
             "fillmode": "overlay",
             "size": 10,
             "solidity": 0.2
            },
            "type": "scatter"
           }
          ],
          "scatter3d": [
           {
            "line": {
             "colorbar": {
              "outlinewidth": 0,
              "ticks": ""
             }
            },
            "marker": {
             "colorbar": {
              "outlinewidth": 0,
              "ticks": ""
             }
            },
            "type": "scatter3d"
           }
          ],
          "scattercarpet": [
           {
            "marker": {
             "colorbar": {
              "outlinewidth": 0,
              "ticks": ""
             }
            },
            "type": "scattercarpet"
           }
          ],
          "scattergeo": [
           {
            "marker": {
             "colorbar": {
              "outlinewidth": 0,
              "ticks": ""
             }
            },
            "type": "scattergeo"
           }
          ],
          "scattergl": [
           {
            "marker": {
             "colorbar": {
              "outlinewidth": 0,
              "ticks": ""
             }
            },
            "type": "scattergl"
           }
          ],
          "scattermapbox": [
           {
            "marker": {
             "colorbar": {
              "outlinewidth": 0,
              "ticks": ""
             }
            },
            "type": "scattermapbox"
           }
          ],
          "scatterpolar": [
           {
            "marker": {
             "colorbar": {
              "outlinewidth": 0,
              "ticks": ""
             }
            },
            "type": "scatterpolar"
           }
          ],
          "scatterpolargl": [
           {
            "marker": {
             "colorbar": {
              "outlinewidth": 0,
              "ticks": ""
             }
            },
            "type": "scatterpolargl"
           }
          ],
          "scatterternary": [
           {
            "marker": {
             "colorbar": {
              "outlinewidth": 0,
              "ticks": ""
             }
            },
            "type": "scatterternary"
           }
          ],
          "surface": [
           {
            "colorbar": {
             "outlinewidth": 0,
             "ticks": ""
            },
            "colorscale": [
             [
              0,
              "#0d0887"
             ],
             [
              0.1111111111111111,
              "#46039f"
             ],
             [
              0.2222222222222222,
              "#7201a8"
             ],
             [
              0.3333333333333333,
              "#9c179e"
             ],
             [
              0.4444444444444444,
              "#bd3786"
             ],
             [
              0.5555555555555556,
              "#d8576b"
             ],
             [
              0.6666666666666666,
              "#ed7953"
             ],
             [
              0.7777777777777778,
              "#fb9f3a"
             ],
             [
              0.8888888888888888,
              "#fdca26"
             ],
             [
              1,
              "#f0f921"
             ]
            ],
            "type": "surface"
           }
          ],
          "table": [
           {
            "cells": {
             "fill": {
              "color": "#EBF0F8"
             },
             "line": {
              "color": "white"
             }
            },
            "header": {
             "fill": {
              "color": "#C8D4E3"
             },
             "line": {
              "color": "white"
             }
            },
            "type": "table"
           }
          ]
         },
         "layout": {
          "annotationdefaults": {
           "arrowcolor": "#2a3f5f",
           "arrowhead": 0,
           "arrowwidth": 1
          },
          "autotypenumbers": "strict",
          "coloraxis": {
           "colorbar": {
            "outlinewidth": 0,
            "ticks": ""
           }
          },
          "colorscale": {
           "diverging": [
            [
             0,
             "#8e0152"
            ],
            [
             0.1,
             "#c51b7d"
            ],
            [
             0.2,
             "#de77ae"
            ],
            [
             0.3,
             "#f1b6da"
            ],
            [
             0.4,
             "#fde0ef"
            ],
            [
             0.5,
             "#f7f7f7"
            ],
            [
             0.6,
             "#e6f5d0"
            ],
            [
             0.7,
             "#b8e186"
            ],
            [
             0.8,
             "#7fbc41"
            ],
            [
             0.9,
             "#4d9221"
            ],
            [
             1,
             "#276419"
            ]
           ],
           "sequential": [
            [
             0,
             "#0d0887"
            ],
            [
             0.1111111111111111,
             "#46039f"
            ],
            [
             0.2222222222222222,
             "#7201a8"
            ],
            [
             0.3333333333333333,
             "#9c179e"
            ],
            [
             0.4444444444444444,
             "#bd3786"
            ],
            [
             0.5555555555555556,
             "#d8576b"
            ],
            [
             0.6666666666666666,
             "#ed7953"
            ],
            [
             0.7777777777777778,
             "#fb9f3a"
            ],
            [
             0.8888888888888888,
             "#fdca26"
            ],
            [
             1,
             "#f0f921"
            ]
           ],
           "sequentialminus": [
            [
             0,
             "#0d0887"
            ],
            [
             0.1111111111111111,
             "#46039f"
            ],
            [
             0.2222222222222222,
             "#7201a8"
            ],
            [
             0.3333333333333333,
             "#9c179e"
            ],
            [
             0.4444444444444444,
             "#bd3786"
            ],
            [
             0.5555555555555556,
             "#d8576b"
            ],
            [
             0.6666666666666666,
             "#ed7953"
            ],
            [
             0.7777777777777778,
             "#fb9f3a"
            ],
            [
             0.8888888888888888,
             "#fdca26"
            ],
            [
             1,
             "#f0f921"
            ]
           ]
          },
          "colorway": [
           "#636efa",
           "#EF553B",
           "#00cc96",
           "#ab63fa",
           "#FFA15A",
           "#19d3f3",
           "#FF6692",
           "#B6E880",
           "#FF97FF",
           "#FECB52"
          ],
          "font": {
           "color": "#2a3f5f"
          },
          "geo": {
           "bgcolor": "white",
           "lakecolor": "white",
           "landcolor": "#E5ECF6",
           "showlakes": true,
           "showland": true,
           "subunitcolor": "white"
          },
          "hoverlabel": {
           "align": "left"
          },
          "hovermode": "closest",
          "mapbox": {
           "style": "light"
          },
          "paper_bgcolor": "white",
          "plot_bgcolor": "#E5ECF6",
          "polar": {
           "angularaxis": {
            "gridcolor": "white",
            "linecolor": "white",
            "ticks": ""
           },
           "bgcolor": "#E5ECF6",
           "radialaxis": {
            "gridcolor": "white",
            "linecolor": "white",
            "ticks": ""
           }
          },
          "scene": {
           "xaxis": {
            "backgroundcolor": "#E5ECF6",
            "gridcolor": "white",
            "gridwidth": 2,
            "linecolor": "white",
            "showbackground": true,
            "ticks": "",
            "zerolinecolor": "white"
           },
           "yaxis": {
            "backgroundcolor": "#E5ECF6",
            "gridcolor": "white",
            "gridwidth": 2,
            "linecolor": "white",
            "showbackground": true,
            "ticks": "",
            "zerolinecolor": "white"
           },
           "zaxis": {
            "backgroundcolor": "#E5ECF6",
            "gridcolor": "white",
            "gridwidth": 2,
            "linecolor": "white",
            "showbackground": true,
            "ticks": "",
            "zerolinecolor": "white"
           }
          },
          "shapedefaults": {
           "line": {
            "color": "#2a3f5f"
           }
          },
          "ternary": {
           "aaxis": {
            "gridcolor": "white",
            "linecolor": "white",
            "ticks": ""
           },
           "baxis": {
            "gridcolor": "white",
            "linecolor": "white",
            "ticks": ""
           },
           "bgcolor": "#E5ECF6",
           "caxis": {
            "gridcolor": "white",
            "linecolor": "white",
            "ticks": ""
           }
          },
          "title": {
           "x": 0.05
          },
          "xaxis": {
           "automargin": true,
           "gridcolor": "white",
           "linecolor": "white",
           "ticks": "",
           "title": {
            "standoff": 15
           },
           "zerolinecolor": "white",
           "zerolinewidth": 2
          },
          "yaxis": {
           "automargin": true,
           "gridcolor": "white",
           "linecolor": "white",
           "ticks": "",
           "title": {
            "standoff": 15
           },
           "zerolinecolor": "white",
           "zerolinewidth": 2
          }
         }
        },
        "title": {
         "text": "<b>Function presence using different cutoff values for m9-EX_glc__D_e:10.0-EX_thr__L_e:6.67_NBR<b>",
         "x": 0.5
        },
        "xaxis": {
         "anchor": "y",
         "domain": [
          0,
          1
         ],
         "tickangle": 45,
         "title": {
          "text": "Function"
         }
        },
        "yaxis": {
         "anchor": "x",
         "domain": [
          0,
          1
         ],
         "title": {
          "text": "Presence"
         }
        }
       }
      }
     },
     "metadata": {},
     "output_type": "display_data"
    },
    {
     "name": "stderr",
     "output_type": "stream",
     "text": [
      "/home/alvaro/miniconda3/envs/e_merlin/lib/python3.10/site-packages/openpyxl/workbook/child.py:99: UserWarning:\n",
      "\n",
      "Title is more than 31 characters. Some applications may not be able to read the file\n",
      "\n"
     ]
    },
    {
     "data": {
      "text/html": [
       "<div>\n",
       "<style scoped>\n",
       "    .dataframe tbody tr th:only-of-type {\n",
       "        vertical-align: middle;\n",
       "    }\n",
       "\n",
       "    .dataframe tbody tr th {\n",
       "        vertical-align: top;\n",
       "    }\n",
       "\n",
       "    .dataframe thead th {\n",
       "        text-align: right;\n",
       "    }\n",
       "</style>\n",
       "<table border=\"1\" class=\"dataframe\">\n",
       "  <thead>\n",
       "    <tr style=\"text-align: right;\">\n",
       "      <th></th>\n",
       "      <th>Function</th>\n",
       "      <th>Presence</th>\n",
       "    </tr>\n",
       "  </thead>\n",
       "  <tbody>\n",
       "    <tr>\n",
       "      <th>0</th>\n",
       "      <td>NaN</td>\n",
       "      <td>0.0</td>\n",
       "    </tr>\n",
       "  </tbody>\n",
       "</table>\n",
       "</div>"
      ],
      "text/plain": [
       "   Function  Presence\n",
       "0       NaN       0.0"
      ]
     },
     "metadata": {},
     "output_type": "display_data"
    },
    {
     "data": {
      "application/vnd.plotly.v1+json": {
       "config": {
        "plotlyServerURL": "https://plot.ly"
       },
       "data": [
        {
         "alignmentgroup": "True",
         "hovertemplate": "Function=%{x}<br>Presence=%{y}<extra></extra>",
         "legendgroup": "",
         "marker": {
          "color": "#636efa",
          "pattern": {
           "shape": ""
          }
         },
         "name": "",
         "offsetgroup": "",
         "orientation": "v",
         "showlegend": false,
         "textposition": "auto",
         "type": "bar",
         "x": [
          null
         ],
         "xaxis": "x",
         "y": [
          0
         ],
         "yaxis": "y"
        }
       ],
       "layout": {
        "barmode": "relative",
        "height": 600,
        "legend": {
         "tracegroupgap": 0
        },
        "margin": {
         "t": 60
        },
        "template": {
         "data": {
          "bar": [
           {
            "error_x": {
             "color": "#2a3f5f"
            },
            "error_y": {
             "color": "#2a3f5f"
            },
            "marker": {
             "line": {
              "color": "#E5ECF6",
              "width": 0.5
             },
             "pattern": {
              "fillmode": "overlay",
              "size": 10,
              "solidity": 0.2
             }
            },
            "type": "bar"
           }
          ],
          "barpolar": [
           {
            "marker": {
             "line": {
              "color": "#E5ECF6",
              "width": 0.5
             },
             "pattern": {
              "fillmode": "overlay",
              "size": 10,
              "solidity": 0.2
             }
            },
            "type": "barpolar"
           }
          ],
          "carpet": [
           {
            "aaxis": {
             "endlinecolor": "#2a3f5f",
             "gridcolor": "white",
             "linecolor": "white",
             "minorgridcolor": "white",
             "startlinecolor": "#2a3f5f"
            },
            "baxis": {
             "endlinecolor": "#2a3f5f",
             "gridcolor": "white",
             "linecolor": "white",
             "minorgridcolor": "white",
             "startlinecolor": "#2a3f5f"
            },
            "type": "carpet"
           }
          ],
          "choropleth": [
           {
            "colorbar": {
             "outlinewidth": 0,
             "ticks": ""
            },
            "type": "choropleth"
           }
          ],
          "contour": [
           {
            "colorbar": {
             "outlinewidth": 0,
             "ticks": ""
            },
            "colorscale": [
             [
              0,
              "#0d0887"
             ],
             [
              0.1111111111111111,
              "#46039f"
             ],
             [
              0.2222222222222222,
              "#7201a8"
             ],
             [
              0.3333333333333333,
              "#9c179e"
             ],
             [
              0.4444444444444444,
              "#bd3786"
             ],
             [
              0.5555555555555556,
              "#d8576b"
             ],
             [
              0.6666666666666666,
              "#ed7953"
             ],
             [
              0.7777777777777778,
              "#fb9f3a"
             ],
             [
              0.8888888888888888,
              "#fdca26"
             ],
             [
              1,
              "#f0f921"
             ]
            ],
            "type": "contour"
           }
          ],
          "contourcarpet": [
           {
            "colorbar": {
             "outlinewidth": 0,
             "ticks": ""
            },
            "type": "contourcarpet"
           }
          ],
          "heatmap": [
           {
            "colorbar": {
             "outlinewidth": 0,
             "ticks": ""
            },
            "colorscale": [
             [
              0,
              "#0d0887"
             ],
             [
              0.1111111111111111,
              "#46039f"
             ],
             [
              0.2222222222222222,
              "#7201a8"
             ],
             [
              0.3333333333333333,
              "#9c179e"
             ],
             [
              0.4444444444444444,
              "#bd3786"
             ],
             [
              0.5555555555555556,
              "#d8576b"
             ],
             [
              0.6666666666666666,
              "#ed7953"
             ],
             [
              0.7777777777777778,
              "#fb9f3a"
             ],
             [
              0.8888888888888888,
              "#fdca26"
             ],
             [
              1,
              "#f0f921"
             ]
            ],
            "type": "heatmap"
           }
          ],
          "heatmapgl": [
           {
            "colorbar": {
             "outlinewidth": 0,
             "ticks": ""
            },
            "colorscale": [
             [
              0,
              "#0d0887"
             ],
             [
              0.1111111111111111,
              "#46039f"
             ],
             [
              0.2222222222222222,
              "#7201a8"
             ],
             [
              0.3333333333333333,
              "#9c179e"
             ],
             [
              0.4444444444444444,
              "#bd3786"
             ],
             [
              0.5555555555555556,
              "#d8576b"
             ],
             [
              0.6666666666666666,
              "#ed7953"
             ],
             [
              0.7777777777777778,
              "#fb9f3a"
             ],
             [
              0.8888888888888888,
              "#fdca26"
             ],
             [
              1,
              "#f0f921"
             ]
            ],
            "type": "heatmapgl"
           }
          ],
          "histogram": [
           {
            "marker": {
             "pattern": {
              "fillmode": "overlay",
              "size": 10,
              "solidity": 0.2
             }
            },
            "type": "histogram"
           }
          ],
          "histogram2d": [
           {
            "colorbar": {
             "outlinewidth": 0,
             "ticks": ""
            },
            "colorscale": [
             [
              0,
              "#0d0887"
             ],
             [
              0.1111111111111111,
              "#46039f"
             ],
             [
              0.2222222222222222,
              "#7201a8"
             ],
             [
              0.3333333333333333,
              "#9c179e"
             ],
             [
              0.4444444444444444,
              "#bd3786"
             ],
             [
              0.5555555555555556,
              "#d8576b"
             ],
             [
              0.6666666666666666,
              "#ed7953"
             ],
             [
              0.7777777777777778,
              "#fb9f3a"
             ],
             [
              0.8888888888888888,
              "#fdca26"
             ],
             [
              1,
              "#f0f921"
             ]
            ],
            "type": "histogram2d"
           }
          ],
          "histogram2dcontour": [
           {
            "colorbar": {
             "outlinewidth": 0,
             "ticks": ""
            },
            "colorscale": [
             [
              0,
              "#0d0887"
             ],
             [
              0.1111111111111111,
              "#46039f"
             ],
             [
              0.2222222222222222,
              "#7201a8"
             ],
             [
              0.3333333333333333,
              "#9c179e"
             ],
             [
              0.4444444444444444,
              "#bd3786"
             ],
             [
              0.5555555555555556,
              "#d8576b"
             ],
             [
              0.6666666666666666,
              "#ed7953"
             ],
             [
              0.7777777777777778,
              "#fb9f3a"
             ],
             [
              0.8888888888888888,
              "#fdca26"
             ],
             [
              1,
              "#f0f921"
             ]
            ],
            "type": "histogram2dcontour"
           }
          ],
          "mesh3d": [
           {
            "colorbar": {
             "outlinewidth": 0,
             "ticks": ""
            },
            "type": "mesh3d"
           }
          ],
          "parcoords": [
           {
            "line": {
             "colorbar": {
              "outlinewidth": 0,
              "ticks": ""
             }
            },
            "type": "parcoords"
           }
          ],
          "pie": [
           {
            "automargin": true,
            "type": "pie"
           }
          ],
          "scatter": [
           {
            "fillpattern": {
             "fillmode": "overlay",
             "size": 10,
             "solidity": 0.2
            },
            "type": "scatter"
           }
          ],
          "scatter3d": [
           {
            "line": {
             "colorbar": {
              "outlinewidth": 0,
              "ticks": ""
             }
            },
            "marker": {
             "colorbar": {
              "outlinewidth": 0,
              "ticks": ""
             }
            },
            "type": "scatter3d"
           }
          ],
          "scattercarpet": [
           {
            "marker": {
             "colorbar": {
              "outlinewidth": 0,
              "ticks": ""
             }
            },
            "type": "scattercarpet"
           }
          ],
          "scattergeo": [
           {
            "marker": {
             "colorbar": {
              "outlinewidth": 0,
              "ticks": ""
             }
            },
            "type": "scattergeo"
           }
          ],
          "scattergl": [
           {
            "marker": {
             "colorbar": {
              "outlinewidth": 0,
              "ticks": ""
             }
            },
            "type": "scattergl"
           }
          ],
          "scattermapbox": [
           {
            "marker": {
             "colorbar": {
              "outlinewidth": 0,
              "ticks": ""
             }
            },
            "type": "scattermapbox"
           }
          ],
          "scatterpolar": [
           {
            "marker": {
             "colorbar": {
              "outlinewidth": 0,
              "ticks": ""
             }
            },
            "type": "scatterpolar"
           }
          ],
          "scatterpolargl": [
           {
            "marker": {
             "colorbar": {
              "outlinewidth": 0,
              "ticks": ""
             }
            },
            "type": "scatterpolargl"
           }
          ],
          "scatterternary": [
           {
            "marker": {
             "colorbar": {
              "outlinewidth": 0,
              "ticks": ""
             }
            },
            "type": "scatterternary"
           }
          ],
          "surface": [
           {
            "colorbar": {
             "outlinewidth": 0,
             "ticks": ""
            },
            "colorscale": [
             [
              0,
              "#0d0887"
             ],
             [
              0.1111111111111111,
              "#46039f"
             ],
             [
              0.2222222222222222,
              "#7201a8"
             ],
             [
              0.3333333333333333,
              "#9c179e"
             ],
             [
              0.4444444444444444,
              "#bd3786"
             ],
             [
              0.5555555555555556,
              "#d8576b"
             ],
             [
              0.6666666666666666,
              "#ed7953"
             ],
             [
              0.7777777777777778,
              "#fb9f3a"
             ],
             [
              0.8888888888888888,
              "#fdca26"
             ],
             [
              1,
              "#f0f921"
             ]
            ],
            "type": "surface"
           }
          ],
          "table": [
           {
            "cells": {
             "fill": {
              "color": "#EBF0F8"
             },
             "line": {
              "color": "white"
             }
            },
            "header": {
             "fill": {
              "color": "#C8D4E3"
             },
             "line": {
              "color": "white"
             }
            },
            "type": "table"
           }
          ]
         },
         "layout": {
          "annotationdefaults": {
           "arrowcolor": "#2a3f5f",
           "arrowhead": 0,
           "arrowwidth": 1
          },
          "autotypenumbers": "strict",
          "coloraxis": {
           "colorbar": {
            "outlinewidth": 0,
            "ticks": ""
           }
          },
          "colorscale": {
           "diverging": [
            [
             0,
             "#8e0152"
            ],
            [
             0.1,
             "#c51b7d"
            ],
            [
             0.2,
             "#de77ae"
            ],
            [
             0.3,
             "#f1b6da"
            ],
            [
             0.4,
             "#fde0ef"
            ],
            [
             0.5,
             "#f7f7f7"
            ],
            [
             0.6,
             "#e6f5d0"
            ],
            [
             0.7,
             "#b8e186"
            ],
            [
             0.8,
             "#7fbc41"
            ],
            [
             0.9,
             "#4d9221"
            ],
            [
             1,
             "#276419"
            ]
           ],
           "sequential": [
            [
             0,
             "#0d0887"
            ],
            [
             0.1111111111111111,
             "#46039f"
            ],
            [
             0.2222222222222222,
             "#7201a8"
            ],
            [
             0.3333333333333333,
             "#9c179e"
            ],
            [
             0.4444444444444444,
             "#bd3786"
            ],
            [
             0.5555555555555556,
             "#d8576b"
            ],
            [
             0.6666666666666666,
             "#ed7953"
            ],
            [
             0.7777777777777778,
             "#fb9f3a"
            ],
            [
             0.8888888888888888,
             "#fdca26"
            ],
            [
             1,
             "#f0f921"
            ]
           ],
           "sequentialminus": [
            [
             0,
             "#0d0887"
            ],
            [
             0.1111111111111111,
             "#46039f"
            ],
            [
             0.2222222222222222,
             "#7201a8"
            ],
            [
             0.3333333333333333,
             "#9c179e"
            ],
            [
             0.4444444444444444,
             "#bd3786"
            ],
            [
             0.5555555555555556,
             "#d8576b"
            ],
            [
             0.6666666666666666,
             "#ed7953"
            ],
            [
             0.7777777777777778,
             "#fb9f3a"
            ],
            [
             0.8888888888888888,
             "#fdca26"
            ],
            [
             1,
             "#f0f921"
            ]
           ]
          },
          "colorway": [
           "#636efa",
           "#EF553B",
           "#00cc96",
           "#ab63fa",
           "#FFA15A",
           "#19d3f3",
           "#FF6692",
           "#B6E880",
           "#FF97FF",
           "#FECB52"
          ],
          "font": {
           "color": "#2a3f5f"
          },
          "geo": {
           "bgcolor": "white",
           "lakecolor": "white",
           "landcolor": "#E5ECF6",
           "showlakes": true,
           "showland": true,
           "subunitcolor": "white"
          },
          "hoverlabel": {
           "align": "left"
          },
          "hovermode": "closest",
          "mapbox": {
           "style": "light"
          },
          "paper_bgcolor": "white",
          "plot_bgcolor": "#E5ECF6",
          "polar": {
           "angularaxis": {
            "gridcolor": "white",
            "linecolor": "white",
            "ticks": ""
           },
           "bgcolor": "#E5ECF6",
           "radialaxis": {
            "gridcolor": "white",
            "linecolor": "white",
            "ticks": ""
           }
          },
          "scene": {
           "xaxis": {
            "backgroundcolor": "#E5ECF6",
            "gridcolor": "white",
            "gridwidth": 2,
            "linecolor": "white",
            "showbackground": true,
            "ticks": "",
            "zerolinecolor": "white"
           },
           "yaxis": {
            "backgroundcolor": "#E5ECF6",
            "gridcolor": "white",
            "gridwidth": 2,
            "linecolor": "white",
            "showbackground": true,
            "ticks": "",
            "zerolinecolor": "white"
           },
           "zaxis": {
            "backgroundcolor": "#E5ECF6",
            "gridcolor": "white",
            "gridwidth": 2,
            "linecolor": "white",
            "showbackground": true,
            "ticks": "",
            "zerolinecolor": "white"
           }
          },
          "shapedefaults": {
           "line": {
            "color": "#2a3f5f"
           }
          },
          "ternary": {
           "aaxis": {
            "gridcolor": "white",
            "linecolor": "white",
            "ticks": ""
           },
           "baxis": {
            "gridcolor": "white",
            "linecolor": "white",
            "ticks": ""
           },
           "bgcolor": "#E5ECF6",
           "caxis": {
            "gridcolor": "white",
            "linecolor": "white",
            "ticks": ""
           }
          },
          "title": {
           "x": 0.05
          },
          "xaxis": {
           "automargin": true,
           "gridcolor": "white",
           "linecolor": "white",
           "ticks": "",
           "title": {
            "standoff": 15
           },
           "zerolinecolor": "white",
           "zerolinewidth": 2
          },
          "yaxis": {
           "automargin": true,
           "gridcolor": "white",
           "linecolor": "white",
           "ticks": "",
           "title": {
            "standoff": 15
           },
           "zerolinecolor": "white",
           "zerolinewidth": 2
          }
         }
        },
        "title": {
         "text": "<b>Function presence using different cutoff values for m9-EX_glc__D_e:10.0-EX_thr__L_e:6.67_BAR<b>",
         "x": 0.5
        },
        "xaxis": {
         "anchor": "y",
         "domain": [
          0,
          1
         ],
         "tickangle": 45,
         "title": {
          "text": "Function"
         }
        },
        "yaxis": {
         "anchor": "x",
         "domain": [
          0,
          1
         ],
         "title": {
          "text": "Presence"
         }
        }
       }
      }
     },
     "metadata": {},
     "output_type": "display_data"
    },
    {
     "name": "stderr",
     "output_type": "stream",
     "text": [
      "/home/alvaro/miniconda3/envs/e_merlin/lib/python3.10/site-packages/openpyxl/workbook/child.py:99: UserWarning:\n",
      "\n",
      "Title is more than 31 characters. Some applications may not be able to read the file\n",
      "\n"
     ]
    },
    {
     "data": {
      "text/html": [
       "<div>\n",
       "<style scoped>\n",
       "    .dataframe tbody tr th:only-of-type {\n",
       "        vertical-align: middle;\n",
       "    }\n",
       "\n",
       "    .dataframe tbody tr th {\n",
       "        vertical-align: top;\n",
       "    }\n",
       "\n",
       "    .dataframe thead th {\n",
       "        text-align: right;\n",
       "    }\n",
       "</style>\n",
       "<table border=\"1\" class=\"dataframe\">\n",
       "  <thead>\n",
       "    <tr style=\"text-align: right;\">\n",
       "      <th></th>\n",
       "      <th>Function</th>\n",
       "      <th>Presence</th>\n",
       "    </tr>\n",
       "  </thead>\n",
       "  <tbody>\n",
       "    <tr>\n",
       "      <th>0</th>\n",
       "      <td>Nucleotide Salvage Pathway</td>\n",
       "      <td>1.000000</td>\n",
       "    </tr>\n",
       "    <tr>\n",
       "      <th>1</th>\n",
       "      <td>Tyrosine, Tryptophan, and Phenylalanine Metabo...</td>\n",
       "      <td>1.000000</td>\n",
       "    </tr>\n",
       "    <tr>\n",
       "      <th>2</th>\n",
       "      <td>Purine and Pyrimidine Biosynthesis</td>\n",
       "      <td>1.000000</td>\n",
       "    </tr>\n",
       "    <tr>\n",
       "      <th>3</th>\n",
       "      <td>Arginine and Proline Metabolism</td>\n",
       "      <td>1.000000</td>\n",
       "    </tr>\n",
       "    <tr>\n",
       "      <th>4</th>\n",
       "      <td>Citric Acid Cycle</td>\n",
       "      <td>1.000000</td>\n",
       "    </tr>\n",
       "    <tr>\n",
       "      <th>5</th>\n",
       "      <td>Cofactor and Prosthetic Group Biosynthesis</td>\n",
       "      <td>1.000000</td>\n",
       "    </tr>\n",
       "    <tr>\n",
       "      <th>6</th>\n",
       "      <td>Pyruvate Metabolism</td>\n",
       "      <td>1.000000</td>\n",
       "    </tr>\n",
       "    <tr>\n",
       "      <th>7</th>\n",
       "      <td>Cysteine Metabolism</td>\n",
       "      <td>1.000000</td>\n",
       "    </tr>\n",
       "    <tr>\n",
       "      <th>8</th>\n",
       "      <td>Alternate Carbon Metabolism</td>\n",
       "      <td>1.000000</td>\n",
       "    </tr>\n",
       "    <tr>\n",
       "      <th>9</th>\n",
       "      <td>Anaplerotic Reactions</td>\n",
       "      <td>1.000000</td>\n",
       "    </tr>\n",
       "    <tr>\n",
       "      <th>10</th>\n",
       "      <td>Alanine and Aspartate Metabolism</td>\n",
       "      <td>1.000000</td>\n",
       "    </tr>\n",
       "    <tr>\n",
       "      <th>11</th>\n",
       "      <td>Glycolysis/Gluconeogenesis</td>\n",
       "      <td>1.000000</td>\n",
       "    </tr>\n",
       "    <tr>\n",
       "      <th>12</th>\n",
       "      <td>Valine, Leucine, and Isoleucine Metabolism</td>\n",
       "      <td>1.000000</td>\n",
       "    </tr>\n",
       "    <tr>\n",
       "      <th>13</th>\n",
       "      <td>Pentose Phosphate Pathway</td>\n",
       "      <td>1.000000</td>\n",
       "    </tr>\n",
       "    <tr>\n",
       "      <th>14</th>\n",
       "      <td>Oxidative Phosphorylation</td>\n",
       "      <td>1.000000</td>\n",
       "    </tr>\n",
       "    <tr>\n",
       "      <th>15</th>\n",
       "      <td>Lipopolysaccharide Biosynthesis / Recycling</td>\n",
       "      <td>1.000000</td>\n",
       "    </tr>\n",
       "    <tr>\n",
       "      <th>16</th>\n",
       "      <td>Membrane Lipid Metabolism</td>\n",
       "      <td>1.000000</td>\n",
       "    </tr>\n",
       "    <tr>\n",
       "      <th>17</th>\n",
       "      <td>Unassigned</td>\n",
       "      <td>0.631579</td>\n",
       "    </tr>\n",
       "    <tr>\n",
       "      <th>18</th>\n",
       "      <td>Methylglyoxal Metabolism</td>\n",
       "      <td>0.105263</td>\n",
       "    </tr>\n",
       "    <tr>\n",
       "      <th>19</th>\n",
       "      <td>tRNA Charging</td>\n",
       "      <td>0.000000</td>\n",
       "    </tr>\n",
       "    <tr>\n",
       "      <th>20</th>\n",
       "      <td>Threonine and Lysine Metabolism</td>\n",
       "      <td>1.000000</td>\n",
       "    </tr>\n",
       "    <tr>\n",
       "      <th>21</th>\n",
       "      <td>Folate Metabolism</td>\n",
       "      <td>1.000000</td>\n",
       "    </tr>\n",
       "    <tr>\n",
       "      <th>22</th>\n",
       "      <td>Glycine and Serine Metabolism</td>\n",
       "      <td>1.000000</td>\n",
       "    </tr>\n",
       "    <tr>\n",
       "      <th>23</th>\n",
       "      <td>Glyoxylate Metabolism</td>\n",
       "      <td>0.000000</td>\n",
       "    </tr>\n",
       "    <tr>\n",
       "      <th>24</th>\n",
       "      <td>Cell Envelope Biosynthesis</td>\n",
       "      <td>1.000000</td>\n",
       "    </tr>\n",
       "    <tr>\n",
       "      <th>25</th>\n",
       "      <td>Methionine Metabolism</td>\n",
       "      <td>1.000000</td>\n",
       "    </tr>\n",
       "    <tr>\n",
       "      <th>26</th>\n",
       "      <td>Nitrogen Metabolism</td>\n",
       "      <td>0.000000</td>\n",
       "    </tr>\n",
       "    <tr>\n",
       "      <th>27</th>\n",
       "      <td>Histidine Metabolism</td>\n",
       "      <td>1.000000</td>\n",
       "    </tr>\n",
       "    <tr>\n",
       "      <th>28</th>\n",
       "      <td>Inorganic Ion Transport and Metabolism</td>\n",
       "      <td>1.000000</td>\n",
       "    </tr>\n",
       "    <tr>\n",
       "      <th>29</th>\n",
       "      <td>Glutamate Metabolism</td>\n",
       "      <td>1.000000</td>\n",
       "    </tr>\n",
       "    <tr>\n",
       "      <th>30</th>\n",
       "      <td>Glycerophospholipid Metabolism</td>\n",
       "      <td>1.000000</td>\n",
       "    </tr>\n",
       "    <tr>\n",
       "      <th>31</th>\n",
       "      <td>Transport, Outer Membrane Porin</td>\n",
       "      <td>1.000000</td>\n",
       "    </tr>\n",
       "    <tr>\n",
       "      <th>32</th>\n",
       "      <td>Transport, Inner Membrane</td>\n",
       "      <td>1.000000</td>\n",
       "    </tr>\n",
       "    <tr>\n",
       "      <th>33</th>\n",
       "      <td>Transport, Outer Membrane</td>\n",
       "      <td>0.000000</td>\n",
       "    </tr>\n",
       "    <tr>\n",
       "      <th>34</th>\n",
       "      <td>Murein Recycling</td>\n",
       "      <td>0.000000</td>\n",
       "    </tr>\n",
       "    <tr>\n",
       "      <th>35</th>\n",
       "      <td>Biomass and maintenance functions</td>\n",
       "      <td>1.000000</td>\n",
       "    </tr>\n",
       "    <tr>\n",
       "      <th>36</th>\n",
       "      <td>Murein Biosynthesis</td>\n",
       "      <td>1.000000</td>\n",
       "    </tr>\n",
       "    <tr>\n",
       "      <th>37</th>\n",
       "      <td>Metabolite Repair</td>\n",
       "      <td>1.000000</td>\n",
       "    </tr>\n",
       "  </tbody>\n",
       "</table>\n",
       "</div>"
      ],
      "text/plain": [
       "                                             Function  Presence\n",
       "0                          Nucleotide Salvage Pathway  1.000000\n",
       "1   Tyrosine, Tryptophan, and Phenylalanine Metabo...  1.000000\n",
       "2                  Purine and Pyrimidine Biosynthesis  1.000000\n",
       "3                     Arginine and Proline Metabolism  1.000000\n",
       "4                                   Citric Acid Cycle  1.000000\n",
       "5          Cofactor and Prosthetic Group Biosynthesis  1.000000\n",
       "6                                 Pyruvate Metabolism  1.000000\n",
       "7                                 Cysteine Metabolism  1.000000\n",
       "8                         Alternate Carbon Metabolism  1.000000\n",
       "9                               Anaplerotic Reactions  1.000000\n",
       "10                   Alanine and Aspartate Metabolism  1.000000\n",
       "11                         Glycolysis/Gluconeogenesis  1.000000\n",
       "12         Valine, Leucine, and Isoleucine Metabolism  1.000000\n",
       "13                          Pentose Phosphate Pathway  1.000000\n",
       "14                          Oxidative Phosphorylation  1.000000\n",
       "15        Lipopolysaccharide Biosynthesis / Recycling  1.000000\n",
       "16                          Membrane Lipid Metabolism  1.000000\n",
       "17                                         Unassigned  0.631579\n",
       "18                           Methylglyoxal Metabolism  0.105263\n",
       "19                                      tRNA Charging  0.000000\n",
       "20                    Threonine and Lysine Metabolism  1.000000\n",
       "21                                  Folate Metabolism  1.000000\n",
       "22                      Glycine and Serine Metabolism  1.000000\n",
       "23                              Glyoxylate Metabolism  0.000000\n",
       "24                         Cell Envelope Biosynthesis  1.000000\n",
       "25                              Methionine Metabolism  1.000000\n",
       "26                                Nitrogen Metabolism  0.000000\n",
       "27                               Histidine Metabolism  1.000000\n",
       "28             Inorganic Ion Transport and Metabolism  1.000000\n",
       "29                               Glutamate Metabolism  1.000000\n",
       "30                     Glycerophospholipid Metabolism  1.000000\n",
       "31                    Transport, Outer Membrane Porin  1.000000\n",
       "32                          Transport, Inner Membrane  1.000000\n",
       "33                          Transport, Outer Membrane  0.000000\n",
       "34                                   Murein Recycling  0.000000\n",
       "35                  Biomass and maintenance functions  1.000000\n",
       "36                                Murein Biosynthesis  1.000000\n",
       "37                                  Metabolite Repair  1.000000"
      ]
     },
     "metadata": {},
     "output_type": "display_data"
    },
    {
     "data": {
      "application/vnd.plotly.v1+json": {
       "config": {
        "plotlyServerURL": "https://plot.ly"
       },
       "data": [
        {
         "alignmentgroup": "True",
         "hovertemplate": "Function=%{x}<br>Presence=%{y}<extra></extra>",
         "legendgroup": "",
         "marker": {
          "color": "#636efa",
          "pattern": {
           "shape": ""
          }
         },
         "name": "",
         "offsetgroup": "",
         "orientation": "v",
         "showlegend": false,
         "textposition": "auto",
         "type": "bar",
         "x": [
          "Nucleotide Salvage Pathway",
          "Tyrosine, Tryptophan, and Phenylalanine Metabolism",
          "Purine and Pyrimidine Biosynthesis",
          "Arginine and Proline Metabolism",
          "Citric Acid Cycle",
          "Cofactor and Prosthetic Group Biosynthesis",
          "Pyruvate Metabolism",
          "Cysteine Metabolism",
          "Alternate Carbon Metabolism",
          "Anaplerotic Reactions",
          "Alanine and Aspartate Metabolism",
          "Glycolysis/Gluconeogenesis",
          "Valine, Leucine, and Isoleucine Metabolism",
          "Pentose Phosphate Pathway",
          "Oxidative Phosphorylation",
          "Lipopolysaccharide Biosynthesis / Recycling",
          "Membrane Lipid Metabolism",
          "Unassigned",
          "Methylglyoxal Metabolism",
          "tRNA Charging",
          "Threonine and Lysine Metabolism",
          "Folate Metabolism",
          "Glycine and Serine Metabolism",
          "Glyoxylate Metabolism",
          "Cell Envelope Biosynthesis",
          "Methionine Metabolism",
          "Nitrogen Metabolism",
          "Histidine Metabolism",
          "Inorganic Ion Transport and Metabolism",
          "Glutamate Metabolism",
          "Glycerophospholipid Metabolism",
          "Transport, Outer Membrane Porin",
          "Transport, Inner Membrane",
          "Transport, Outer Membrane",
          "Murein Recycling",
          "Biomass and maintenance functions",
          "Murein Biosynthesis",
          "Metabolite Repair"
         ],
         "xaxis": "x",
         "y": [
          1,
          1,
          1,
          1,
          1,
          1,
          1,
          1,
          1,
          1,
          1,
          1,
          1,
          1,
          1,
          1,
          1,
          0.631578947368421,
          0.10526315789473684,
          0,
          1,
          1,
          1,
          0,
          1,
          1,
          0,
          1,
          1,
          1,
          1,
          1,
          1,
          0,
          0,
          1,
          1,
          1
         ],
         "yaxis": "y"
        }
       ],
       "layout": {
        "barmode": "relative",
        "height": 600,
        "legend": {
         "tracegroupgap": 0
        },
        "margin": {
         "t": 60
        },
        "template": {
         "data": {
          "bar": [
           {
            "error_x": {
             "color": "#2a3f5f"
            },
            "error_y": {
             "color": "#2a3f5f"
            },
            "marker": {
             "line": {
              "color": "#E5ECF6",
              "width": 0.5
             },
             "pattern": {
              "fillmode": "overlay",
              "size": 10,
              "solidity": 0.2
             }
            },
            "type": "bar"
           }
          ],
          "barpolar": [
           {
            "marker": {
             "line": {
              "color": "#E5ECF6",
              "width": 0.5
             },
             "pattern": {
              "fillmode": "overlay",
              "size": 10,
              "solidity": 0.2
             }
            },
            "type": "barpolar"
           }
          ],
          "carpet": [
           {
            "aaxis": {
             "endlinecolor": "#2a3f5f",
             "gridcolor": "white",
             "linecolor": "white",
             "minorgridcolor": "white",
             "startlinecolor": "#2a3f5f"
            },
            "baxis": {
             "endlinecolor": "#2a3f5f",
             "gridcolor": "white",
             "linecolor": "white",
             "minorgridcolor": "white",
             "startlinecolor": "#2a3f5f"
            },
            "type": "carpet"
           }
          ],
          "choropleth": [
           {
            "colorbar": {
             "outlinewidth": 0,
             "ticks": ""
            },
            "type": "choropleth"
           }
          ],
          "contour": [
           {
            "colorbar": {
             "outlinewidth": 0,
             "ticks": ""
            },
            "colorscale": [
             [
              0,
              "#0d0887"
             ],
             [
              0.1111111111111111,
              "#46039f"
             ],
             [
              0.2222222222222222,
              "#7201a8"
             ],
             [
              0.3333333333333333,
              "#9c179e"
             ],
             [
              0.4444444444444444,
              "#bd3786"
             ],
             [
              0.5555555555555556,
              "#d8576b"
             ],
             [
              0.6666666666666666,
              "#ed7953"
             ],
             [
              0.7777777777777778,
              "#fb9f3a"
             ],
             [
              0.8888888888888888,
              "#fdca26"
             ],
             [
              1,
              "#f0f921"
             ]
            ],
            "type": "contour"
           }
          ],
          "contourcarpet": [
           {
            "colorbar": {
             "outlinewidth": 0,
             "ticks": ""
            },
            "type": "contourcarpet"
           }
          ],
          "heatmap": [
           {
            "colorbar": {
             "outlinewidth": 0,
             "ticks": ""
            },
            "colorscale": [
             [
              0,
              "#0d0887"
             ],
             [
              0.1111111111111111,
              "#46039f"
             ],
             [
              0.2222222222222222,
              "#7201a8"
             ],
             [
              0.3333333333333333,
              "#9c179e"
             ],
             [
              0.4444444444444444,
              "#bd3786"
             ],
             [
              0.5555555555555556,
              "#d8576b"
             ],
             [
              0.6666666666666666,
              "#ed7953"
             ],
             [
              0.7777777777777778,
              "#fb9f3a"
             ],
             [
              0.8888888888888888,
              "#fdca26"
             ],
             [
              1,
              "#f0f921"
             ]
            ],
            "type": "heatmap"
           }
          ],
          "heatmapgl": [
           {
            "colorbar": {
             "outlinewidth": 0,
             "ticks": ""
            },
            "colorscale": [
             [
              0,
              "#0d0887"
             ],
             [
              0.1111111111111111,
              "#46039f"
             ],
             [
              0.2222222222222222,
              "#7201a8"
             ],
             [
              0.3333333333333333,
              "#9c179e"
             ],
             [
              0.4444444444444444,
              "#bd3786"
             ],
             [
              0.5555555555555556,
              "#d8576b"
             ],
             [
              0.6666666666666666,
              "#ed7953"
             ],
             [
              0.7777777777777778,
              "#fb9f3a"
             ],
             [
              0.8888888888888888,
              "#fdca26"
             ],
             [
              1,
              "#f0f921"
             ]
            ],
            "type": "heatmapgl"
           }
          ],
          "histogram": [
           {
            "marker": {
             "pattern": {
              "fillmode": "overlay",
              "size": 10,
              "solidity": 0.2
             }
            },
            "type": "histogram"
           }
          ],
          "histogram2d": [
           {
            "colorbar": {
             "outlinewidth": 0,
             "ticks": ""
            },
            "colorscale": [
             [
              0,
              "#0d0887"
             ],
             [
              0.1111111111111111,
              "#46039f"
             ],
             [
              0.2222222222222222,
              "#7201a8"
             ],
             [
              0.3333333333333333,
              "#9c179e"
             ],
             [
              0.4444444444444444,
              "#bd3786"
             ],
             [
              0.5555555555555556,
              "#d8576b"
             ],
             [
              0.6666666666666666,
              "#ed7953"
             ],
             [
              0.7777777777777778,
              "#fb9f3a"
             ],
             [
              0.8888888888888888,
              "#fdca26"
             ],
             [
              1,
              "#f0f921"
             ]
            ],
            "type": "histogram2d"
           }
          ],
          "histogram2dcontour": [
           {
            "colorbar": {
             "outlinewidth": 0,
             "ticks": ""
            },
            "colorscale": [
             [
              0,
              "#0d0887"
             ],
             [
              0.1111111111111111,
              "#46039f"
             ],
             [
              0.2222222222222222,
              "#7201a8"
             ],
             [
              0.3333333333333333,
              "#9c179e"
             ],
             [
              0.4444444444444444,
              "#bd3786"
             ],
             [
              0.5555555555555556,
              "#d8576b"
             ],
             [
              0.6666666666666666,
              "#ed7953"
             ],
             [
              0.7777777777777778,
              "#fb9f3a"
             ],
             [
              0.8888888888888888,
              "#fdca26"
             ],
             [
              1,
              "#f0f921"
             ]
            ],
            "type": "histogram2dcontour"
           }
          ],
          "mesh3d": [
           {
            "colorbar": {
             "outlinewidth": 0,
             "ticks": ""
            },
            "type": "mesh3d"
           }
          ],
          "parcoords": [
           {
            "line": {
             "colorbar": {
              "outlinewidth": 0,
              "ticks": ""
             }
            },
            "type": "parcoords"
           }
          ],
          "pie": [
           {
            "automargin": true,
            "type": "pie"
           }
          ],
          "scatter": [
           {
            "fillpattern": {
             "fillmode": "overlay",
             "size": 10,
             "solidity": 0.2
            },
            "type": "scatter"
           }
          ],
          "scatter3d": [
           {
            "line": {
             "colorbar": {
              "outlinewidth": 0,
              "ticks": ""
             }
            },
            "marker": {
             "colorbar": {
              "outlinewidth": 0,
              "ticks": ""
             }
            },
            "type": "scatter3d"
           }
          ],
          "scattercarpet": [
           {
            "marker": {
             "colorbar": {
              "outlinewidth": 0,
              "ticks": ""
             }
            },
            "type": "scattercarpet"
           }
          ],
          "scattergeo": [
           {
            "marker": {
             "colorbar": {
              "outlinewidth": 0,
              "ticks": ""
             }
            },
            "type": "scattergeo"
           }
          ],
          "scattergl": [
           {
            "marker": {
             "colorbar": {
              "outlinewidth": 0,
              "ticks": ""
             }
            },
            "type": "scattergl"
           }
          ],
          "scattermapbox": [
           {
            "marker": {
             "colorbar": {
              "outlinewidth": 0,
              "ticks": ""
             }
            },
            "type": "scattermapbox"
           }
          ],
          "scatterpolar": [
           {
            "marker": {
             "colorbar": {
              "outlinewidth": 0,
              "ticks": ""
             }
            },
            "type": "scatterpolar"
           }
          ],
          "scatterpolargl": [
           {
            "marker": {
             "colorbar": {
              "outlinewidth": 0,
              "ticks": ""
             }
            },
            "type": "scatterpolargl"
           }
          ],
          "scatterternary": [
           {
            "marker": {
             "colorbar": {
              "outlinewidth": 0,
              "ticks": ""
             }
            },
            "type": "scatterternary"
           }
          ],
          "surface": [
           {
            "colorbar": {
             "outlinewidth": 0,
             "ticks": ""
            },
            "colorscale": [
             [
              0,
              "#0d0887"
             ],
             [
              0.1111111111111111,
              "#46039f"
             ],
             [
              0.2222222222222222,
              "#7201a8"
             ],
             [
              0.3333333333333333,
              "#9c179e"
             ],
             [
              0.4444444444444444,
              "#bd3786"
             ],
             [
              0.5555555555555556,
              "#d8576b"
             ],
             [
              0.6666666666666666,
              "#ed7953"
             ],
             [
              0.7777777777777778,
              "#fb9f3a"
             ],
             [
              0.8888888888888888,
              "#fdca26"
             ],
             [
              1,
              "#f0f921"
             ]
            ],
            "type": "surface"
           }
          ],
          "table": [
           {
            "cells": {
             "fill": {
              "color": "#EBF0F8"
             },
             "line": {
              "color": "white"
             }
            },
            "header": {
             "fill": {
              "color": "#C8D4E3"
             },
             "line": {
              "color": "white"
             }
            },
            "type": "table"
           }
          ]
         },
         "layout": {
          "annotationdefaults": {
           "arrowcolor": "#2a3f5f",
           "arrowhead": 0,
           "arrowwidth": 1
          },
          "autotypenumbers": "strict",
          "coloraxis": {
           "colorbar": {
            "outlinewidth": 0,
            "ticks": ""
           }
          },
          "colorscale": {
           "diverging": [
            [
             0,
             "#8e0152"
            ],
            [
             0.1,
             "#c51b7d"
            ],
            [
             0.2,
             "#de77ae"
            ],
            [
             0.3,
             "#f1b6da"
            ],
            [
             0.4,
             "#fde0ef"
            ],
            [
             0.5,
             "#f7f7f7"
            ],
            [
             0.6,
             "#e6f5d0"
            ],
            [
             0.7,
             "#b8e186"
            ],
            [
             0.8,
             "#7fbc41"
            ],
            [
             0.9,
             "#4d9221"
            ],
            [
             1,
             "#276419"
            ]
           ],
           "sequential": [
            [
             0,
             "#0d0887"
            ],
            [
             0.1111111111111111,
             "#46039f"
            ],
            [
             0.2222222222222222,
             "#7201a8"
            ],
            [
             0.3333333333333333,
             "#9c179e"
            ],
            [
             0.4444444444444444,
             "#bd3786"
            ],
            [
             0.5555555555555556,
             "#d8576b"
            ],
            [
             0.6666666666666666,
             "#ed7953"
            ],
            [
             0.7777777777777778,
             "#fb9f3a"
            ],
            [
             0.8888888888888888,
             "#fdca26"
            ],
            [
             1,
             "#f0f921"
            ]
           ],
           "sequentialminus": [
            [
             0,
             "#0d0887"
            ],
            [
             0.1111111111111111,
             "#46039f"
            ],
            [
             0.2222222222222222,
             "#7201a8"
            ],
            [
             0.3333333333333333,
             "#9c179e"
            ],
            [
             0.4444444444444444,
             "#bd3786"
            ],
            [
             0.5555555555555556,
             "#d8576b"
            ],
            [
             0.6666666666666666,
             "#ed7953"
            ],
            [
             0.7777777777777778,
             "#fb9f3a"
            ],
            [
             0.8888888888888888,
             "#fdca26"
            ],
            [
             1,
             "#f0f921"
            ]
           ]
          },
          "colorway": [
           "#636efa",
           "#EF553B",
           "#00cc96",
           "#ab63fa",
           "#FFA15A",
           "#19d3f3",
           "#FF6692",
           "#B6E880",
           "#FF97FF",
           "#FECB52"
          ],
          "font": {
           "color": "#2a3f5f"
          },
          "geo": {
           "bgcolor": "white",
           "lakecolor": "white",
           "landcolor": "#E5ECF6",
           "showlakes": true,
           "showland": true,
           "subunitcolor": "white"
          },
          "hoverlabel": {
           "align": "left"
          },
          "hovermode": "closest",
          "mapbox": {
           "style": "light"
          },
          "paper_bgcolor": "white",
          "plot_bgcolor": "#E5ECF6",
          "polar": {
           "angularaxis": {
            "gridcolor": "white",
            "linecolor": "white",
            "ticks": ""
           },
           "bgcolor": "#E5ECF6",
           "radialaxis": {
            "gridcolor": "white",
            "linecolor": "white",
            "ticks": ""
           }
          },
          "scene": {
           "xaxis": {
            "backgroundcolor": "#E5ECF6",
            "gridcolor": "white",
            "gridwidth": 2,
            "linecolor": "white",
            "showbackground": true,
            "ticks": "",
            "zerolinecolor": "white"
           },
           "yaxis": {
            "backgroundcolor": "#E5ECF6",
            "gridcolor": "white",
            "gridwidth": 2,
            "linecolor": "white",
            "showbackground": true,
            "ticks": "",
            "zerolinecolor": "white"
           },
           "zaxis": {
            "backgroundcolor": "#E5ECF6",
            "gridcolor": "white",
            "gridwidth": 2,
            "linecolor": "white",
            "showbackground": true,
            "ticks": "",
            "zerolinecolor": "white"
           }
          },
          "shapedefaults": {
           "line": {
            "color": "#2a3f5f"
           }
          },
          "ternary": {
           "aaxis": {
            "gridcolor": "white",
            "linecolor": "white",
            "ticks": ""
           },
           "baxis": {
            "gridcolor": "white",
            "linecolor": "white",
            "ticks": ""
           },
           "bgcolor": "#E5ECF6",
           "caxis": {
            "gridcolor": "white",
            "linecolor": "white",
            "ticks": ""
           }
          },
          "title": {
           "x": 0.05
          },
          "xaxis": {
           "automargin": true,
           "gridcolor": "white",
           "linecolor": "white",
           "ticks": "",
           "title": {
            "standoff": 15
           },
           "zerolinecolor": "white",
           "zerolinewidth": 2
          },
          "yaxis": {
           "automargin": true,
           "gridcolor": "white",
           "linecolor": "white",
           "ticks": "",
           "title": {
            "standoff": 15
           },
           "zerolinecolor": "white",
           "zerolinewidth": 2
          }
         }
        },
        "title": {
         "text": "<b>Function presence using different cutoff values for m9-EX_glc__D_e:10.0-EX_thr__L_e:6.67_BAR<b>",
         "x": 0.5
        },
        "xaxis": {
         "anchor": "y",
         "domain": [
          0,
          1
         ],
         "tickangle": 45,
         "title": {
          "text": "Function"
         }
        },
        "yaxis": {
         "anchor": "x",
         "domain": [
          0,
          1
         ],
         "title": {
          "text": "Presence"
         }
        }
       }
      }
     },
     "metadata": {},
     "output_type": "display_data"
    },
    {
     "name": "stderr",
     "output_type": "stream",
     "text": [
      "/home/alvaro/miniconda3/envs/e_merlin/lib/python3.10/site-packages/openpyxl/workbook/child.py:99: UserWarning:\n",
      "\n",
      "Title is more than 31 characters. Some applications may not be able to read the file\n",
      "\n"
     ]
    }
   ],
   "source": [
    "in_every_cutoff = {}\n",
    "func_dict = {'Function-1' : 'imodulon_function',\n",
    "             'Function-2' : 'subsystem' }\n",
    "\n",
    "for result_type in sensitivity_result_dict:\n",
    "    in_every_cutoff[result_type] = {}\n",
    "    #create the filename according to the pattern <species>_<study>_enriched_functions.xlsx\n",
    "    with pd.ExcelWriter('pseudomonas_carbon_source_enriched_'+result_type+'.xlsx') as writer:\n",
    "        for condition in sensitivity_result_dict[result_type]:\n",
    "            sensitivity_data = sensitivity_result_dict[result_type][condition]\n",
    "            if result_type == 'Gene':\n",
    "                set_id = '-'.join([condition.replace(':',''),result_type])\n",
    "                sensitivity_data.to_excel(writer, sheet_name=set_id)\n",
    "                in_every_cutoff[result_type][set_id] = set(sensitivity_data.loc[sensitivity_data[\"Presence\"]==1.0, result_type].tolist())\n",
    "            if result_type == 'Function':\n",
    "                fc_index = 1\n",
    "                for sensitivity_df in sensitivity_data:\n",
    "                    display(sensitivity_df)\n",
    "                    f = result_type+'-'+str(fc_index)\n",
    "                    set_id = '-'.join([condition.replace(':',''),f])\n",
    "                    #Plot the function sensitivity analysis:\n",
    "                    fig = px.bar(sensitivity_df, x=\"Function\", y=\"Presence\")\n",
    "                    fig.update_layout(title=dict(text='<b>Function presence using different cutoff values for '+condition+'<b>',x=0.5),\n",
    "                                      xaxis=dict(tickangle=45),\n",
    "                                      height = 600\n",
    "                                     )\n",
    "                    display(fig)\n",
    "                    fig_name = set_id.replace(f,func_dict[f])+'_presence.png'\n",
    "                    fig_save_path='/'.join(['results',species,study_name,'Figures',fig_name])\n",
    "                    fig.write_image(fig_save_path)\n",
    "                    fc_index += 1                      \n",
    "                    in_every_cutoff[result_type][set_id] = set(sensitivity_df.loc[sensitivity_df[\"Presence\"]==1.0, result_type].tolist())\n",
    "                    sensitivity_df.to_excel(writer, sheet_name=set_id)"
   ]
  },
  {
   "cell_type": "markdown",
   "id": "8841e357",
   "metadata": {},
   "source": [
    "#### 5.2 Construct a Venn diagram to check shared functional modules across conditions for each functional class"
   ]
  },
  {
   "cell_type": "code",
   "execution_count": 14,
   "id": "b1db3a68",
   "metadata": {
    "scrolled": true
   },
   "outputs": [
    {
     "name": "stdout",
     "output_type": "stream",
     "text": [
      "Function-1 always present in every cutoff for every condition\n"
     ]
    },
    {
     "ename": "ZeroDivisionError",
     "evalue": "division by zero",
     "output_type": "error",
     "traceback": [
      "\u001b[0;31m---------------------------------------------------------------------------\u001b[0m",
      "\u001b[0;31mZeroDivisionError\u001b[0m                         Traceback (most recent call last)",
      "\u001b[1;32m/home/alvaro/github/e-merlin/Study-level_enrichment_analysis.ipynb Cell 27\u001b[0m in \u001b[0;36m<cell line: 8>\u001b[0;34m()\u001b[0m\n\u001b[1;32m     <a href='vscode-notebook-cell:/home/alvaro/github/e-merlin/Study-level_enrichment_analysis.ipynb#Y135sZmlsZQ%3D%3D?line=18'>19</a>\u001b[0m experimentData \u001b[39m=\u001b[39m {condition : cat_dict[condition] \u001b[39mfor\u001b[39;00m condition \u001b[39min\u001b[39;00m target_conditions}\n\u001b[1;32m     <a href='vscode-notebook-cell:/home/alvaro/github/e-merlin/Study-level_enrichment_analysis.ipynb#Y135sZmlsZQ%3D%3D?line=19'>20</a>\u001b[0m set_list \u001b[39m=\u001b[39m \u001b[39mlist\u001b[39m(experimentData\u001b[39m.\u001b[39mvalues())\n\u001b[0;32m---> <a href='vscode-notebook-cell:/home/alvaro/github/e-merlin/Study-level_enrichment_analysis.ipynb#Y135sZmlsZQ%3D%3D?line=20'>21</a>\u001b[0m venn(experimentData)\n\u001b[1;32m     <a href='vscode-notebook-cell:/home/alvaro/github/e-merlin/Study-level_enrichment_analysis.ipynb#Y135sZmlsZQ%3D%3D?line=21'>22</a>\u001b[0m \u001b[39mprint\u001b[39m(set_list[\u001b[39m0\u001b[39m]\u001b[39m.\u001b[39mintersection(\u001b[39m*\u001b[39mset_list[\u001b[39m1\u001b[39m:]))\n",
      "File \u001b[0;32m~/miniconda3/envs/e_merlin/lib/python3.10/site-packages/venn/_venn.py:192\u001b[0m, in \u001b[0;36mvenn_dispatch\u001b[0;34m(data, func, fmt, hint_hidden, cmap, alpha, figsize, fontsize, legend_loc, ax)\u001b[0m\n\u001b[1;32m    189\u001b[0m     \u001b[39mraise\u001b[39;00m \u001b[39mNotImplementedError\u001b[39;00m(error_message)\n\u001b[1;32m    190\u001b[0m n_sets \u001b[39m=\u001b[39m \u001b[39mlen\u001b[39m(data)\n\u001b[1;32m    191\u001b[0m \u001b[39mreturn\u001b[39;00m func(\n\u001b[0;32m--> 192\u001b[0m     petal_labels\u001b[39m=\u001b[39mgenerate_petal_labels(data\u001b[39m.\u001b[39;49mvalues(), fmt),\n\u001b[1;32m    193\u001b[0m     dataset_labels\u001b[39m=\u001b[39mdata\u001b[39m.\u001b[39mkeys(), hint_hidden\u001b[39m=\u001b[39mhint_hidden,\n\u001b[1;32m    194\u001b[0m     colors\u001b[39m=\u001b[39mgenerate_colors(n_colors\u001b[39m=\u001b[39mn_sets, cmap\u001b[39m=\u001b[39mcmap, alpha\u001b[39m=\u001b[39malpha),\n\u001b[1;32m    195\u001b[0m     figsize\u001b[39m=\u001b[39mfigsize, fontsize\u001b[39m=\u001b[39mfontsize, legend_loc\u001b[39m=\u001b[39mlegend_loc, ax\u001b[39m=\u001b[39max\n\u001b[1;32m    196\u001b[0m )\n",
      "File \u001b[0;32m~/miniconda3/envs/e_merlin/lib/python3.10/site-packages/venn/_venn.py:76\u001b[0m, in \u001b[0;36mgenerate_petal_labels\u001b[0;34m(datasets, fmt)\u001b[0m\n\u001b[1;32m     67\u001b[0m     excluded_sets \u001b[39m=\u001b[39m [\n\u001b[1;32m     68\u001b[0m         datasets[i] \u001b[39mfor\u001b[39;00m i \u001b[39min\u001b[39;00m \u001b[39mrange\u001b[39m(n_sets) \u001b[39mif\u001b[39;00m logic[i] \u001b[39m==\u001b[39m \u001b[39m\"\u001b[39m\u001b[39m0\u001b[39m\u001b[39m\"\u001b[39m\n\u001b[1;32m     69\u001b[0m     ]\n\u001b[1;32m     70\u001b[0m     petal_set \u001b[39m=\u001b[39m (\n\u001b[1;32m     71\u001b[0m         (dataset_union \u001b[39m&\u001b[39m \u001b[39mset\u001b[39m\u001b[39m.\u001b[39mintersection(\u001b[39m*\u001b[39mincluded_sets)) \u001b[39m-\u001b[39m\n\u001b[1;32m     72\u001b[0m         \u001b[39mset\u001b[39m\u001b[39m.\u001b[39munion(\u001b[39mset\u001b[39m(), \u001b[39m*\u001b[39mexcluded_sets)\n\u001b[1;32m     73\u001b[0m     )\n\u001b[1;32m     74\u001b[0m     petal_labels[logic] \u001b[39m=\u001b[39m fmt\u001b[39m.\u001b[39mformat(\n\u001b[1;32m     75\u001b[0m         logic\u001b[39m=\u001b[39mlogic, size\u001b[39m=\u001b[39m\u001b[39mlen\u001b[39m(petal_set),\n\u001b[0;32m---> 76\u001b[0m         percentage\u001b[39m=\u001b[39m(\u001b[39m100\u001b[39;49m\u001b[39m*\u001b[39;49m\u001b[39mlen\u001b[39;49m(petal_set)\u001b[39m/\u001b[39;49muniverse_size)\n\u001b[1;32m     77\u001b[0m     )\n\u001b[1;32m     78\u001b[0m \u001b[39mreturn\u001b[39;00m petal_labels\n",
      "\u001b[0;31mZeroDivisionError\u001b[0m: division by zero"
     ]
    }
   ],
   "source": [
    "from venn import venn\n",
    "%matplotlib inline\n",
    "\n",
    "cathegories = [\"Function-1\",\"Function-2\",\"Gene\"]\n",
    "reaction_types = [\"NBR\", \"BAR\"]\n",
    "filterByKeyPattern = lambda cat_dict, pattern: {key: cat_dict[key] for key in cat_dict.keys() if pattern in key}\n",
    "\n",
    "for cat in cathegories:\n",
    "    print('%s always present in every cutoff for every condition' % cat)\n",
    "    cat_dict = in_every_cutoff[cat.split('-')[0]]\n",
    "    for reaction in reaction_types:\n",
    "        ReactionData = filterByKeyPattern(cat_dict, reaction)\n",
    "        if cat == 'Gene':\n",
    "            target_conditions = set(ReactionData.keys())\n",
    "        if 'Function' in cat:\n",
    "            FunctionalData = filterByKeyPattern(cat_dict, cat)\n",
    "            target_conditions = set(FunctionalData.keys()).intersection(set(ReactionData.keys()))\n",
    "            \n",
    "        experimentData = {condition : cat_dict[condition] for condition in target_conditions}\n",
    "        set_list = list(experimentData.values())\n",
    "        venn(experimentData)\n",
    "        print(set_list[0].intersection(*set_list[1:])) "
   ]
  },
  {
   "cell_type": "markdown",
   "id": "9460c9c9",
   "metadata": {},
   "source": [
    "#### 5.3 Save composition data and plot it across conditions for each functional class"
   ]
  },
  {
   "cell_type": "code",
   "execution_count": null,
   "id": "965b0eef",
   "metadata": {
    "scrolled": true
   },
   "outputs": [
    {
     "ename": "",
     "evalue": "",
     "output_type": "error",
     "traceback": [
      "\u001b[1;31mRunning cells with '/bin/python3' requires ipykernel package.\n",
      "\u001b[1;31mRun the following command to install 'ipykernel' into the Python environment. \n",
      "\u001b[1;31mCommand: '/bin/python3 -m pip install ipykernel -U --user --force-reinstall'"
     ]
    }
   ],
   "source": [
    "from math import sqrt\n",
    "\n",
    "#create the filename according to the pattern <species>_<study>_functional_composition.xlsx\n",
    "with pd.ExcelWriter('pseudomonas_carbon_source_functional_composition.xlsx') as writer:\n",
    "    for condition in composition_result_dict:\n",
    "        for fc in composition_result_dict[condition]:\n",
    "            plot_df = composition_result_dict[condition][fc]\n",
    "            display(plot_df)\n",
    "            set_id = '-'.join([condition.replace(':',''), fc])\n",
    "            plot_df.to_excel(writer, sheet_name=set_id)\n",
    "            max_value = max([ plot_df[column].max() for column in plot_df.columns ])\n",
    "\n",
    "            threshold = percentile( [p for (colname,colval) in plot_df.iteritems() for p in colval.values], 60) \n",
    "\n",
    "            plot_df = plot_df.loc[(plot_df >= threshold).any(axis=1)]\n",
    "\n",
    "            bar_node_trace = go.Scatter(\n",
    "                x=['BAR_Set_percentage']*len(plot_df), y=plot_df.index,\n",
    "                mode=\"markers\",\n",
    "                text=['Percentage: '+ str(c) for c in plot_df.BAR_Set_percentage.tolist()],\n",
    "                marker=dict(\n",
    "                    color=px.colors.qualitative.D3[0],\n",
    "                    size=[2*(1/threshold)*s for s in plot_df.BAR_Set_percentage.tolist()],\n",
    "                    line_width=2)\n",
    "            )\n",
    "\n",
    "            nbr_node_trace = go.Scatter(\n",
    "                x=['NBR_Set_percentage']*len(plot_df), y=plot_df.index,\n",
    "                mode=\"markers\",\n",
    "                text=['Percentage: '+ str(c) for c in plot_df.NBR_Set_percentage.tolist()],\n",
    "                marker=dict(\n",
    "                    color=px.colors.qualitative.D3[1],\n",
    "                    size=[2*(1/threshold)*s for s in plot_df.NBR_Set_percentage.tolist()],\n",
    "                    line_width=2)\n",
    "            )\n",
    "\n",
    "            fig = go.Figure(data=[bar_node_trace, nbr_node_trace],\n",
    "                         layout=go.Layout(\n",
    "                            title=dict(text = 'Percentage of '+fc+' functions in BARs & NBRs',\n",
    "                                       y = 0.95, x = 0.55),\n",
    "                            titlefont_size=16,\n",
    "                            showlegend=False,\n",
    "                            hovermode='closest',\n",
    "                            height = 1200\n",
    "                            )\n",
    "                           )\n",
    "\n",
    "            fig.show()\n",
    "            fig_name = set_id+'_composition.png'\n",
    "            fig_save_path='/'.join(['results',species,study_name,'Figures',fig_name])\n",
    "            fig.write_image(fig_save_path)\n",
    "            "
   ]
  },
  {
   "cell_type": "markdown",
   "id": "9f7fee1d",
   "metadata": {},
   "source": [
    "#### 5.4 Generate a heatmap to check for gene presence and concurrence"
   ]
  },
  {
   "cell_type": "code",
   "execution_count": null,
   "id": "3b8844e1",
   "metadata": {
    "scrolled": true
   },
   "outputs": [
    {
     "ename": "",
     "evalue": "",
     "output_type": "error",
     "traceback": [
      "\u001b[1;31mRunning cells with '/bin/python3' requires ipykernel package.\n",
      "\u001b[1;31mRun the following command to install 'ipykernel' into the Python environment. \n",
      "\u001b[1;31mCommand: '/bin/python3 -m pip install ipykernel -U --user --force-reinstall'"
     ]
    }
   ],
   "source": [
    "gene_fn = '/'.join(['results', species, study_name, 'pseudomonas_carbon_source_enriched_Gene.xlsx'])\n",
    "sheets_dict = pd.read_excel(gene_fn, sheet_name=None)\n",
    "bar_df_list = []\n",
    "nbr_df_list = []\n",
    "atp_df_dict = {}\n",
    "condition_list = []\n",
    "\n",
    "for name, sheet in sheets_dict.items():\n",
    "    condition = '-'.join(name.split('-')[1:-1])[:-4]\n",
    "    target_df = pd.read_excel(gene_fn, sheet_name=name).drop(columns=['Unnamed: 0'])\n",
    "    target_df.set_index('Gene', inplace=True)\n",
    "    atp_df = target_df.loc[target_df.index.isin(cycle_df.gene_id.tolist())]\n",
    "    target_df = target_df.loc[~target_df.index.isin(cycle_df.gene_id.tolist())]\n",
    "    \n",
    "    if 'BAR' in name:\n",
    "        target_df.rename(columns={\"Presence\": name.replace('_BAR-Gene','')+\"_Presence\"}, inplace=True)\n",
    "        atp_df.rename(columns={\"Presence\": name.replace('_BAR-Gene','')+\"_Presence\"}, inplace=True)\n",
    "        bar_df_list.append(target_df)\n",
    "        \n",
    "    if 'NBR' in name:\n",
    "        target_df.rename(columns={\"Presence\": name.replace('_NBR-Gene','')+\"_Presence\"}, inplace=True)\n",
    "        atp_df.rename(columns={\"Presence\": name.replace('_NBR-Gene','')+\"_Presence\"}, inplace=True)\n",
    "        nbr_df_list.append(target_df)\n",
    "    \n",
    "    if condition not in condition_list:\n",
    "        if len(atp_df) > 0:\n",
    "            atp_df_dict[condition] = atp_df        \n",
    "    \n",
    "    else:\n",
    "        if len(atp_df) > 0:\n",
    "            atp_df_dict[condition] = pd.concat([atp_df_dict[condition], atp_df], axis=0)\n",
    "        \n",
    "    condition_list.append(condition)\n",
    "    \n",
    "bar_final_df = pd.concat(bar_df_list, axis=1)\n",
    "nbr_final_df = pd.concat(nbr_df_list, axis=1)\n",
    "atp_final_df = pd.concat([df for df in atp_df_dict.values()], axis=1)\n",
    "\n",
    "ss_df = functional_data['Subsystem'].loc[functional_data['Subsystem']['Gene'].isin(bar_final_df.index)]\n",
    "im_df = functional_data['iModulon'].loc[functional_data['iModulon']['Gene'].isin(bar_final_df.index)]\n",
    "\n",
    "map_df = pd.DataFrame.from_dict({'Subsystem': ['-'.join([ss for ss in ss_df.loc[ss_df['Gene']==g, 'Subsystem'].values.tolist()])\n",
    "                                               if len([ss for ss in ss_df.loc[ss_df['Gene']==g, 'Subsystem'].values.tolist()]) > 0\n",
    "                                               else 'Unassigned'\n",
    "                                               for g in bar_final_df.index ],\n",
    "                                 'iModulon': ['-'.join([im for im in im_df.loc[im_df['Gene']==g, 'iModulon'].values.tolist()])\n",
    "                                                        if len([im for im in im_df.loc[im_df['Gene']==g, 'iModulon'].values.tolist()]) > 0\n",
    "                                                        else 'Unassigned'\n",
    "                                                        for g in bar_final_df.index ],\n",
    "                                 'Gene' : [g  for g in bar_final_df.index ]})\n",
    "\n",
    "map_df.set_index('Gene', inplace=True)\n",
    "\n",
    "\n",
    "display(bar_final_df)\n",
    "display(nbr_final_df)\n",
    "display(atp_final_df)\n",
    "display(map_df)"
   ]
  },
  {
   "cell_type": "code",
   "execution_count": null,
   "id": "736cff7e",
   "metadata": {
    "scrolled": true
   },
   "outputs": [
    {
     "ename": "",
     "evalue": "",
     "output_type": "error",
     "traceback": [
      "\u001b[1;31mRunning cells with '/bin/python3' requires ipykernel package.\n",
      "\u001b[1;31mRun the following command to install 'ipykernel' into the Python environment. \n",
      "\u001b[1;31mCommand: '/bin/python3 -m pip install ipykernel -U --user --force-reinstall'"
     ]
    }
   ],
   "source": [
    "for df in atp_df_dict.values():\n",
    "    display(df)"
   ]
  },
  {
   "cell_type": "code",
   "execution_count": null,
   "id": "0bcbc4b1",
   "metadata": {
    "scrolled": false
   },
   "outputs": [
    {
     "ename": "",
     "evalue": "",
     "output_type": "error",
     "traceback": [
      "\u001b[1;31mRunning cells with '/bin/python3' requires ipykernel package.\n",
      "\u001b[1;31mRun the following command to install 'ipykernel' into the Python environment. \n",
      "\u001b[1;31mCommand: '/bin/python3 -m pip install ipykernel -U --user --force-reinstall'"
     ]
    }
   ],
   "source": [
    "im_list = map_df.iModulon.tolist()\n",
    "ss_list = map_df.Subsystem.tolist()\n",
    "lut_im = dict(zip(set(im_list), sns.husl_palette(len(set(im_list)), l=0.5, s=0.8)))\n",
    "row_colors_im = pd.DataFrame(im_list)[0].map(lut_im)\n",
    "lut_ss = dict(zip(set(ss_list), sns.husl_palette(len(set(ss_list)), l=0.5, s=0.8)))\n",
    "row_colors_ss = pd.DataFrame(ss_list)[0].map(lut_ss)"
   ]
  },
  {
   "cell_type": "code",
   "execution_count": null,
   "id": "082e2cb1",
   "metadata": {
    "scrolled": false
   },
   "outputs": [
    {
     "ename": "",
     "evalue": "",
     "output_type": "error",
     "traceback": [
      "\u001b[1;31mRunning cells with '/bin/python3' requires ipykernel package.\n",
      "\u001b[1;31mRun the following command to install 'ipykernel' into the Python environment. \n",
      "\u001b[1;31mCommand: '/bin/python3 -m pip install ipykernel -U --user --force-reinstall'"
     ]
    }
   ],
   "source": [
    "at_least_one_with_one_nbr_df = nbr_final_df[(nbr_final_df[nbr_final_df.columns]==1.0).any(axis=1)]\n",
    "g = sns.clustermap(at_least_one_with_one_nbr_df,\n",
    "                   figsize=(4, 8),\n",
    "                   dendrogram_ratio=(.1, .2),\n",
    "                   cbar_pos=(-0.1, .4, .03, .4))\n",
    "\n",
    "g.fig.suptitle(\"Clustermap of gene presence in NBR set among different conditions\", y=1.05)"
   ]
  },
  {
   "cell_type": "code",
   "execution_count": null,
   "id": "9b1b1ce6",
   "metadata": {},
   "outputs": [
    {
     "ename": "",
     "evalue": "",
     "output_type": "error",
     "traceback": [
      "\u001b[1;31mRunning cells with '/bin/python3' requires ipykernel package.\n",
      "\u001b[1;31mRun the following command to install 'ipykernel' into the Python environment. \n",
      "\u001b[1;31mCommand: '/bin/python3 -m pip install ipykernel -U --user --force-reinstall'"
     ]
    }
   ],
   "source": [
    "at_least_one_with_one_bar_df = bar_final_df[(bar_final_df[bar_final_df.columns]==1.0).any(axis=1)]\n",
    "g = sns.clustermap(at_least_one_with_one_bar_df,\n",
    "                   figsize=(4, 8),\n",
    "                   dendrogram_ratio=(.1, .2),\n",
    "                   cbar_pos=(-0.1, .4, .03, .4))\n",
    "g.fig.suptitle(\"Clustermap of gene presence in BAR set among different conditions\", y=1.05)"
   ]
  },
  {
   "cell_type": "code",
   "execution_count": null,
   "id": "f9b80c42",
   "metadata": {},
   "outputs": [
    {
     "ename": "",
     "evalue": "",
     "output_type": "error",
     "traceback": [
      "\u001b[1;31mRunning cells with '/bin/python3' requires ipykernel package.\n",
      "\u001b[1;31mRun the following command to install 'ipykernel' into the Python environment. \n",
      "\u001b[1;31mCommand: '/bin/python3 -m pip install ipykernel -U --user --force-reinstall'"
     ]
    }
   ],
   "source": [
    "#HACER LO MISMO PARA LAS DEL ATP\n",
    "at_least_one_with_one_atp_df = atp_final_df[(atp_final_df[atp_final_df.columns]==1.0).any(axis=1)]\n",
    "g = sns.clustermap(at_least_one_with_one_atp_df,\n",
    "                   figsize=(4, 8),\n",
    "                   dendrogram_ratio=(.1, .2),\n",
    "                   cbar_pos=(-0.1, .4, .03, .4))\n",
    "g.fig.suptitle(\"Clustermap of gene presence in BAR set among different conditions\", y=1.05)"
   ]
  },
  {
   "cell_type": "markdown",
   "id": "315cc8e1",
   "metadata": {},
   "source": [
    "#### 5.5 Check if the functional class composition of always present genes is maintained with respect to the previous composion analysis"
   ]
  },
  {
   "cell_type": "code",
   "execution_count": null,
   "id": "79d5b90f",
   "metadata": {},
   "outputs": [
    {
     "ename": "",
     "evalue": "",
     "output_type": "error",
     "traceback": [
      "\u001b[1;31mRunning cells with '/bin/python3' requires ipykernel package.\n",
      "\u001b[1;31mRun the following command to install 'ipykernel' into the Python environment. \n",
      "\u001b[1;31mCommand: '/bin/python3 -m pip install ipykernel -U --user --force-reinstall'"
     ]
    }
   ],
   "source": [
    "#hay que editarlo para que acepte tambien los del atp"
   ]
  },
  {
   "cell_type": "code",
   "execution_count": null,
   "id": "bdcbf0df",
   "metadata": {},
   "outputs": [
    {
     "ename": "",
     "evalue": "",
     "output_type": "error",
     "traceback": [
      "\u001b[1;31mRunning cells with '/bin/python3' requires ipykernel package.\n",
      "\u001b[1;31mRun the following command to install 'ipykernel' into the Python environment. \n",
      "\u001b[1;31mCommand: '/bin/python3 -m pip install ipykernel -U --user --force-reinstall'"
     ]
    }
   ],
   "source": [
    "all_with_one_nbr_df = nbr_final_df[(nbr_final_df[nbr_final_df.columns]==1.0).all(axis=1)]\n",
    "all_with_one_bar_df = bar_final_df[(bar_final_df[bar_final_df.columns]==1.0).all(axis=1)]\n",
    "genes_for_composition_analysis = {'BAR' : all_with_one_bar_df.index.tolist(),\n",
    "                                  'NBR' : all_with_one_nbr_df.index.tolist()}\n",
    "\n",
    "gene_function_composition = get_functional_class_composition(functional_data, imodulon_function, genes_for_composition_analysis)\n"
   ]
  },
  {
   "cell_type": "code",
   "execution_count": null,
   "id": "28a571ec",
   "metadata": {
    "scrolled": true
   },
   "outputs": [
    {
     "ename": "",
     "evalue": "",
     "output_type": "error",
     "traceback": [
      "\u001b[1;31mRunning cells with '/bin/python3' requires ipykernel package.\n",
      "\u001b[1;31mRun the following command to install 'ipykernel' into the Python environment. \n",
      "\u001b[1;31mCommand: '/bin/python3 -m pip install ipykernel -U --user --force-reinstall'"
     ]
    }
   ],
   "source": [
    "with pd.ExcelWriter('functional_composition_of_core_genes.xlsx') as writer:\n",
    "    for fc in list(gene_function_composition.keys()):\n",
    "        plot_df = gene_function_composition[fc]\n",
    "        display(plot_df)\n",
    "        plot_df.to_excel(writer, sheet_name=fc)\n",
    "        max_value = max([ plot_df[column].max() for column in plot_df.columns ])\n",
    "\n",
    "        threshold = percentile( [p for (colname,colval) in plot_df.iteritems() for p in colval.values], 60) \n",
    "\n",
    "        plot_df = plot_df.loc[(plot_df >= threshold).any(axis=1)]\n",
    "\n",
    "        bar_node_trace = go.Scatter(\n",
    "            x=['BAR_Set_percentage']*len(plot_df), y=plot_df.index,\n",
    "            mode=\"markers\",\n",
    "            text=['Percentage: '+ str(c) for c in plot_df.BAR_Set_percentage.tolist()],\n",
    "            marker=dict(\n",
    "                color=px.colors.qualitative.D3[0],\n",
    "                size=[2*(1/threshold)*s for s in plot_df.BAR_Set_percentage.tolist()],\n",
    "                line_width=2)\n",
    "            )\n",
    "\n",
    "        nbr_node_trace = go.Scatter(\n",
    "            x=['NBR_Set_percentage']*len(plot_df), y=plot_df.index,\n",
    "            mode=\"markers\",\n",
    "            text=['Percentage: '+ str(c) for c in plot_df.NBR_Set_percentage.tolist()],\n",
    "            marker=dict(\n",
    "                color=px.colors.qualitative.D3[1],\n",
    "                size=[2*(1/threshold)*s for s in plot_df.NBR_Set_percentage.tolist()],\n",
    "                line_width=2)\n",
    "            )\n",
    "\n",
    "        fig = go.Figure(data=[bar_node_trace, nbr_node_trace],\n",
    "            layout=go.Layout(\n",
    "                title=dict(text = 'Percentage of '+fc+' functions in BARs & NBRs',\n",
    "                           y = 0.95, x = 0.55),\n",
    "                           titlefont_size=16,\n",
    "                           showlegend=False,\n",
    "                           hovermode='closest',\n",
    "                           height = 1200\n",
    "                          )\n",
    "                       )\n",
    "\n",
    "        fig.show()\n",
    "        fig_name = '_'.join(['core_genes',fc,'composition.png'])\n",
    "        fig_save_path='/'.join(['results',species,study_name,'Figures',fig_name])\n",
    "        fig.write_image(fig_save_path)"
   ]
  },
  {
   "cell_type": "code",
   "execution_count": null,
   "id": "7ada072c",
   "metadata": {},
   "outputs": [
    {
     "ename": "",
     "evalue": "",
     "output_type": "error",
     "traceback": [
      "\u001b[1;31mRunning cells with '/bin/python3' requires ipykernel package.\n",
      "\u001b[1;31mRun the following command to install 'ipykernel' into the Python environment. \n",
      "\u001b[1;31mCommand: '/bin/python3 -m pip install ipykernel -U --user --force-reinstall'"
     ]
    }
   ],
   "source": [
    "rf_model = from_cobrapy(cobra_model)\n",
    "functional_class = 'Subsystem'\n",
    "functional_class_list = functional_data[functional_class][functional_class].unique().tolist()"
   ]
  },
  {
   "cell_type": "code",
   "execution_count": null,
   "id": "e798bff3",
   "metadata": {
    "scrolled": false
   },
   "outputs": [
    {
     "ename": "",
     "evalue": "",
     "output_type": "error",
     "traceback": [
      "\u001b[1;31mRunning cells with '/bin/python3' requires ipykernel package.\n",
      "\u001b[1;31mRun the following command to install 'ipykernel' into the Python environment. \n",
      "\u001b[1;31mCommand: '/bin/python3 -m pip install ipykernel -U --user --force-reinstall'"
     ]
    }
   ],
   "source": [
    "query_set = set(all_with_one_nbr_df.index.tolist())\n",
    "always_present_result = get_enrichment_result(query_set, functional_data, \n",
    "                                              rf_model, ica_data, \n",
    "                                              functional_class_list, functional_class=functional_class)\n",
    "\n",
    "display(always_present_result)\n",
    "always_present_result.to_csv('enrichment_analysis_nbr_core_genes.csv')"
   ]
  },
  {
   "cell_type": "code",
   "execution_count": null,
   "id": "1016c11c",
   "metadata": {},
   "outputs": [
    {
     "ename": "",
     "evalue": "",
     "output_type": "error",
     "traceback": [
      "\u001b[1;31mRunning cells with '/bin/python3' requires ipykernel package.\n",
      "\u001b[1;31mRun the following command to install 'ipykernel' into the Python environment. \n",
      "\u001b[1;31mCommand: '/bin/python3 -m pip install ipykernel -U --user --force-reinstall'"
     ]
    }
   ],
   "source": [
    "enrichment_result = always_present_result.loc[always_present_result['p-Value']<0.05]\n",
    "\n",
    "fig_1_col = px.colors.qualitative.D3\n",
    "fig_2_col = px.colors.qualitative.D3[1:]\n",
    "\n",
    "p_value_fig = px.bar(enrichment_result, x=functional_class, y='p-Value',\n",
    "                 height=250, color_discrete_sequence=fig_1_col,\n",
    "                 opacity = [l for l in enrichment_result.target_lenght.tolist()])\n",
    "\n",
    "\n",
    "recall_fig = px.bar(enrichment_result, x=functional_class, y='recall',\n",
    "                 height=250, color_discrete_sequence=fig_2_col,\n",
    "                 opacity = [l for l in enrichment_result.target_lenght.tolist()])\n",
    "\n",
    "\n",
    "# For as many traces that exist per Express figure, get the traces from each plot and store them in an array.\n",
    "# This is essentially breaking down the Express fig into it's traces\n",
    "figure1_traces = []\n",
    "figure2_traces = []\n",
    "for trace in range(len(p_value_fig[\"data\"])):\n",
    "    figure1_traces.append(p_value_fig[\"data\"][trace])\n",
    "\n",
    "for trace in range(len(recall_fig[\"data\"])):\n",
    "    figure2_traces.append(recall_fig[\"data\"][trace])\n",
    "\n",
    "#Create a 2x1 subplot\n",
    "this_figure = make_subplots(rows=2, cols=1, vertical_spacing=0.02 )\n",
    "\n",
    "# Get the Express fig broken down as traces and add the traces to the proper plot within in the subplot\n",
    "for traces in figure1_traces:\n",
    "    this_figure.append_trace(traces, row=1, col=1)\n",
    "\n",
    "for traces in figure2_traces:\n",
    "    this_figure.append_trace(traces, row=2, col=1)\n",
    "\n",
    "this_figure.update_xaxes(visible=False, showticklabels=False)\n",
    "this_figure['layout']['yaxis'].update(title='p Value')\n",
    "this_figure['layout']['yaxis2'].update(title=functional_class+' recall')\n",
    "this_figure['layout']['xaxis2'].update(title=functional_class, visible=True, showticklabels=True, tickangle=45)\n",
    "\n",
    "this_figure.update_layout(\n",
    "        title=dict(\n",
    "            text='<b>'+functional_class+' enrichment analysis of NBR core genes</b>',\n",
    "            x=0.5,\n",
    "            y=0.95,\n",
    "            font=dict(\n",
    "                family=\"Arial\",\n",
    "                size=20,\n",
    "                color='#000000'\n",
    "            )\n",
    "        )\n",
    "    )\n",
    "\n",
    "\n",
    "this_figure.update_layout(height=600, font=dict(size=10))\n",
    "this_figure.show()"
   ]
  },
  {
   "cell_type": "code",
   "execution_count": null,
   "id": "f5544246",
   "metadata": {},
   "outputs": [
    {
     "ename": "",
     "evalue": "",
     "output_type": "error",
     "traceback": [
      "\u001b[1;31mRunning cells with '/bin/python3' requires ipykernel package.\n",
      "\u001b[1;31mRun the following command to install 'ipykernel' into the Python environment. \n",
      "\u001b[1;31mCommand: '/bin/python3 -m pip install ipykernel -U --user --force-reinstall'"
     ]
    }
   ],
   "source": [
    "#habría que repetirlo para las BAR\n",
    "query_set = set(all_with_one_bar_df.index.tolist())\n",
    "functional_class = 'Subsystem'\n",
    "functional_class_list = functional_data[functional_class][functional_class].unique().tolist()\n",
    "always_present_result = get_enrichment_result(query_set, functional_data, \n",
    "                                              rf_model, ica_data, \n",
    "                                              functional_class_list, functional_class=functional_class)\n",
    "\n",
    "display(always_present_result)\n",
    "always_present_result.to_csv('enrichment_analysis_bar_core_genes.csv')"
   ]
  },
  {
   "cell_type": "code",
   "execution_count": null,
   "id": "f1c2fdee",
   "metadata": {},
   "outputs": [
    {
     "ename": "",
     "evalue": "",
     "output_type": "error",
     "traceback": [
      "\u001b[1;31mRunning cells with '/bin/python3' requires ipykernel package.\n",
      "\u001b[1;31mRun the following command to install 'ipykernel' into the Python environment. \n",
      "\u001b[1;31mCommand: '/bin/python3 -m pip install ipykernel -U --user --force-reinstall'"
     ]
    }
   ],
   "source": [
    "enrichment_result = always_present_result.loc[always_present_result['p-Value']<0.05]\n",
    "\n",
    "fig_1_col = px.colors.qualitative.D3\n",
    "fig_2_col = px.colors.qualitative.D3[1:]\n",
    "\n",
    "p_value_fig = px.bar(enrichment_result, x=functional_class, y='p-Value',\n",
    "                 height=250, color_discrete_sequence=fig_1_col,\n",
    "                 opacity = [l for l in enrichment_result.target_lenght.tolist()])\n",
    "\n",
    "\n",
    "recall_fig = px.bar(enrichment_result, x=functional_class, y='recall',\n",
    "                 height=250, color_discrete_sequence=fig_2_col,\n",
    "                 opacity = [l for l in enrichment_result.target_lenght.tolist()])\n",
    "\n",
    "\n",
    "# For as many traces that exist per Express figure, get the traces from each plot and store them in an array.\n",
    "# This is essentially breaking down the Express fig into it's traces\n",
    "figure1_traces = []\n",
    "figure2_traces = []\n",
    "for trace in range(len(p_value_fig[\"data\"])):\n",
    "    figure1_traces.append(p_value_fig[\"data\"][trace])\n",
    "\n",
    "for trace in range(len(recall_fig[\"data\"])):\n",
    "    figure2_traces.append(recall_fig[\"data\"][trace])\n",
    "\n",
    "#Create a 2x1 subplot\n",
    "this_figure = make_subplots(rows=2, cols=1, vertical_spacing=0.02 )\n",
    "\n",
    "# Get the Express fig broken down as traces and add the traces to the proper plot within in the subplot\n",
    "for traces in figure1_traces:\n",
    "    this_figure.append_trace(traces, row=1, col=1)\n",
    "\n",
    "for traces in figure2_traces:\n",
    "    this_figure.append_trace(traces, row=2, col=1)\n",
    "\n",
    "this_figure.update_xaxes(visible=False, showticklabels=False)\n",
    "this_figure['layout']['yaxis'].update(title='p Value')\n",
    "this_figure['layout']['yaxis2'].update(title=functional_class+' recall')\n",
    "this_figure['layout']['xaxis2'].update(title=functional_class, visible=True, showticklabels=True, tickangle=45)\n",
    "\n",
    "this_figure.update_layout(\n",
    "        title=dict(\n",
    "            text='<b>'+functional_class+' enrichment analysis of BAR core genes</b>',\n",
    "            x=0.5,\n",
    "            y=0.95,\n",
    "            font=dict(\n",
    "                family=\"Arial\",\n",
    "                size=20,\n",
    "                color='#000000'\n",
    "            )\n",
    "        )\n",
    "    )\n",
    "\n",
    "\n",
    "this_figure.update_layout(height=600, font=dict(size=10))\n",
    "this_figure.show()"
   ]
  },
  {
   "cell_type": "code",
   "execution_count": null,
   "id": "fdae4e6a",
   "metadata": {
    "scrolled": true
   },
   "outputs": [
    {
     "ename": "",
     "evalue": "",
     "output_type": "error",
     "traceback": [
      "\u001b[1;31mRunning cells with '/bin/python3' requires ipykernel package.\n",
      "\u001b[1;31mRun the following command to install 'ipykernel' into the Python environment. \n",
      "\u001b[1;31mCommand: '/bin/python3 -m pip install ipykernel -U --user --force-reinstall'"
     ]
    }
   ],
   "source": [
    "#AHORA REPETIMOS EL ANÁLISIS DE ENRIQUECIMIENTO PERO POR CONDICION\n",
    "#PRIMERO CON NBR\n",
    "threshold = 0.8\n",
    "with pd.ExcelWriter('NBR_condition-specific_enrichment_analysis.xlsx') as writer:\n",
    "    for condition in at_least_one_with_one_nbr_df.columns:\n",
    "        print('Performing enrichment analysis with %s condition gene set' % condition)\n",
    "        condition_filtered_df = at_least_one_with_one_nbr_df.loc[at_least_one_with_one_nbr_df[condition]>=threshold]\n",
    "\n",
    "        query_set = set(condition_filtered_df.index.tolist())\n",
    "        functional_class = 'Subsystem'\n",
    "        functional_class_list = functional_data[functional_class][functional_class].unique().tolist()\n",
    "        always_present_result = get_enrichment_result(query_set, functional_data, \n",
    "                                                      rf_model, ica_data, \n",
    "                                                      functional_class_list, functional_class=functional_class)\n",
    "\n",
    "        display(always_present_result)\n",
    "        always_present_result.to_excel(writer, sheet_name=condition)"
   ]
  },
  {
   "cell_type": "code",
   "execution_count": null,
   "id": "c52bd325",
   "metadata": {
    "scrolled": true
   },
   "outputs": [
    {
     "ename": "",
     "evalue": "",
     "output_type": "error",
     "traceback": [
      "\u001b[1;31mRunning cells with '/bin/python3' requires ipykernel package.\n",
      "\u001b[1;31mRun the following command to install 'ipykernel' into the Python environment. \n",
      "\u001b[1;31mCommand: '/bin/python3 -m pip install ipykernel -U --user --force-reinstall'"
     ]
    }
   ],
   "source": [
    "#AHORA REPETIMOS EL ANÁLISIS DE ENRIQUECIMIENTO PERO POR CONDICION\n",
    "#AHORA CON LOS BAR\n",
    "threshold = 0.8\n",
    "with pd.ExcelWriter('BAR_condition-specific_enrichment_analysis.xlsx') as writer:\n",
    "    for condition in at_least_one_with_one_bar_df.columns:\n",
    "        print('Performing enrichment analysis with %s condition gene set' % condition)\n",
    "        condition_filtered_df = at_least_one_with_one_bar_df.loc[at_least_one_with_one_bar_df[condition]>=threshold]\n",
    "\n",
    "        query_set = set(condition_filtered_df.index.tolist())\n",
    "        functional_class = 'Subsystem'\n",
    "        functional_class_list = functional_data[functional_class][functional_class].unique().tolist()\n",
    "        always_present_result = get_enrichment_result(query_set, functional_data, \n",
    "                                                      rf_model, ica_data, \n",
    "                                                      functional_class_list, functional_class=functional_class)\n",
    "\n",
    "        display(always_present_result)\n",
    "        always_present_result.to_excel(writer, sheet_name=condition) "
   ]
  },
  {
   "cell_type": "code",
   "execution_count": null,
   "id": "83e274ab",
   "metadata": {
    "scrolled": true
   },
   "outputs": [
    {
     "ename": "",
     "evalue": "",
     "output_type": "error",
     "traceback": [
      "\u001b[1;31mRunning cells with '/bin/python3' requires ipykernel package.\n",
      "\u001b[1;31mRun the following command to install 'ipykernel' into the Python environment. \n",
      "\u001b[1;31mCommand: '/bin/python3 -m pip install ipykernel -U --user --force-reinstall'"
     ]
    }
   ],
   "source": [
    "#AHORA REPETIMOS EL ANÁLISIS DE ENRIQUECIMIENTO PERO POR CONDICION\n",
    "#AHORA CON LOS ATP\n",
    "threshold = 0.8\n",
    "with pd.ExcelWriter('ATP_condition-specific_enrichment_analysis.xlsx') as writer:\n",
    "    for condition in at_least_one_with_one_atp_df.columns:\n",
    "        print('Performing enrichment analysis with %s condition gene set' % condition)\n",
    "        condition_filtered_df = at_least_one_with_one_atp_df.loc[at_least_one_with_one_atp_df[condition]>=threshold]\n",
    "\n",
    "        query_set = set(condition_filtered_df.index.tolist())\n",
    "        functional_class = 'Subsystem'\n",
    "        functional_class_list = functional_data[functional_class][functional_class].unique().tolist()\n",
    "        always_present_result = get_enrichment_result(query_set, functional_data, \n",
    "                                                      rf_model, ica_data, \n",
    "                                                      functional_class_list, functional_class=functional_class)\n",
    "\n",
    "        display(always_present_result)\n",
    "        always_present_result.to_excel(writer, sheet_name=condition) "
   ]
  },
  {
   "cell_type": "markdown",
   "id": "fbd8ea2d",
   "metadata": {},
   "source": [
    "### 6.Locate Robustness Cycles in sets and functions"
   ]
  },
  {
   "cell_type": "code",
   "execution_count": null,
   "id": "6fd83aad",
   "metadata": {
    "scrolled": true
   },
   "outputs": [
    {
     "ename": "",
     "evalue": "",
     "output_type": "error",
     "traceback": [
      "\u001b[1;31mRunning cells with '/bin/python3' requires ipykernel package.\n",
      "\u001b[1;31mRun the following command to install 'ipykernel' into the Python environment. \n",
      "\u001b[1;31mCommand: '/bin/python3 -m pip install ipykernel -U --user --force-reinstall'"
     ]
    }
   ],
   "source": [
    "cycle_df = pd.read_csv('/'.join(['data',species,'robustness_cycles.csv']))\n",
    "display(cycle_df)"
   ]
  },
  {
   "cell_type": "code",
   "execution_count": null,
   "id": "aa2a6cdc",
   "metadata": {
    "scrolled": false
   },
   "outputs": [
    {
     "ename": "",
     "evalue": "",
     "output_type": "error",
     "traceback": [
      "\u001b[1;31mRunning cells with '/bin/python3' requires ipykernel package.\n",
      "\u001b[1;31mRun the following command to install 'ipykernel' into the Python environment. \n",
      "\u001b[1;31mCommand: '/bin/python3 -m pip install ipykernel -U --user --force-reinstall'"
     ]
    }
   ],
   "source": [
    "def get_robustness_cycles_active_reactions(cycle_df, query_set, model):\n",
    "    result = {c : [] for c in cycle_df.cycle.unique()}\n",
    "\n",
    "    for rx in cycle_df.reaction_id.unique():\n",
    "        rx_df = cycle_df.loc[cycle_df.reaction_id == rx]\n",
    "        rx_genes =  rx_df['gene_id'].tolist()\n",
    "        cycle = rx_df['cycle'].tolist()[0]\n",
    "        gpr_string = model.reactions.get_by_id(rx).gpr.to_string()\n",
    "        if (all([g in query_set for g in rx_genes])) or (any([g in query_set for g in rx_genes]) and 'and' not in gpr_string):\n",
    "            print('%s reaction of %s is active in this set!' % (rx, cycle))\n",
    "            result[cycle].append(rx)\n",
    "\n",
    "        elif any([g in query_set for g in rx_genes]) and 'and' in gpr_string:\n",
    "            print('some genes of the %s reaction, belonging to %s are present, but not all' % (rx, cycle))\n",
    "            print(rx_genes)\n",
    "            print(set(rx_genes).intersection(query_set))\n",
    "            display()\n",
    "\n",
    "    return { k : v for k, v in result.items() if v != []}\n",
    "    "
   ]
  },
  {
   "cell_type": "code",
   "execution_count": null,
   "id": "f6c4b398",
   "metadata": {},
   "outputs": [
    {
     "ename": "",
     "evalue": "",
     "output_type": "error",
     "traceback": [
      "\u001b[1;31mRunning cells with '/bin/python3' requires ipykernel package.\n",
      "\u001b[1;31mRun the following command to install 'ipykernel' into the Python environment. \n",
      "\u001b[1;31mCommand: '/bin/python3 -m pip install ipykernel -U --user --force-reinstall'"
     ]
    }
   ],
   "source": [
    "nbr_set = set(all_with_one_nbr_df.index.tolist())\n",
    "bar_set = set(all_with_one_bar_df.index.tolist())\n",
    "print('Analysis for NBR set :')\n",
    "rx_cycle_nbr = get_robustness_cycles_active_reactions(cycle_df, nbr_set, cobra_model)\n",
    "print('')\n",
    "print('Analysis for BAR set :')\n",
    "rx_cycle_bar = get_robustness_cycles_active_reactions(cycle_df, bar_set, cobra_model)"
   ]
  }
 ],
 "metadata": {
  "kernelspec": {
   "display_name": "Python 3 (ipykernel)",
   "language": "python",
   "name": "python3"
  },
  "language_info": {
   "codemirror_mode": {
    "name": "ipython",
    "version": 3
   },
   "file_extension": ".py",
   "mimetype": "text/x-python",
   "name": "python",
   "nbconvert_exporter": "python",
   "pygments_lexer": "ipython3",
   "version": "3.10.4"
  },
  "vscode": {
   "interpreter": {
    "hash": "7404838362cd62b1b47023b07ffbd75bc44c5e5b9e486ac5f1377f12cb0bc752"
   }
  }
 },
 "nbformat": 4,
 "nbformat_minor": 5
}
