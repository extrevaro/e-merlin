{
 "cells": [
  {
   "cell_type": "markdown",
   "id": "53b7ed4e",
   "metadata": {},
   "source": [
    "# Implemetation of non-objective GIMME (GIMMES) for subnetwork generation"
   ]
  },
  {
   "cell_type": "code",
   "execution_count": 1,
   "id": "8635af21",
   "metadata": {},
   "outputs": [],
   "source": [
    "import cobra\n",
    "import pandas as pd\n",
    "import reframed\n",
    "from reframed import load_cbmodel, from_cobrapy\n",
    "from reframed.cobra.transcriptomics import GIMMES\n",
    "from tools.designFunctions import set_medium, Media"
   ]
  },
  {
   "cell_type": "markdown",
   "id": "fe4888dd",
   "metadata": {},
   "source": [
    "### 1.Load expression data"
   ]
  },
  {
   "cell_type": "code",
   "execution_count": 2,
   "id": "662affc1",
   "metadata": {},
   "outputs": [],
   "source": [
    "species = 'pseudomonas_putida'\n",
    "metadata_filepath = '/'.join(['data',species,'sample_table.csv'])\n",
    "expression_filepath = '/'.join(['data',species,'log_tpm_norm.csv'])\n",
    "metadata = pd.read_csv(metadata_filepath)\n",
    "expression_data = pd.read_csv(expression_filepath).set_index('Geneid')\n",
    "#Next step will consist on a function that will loc each experiment\n",
    "#and according to the condition, it will choose the carbon_source\n",
    "#and the media considered to eventually generate the context-model\n",
    "#all this by querying the metadata\n",
    "\n",
    "#By now just loc a predefined row that we have info about:\n",
    "interest_condition = 'SRX4552613'\n",
    "gene_exp = expression_data[interest_condition].to_dict()"
   ]
  },
  {
   "cell_type": "markdown",
   "id": "ecb5fa65",
   "metadata": {},
   "source": [
    "### 2.Generate a media-specific model"
   ]
  },
  {
   "cell_type": "code",
   "execution_count": 5,
   "id": "f6624b89",
   "metadata": {},
   "outputs": [],
   "source": [
    "#Load the model\n",
    "model_name = 'iJN1463.xml'\n",
    "model_filepath = '/'.join(['models', model_name])\n",
    "cobra_model = cobra.io.read_sbml_model(model_filepath)\n",
    "#Preprocess the model with metadata obtained from the previous step\n",
    "media_name = 'm9'\n",
    "media = Media(species, media_name)\n",
    "carbon_source = {'EX_cit_e' : 8.0}\n",
    "OD = 0.4\n",
    "#od_coeff will be stored in designFunctions as a dict of species : coeffs\n",
    "od_coeff = 0.6\n",
    "observed_growth = od_coeff*OD\n",
    "media_model = set_medium(cobra_model, media.get_predefined_media_definition(), carbon_source)\n",
    "#Convert cobra model to reframed cbmodel\n",
    "rf_media_model = from_cobrapy(media_model)\n",
    "target_biomass = rf_media_model.biomass_reaction"
   ]
  },
  {
   "cell_type": "markdown",
   "id": "5aa23327",
   "metadata": {},
   "source": [
    "### 3.Apply GIMMES over the configured model"
   ]
  },
  {
   "cell_type": "code",
   "execution_count": 7,
   "id": "6f04030f",
   "metadata": {},
   "outputs": [
    {
     "ename": "KeyError",
     "evalue": "'get_by_id'",
     "output_type": "error",
     "traceback": [
      "\u001b[0;31m---------------------------------------------------------------------------\u001b[0m",
      "\u001b[0;31mKeyError\u001b[0m                                  Traceback (most recent call last)",
      "Input \u001b[0;32mIn [7]\u001b[0m, in \u001b[0;36m<cell line: 1>\u001b[0;34m()\u001b[0m\n\u001b[0;32m----> 1\u001b[0m gimmes_sol \u001b[38;5;241m=\u001b[39m \u001b[43mGIMMES\u001b[49m\u001b[43m(\u001b[49m\u001b[43mrf_media_model\u001b[49m\u001b[43m,\u001b[49m\u001b[43m \u001b[49m\u001b[43mgene_exp\u001b[49m\u001b[43m,\u001b[49m\u001b[43m \u001b[49m\u001b[43mtarget_biomass\u001b[49m\u001b[43m,\u001b[49m\u001b[43m \u001b[49m\u001b[43mobserved_growth\u001b[49m\u001b[43m)\u001b[49m\n\u001b[1;32m      2\u001b[0m gimmes_sol\n",
      "File \u001b[0;32m~/miniconda3/envs/e_merlin/lib/python3.10/site-packages/reframed/cobra/transcriptomics.py:332\u001b[0m, in \u001b[0;36mGIMMES\u001b[0;34m(model, gene_exp, target_biomass, observed_growth, cutoff, growth_frac, constraints, parsimonious)\u001b[0m\n\u001b[1;32m    330\u001b[0m     test_model\u001b[38;5;241m.\u001b[39mreactions\u001b[38;5;241m.\u001b[39mget_by_id(target_biomass)\u001b[38;5;241m.\u001b[39mbounds \u001b[38;5;241m=\u001b[39m observed_growth\n\u001b[1;32m    331\u001b[0m \u001b[38;5;28;01melse\u001b[39;00m:\n\u001b[0;32m--> 332\u001b[0m     \u001b[43mtest_model\u001b[49m\u001b[38;5;241;43m.\u001b[39;49m\u001b[43mreactions\u001b[49m\u001b[38;5;241;43m.\u001b[39;49m\u001b[43mget_by_id\u001b[49m(target_biomass)\u001b[38;5;241m.\u001b[39mbounds \u001b[38;5;241m=\u001b[39m (growth_frac \u001b[38;5;241m*\u001b[39m observed_growth, \u001b[38;5;241m1000\u001b[39m)\n\u001b[1;32m    333\u001b[0m \u001b[38;5;66;03m#perform flux sampling\u001b[39;00m\n\u001b[1;32m    334\u001b[0m optgp \u001b[38;5;241m=\u001b[39m OptGPSampler(test_model, processes\u001b[38;5;241m=\u001b[39m\u001b[38;5;241m8\u001b[39m, thinning\u001b[38;5;241m=\u001b[39m\u001b[38;5;241m10000\u001b[39m)\n",
      "File \u001b[0;32m~/miniconda3/envs/e_merlin/lib/python3.10/site-packages/reframed/core/model.py:184\u001b[0m, in \u001b[0;36mAttrOrderedDict.__getattr__\u001b[0;34m(self, name)\u001b[0m\n\u001b[1;32m    182\u001b[0m \u001b[38;5;28;01mdef\u001b[39;00m \u001b[38;5;21m__getattr__\u001b[39m(\u001b[38;5;28mself\u001b[39m, name):\n\u001b[1;32m    183\u001b[0m     \u001b[38;5;28;01mif\u001b[39;00m \u001b[38;5;129;01mnot\u001b[39;00m name\u001b[38;5;241m.\u001b[39mstartswith(\u001b[38;5;124m'\u001b[39m\u001b[38;5;124m_\u001b[39m\u001b[38;5;124m'\u001b[39m):\n\u001b[0;32m--> 184\u001b[0m         \u001b[38;5;28;01mreturn\u001b[39;00m \u001b[38;5;28;43mself\u001b[39;49m\u001b[43m[\u001b[49m\u001b[43mname\u001b[49m\u001b[43m]\u001b[49m\n\u001b[1;32m    185\u001b[0m     \u001b[38;5;28msuper\u001b[39m(AttrOrderedDict, \u001b[38;5;28mself\u001b[39m)\u001b[38;5;241m.\u001b[39m\u001b[38;5;21m__getattr__\u001b[39m(name)\n",
      "\u001b[0;31mKeyError\u001b[0m: 'get_by_id'"
     ]
    }
   ],
   "source": [
    "gimmes_sol = GIMMES(rf_media_model, gene_exp, target_biomass, observed_growth)\n",
    "gimmes_sol"
   ]
  },
  {
   "cell_type": "code",
   "execution_count": null,
   "id": "99e18783",
   "metadata": {},
   "outputs": [],
   "source": [
    "#it fails because i have developed the script as it was a cobra model.\n",
    "#i need to change it to implement the same functionality but with the\n",
    "#functions available in reframed"
   ]
  },
  {
   "cell_type": "markdown",
   "id": "7d5f2dd8",
   "metadata": {},
   "source": [
    "### 4.Identify Reaction Subnetworks"
   ]
  },
  {
   "cell_type": "code",
   "execution_count": null,
   "id": "7e2625d1",
   "metadata": {},
   "outputs": [],
   "source": []
  }
 ],
 "metadata": {
  "kernelspec": {
   "display_name": "Python 3 (ipykernel)",
   "language": "python",
   "name": "python3"
  },
  "language_info": {
   "codemirror_mode": {
    "name": "ipython",
    "version": 3
   },
   "file_extension": ".py",
   "mimetype": "text/x-python",
   "name": "python",
   "nbconvert_exporter": "python",
   "pygments_lexer": "ipython3",
   "version": "3.10.4"
  }
 },
 "nbformat": 4,
 "nbformat_minor": 5
}
