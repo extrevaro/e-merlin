{
 "cells": [
  {
   "cell_type": "markdown",
   "id": "53b7ed4e",
   "metadata": {},
   "source": [
    "# Implemetation of non-objective GIMME (GIMMES) for subnetwork generation"
   ]
  },
  {
   "cell_type": "code",
   "execution_count": 3,
   "id": "8635af21",
   "metadata": {},
   "outputs": [],
   "source": [
    "import cobra\n",
    "import reframed\n",
    "from reframed.cobra.transcriptomics import GIMMES"
   ]
  },
  {
   "cell_type": "markdown",
   "id": "ecb5fa65",
   "metadata": {},
   "source": [
    "### 1.Generate a media-specific model"
   ]
  },
  {
   "cell_type": "code",
   "execution_count": null,
   "id": "f6624b89",
   "metadata": {},
   "outputs": [],
   "source": []
  },
  {
   "cell_type": "markdown",
   "id": "5aa23327",
   "metadata": {},
   "source": [
    "### 2.Apply GIMMES over the configured model"
   ]
  },
  {
   "cell_type": "code",
   "execution_count": null,
   "id": "6f04030f",
   "metadata": {},
   "outputs": [],
   "source": []
  },
  {
   "cell_type": "markdown",
   "id": "7d5f2dd8",
   "metadata": {},
   "source": [
    "### 3.Identify Reaction Subnetworks"
   ]
  },
  {
   "cell_type": "code",
   "execution_count": null,
   "id": "40082e79",
   "metadata": {},
   "outputs": [],
   "source": []
  }
 ],
 "metadata": {
  "kernelspec": {
   "display_name": "Python 3 (ipykernel)",
   "language": "python",
   "name": "python3"
  },
  "language_info": {
   "codemirror_mode": {
    "name": "ipython",
    "version": 3
   },
   "file_extension": ".py",
   "mimetype": "text/x-python",
   "name": "python",
   "nbconvert_exporter": "python",
   "pygments_lexer": "ipython3",
   "version": "3.10.4"
  }
 },
 "nbformat": 4,
 "nbformat_minor": 5
}
